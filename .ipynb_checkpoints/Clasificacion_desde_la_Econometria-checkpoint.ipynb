{
 "cells": [
  {
   "cell_type": "markdown",
   "metadata": {},
   "source": [
    "## Clasificación desde la Econometría\n",
    ">\n",
    "### Introducción\n",
    ">En esta semana estudiaremos el problema de clasificación en Data Science, que busca esclarecer sobre los efectos que tienen los atributos en una variable categórica.\n",
    ">\n",
    ">Siguiendo la taxonomía de Hastie, Tibshinari y Friedman (2009), los problemas de clasificación corresponden a un ejemplo de aprendizaje supervisado donde el vector objetivo responde a un atributo discreto. Ejemplos de ello:\n",
    ">\n",
    ">● Movimientos del mercado: ¿Bajará o subirá la bolsa? $Y\\iota \\in \\{0:Baja, 1:sube\\}$\n",
    ">\n",
    ">● Clasificación de Spam: ¿Es este mail Spam o No? $p - values \\leq .025 Y\\iota \\in 0:No, 1:Si$\n",
    ">\n",
    ">● Optimización de Preferencias: ¿Es más probable votar o no? $Y\\iota \\in 0:NoVota, 1:SiVota$\n",
    ">\n",
    ">Los ejemplos mencionados hacen referencia a un problema de clasificación binario, donde observamos la presencia o ausencia de un atributo. La aproximación de este fenómeno toma forma en un ensayo de Bernoulli."
   ]
  },
  {
   "cell_type": "code",
   "execution_count": 29,
   "metadata": {},
   "outputs": [],
   "source": [
    "# Importamos la triada clásica\n",
    "import numpy as np\n",
    "import pandas as pd\n",
    "import matplotlib.pyplot as plt\n",
    "%matplotlib inline\n",
    "# seaborn\n",
    "import seaborn as sns\n",
    "# scipy stats para simular\n",
    "import scipy.stats as stats\n",
    "# statsmodels para modelación\n",
    "import statsmodels.api as sm\n",
    "import statsmodels.formula.api as smf\n",
    "import warnings\n",
    "warnings.filterwarnings(\"ignore\")\n",
    "import lec6_graphs as gfx\n",
    "plt.style.use('seaborn') # Gráficos estilo seaborn\n",
    "# plt.rcParams[\"figure.figsize\"] = (6, 3) # Tamaño gráficos\n",
    "# plt.rcParams[\"figure.dpi\"] = 200 # resolución gráficos\n",
    "from sklearn.linear_model import LogisticRegression\n",
    "from sklearn.model_selection import train_test_split"
   ]
  },
  {
   "cell_type": "markdown",
   "metadata": {},
   "source": [
    "### Estimando probabilidades de éxito y fracaso\n",
    ">\n",
    ">La tarea de esta lectura es el uso de pozos de agua en Bangladesh. Resulta que el agua en Bangladesh y otros países del Sudeste Asiático está contaminada con arsénico natural. El riesgo del arsénico como cancerígeno y catalizador de otras enfermedades aumenta con la exposición prolongada. El gobierno de Bangladesh inició una estrategia nacional para la mitigación de riesgos asociados al arsénico. Una de las estrategias era el incentivar el uso compartido de pozos de napa subterránea, dado que presentan tasas de arsénico sustancialmente menores.\n",
    ">\n",
    ">Usaremos una base de datos donde se registró si un hogar comenzó a utilizar un nuevo pozo de napa subterránea o no. Así, clasificaremos como 1 si el hogar se cambió a un pozo nuevo, 0 de lo contrario. Analizaremos la probabilidad de cambiarse o no en función a las siguientes variables:\n",
    ">\n",
    ">1. La distancia del hogar al pozo más cercano (medida en 100 metros) (dist100).\n",
    ">\n",
    ">2. El nivel de arsénico del actual pozo en uso del hogar (arsenic).\n",
    ">\n",
    ">3. El nivel educacional de el/la jefe/a de hogar (educ4).\n",
    ">\n",
    ">4. Si algún miembro de la familia participa o no en asociaciones comunitarias (assoc).\n",
    ">\n",
    "##### Importamos la base de datos con pandas.\n"
   ]
  },
  {
   "cell_type": "code",
   "execution_count": 30,
   "metadata": {},
   "outputs": [
    {
     "data": {
      "text/html": [
       "<div>\n",
       "<style scoped>\n",
       "    .dataframe tbody tr th:only-of-type {\n",
       "        vertical-align: middle;\n",
       "    }\n",
       "\n",
       "    .dataframe tbody tr th {\n",
       "        vertical-align: top;\n",
       "    }\n",
       "\n",
       "    .dataframe thead th {\n",
       "        text-align: right;\n",
       "    }\n",
       "</style>\n",
       "<table border=\"1\" class=\"dataframe\">\n",
       "  <thead>\n",
       "    <tr style=\"text-align: right;\">\n",
       "      <th></th>\n",
       "      <th>y</th>\n",
       "      <th>dist100</th>\n",
       "      <th>arsenic</th>\n",
       "      <th>educ4</th>\n",
       "      <th>assoc</th>\n",
       "    </tr>\n",
       "  </thead>\n",
       "  <tbody>\n",
       "    <tr>\n",
       "      <th>0</th>\n",
       "      <td>1</td>\n",
       "      <td>0.16826</td>\n",
       "      <td>2.36</td>\n",
       "      <td>0.0</td>\n",
       "      <td>0</td>\n",
       "    </tr>\n",
       "    <tr>\n",
       "      <th>1</th>\n",
       "      <td>1</td>\n",
       "      <td>0.47322</td>\n",
       "      <td>0.71</td>\n",
       "      <td>0.0</td>\n",
       "      <td>0</td>\n",
       "    </tr>\n",
       "    <tr>\n",
       "      <th>2</th>\n",
       "      <td>0</td>\n",
       "      <td>0.20967</td>\n",
       "      <td>2.07</td>\n",
       "      <td>2.5</td>\n",
       "      <td>0</td>\n",
       "    </tr>\n",
       "    <tr>\n",
       "      <th>3</th>\n",
       "      <td>1</td>\n",
       "      <td>0.21486</td>\n",
       "      <td>1.15</td>\n",
       "      <td>3.0</td>\n",
       "      <td>0</td>\n",
       "    </tr>\n",
       "    <tr>\n",
       "      <th>4</th>\n",
       "      <td>1</td>\n",
       "      <td>0.40874</td>\n",
       "      <td>1.10</td>\n",
       "      <td>3.5</td>\n",
       "      <td>1</td>\n",
       "    </tr>\n",
       "  </tbody>\n",
       "</table>\n",
       "</div>"
      ],
      "text/plain": [
       "   y  dist100  arsenic  educ4  assoc\n",
       "0  1  0.16826     2.36    0.0      0\n",
       "1  1  0.47322     0.71    0.0      0\n",
       "2  0  0.20967     2.07    2.5      0\n",
       "3  1  0.21486     1.15    3.0      0\n",
       "4  1  0.40874     1.10    3.5      1"
      ]
     },
     "execution_count": 30,
     "metadata": {},
     "output_type": "execute_result"
    }
   ],
   "source": [
    "# ingresamos la base de datos\n",
    "df = pd.read_csv('datasets/wells.csv')\n",
    "# La base de datos incluye una columna de índice. Eliminemosla para evitar futuros conflictos\n",
    "df = df.drop(\"index\", axis =1)\n",
    "df.head()"
   ]
  },
  {
   "cell_type": "markdown",
   "metadata": {},
   "source": [
    "##### Análisis exploratorio\n",
    "##### La base de datos se compone de 3020 observaciones y cinco columnas.\n"
   ]
  },
  {
   "cell_type": "code",
   "execution_count": 31,
   "metadata": {},
   "outputs": [
    {
     "name": "stdout",
     "output_type": "stream",
     "text": [
      "La base de datos tiene 3020 observaciones y  5 columnas\n",
      "Las variables de la base de datos son Index(['y', 'dist100', 'arsenic', 'educ4', 'assoc'], dtype='object')\n"
     ]
    }
   ],
   "source": [
    "print(f'La base de datos tiene {df.shape[0]} observaciones y  {df.shape[1]} columnas')\n",
    "print(f'Las variables de la base de datos son {df.columns}')"
   ]
  },
  {
   "cell_type": "markdown",
   "metadata": {},
   "source": [
    ">Solicitemos las medidas descriptivas de los datos con los que vamos a trabajar. Como ya sabemos que el método describe de pandas funciona sólo con las columnas numéricas, utilizaremos value_counts para las columnas con atributos discretos.\n",
    ">\n",
    ">Esto lo implementamos en un for con un if para diferenciar si los atributos tiene más de dos niveles."
   ]
  },
  {
   "cell_type": "code",
   "execution_count": 32,
   "metadata": {},
   "outputs": [
    {
     "name": "stdout",
     "output_type": "stream",
     "text": [
      "1    0.575166\n",
      "0    0.424834\n",
      "Name: y, dtype: float64 \n",
      "\n",
      "count    3020.000000\n",
      "mean        0.483319\n",
      "std         0.384787\n",
      "min         0.003870\n",
      "25%         0.211172\n",
      "50%         0.367615\n",
      "75%         0.640410\n",
      "max         3.395310\n",
      "Name: dist100, dtype: float64 \n",
      "\n",
      "count    3020.000000\n",
      "mean        1.656930\n",
      "std         1.107387\n",
      "min         0.510000\n",
      "25%         0.820000\n",
      "50%         1.300000\n",
      "75%         2.200000\n",
      "max         9.650000\n",
      "Name: arsenic, dtype: float64 \n",
      "\n",
      "count    3020.000000\n",
      "mean        1.207119\n",
      "std         1.004329\n",
      "min         0.000000\n",
      "25%         0.000000\n",
      "50%         1.250000\n",
      "75%         2.000000\n",
      "max         4.250000\n",
      "Name: educ4, dtype: float64 \n",
      "\n",
      "0    0.577152\n",
      "1    0.422848\n",
      "Name: assoc, dtype: float64 \n",
      "\n"
     ]
    }
   ],
   "source": [
    "for i in df:\n",
    "    if len(df[i].value_counts()) > 2:\n",
    "        print(df[i].describe(), '\\n')\n",
    "    else:\n",
    "        print(df[i].value_counts('%'), '\\n')"
   ]
  },
  {
   "cell_type": "code",
   "execution_count": 33,
   "metadata": {},
   "outputs": [
    {
     "data": {
      "text/html": [
       "<div>\n",
       "<style scoped>\n",
       "    .dataframe tbody tr th:only-of-type {\n",
       "        vertical-align: middle;\n",
       "    }\n",
       "\n",
       "    .dataframe tbody tr th {\n",
       "        vertical-align: top;\n",
       "    }\n",
       "\n",
       "    .dataframe thead th {\n",
       "        text-align: right;\n",
       "    }\n",
       "</style>\n",
       "<table border=\"1\" class=\"dataframe\">\n",
       "  <thead>\n",
       "    <tr style=\"text-align: right;\">\n",
       "      <th></th>\n",
       "      <th>y</th>\n",
       "      <th>dist100</th>\n",
       "      <th>arsenic</th>\n",
       "      <th>educ4</th>\n",
       "      <th>assoc</th>\n",
       "    </tr>\n",
       "  </thead>\n",
       "  <tbody>\n",
       "    <tr>\n",
       "      <th>count</th>\n",
       "      <td>3020.000000</td>\n",
       "      <td>3020.000000</td>\n",
       "      <td>3020.000000</td>\n",
       "      <td>3020.000000</td>\n",
       "      <td>3020.000000</td>\n",
       "    </tr>\n",
       "    <tr>\n",
       "      <th>mean</th>\n",
       "      <td>0.575166</td>\n",
       "      <td>0.483319</td>\n",
       "      <td>1.656930</td>\n",
       "      <td>1.207119</td>\n",
       "      <td>0.422848</td>\n",
       "    </tr>\n",
       "    <tr>\n",
       "      <th>std</th>\n",
       "      <td>0.494400</td>\n",
       "      <td>0.384787</td>\n",
       "      <td>1.107387</td>\n",
       "      <td>1.004329</td>\n",
       "      <td>0.494093</td>\n",
       "    </tr>\n",
       "    <tr>\n",
       "      <th>min</th>\n",
       "      <td>0.000000</td>\n",
       "      <td>0.003870</td>\n",
       "      <td>0.510000</td>\n",
       "      <td>0.000000</td>\n",
       "      <td>0.000000</td>\n",
       "    </tr>\n",
       "    <tr>\n",
       "      <th>25%</th>\n",
       "      <td>0.000000</td>\n",
       "      <td>0.211172</td>\n",
       "      <td>0.820000</td>\n",
       "      <td>0.000000</td>\n",
       "      <td>0.000000</td>\n",
       "    </tr>\n",
       "    <tr>\n",
       "      <th>50%</th>\n",
       "      <td>1.000000</td>\n",
       "      <td>0.367615</td>\n",
       "      <td>1.300000</td>\n",
       "      <td>1.250000</td>\n",
       "      <td>0.000000</td>\n",
       "    </tr>\n",
       "    <tr>\n",
       "      <th>75%</th>\n",
       "      <td>1.000000</td>\n",
       "      <td>0.640410</td>\n",
       "      <td>2.200000</td>\n",
       "      <td>2.000000</td>\n",
       "      <td>1.000000</td>\n",
       "    </tr>\n",
       "    <tr>\n",
       "      <th>max</th>\n",
       "      <td>1.000000</td>\n",
       "      <td>3.395310</td>\n",
       "      <td>9.650000</td>\n",
       "      <td>4.250000</td>\n",
       "      <td>1.000000</td>\n",
       "    </tr>\n",
       "  </tbody>\n",
       "</table>\n",
       "</div>"
      ],
      "text/plain": [
       "                 y      dist100      arsenic        educ4        assoc\n",
       "count  3020.000000  3020.000000  3020.000000  3020.000000  3020.000000\n",
       "mean      0.575166     0.483319     1.656930     1.207119     0.422848\n",
       "std       0.494400     0.384787     1.107387     1.004329     0.494093\n",
       "min       0.000000     0.003870     0.510000     0.000000     0.000000\n",
       "25%       0.000000     0.211172     0.820000     0.000000     0.000000\n",
       "50%       1.000000     0.367615     1.300000     1.250000     0.000000\n",
       "75%       1.000000     0.640410     2.200000     2.000000     1.000000\n",
       "max       1.000000     3.395310     9.650000     4.250000     1.000000"
      ]
     },
     "execution_count": 33,
     "metadata": {},
     "output_type": "execute_result"
    }
   ],
   "source": [
    "df.describe()"
   ]
  },
  {
   "cell_type": "markdown",
   "metadata": {},
   "source": [
    ">Respecto a las variables con atributos discretos (nuestra variable dependiente y, y assoc), observamos que alrededor del 58% de las familias componentes de la muestra se cambiaron de pozo a uno más seguro. Encontramos lo opuesto con assoc, cerca del 58% de los jefe de hogar en la familia no participan en asociaciones comunitarias. El nivel educacional de los encuestados se mide en el máximo grado académico desde 0 (Sin educación formal) a 4 (Secundaria completa). La media reportada sugiere que gran parte de la población posee niveles bajos de educación.\n",
    ">\n",
    ">La mayoría de las familias se sitúan en una distancia de 48 metros de un pozo seguro, y el nivel de arsénico promedio en el agua es de 1.65, entre el rango de .51 y 9.65, lo cual es relativamente bajo.\n",
    ">\n",
    ">Para tener una mejor perspectiva del comportamiento de las columnas, vamos a graficarlas con histogramas para las continuas y gráficos de barra para las discretas."
   ]
  },
  {
   "cell_type": "code",
   "execution_count": 34,
   "metadata": {},
   "outputs": [
    {
     "data": {
      "image/png": "[encoded data removed]",
      "text/plain": [
       "<Figure size 576x396 with 5 Axes>"
      ]
     },
     "metadata": {},
     "output_type": "display_data"
    }
   ],
   "source": [
    "for n, i in enumerate(df):\n",
    "    plt.subplot(2, 3, n+1)\n",
    "    if len(df[i].value_counts()) > 2:\n",
    "        sns.distplot(df[i])\n",
    "        plt.title(i)\n",
    "        plt.xlabel('')\n",
    "    else:\n",
    "        sns.countplot(y=df[i])\n",
    "        plt.title(i)\n",
    "    plt.xlabel('')\n",
    "    plt.tight_layout()"
   ]
  },
  {
   "cell_type": "markdown",
   "metadata": {},
   "source": [
    ">Observamos que para dist100, arsenic y educ4 existe un sesgo hacia los valores bajos, lo cual sugiere que los casos donde la distancia y el nivel de arsénico son sustancialmente grandes son relativamente anómalos.\n",
    ">\n",
    ">Respecto a las variables discretas, observamos que las clases están relativamente bien equilibradas, lo cual facilita nuestra modelación.\n",
    ">\n",
    ">Digresión: ¿Qué hacer ante clases desbalanceadas?\n",
    ">\n",
    ">Existe una serie de mecanismos alternativos para mitigar el efecto del desbalance en las clases:\n",
    ">\n",
    ">1. Asumir que el componente estocástico del modelo se puede representar de mejor manera mediante una distribución Poisson, Binomial Negativa o Cero Dispersa.\n",
    ">\n",
    ">2. Utilizar errores robustos (Huber-White sandwich) para fortalecer la matriz de varianza-covarianza.\n",
    ">\n",
    ">3. Estimar el modelo con robit (regresión logística t-distribuída) por sobre logit.\n",
    ">\n",
    ">4. Recolectar más datos en la medida que sea posible.\n",
    ">\n",
    ">5. Remuestrear sobre la muestra para disminuir el desbalance:\n",
    ">\n",
    ">>○ Over-sampling: Remuestrear copias de la clase sub-representada a la muestra original.\n",
    ">>\n",
    ">>○ Under-sampling: Eliminar instancias de la clase sobrerrepresentada.\n",
    ">\n",
    ">Ahora visualizamos las correlaciones mediante una matriz. Seaborn presenta el método sns.heatmap() para generar un gráfico sobre la intensidad de las asociaciones entre las variables de una base de datos. Los parámetros ingresados son:\n",
    ">\n",
    ">1. df.corr() ingresamos las correlaciones calculadas mediante pandas.\n",
    ">\n",
    ">2. cmap = 'Blues' define el rango de colores. En este caso utilizaremos una gama de azules.\n",
    ">\n",
    ">3. annot = True añadirá el puntaje de la correlación sobre cada celda.\n"
   ]
  },
  {
   "cell_type": "code",
   "execution_count": 35,
   "metadata": {},
   "outputs": [
    {
     "data": {
      "text/plain": [
       "<AxesSubplot:>"
      ]
     },
     "execution_count": 35,
     "metadata": {},
     "output_type": "execute_result"
    },
    {
     "data": {
      "image/png": "[encoded data removed]",
      "text/plain": [
       "<Figure size 576x396 with 2 Axes>"
      ]
     },
     "metadata": {},
     "output_type": "display_data"
    }
   ],
   "source": [
    "sns.heatmap(df.corr(), cmap='Blues', annot=True)"
   ]
  },
  {
   "cell_type": "markdown",
   "metadata": {},
   "source": [
    ">Los resultados de la matriz de correlación pueden ser desalentadores, dado que no hay asociaciones fuertes entre las variables. Por defecto utilizamos la correlación de pearson,\n",
    "que no tiene un buen desempeño con variables que no sean estrictamente normales. Como ya se ha mencionado antes, esto no es un impedimento para seguir con la modelación ya que muchas relaciones no son estrictamente lineales. \n",
    ">\n",
    "### El modelo de probabilidad lineal\n",
    ">\n",
    ">Una primera aproximación al problema de clasificación binario es utilizar una regresión lineal, asumiendo que en nuestra variable dependiente estaremos midiendo la probabilidad del suceso.\n",
    "\n",
    "$$Y_i = \\beta_0 + \\beta_1 \\times dist100 + \\varepsilon_i$$\n",
    ">\n",
    ">Este modelo se conoce como modelo de probabilidad lineal, donde implementamos una regresión lineal con nuestra variable dependiente binaria. Los parámetros estimados afectan la probabilidad de que el evento suceda. Con nuestro $\\hat{Y}$   predicho podemos clasificar una\n",
    "observación como 1 si $\\hat{Y}$ > que 0.5, de lo contrario 0"
   ]
  },
  {
   "cell_type": "code",
   "execution_count": 36,
   "metadata": {},
   "outputs": [],
   "source": [
    "# ejecutemos nuestro modelo\n",
    "m1_ols = smf.ols('y ~ dist100', df).fit()"
   ]
  },
  {
   "cell_type": "markdown",
   "metadata": {},
   "source": [
    ">Ahora vamos a generar una función para obtener sólo los parámetros necesarios en nuestro modelo. La función concise_summary() necesita como argumento el modelo estimado con statsmodels y devolverá sólo algunas características esenciales del modelo."
   ]
  },
  {
   "cell_type": "code",
   "execution_count": 37,
   "metadata": {},
   "outputs": [
    {
     "name": "stdout",
     "output_type": "stream",
     "text": [
      "\n",
      "Goodness of Fit statistics\n",
      "             Statistics      Value\n",
      "2                 BIC:  4288.4686\n",
      "3      Log-Likelihood:    -2136.2\n",
      "4         F-statistic:      42.57\n",
      "5  Prob (F-statistic):   7.95e-11\n",
      "6               Scale:    0.24111\n",
      "\n",
      "Point Estimates\n",
      "\n",
      "               Coef.  Std.Err.\n",
      "Intercept  0.648407  0.014347\n",
      "dist100   -0.151539  0.023225\n"
     ]
    }
   ],
   "source": [
    "def concise_summary(mod, print_fit=True):\n",
    "#guardamos los parámetros asociados a estadísticas de ajuste\n",
    "    fit = pd.DataFrame({'Statistics': mod.summary2().tables[0][2][2:], 'Value': mod.summary2().tables[0][3][2:]})\n",
    "# guardamos los parámetros estimados por cada regresor.\n",
    "    estimates = pd.DataFrame(mod.summary2().tables[1].loc[:, 'Coef.':'Std.Err.'])\n",
    "# imprimir fit es opcional\n",
    "    if print_fit is True:\n",
    "        print('\\nGoodness of Fit statistics\\n', fit)\n",
    "        print('\\nPoint Estimates\\n\\n', estimates)\n",
    "# solicitemos las características del modelo\n",
    "concise_summary(m1_ols)\n"
   ]
  },
  {
   "cell_type": "markdown",
   "metadata": {},
   "source": [
    "\n"
   ]
  },
  {
   "cell_type": "code",
   "execution_count": 38,
   "metadata": {},
   "outputs": [
    {
     "data": {
      "text/plain": [
       "<seaborn.axisgrid.FacetGrid at 0x272f64169e0>"
      ]
     },
     "execution_count": 38,
     "metadata": {},
     "output_type": "execute_result"
    },
    {
     "data": {
      "image/png": "[encoded data removed]",
      "text/plain": [
       "<Figure size 360x360 with 1 Axes>"
      ]
     },
     "metadata": {},
     "output_type": "display_data"
    }
   ],
   "source": [
    "sns.lmplot('dist100','y', df,\n",
    "line_kws={'color':'tomato'},\n",
    "scatter_kws={'color': 'grey', 'alpha': .5})"
   ]
  },
  {
   "cell_type": "code",
   "execution_count": 39,
   "metadata": {},
   "outputs": [
    {
     "name": "stdout",
     "output_type": "stream",
     "text": [
      "Optimization terminated successfully.\n",
      "         Current function value: 0.674874\n",
      "         Iterations 4\n",
      "\n",
      "Goodness of Fit statistics\n",
      "         Statistics       Value\n",
      "2             BIC:   4092.2639\n",
      "3  Log-Likelihood:     -2038.1\n",
      "4         LL-Null:     -2059.0\n",
      "5     LLR p-value:  9.7978e-11\n",
      "6           Scale:      1.0000\n",
      "7                             \n",
      "\n",
      "Point Estimates\n",
      "\n",
      "               Coef.  Std.Err.\n",
      "Intercept  0.605959  0.060310\n",
      "dist100   -0.621882  0.097426\n"
     ]
    }
   ],
   "source": [
    "m1_logit = smf.logit('y ~ dist100', df).fit()\n",
    "concise_summary(m1_logit)"
   ]
  },
  {
   "cell_type": "code",
   "execution_count": 40,
   "metadata": {},
   "outputs": [
    {
     "name": "stdout",
     "output_type": "stream",
     "text": [
      "La media es de  0.48\n",
      "El log odds estimado es de  0.31\n"
     ]
    }
   ],
   "source": [
    "# guardamos la media en un objeto\n",
    "dist100_mean = df['dist100'].mean()\n",
    "print(\"La media es de \", round(dist100_mean, 2))\n",
    "# accedemos a los parámetros con la sintáxis modelo.params['parametro]\n",
    "estimate_y = m1_logit.params['Intercept'] + (m1_logit.params['dist100']\n",
    "* dist100_mean)\n",
    "print(\"El log odds estimado es de \", round(estimate_y, 2))\n"
   ]
  },
  {
   "cell_type": "code",
   "execution_count": 41,
   "metadata": {},
   "outputs": [
    {
     "name": "stdout",
     "output_type": "stream",
     "text": [
      "La probabilidad promedio de cambiarse de pozo cuando tenemos una distancia de 48 metros es: 0.58\n"
     ]
    }
   ],
   "source": [
    "def invlogit(x):\n",
    "    return 1 / (1+np.exp(-x))\n",
    "print(f'La probabilidad promedio de cambiarse de pozo cuando tenemos una distancia de 48 metros es: {round(invlogit(estimate_y), 2)}')\n"
   ]
  },
  {
   "cell_type": "code",
   "execution_count": 42,
   "metadata": {},
   "outputs": [],
   "source": [
    "pr_dist_100 = invlogit(m1_logit.params['Intercept'] + (m1_logit.params['dist100'] * 1))\n",
    "pr_dist_200 = invlogit(m1_logit.params['Intercept'] + (m1_logit.params['dist100'] * 2))\n",
    "pr_dist_300 = invlogit(m1_logit.params['Intercept'] + (m1_logit.params['dist100'] * 3))\n",
    "pr_dist_400 = invlogit(m1_logit.params['Intercept'] + (m1_logit.params['dist100'] * 4))\n"
   ]
  },
  {
   "cell_type": "code",
   "execution_count": 43,
   "metadata": {},
   "outputs": [
    {
     "name": "stdout",
     "output_type": "stream",
     "text": [
      "La probabilidad de cambiar de pozo entre 100 y 200 metros:  0.15\n",
      "La probabilidad de cambiar de pozo entre 200 y 300 metros:  0.125\n",
      "La probabilidad de cambiar de pozo entre 300 y 400 metros:  0.089\n"
     ]
    }
   ],
   "source": [
    "print(f'La probabilidad de cambiar de pozo entre 100 y 200 metros:  {round(pr_dist_100 - pr_dist_200, 3)}')\n",
    "print(f'La probabilidad de cambiar de pozo entre 200 y 300 metros:  { round(pr_dist_200 - pr_dist_300, 3)}')\n",
    "print(f'La probabilidad de cambiar de pozo entre 300 y 400 metros:  {round(pr_dist_300 - pr_dist_400, 3)}')\n"
   ]
  },
  {
   "cell_type": "code",
   "execution_count": 44,
   "metadata": {},
   "outputs": [
    {
     "name": "stdout",
     "output_type": "stream",
     "text": [
      "Una observación tiene igual probabilidad en ambos sucesos cuando x =  0.974\n"
     ]
    },
    {
     "data": {
      "image/png": "[encoded data removed]",
      "text/plain": [
       "<Figure size 360x360 with 1 Axes>"
      ]
     },
     "metadata": {},
     "output_type": "display_data"
    }
   ],
   "source": [
    "sns.lmplot('dist100', 'y', df, logistic=True, line_kws={'color':'tomato', 'lw': 3}, scatter_kws={'color': 'lightgrey', 'alpha': .5})\n",
    "decision_boundary = - m1_logit.params['Intercept'] / m1_logit.params['dist100']\n",
    "plt.axvline(decision_boundary, lw=1, color='dodgerblue')\n",
    "plt.axhline(.5, linestyle='--', color='grey', lw=1)\n",
    "plt.text(decision_boundary+.2, .5+.05, r'Caso donde $\\hat{p}=.5$', color='forestgreen')\n",
    "plt.plot(decision_boundary, .5, 'o', color='forestgreen')\n",
    "print(\"Una observación tiene igual probabilidad en ambos sucesos cuando x = \", round(decision_boundary, 3))\n"
   ]
  },
  {
   "cell_type": "code",
   "execution_count": 45,
   "metadata": {},
   "outputs": [
    {
     "name": "stdout",
     "output_type": "stream",
     "text": [
      "\n",
      "OLS\n",
      "\n",
      "Logit\n"
     ]
    }
   ],
   "source": [
    "print(\"\\nOLS\")\n",
    "concise_summary(m1_ols, print_fit=False)\n",
    "print(\"\\nLogit\")\n",
    "concise_summary(m1_logit, print_fit=False)\n"
   ]
  },
  {
   "cell_type": "code",
   "execution_count": 46,
   "metadata": {},
   "outputs": [
    {
     "name": "stdout",
     "output_type": "stream",
     "text": [
      "La probabilidad de cambiar de pozo entre 100 y 200 metros:  0.15\n"
     ]
    }
   ],
   "source": [
    "print(\"La probabilidad de cambiar de pozo entre 100 y 200 metros: \", round(pr_dist_100 - pr_dist_200, 3))\n"
   ]
  },
  {
   "cell_type": "code",
   "execution_count": 47,
   "metadata": {},
   "outputs": [],
   "source": [
    "X_train, X_test, y_train, y_test = train_test_split(df.loc[:,'dist100':'assoc'],df['y'],test_size=.33,random_state=11238)\n"
   ]
  },
  {
   "cell_type": "code",
   "execution_count": 49,
   "metadata": {},
   "outputs": [],
   "source": [
    "from sklearn.preprocessing import StandardScaler\n",
    "# estandarizamos la matriz de entrenamiento\n",
    "X_train_std = StandardScaler().fit_transform(X_train)\n",
    "# estandarizamos la matriz de pruebas\n",
    "X_test_std = StandardScaler().fit_transform(X_test)\n",
    "# iniciamos el modelo con la clase LogisticRegression y pasamos los datos en fit.\n",
    "default_model = LogisticRegression().fit(X_train_std, y_train)\n"
   ]
  },
  {
   "cell_type": "code",
   "execution_count": 50,
   "metadata": {},
   "outputs": [
    {
     "data": {
      "text/plain": [
       "array([[-0.33266754,  0.5907759 ,  0.14256382, -0.05195545]])"
      ]
     },
     "execution_count": 50,
     "metadata": {},
     "output_type": "execute_result"
    }
   ],
   "source": [
    "default_model.coef_"
   ]
  },
  {
   "cell_type": "code",
   "execution_count": 51,
   "metadata": {},
   "outputs": [
    {
     "data": {
      "text/plain": [
       "array([0, 1, 1, 0, 1, 1, 1, 1, 1, 1, 1, 1, 1, 0, 0, 0, 0, 1, 1, 1],\n",
       "      dtype=int64)"
      ]
     },
     "execution_count": 51,
     "metadata": {},
     "output_type": "execute_result"
    }
   ],
   "source": [
    "yhat = default_model.predict(X_test_std)\n",
    "# solicitemos las primeras 20 observaciones del vector predicho.\n",
    "yhat[:20]"
   ]
  },
  {
   "cell_type": "code",
   "execution_count": null,
   "metadata": {},
   "outputs": [],
   "source": []
  }
 ],
 "metadata": {
  "kernelspec": {
   "display_name": "Python 3.10.5 64-bit",
   "language": "python",
   "name": "python3"
  },
  "language_info": {
   "codemirror_mode": {
    "name": "ipython",
    "version": 3
   },
   "file_extension": ".py",
   "mimetype": "text/x-python",
   "name": "python",
   "nbconvert_exporter": "python",
   "pygments_lexer": "ipython3",
   "version": "3.10.5"
  },
  "orig_nbformat": 4,
  "vscode": {
   "interpreter": {
    "hash": "5fe23d4cdea1a1fdeea398f38169f58ea6e36b10f84ee4017a8f0fee693ee786"
   }
  }
 },
 "nbformat": 4,
 "nbformat_minor": 2
}
