{
 "cells": [
  {
   "cell_type": "code",
   "execution_count": 1,
   "metadata": {},
   "outputs": [],
   "source": [
    "from operator import imod\n",
    "import pandas as pd\n",
    "import numpy as np\n",
    "from scipy import stats"
   ]
  },
  {
   "cell_type": "code",
   "execution_count": 2,
   "metadata": {},
   "outputs": [],
   "source": [
    "df = pd.read_csv('datasets/alumnos.csv')"
   ]
  },
  {
   "cell_type": "code",
   "execution_count": 29,
   "metadata": {},
   "outputs": [
    {
     "data": {
      "text/html": [
       "<div>\n",
       "<style scoped>\n",
       "    .dataframe tbody tr th:only-of-type {\n",
       "        vertical-align: middle;\n",
       "    }\n",
       "\n",
       "    .dataframe tbody tr th {\n",
       "        vertical-align: top;\n",
       "    }\n",
       "\n",
       "    .dataframe thead th {\n",
       "        text-align: right;\n",
       "    }\n",
       "</style>\n",
       "<table border=\"1\" class=\"dataframe\">\n",
       "  <thead>\n",
       "    <tr style=\"text-align: right;\">\n",
       "      <th></th>\n",
       "      <th>nombre</th>\n",
       "      <th>altura</th>\n",
       "      <th>peso</th>\n",
       "      <th>edad</th>\n",
       "      <th>sexo</th>\n",
       "    </tr>\n",
       "  </thead>\n",
       "  <tbody>\n",
       "    <tr>\n",
       "      <th>0</th>\n",
       "      <td>Hugo</td>\n",
       "      <td>1.67</td>\n",
       "      <td>60</td>\n",
       "      <td>23</td>\n",
       "      <td>h</td>\n",
       "    </tr>\n",
       "    <tr>\n",
       "      <th>1</th>\n",
       "      <td>Paco</td>\n",
       "      <td>1.73</td>\n",
       "      <td>83</td>\n",
       "      <td>25</td>\n",
       "      <td>h</td>\n",
       "    </tr>\n",
       "    <tr>\n",
       "      <th>2</th>\n",
       "      <td>Luis</td>\n",
       "      <td>1.62</td>\n",
       "      <td>70</td>\n",
       "      <td>28</td>\n",
       "      <td>h</td>\n",
       "    </tr>\n",
       "    <tr>\n",
       "      <th>3</th>\n",
       "      <td>Diana</td>\n",
       "      <td>1.58</td>\n",
       "      <td>58</td>\n",
       "      <td>21</td>\n",
       "      <td>m</td>\n",
       "    </tr>\n",
       "    <tr>\n",
       "      <th>4</th>\n",
       "      <td>Francisco</td>\n",
       "      <td>1.86</td>\n",
       "      <td>98</td>\n",
       "      <td>28</td>\n",
       "      <td>h</td>\n",
       "    </tr>\n",
       "    <tr>\n",
       "      <th>5</th>\n",
       "      <td>Felipe</td>\n",
       "      <td>1.79</td>\n",
       "      <td>100</td>\n",
       "      <td>26</td>\n",
       "      <td>h</td>\n",
       "    </tr>\n",
       "    <tr>\n",
       "      <th>6</th>\n",
       "      <td>Jacinta</td>\n",
       "      <td>1.69</td>\n",
       "      <td>62</td>\n",
       "      <td>20</td>\n",
       "      <td>m</td>\n",
       "    </tr>\n",
       "    <tr>\n",
       "      <th>7</th>\n",
       "      <td>Bernardo</td>\n",
       "      <td>1.60</td>\n",
       "      <td>83</td>\n",
       "      <td>31</td>\n",
       "      <td>h</td>\n",
       "    </tr>\n",
       "    <tr>\n",
       "      <th>8</th>\n",
       "      <td>Marisol</td>\n",
       "      <td>1.60</td>\n",
       "      <td>56</td>\n",
       "      <td>30</td>\n",
       "      <td>m</td>\n",
       "    </tr>\n",
       "    <tr>\n",
       "      <th>9</th>\n",
       "      <td>Facundo</td>\n",
       "      <td>1.98</td>\n",
       "      <td>112</td>\n",
       "      <td>36</td>\n",
       "      <td>h</td>\n",
       "    </tr>\n",
       "    <tr>\n",
       "      <th>10</th>\n",
       "      <td>Trinidad</td>\n",
       "      <td>1.72</td>\n",
       "      <td>72</td>\n",
       "      <td>21</td>\n",
       "      <td>m</td>\n",
       "    </tr>\n",
       "    <tr>\n",
       "      <th>11</th>\n",
       "      <td>Camila</td>\n",
       "      <td>1.63</td>\n",
       "      <td>57</td>\n",
       "      <td>26</td>\n",
       "      <td>m</td>\n",
       "    </tr>\n",
       "    <tr>\n",
       "      <th>12</th>\n",
       "      <td>Macarena</td>\n",
       "      <td>1.73</td>\n",
       "      <td>68</td>\n",
       "      <td>27</td>\n",
       "      <td>m</td>\n",
       "    </tr>\n",
       "    <tr>\n",
       "      <th>13</th>\n",
       "      <td>Diego</td>\n",
       "      <td>1.62</td>\n",
       "      <td>78</td>\n",
       "      <td>23</td>\n",
       "      <td>h</td>\n",
       "    </tr>\n",
       "    <tr>\n",
       "      <th>14</th>\n",
       "      <td>Gonzalo</td>\n",
       "      <td>1.58</td>\n",
       "      <td>67</td>\n",
       "      <td>22</td>\n",
       "      <td>h</td>\n",
       "    </tr>\n",
       "    <tr>\n",
       "      <th>15</th>\n",
       "      <td>Alejandra</td>\n",
       "      <td>1.86</td>\n",
       "      <td>74</td>\n",
       "      <td>21</td>\n",
       "      <td>m</td>\n",
       "    </tr>\n",
       "    <tr>\n",
       "      <th>16</th>\n",
       "      <td>Fernando</td>\n",
       "      <td>1.79</td>\n",
       "      <td>93</td>\n",
       "      <td>27</td>\n",
       "      <td>h</td>\n",
       "    </tr>\n",
       "    <tr>\n",
       "      <th>17</th>\n",
       "      <td>Carolina</td>\n",
       "      <td>1.60</td>\n",
       "      <td>63</td>\n",
       "      <td>28</td>\n",
       "      <td>m</td>\n",
       "    </tr>\n",
       "    <tr>\n",
       "      <th>18</th>\n",
       "      <td>Vicente</td>\n",
       "      <td>1.98</td>\n",
       "      <td>102</td>\n",
       "      <td>31</td>\n",
       "      <td>h</td>\n",
       "    </tr>\n",
       "    <tr>\n",
       "      <th>19</th>\n",
       "      <td>Benjamín</td>\n",
       "      <td>1.72</td>\n",
       "      <td>78</td>\n",
       "      <td>36</td>\n",
       "      <td>h</td>\n",
       "    </tr>\n",
       "    <tr>\n",
       "      <th>20</th>\n",
       "      <td>Gloria</td>\n",
       "      <td>1.58</td>\n",
       "      <td>65</td>\n",
       "      <td>23</td>\n",
       "      <td>m</td>\n",
       "    </tr>\n",
       "  </tbody>\n",
       "</table>\n",
       "</div>"
      ],
      "text/plain": [
       "       nombre  altura  peso  edad sexo\n",
       "0        Hugo    1.67    60    23    h\n",
       "1        Paco    1.73    83    25    h\n",
       "2        Luis    1.62    70    28    h\n",
       "3       Diana    1.58    58    21    m\n",
       "4   Francisco    1.86    98    28    h\n",
       "5      Felipe    1.79   100    26    h\n",
       "6     Jacinta    1.69    62    20    m\n",
       "7    Bernardo    1.60    83    31    h\n",
       "8     Marisol    1.60    56    30    m\n",
       "9     Facundo    1.98   112    36    h\n",
       "10   Trinidad    1.72    72    21    m\n",
       "11     Camila    1.63    57    26    m\n",
       "12   Macarena    1.73    68    27    m\n",
       "13      Diego    1.62    78    23    h\n",
       "14    Gonzalo    1.58    67    22    h\n",
       "15  Alejandra    1.86    74    21    m\n",
       "16   Fernando    1.79    93    27    h\n",
       "17   Carolina    1.60    63    28    m\n",
       "18    Vicente    1.98   102    31    h\n",
       "19   Benjamín    1.72    78    36    h\n",
       "20     Gloria    1.58    65    23    m"
      ]
     },
     "execution_count": 29,
     "metadata": {},
     "output_type": "execute_result"
    }
   ],
   "source": [
    "df"
   ]
  },
  {
   "cell_type": "code",
   "execution_count": 3,
   "metadata": {},
   "outputs": [
    {
     "name": "stdout",
     "output_type": "stream",
     "text": [
      "1.67 es del tipo <class 'float'>\n",
      "1.73 es del tipo <class 'float'>\n",
      "1.62 es del tipo <class 'float'>\n",
      "1.58 es del tipo <class 'float'>\n",
      "1.86 es del tipo <class 'float'>\n",
      "1.79 es del tipo <class 'float'>\n",
      "1.69 es del tipo <class 'float'>\n",
      "1.6 es del tipo <class 'float'>\n",
      "1.6 es del tipo <class 'float'>\n",
      "1.98 es del tipo <class 'float'>\n",
      "1.72 es del tipo <class 'float'>\n",
      "1.63 es del tipo <class 'float'>\n",
      "1.73 es del tipo <class 'float'>\n",
      "1.62 es del tipo <class 'float'>\n",
      "1.58 es del tipo <class 'float'>\n",
      "1.86 es del tipo <class 'float'>\n",
      "1.79 es del tipo <class 'float'>\n",
      "1.6 es del tipo <class 'float'>\n",
      "1.98 es del tipo <class 'float'>\n",
      "1.72 es del tipo <class 'float'>\n",
      "1.58 es del tipo <class 'float'>\n"
     ]
    }
   ],
   "source": [
    "for i in df['altura']:\n",
    "    print(i, 'es del tipo', type(i))"
   ]
  },
  {
   "cell_type": "code",
   "execution_count": 4,
   "metadata": {},
   "outputs": [
    {
     "name": "stdout",
     "output_type": "stream",
     "text": [
      "2.67\n",
      "2.73\n",
      "2.62\n",
      "2.58\n",
      "2.8600000000000003\n",
      "2.79\n",
      "2.69\n",
      "2.6\n",
      "2.6\n",
      "2.98\n",
      "2.7199999999999998\n",
      "2.63\n",
      "2.73\n",
      "2.62\n",
      "2.58\n",
      "2.8600000000000003\n",
      "2.79\n",
      "2.6\n",
      "2.98\n",
      "2.7199999999999998\n",
      "2.58\n"
     ]
    }
   ],
   "source": [
    "for i in df['altura']:\n",
    "    print(i + 1.00)"
   ]
  },
  {
   "cell_type": "code",
   "execution_count": 6,
   "metadata": {},
   "outputs": [
    {
     "name": "stdout",
     "output_type": "stream",
     "text": [
      "0\n",
      "2\n",
      "4\n",
      "6\n",
      "8\n",
      "10\n",
      "12\n",
      "14\n",
      "16\n",
      "18\n",
      "20\n"
     ]
    }
   ],
   "source": [
    "for i in df['altura'].index:\n",
    "    if i % 2 == 0:\n",
    "        print(i)"
   ]
  },
  {
   "cell_type": "code",
   "execution_count": 76,
   "metadata": {},
   "outputs": [
    {
     "name": "stdout",
     "output_type": "stream",
     "text": [
      "1.67 Es par\n",
      "1.73 Es impar\n",
      "1.62 Es par\n",
      "1.58 Es impar\n",
      "1.86 Es par\n",
      "1.79 Es impar\n",
      "1.69 Es par\n",
      "1.6 Es impar\n",
      "1.6 Es par\n",
      "1.98 Es impar\n",
      "1.72 Es par\n",
      "1.63 Es impar\n",
      "1.73 Es par\n",
      "1.62 Es impar\n",
      "1.58 Es par\n",
      "1.86 Es impar\n",
      "1.79 Es par\n",
      "1.6 Es impar\n",
      "1.98 Es par\n",
      "1.72 Es impar\n",
      "1.58 Es par\n"
     ]
    }
   ],
   "source": [
    "for i in df['altura'].index:\n",
    "    if i % 2 == 0:\n",
    "        print(df['altura'][i], 'Es par')\n",
    "    if i % 2 != 0:\n",
    "        print(df['altura'][i], 'Es impar')"
   ]
  },
  {
   "cell_type": "code",
   "execution_count": 10,
   "metadata": {},
   "outputs": [],
   "source": [
    "media_peso = df['peso'].mean()"
   ]
  },
  {
   "cell_type": "code",
   "execution_count": 12,
   "metadata": {},
   "outputs": [
    {
     "name": "stdout",
     "output_type": "stream",
     "text": [
      "60 Tiene un peso bajo el promedio\n",
      "83 Tiene un peso dobre el promedio\n",
      "70 Tiene un peso bajo el promedio\n",
      "58 Tiene un peso bajo el promedio\n",
      "98 Tiene un peso dobre el promedio\n",
      "100 Tiene un peso dobre el promedio\n",
      "62 Tiene un peso bajo el promedio\n",
      "83 Tiene un peso dobre el promedio\n",
      "56 Tiene un peso bajo el promedio\n",
      "112 Tiene un peso dobre el promedio\n",
      "72 Tiene un peso bajo el promedio\n",
      "57 Tiene un peso bajo el promedio\n",
      "68 Tiene un peso bajo el promedio\n",
      "78 Tiene un peso dobre el promedio\n",
      "67 Tiene un peso bajo el promedio\n",
      "74 Tiene un peso bajo el promedio\n",
      "93 Tiene un peso dobre el promedio\n",
      "63 Tiene un peso bajo el promedio\n",
      "102 Tiene un peso dobre el promedio\n",
      "78 Tiene un peso dobre el promedio\n",
      "65 Tiene un peso bajo el promedio\n"
     ]
    }
   ],
   "source": [
    "for i in df['peso']:\n",
    "    if i > media_peso:\n",
    "        print(i, 'Tiene un peso dobre el promedio')\n",
    "    else:\n",
    "        print(i, 'Tiene un peso bajo el promedio')"
   ]
  },
  {
   "cell_type": "code",
   "execution_count": 13,
   "metadata": {},
   "outputs": [
    {
     "data": {
      "text/plain": [
       "76.14285714285714"
      ]
     },
     "execution_count": 13,
     "metadata": {},
     "output_type": "execute_result"
    }
   ],
   "source": [
    "media_peso"
   ]
  },
  {
   "cell_type": "code",
   "execution_count": 14,
   "metadata": {},
   "outputs": [
    {
     "name": "stdout",
     "output_type": "stream",
     "text": [
      "nombre\n",
      "altura\n",
      "peso\n",
      "edad\n",
      "sexo\n"
     ]
    }
   ],
   "source": [
    "for i in df:\n",
    "    print(i)"
   ]
  },
  {
   "cell_type": "code",
   "execution_count": 15,
   "metadata": {},
   "outputs": [
    {
     "data": {
      "text/html": [
       "<div>\n",
       "<style scoped>\n",
       "    .dataframe tbody tr th:only-of-type {\n",
       "        vertical-align: middle;\n",
       "    }\n",
       "\n",
       "    .dataframe tbody tr th {\n",
       "        vertical-align: top;\n",
       "    }\n",
       "\n",
       "    .dataframe thead th {\n",
       "        text-align: right;\n",
       "    }\n",
       "</style>\n",
       "<table border=\"1\" class=\"dataframe\">\n",
       "  <thead>\n",
       "    <tr style=\"text-align: right;\">\n",
       "      <th></th>\n",
       "      <th>nombre</th>\n",
       "      <th>altura</th>\n",
       "      <th>peso</th>\n",
       "      <th>edad</th>\n",
       "      <th>sexo</th>\n",
       "    </tr>\n",
       "  </thead>\n",
       "  <tbody>\n",
       "    <tr>\n",
       "      <th>0</th>\n",
       "      <td>Hugo</td>\n",
       "      <td>1.67</td>\n",
       "      <td>60</td>\n",
       "      <td>23</td>\n",
       "      <td>h</td>\n",
       "    </tr>\n",
       "    <tr>\n",
       "      <th>1</th>\n",
       "      <td>Paco</td>\n",
       "      <td>1.73</td>\n",
       "      <td>83</td>\n",
       "      <td>25</td>\n",
       "      <td>h</td>\n",
       "    </tr>\n",
       "    <tr>\n",
       "      <th>2</th>\n",
       "      <td>Luis</td>\n",
       "      <td>1.62</td>\n",
       "      <td>70</td>\n",
       "      <td>28</td>\n",
       "      <td>h</td>\n",
       "    </tr>\n",
       "    <tr>\n",
       "      <th>3</th>\n",
       "      <td>Diana</td>\n",
       "      <td>1.58</td>\n",
       "      <td>58</td>\n",
       "      <td>21</td>\n",
       "      <td>m</td>\n",
       "    </tr>\n",
       "    <tr>\n",
       "      <th>4</th>\n",
       "      <td>Francisco</td>\n",
       "      <td>1.86</td>\n",
       "      <td>98</td>\n",
       "      <td>28</td>\n",
       "      <td>h</td>\n",
       "    </tr>\n",
       "  </tbody>\n",
       "</table>\n",
       "</div>"
      ],
      "text/plain": [
       "      nombre  altura  peso  edad sexo\n",
       "0       Hugo    1.67    60    23    h\n",
       "1       Paco    1.73    83    25    h\n",
       "2       Luis    1.62    70    28    h\n",
       "3      Diana    1.58    58    21    m\n",
       "4  Francisco    1.86    98    28    h"
      ]
     },
     "execution_count": 15,
     "metadata": {},
     "output_type": "execute_result"
    }
   ],
   "source": [
    "df.head(5)"
   ]
  },
  {
   "cell_type": "code",
   "execution_count": 53,
   "metadata": {},
   "outputs": [],
   "source": [
    "count_h = 0\n",
    "count_m = 0\n",
    "for i in df['sexo']:\n",
    "    if i == 'm':\n",
    "        count_m += 1\n",
    "    if i == 'h':\n",
    "        count_h += 1"
   ]
  },
  {
   "cell_type": "code",
   "execution_count": 54,
   "metadata": {},
   "outputs": [
    {
     "name": "stdout",
     "output_type": "stream",
     "text": [
      "9 mujeres\n",
      "12 hombres\n"
     ]
    }
   ],
   "source": [
    "print(f'{count_m} mujeres\\n{count_h} hombres')"
   ]
  },
  {
   "cell_type": "code",
   "execution_count": 52,
   "metadata": {},
   "outputs": [
    {
     "name": "stdout",
     "output_type": "stream",
     "text": [
      "La edad promedio es: 26 años\n"
     ]
    }
   ],
   "source": [
    "edad_promedio = df['edad'].mean()\n",
    "print(f'La edad promedio es: {round(edad_promedio, )} años')"
   ]
  },
  {
   "cell_type": "code",
   "execution_count": 58,
   "metadata": {},
   "outputs": [
    {
     "name": "stdout",
     "output_type": "stream",
     "text": [
      "nombre 0         Hugo\n",
      "1         Paco\n",
      "2         Luis\n",
      "3        Diana\n",
      "4    Francisco\n",
      "Name: nombre, dtype: object\n",
      "altura 0    1.67\n",
      "1    1.73\n",
      "2    1.62\n",
      "3    1.58\n",
      "4    1.86\n",
      "Name: altura, dtype: float64\n",
      "peso 0    60\n",
      "1    83\n",
      "2    70\n",
      "3    58\n",
      "4    98\n",
      "Name: peso, dtype: int64\n",
      "edad 0    23\n",
      "1    25\n",
      "2    28\n",
      "3    21\n",
      "4    28\n",
      "Name: edad, dtype: int64\n",
      "sexo 0    h\n",
      "1    h\n",
      "2    h\n",
      "3    m\n",
      "4    h\n",
      "Name: sexo, dtype: object\n"
     ]
    }
   ],
   "source": [
    "for colname, serie in df.iteritems():\n",
    "    print(f'{colname} {serie[:5]}')\n",
    "    "
   ]
  },
  {
   "cell_type": "code",
   "execution_count": 63,
   "metadata": {},
   "outputs": [
    {
     "name": "stdout",
     "output_type": "stream",
     "text": [
      "nombre es un objeto\n",
      "La media de altura es de 1.710952380952381\n",
      "La media de peso es de 76.14285714285714\n",
      "La media de edad es de 26.333333333333332\n",
      "sexo es un objeto\n"
     ]
    }
   ],
   "source": [
    "for colname, serie in df.iteritems():\n",
    "    if serie.dtype == 'object':\n",
    "        print(f'{colname} es un objeto')\n",
    "    else:\n",
    "        print(f'La media de {colname} es de {serie.mean()}')"
   ]
  },
  {
   "cell_type": "code",
   "execution_count": 65,
   "metadata": {},
   "outputs": [
    {
     "name": "stdout",
     "output_type": "stream",
     "text": [
      "Diana\n",
      "Jacinta\n",
      "Marisol\n",
      "Trinidad\n",
      "Camila\n",
      "Macarena\n",
      "Alejandra\n",
      "Carolina\n",
      "Gloria\n"
     ]
    }
   ],
   "source": [
    "for rowname, rowserie in df.iterrows():\n",
    "    if rowserie['sexo'] == 'm':\n",
    "        print(rowserie['nombre'])"
   ]
  },
  {
   "cell_type": "code",
   "execution_count": 66,
   "metadata": {},
   "outputs": [
    {
     "name": "stdout",
     "output_type": "stream",
     "text": [
      "Hugo\n",
      "Paco\n",
      "Luis\n",
      "Francisco\n",
      "Felipe\n",
      "Bernardo\n",
      "Facundo\n",
      "Diego\n",
      "Gonzalo\n",
      "Fernando\n",
      "Vicente\n",
      "Benjamín\n"
     ]
    }
   ],
   "source": [
    "for rowname, rowserie in df.iterrows():\n",
    "    if rowserie['sexo'] == 'h':\n",
    "        print(rowserie['nombre'])"
   ]
  },
  {
   "cell_type": "code",
   "execution_count": 67,
   "metadata": {},
   "outputs": [
    {
     "data": {
      "text/plain": [
       "nombre    Hugo\n",
       "altura    1.67\n",
       "peso        60\n",
       "edad        23\n",
       "sexo         h\n",
       "Name: 0, dtype: object"
      ]
     },
     "execution_count": 67,
     "metadata": {},
     "output_type": "execute_result"
    }
   ],
   "source": [
    "df.iloc[0]"
   ]
  },
  {
   "cell_type": "code",
   "execution_count": 68,
   "metadata": {},
   "outputs": [
    {
     "data": {
      "text/plain": [
       "Index(['nombre', 'altura', 'peso', 'edad', 'sexo'], dtype='object')"
      ]
     },
     "execution_count": 68,
     "metadata": {},
     "output_type": "execute_result"
    }
   ],
   "source": [
    "df.iloc[0].index"
   ]
  },
  {
   "cell_type": "code",
   "execution_count": 71,
   "metadata": {},
   "outputs": [
    {
     "name": "stdout",
     "output_type": "stream",
     "text": [
      "Hugo tiene un peso menor a la media\n",
      "Paco tiene un peso masyor a la media\n",
      "Luis tiene un peso menor a la media\n",
      "Diana tiene un peso menor a la media\n",
      "Francisco tiene un peso masyor a la media\n",
      "Felipe tiene un peso masyor a la media\n",
      "Jacinta tiene un peso menor a la media\n",
      "Bernardo tiene un peso masyor a la media\n",
      "Marisol tiene un peso menor a la media\n",
      "Facundo tiene un peso masyor a la media\n",
      "Trinidad tiene un peso menor a la media\n",
      "Camila tiene un peso menor a la media\n",
      "Macarena tiene un peso menor a la media\n",
      "Diego tiene un peso masyor a la media\n",
      "Gonzalo tiene un peso menor a la media\n",
      "Alejandra tiene un peso menor a la media\n",
      "Fernando tiene un peso masyor a la media\n",
      "Carolina tiene un peso menor a la media\n",
      "Vicente tiene un peso masyor a la media\n",
      "Benjamín tiene un peso masyor a la media\n",
      "Gloria tiene un peso menor a la media\n"
     ]
    }
   ],
   "source": [
    "for rowname, rowserie in df.iterrows():\n",
    "    if rowserie['peso'] > media_peso:\n",
    "        print(rowserie['nombre'], 'tiene un peso masyor a la media' )\n",
    "    else:\n",
    "        print(rowserie['nombre'], 'tiene un peso menor a la media' )"
   ]
  },
  {
   "cell_type": "code",
   "execution_count": 72,
   "metadata": {},
   "outputs": [
    {
     "data": {
      "text/plain": [
       "0      True\n",
       "1     False\n",
       "2      True\n",
       "3      True\n",
       "4     False\n",
       "5     False\n",
       "6      True\n",
       "7     False\n",
       "8      True\n",
       "9     False\n",
       "10     True\n",
       "11     True\n",
       "12     True\n",
       "13    False\n",
       "14     True\n",
       "15     True\n",
       "16    False\n",
       "17     True\n",
       "18    False\n",
       "19    False\n",
       "20     True\n",
       "Name: peso, dtype: bool"
      ]
     },
     "execution_count": 72,
     "metadata": {},
     "output_type": "execute_result"
    }
   ],
   "source": [
    "#operacion vectorizada\n",
    "df['peso'] < media_peso"
   ]
  },
  {
   "cell_type": "code",
   "execution_count": 74,
   "metadata": {},
   "outputs": [
    {
     "data": {
      "text/plain": [
       "3         Diana\n",
       "6       Jacinta\n",
       "8       Marisol\n",
       "10     Trinidad\n",
       "11       Camila\n",
       "12     Macarena\n",
       "15    Alejandra\n",
       "17     Carolina\n",
       "20       Gloria\n",
       "Name: nombre, dtype: object"
      ]
     },
     "execution_count": 74,
     "metadata": {},
     "output_type": "execute_result"
    }
   ],
   "source": [
    "df[df['sexo'] == 'm']['nombre']"
   ]
  },
  {
   "cell_type": "code",
   "execution_count": 75,
   "metadata": {},
   "outputs": [
    {
     "data": {
      "text/plain": [
       "0          Hugo\n",
       "1          Paco\n",
       "2          Luis\n",
       "4     Francisco\n",
       "5        Felipe\n",
       "7      Bernardo\n",
       "9       Facundo\n",
       "13        Diego\n",
       "14      Gonzalo\n",
       "16     Fernando\n",
       "18      Vicente\n",
       "19     Benjamín\n",
       "Name: nombre, dtype: object"
      ]
     },
     "execution_count": 75,
     "metadata": {},
     "output_type": "execute_result"
    }
   ],
   "source": [
    "df[df['sexo'] == 'h']['nombre']"
   ]
  },
  {
   "cell_type": "code",
   "execution_count": 80,
   "metadata": {},
   "outputs": [
    {
     "name": "stdout",
     "output_type": "stream",
     "text": [
      "85\n"
     ]
    }
   ],
   "source": [
    "contador_male = 0\n",
    "for rowname, rowserie in df.iterrows():\n",
    "    if rowserie['sexo'] == 'h':\n",
    "        contador_male += rowserie['peso']\n",
    "\n",
    "print(round(contador_male / 12))"
   ]
  },
  {
   "cell_type": "code",
   "execution_count": 78,
   "metadata": {},
   "outputs": [
    {
     "data": {
      "text/plain": [
       "h    12\n",
       "m     9\n",
       "Name: sexo, dtype: int64"
      ]
     },
     "execution_count": 78,
     "metadata": {},
     "output_type": "execute_result"
    }
   ],
   "source": [
    "df['sexo'].value_counts()"
   ]
  },
  {
   "cell_type": "code",
   "execution_count": 82,
   "metadata": {},
   "outputs": [
    {
     "name": "stdout",
     "output_type": "stream",
     "text": [
      "64\n"
     ]
    }
   ],
   "source": [
    "contador_fem = 0\n",
    "for rowname, rowserie in df.iterrows():\n",
    "    if rowserie['sexo'] == 'm':\n",
    "        contador_fem += rowserie['peso']\n",
    "\n",
    "print(round(contador_fem / 9))"
   ]
  },
  {
   "cell_type": "code",
   "execution_count": 86,
   "metadata": {},
   "outputs": [],
   "source": [
    "media_peso_mujer = 0\n",
    "count_fem_m = 0\n",
    "for rowname, rowserie in df.iterrows():\n",
    "    if (rowserie['sexo'] == 'm') & (rowserie['altura'] < df['altura'].mean()):\n",
    "        media_peso_mujer += rowserie['peso']\n",
    "        count_fem_m += 1"
   ]
  },
  {
   "cell_type": "code",
   "execution_count": 87,
   "metadata": {},
   "outputs": [
    {
     "data": {
      "text/plain": [
       "60.166666666666664"
      ]
     },
     "execution_count": 87,
     "metadata": {},
     "output_type": "execute_result"
    }
   ],
   "source": [
    "media_peso_mujer / count_fem_m"
   ]
  },
  {
   "cell_type": "code",
   "execution_count": 88,
   "metadata": {},
   "outputs": [
    {
     "data": {
      "text/plain": [
       "6"
      ]
     },
     "execution_count": 88,
     "metadata": {},
     "output_type": "execute_result"
    }
   ],
   "source": [
    "count_fem_m"
   ]
  }
 ],
 "metadata": {
  "kernelspec": {
   "display_name": "Python 3.10.5 64-bit",
   "language": "python",
   "name": "python3"
  },
  "language_info": {
   "codemirror_mode": {
    "name": "ipython",
    "version": 3
   },
   "file_extension": ".py",
   "mimetype": "text/x-python",
   "name": "python",
   "nbconvert_exporter": "python",
   "pygments_lexer": "ipython3",
   "version": "3.10.5"
  },
  "orig_nbformat": 4,
  "vscode": {
   "interpreter": {
    "hash": "5fe23d4cdea1a1fdeea398f38169f58ea6e36b10f84ee4017a8f0fee693ee786"
   }
  }
 },
 "nbformat": 4,
 "nbformat_minor": 2
}
