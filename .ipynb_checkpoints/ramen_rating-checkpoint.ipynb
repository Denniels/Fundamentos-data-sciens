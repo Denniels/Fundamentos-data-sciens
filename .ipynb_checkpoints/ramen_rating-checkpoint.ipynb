{
 "cells": [
  {
   "cell_type": "code",
   "execution_count": 90,
   "metadata": {},
   "outputs": [],
   "source": [
    "%matplotlib inline\n",
    "import matplotlib.pyplot as plt\n",
    "import pandas as pd\n",
    "import numpy as np\n",
    "import seaborn as sns"
   ]
  },
  {
   "cell_type": "code",
   "execution_count": 91,
   "metadata": {},
   "outputs": [
    {
     "data": {
      "text/html": [
       "<div>\n",
       "<style scoped>\n",
       "    .dataframe tbody tr th:only-of-type {\n",
       "        vertical-align: middle;\n",
       "    }\n",
       "\n",
       "    .dataframe tbody tr th {\n",
       "        vertical-align: top;\n",
       "    }\n",
       "\n",
       "    .dataframe thead th {\n",
       "        text-align: right;\n",
       "    }\n",
       "</style>\n",
       "<table border=\"1\" class=\"dataframe\">\n",
       "  <thead>\n",
       "    <tr style=\"text-align: right;\">\n",
       "      <th></th>\n",
       "      <th>Review #</th>\n",
       "      <th>Brand</th>\n",
       "      <th>Variety</th>\n",
       "      <th>Style</th>\n",
       "      <th>Country</th>\n",
       "      <th>Stars</th>\n",
       "      <th>Top Ten</th>\n",
       "    </tr>\n",
       "  </thead>\n",
       "  <tbody>\n",
       "    <tr>\n",
       "      <th>0</th>\n",
       "      <td>2580</td>\n",
       "      <td>New Touch</td>\n",
       "      <td>T's Restaurant Tantanmen</td>\n",
       "      <td>Cup</td>\n",
       "      <td>Japan</td>\n",
       "      <td>3.75</td>\n",
       "      <td>NaN</td>\n",
       "    </tr>\n",
       "    <tr>\n",
       "      <th>1</th>\n",
       "      <td>2579</td>\n",
       "      <td>Just Way</td>\n",
       "      <td>Noodles Spicy Hot Sesame Spicy Hot Sesame Guan...</td>\n",
       "      <td>Pack</td>\n",
       "      <td>Taiwan</td>\n",
       "      <td>1</td>\n",
       "      <td>NaN</td>\n",
       "    </tr>\n",
       "    <tr>\n",
       "      <th>2</th>\n",
       "      <td>2578</td>\n",
       "      <td>Nissin</td>\n",
       "      <td>Cup Noodles Chicken Vegetable</td>\n",
       "      <td>Cup</td>\n",
       "      <td>USA</td>\n",
       "      <td>2.25</td>\n",
       "      <td>NaN</td>\n",
       "    </tr>\n",
       "    <tr>\n",
       "      <th>3</th>\n",
       "      <td>2577</td>\n",
       "      <td>Wei Lih</td>\n",
       "      <td>GGE Ramen Snack Tomato Flavor</td>\n",
       "      <td>Pack</td>\n",
       "      <td>Taiwan</td>\n",
       "      <td>2.75</td>\n",
       "      <td>NaN</td>\n",
       "    </tr>\n",
       "    <tr>\n",
       "      <th>4</th>\n",
       "      <td>2576</td>\n",
       "      <td>Ching's Secret</td>\n",
       "      <td>Singapore Curry</td>\n",
       "      <td>Pack</td>\n",
       "      <td>India</td>\n",
       "      <td>3.75</td>\n",
       "      <td>NaN</td>\n",
       "    </tr>\n",
       "  </tbody>\n",
       "</table>\n",
       "</div>"
      ],
      "text/plain": [
       "   Review #           Brand  \\\n",
       "0      2580       New Touch   \n",
       "1      2579        Just Way   \n",
       "2      2578          Nissin   \n",
       "3      2577         Wei Lih   \n",
       "4      2576  Ching's Secret   \n",
       "\n",
       "                                             Variety Style Country Stars  \\\n",
       "0                          T's Restaurant Tantanmen    Cup   Japan  3.75   \n",
       "1  Noodles Spicy Hot Sesame Spicy Hot Sesame Guan...  Pack  Taiwan     1   \n",
       "2                      Cup Noodles Chicken Vegetable   Cup     USA  2.25   \n",
       "3                      GGE Ramen Snack Tomato Flavor  Pack  Taiwan  2.75   \n",
       "4                                    Singapore Curry  Pack   India  3.75   \n",
       "\n",
       "  Top Ten  \n",
       "0     NaN  \n",
       "1     NaN  \n",
       "2     NaN  \n",
       "3     NaN  \n",
       "4     NaN  "
      ]
     },
     "execution_count": 91,
     "metadata": {},
     "output_type": "execute_result"
    }
   ],
   "source": [
    "df = pd.read_csv('datasets/ramen-ratings.csv')\n",
    "df.head()"
   ]
  },
  {
   "cell_type": "code",
   "execution_count": 92,
   "metadata": {},
   "outputs": [
    {
     "data": {
      "text/html": [
       "<div>\n",
       "<style scoped>\n",
       "    .dataframe tbody tr th:only-of-type {\n",
       "        vertical-align: middle;\n",
       "    }\n",
       "\n",
       "    .dataframe tbody tr th {\n",
       "        vertical-align: top;\n",
       "    }\n",
       "\n",
       "    .dataframe thead th {\n",
       "        text-align: right;\n",
       "    }\n",
       "</style>\n",
       "<table border=\"1\" class=\"dataframe\">\n",
       "  <thead>\n",
       "    <tr style=\"text-align: right;\">\n",
       "      <th></th>\n",
       "      <th>Review #</th>\n",
       "      <th>Brand</th>\n",
       "      <th>Variety</th>\n",
       "      <th>Style</th>\n",
       "      <th>Country</th>\n",
       "      <th>Stars</th>\n",
       "      <th>Top Ten</th>\n",
       "    </tr>\n",
       "  </thead>\n",
       "  <tbody>\n",
       "    <tr>\n",
       "      <th>2139</th>\n",
       "      <td>441</td>\n",
       "      <td>Ottogi</td>\n",
       "      <td>Spice Seafood</td>\n",
       "      <td>Pack</td>\n",
       "      <td>South Korea</td>\n",
       "      <td>3.75</td>\n",
       "      <td>NaN</td>\n",
       "    </tr>\n",
       "    <tr>\n",
       "      <th>516</th>\n",
       "      <td>2064</td>\n",
       "      <td>Nongshim</td>\n",
       "      <td>Arrabiata Rice Bucatini</td>\n",
       "      <td>Pack</td>\n",
       "      <td>USA</td>\n",
       "      <td>5</td>\n",
       "      <td>NaN</td>\n",
       "    </tr>\n",
       "    <tr>\n",
       "      <th>1235</th>\n",
       "      <td>1345</td>\n",
       "      <td>Lotus Foods</td>\n",
       "      <td>Forbidden Rice Ramen</td>\n",
       "      <td>Pack</td>\n",
       "      <td>USA</td>\n",
       "      <td>2.25</td>\n",
       "      <td>NaN</td>\n",
       "    </tr>\n",
       "    <tr>\n",
       "      <th>2568</th>\n",
       "      <td>12</td>\n",
       "      <td>Sapporo Ichiban</td>\n",
       "      <td>Shrimp Flavor</td>\n",
       "      <td>Pack</td>\n",
       "      <td>Japan</td>\n",
       "      <td>2.5</td>\n",
       "      <td>NaN</td>\n",
       "    </tr>\n",
       "    <tr>\n",
       "      <th>1739</th>\n",
       "      <td>841</td>\n",
       "      <td>Nongshim</td>\n",
       "      <td>Chapagetti (South Korean)</td>\n",
       "      <td>Pack</td>\n",
       "      <td>South Korea</td>\n",
       "      <td>4</td>\n",
       "      <td>NaN</td>\n",
       "    </tr>\n",
       "    <tr>\n",
       "      <th>107</th>\n",
       "      <td>2473</td>\n",
       "      <td>Tokyo Noodle</td>\n",
       "      <td>Mini Instant Noodle Mild Curry Flavor</td>\n",
       "      <td>Pack</td>\n",
       "      <td>Japan</td>\n",
       "      <td>2</td>\n",
       "      <td>NaN</td>\n",
       "    </tr>\n",
       "    <tr>\n",
       "      <th>1248</th>\n",
       "      <td>1332</td>\n",
       "      <td>Sakura Noodle</td>\n",
       "      <td>Chikara Brand Udon Chicken Flavor</td>\n",
       "      <td>Pack</td>\n",
       "      <td>USA</td>\n",
       "      <td>3.75</td>\n",
       "      <td>NaN</td>\n",
       "    </tr>\n",
       "    <tr>\n",
       "      <th>1139</th>\n",
       "      <td>1441</td>\n",
       "      <td>Nissin</td>\n",
       "      <td>Souper Meal Chili Picante Chicken With Lime Fl...</td>\n",
       "      <td>Bowl</td>\n",
       "      <td>USA</td>\n",
       "      <td>3.5</td>\n",
       "      <td>NaN</td>\n",
       "    </tr>\n",
       "    <tr>\n",
       "      <th>2474</th>\n",
       "      <td>106</td>\n",
       "      <td>GreeNoodle</td>\n",
       "      <td>Tom Yum</td>\n",
       "      <td>Pack</td>\n",
       "      <td>Thailand</td>\n",
       "      <td>0.5</td>\n",
       "      <td>NaN</td>\n",
       "    </tr>\n",
       "    <tr>\n",
       "      <th>1246</th>\n",
       "      <td>1334</td>\n",
       "      <td>Sakura Noodle</td>\n",
       "      <td>Chikara Brand Udon Mushroom Flavor</td>\n",
       "      <td>Pack</td>\n",
       "      <td>USA</td>\n",
       "      <td>3.75</td>\n",
       "      <td>NaN</td>\n",
       "    </tr>\n",
       "  </tbody>\n",
       "</table>\n",
       "</div>"
      ],
      "text/plain": [
       "      Review #            Brand  \\\n",
       "2139       441           Ottogi   \n",
       "516       2064         Nongshim   \n",
       "1235      1345      Lotus Foods   \n",
       "2568        12  Sapporo Ichiban   \n",
       "1739       841         Nongshim   \n",
       "107       2473     Tokyo Noodle   \n",
       "1248      1332    Sakura Noodle   \n",
       "1139      1441           Nissin   \n",
       "2474       106       GreeNoodle   \n",
       "1246      1334    Sakura Noodle   \n",
       "\n",
       "                                                Variety Style      Country  \\\n",
       "2139                                      Spice Seafood  Pack  South Korea   \n",
       "516                             Arrabiata Rice Bucatini  Pack          USA   \n",
       "1235                               Forbidden Rice Ramen  Pack          USA   \n",
       "2568                                      Shrimp Flavor  Pack        Japan   \n",
       "1739                          Chapagetti (South Korean)  Pack  South Korea   \n",
       "107               Mini Instant Noodle Mild Curry Flavor  Pack        Japan   \n",
       "1248                  Chikara Brand Udon Chicken Flavor  Pack          USA   \n",
       "1139  Souper Meal Chili Picante Chicken With Lime Fl...  Bowl          USA   \n",
       "2474                                            Tom Yum  Pack     Thailand   \n",
       "1246                 Chikara Brand Udon Mushroom Flavor  Pack          USA   \n",
       "\n",
       "     Stars Top Ten  \n",
       "2139  3.75     NaN  \n",
       "516      5     NaN  \n",
       "1235  2.25     NaN  \n",
       "2568   2.5     NaN  \n",
       "1739     4     NaN  \n",
       "107      2     NaN  \n",
       "1248  3.75     NaN  \n",
       "1139   3.5     NaN  \n",
       "2474   0.5     NaN  \n",
       "1246  3.75     NaN  "
      ]
     },
     "execution_count": 92,
     "metadata": {},
     "output_type": "execute_result"
    }
   ],
   "source": [
    "df.sample(10)"
   ]
  },
  {
   "cell_type": "code",
   "execution_count": 93,
   "metadata": {},
   "outputs": [
    {
     "data": {
      "text/plain": [
       "Review #     int64\n",
       "Brand       object\n",
       "Variety     object\n",
       "Style       object\n",
       "Country     object\n",
       "Stars       object\n",
       "Top Ten     object\n",
       "dtype: object"
      ]
     },
     "execution_count": 93,
     "metadata": {},
     "output_type": "execute_result"
    }
   ],
   "source": [
    "df.dtypes"
   ]
  },
  {
   "cell_type": "code",
   "execution_count": 94,
   "metadata": {},
   "outputs": [
    {
     "data": {
      "text/plain": [
       "array(['3.75', '1', '2.25', '2.75', '4.75', '4', '0.25', '2.5', '5',\n",
       "       '4.25', '4.5', '3.5', 'Unrated', '1.5', '3.25', '2', '0', '3',\n",
       "       '0.5', '4.00', '5.0', '3.50', '3.8', '4.3', '2.3', '5.00', '3.3',\n",
       "       '4.0', '3.00', '1.75', '3.0', '4.50', '0.75', '1.25', '1.1', '2.1',\n",
       "       '0.9', '3.1', '4.125', '3.125', '2.125', '2.9', '0.1', '2.8',\n",
       "       '3.7', '3.4', '3.6', '2.85', '3.2', '3.65', '1.8'], dtype=object)"
      ]
     },
     "execution_count": 94,
     "metadata": {},
     "output_type": "execute_result"
    }
   ],
   "source": [
    "df.Stars.unique()"
   ]
  },
  {
   "cell_type": "code",
   "execution_count": 95,
   "metadata": {},
   "outputs": [
    {
     "name": "stderr",
     "output_type": "stream",
     "text": [
      "C:\\Users\\dmard\\AppData\\Local\\Temp\\ipykernel_21456\\4108263203.py:2: SettingWithCopyWarning: \n",
      "A value is trying to be set on a copy of a slice from a DataFrame.\n",
      "Try using .loc[row_indexer,col_indexer] = value instead\n",
      "\n",
      "See the caveats in the documentation: https://pandas.pydata.org/pandas-docs/stable/user_guide/indexing.html#returning-a-view-versus-a-copy\n",
      "  rated_only['Stars'] = pd.to_numeric(rated_only['Stars'])\n"
     ]
    }
   ],
   "source": [
    "rated_only = df[df.Stars != 'Unrated']\n",
    "rated_only['Stars'] = pd.to_numeric(rated_only['Stars'])"
   ]
  },
  {
   "cell_type": "code",
   "execution_count": 96,
   "metadata": {},
   "outputs": [
    {
     "name": "stdout",
     "output_type": "stream",
     "text": [
      "\n",
      "Con pandas\n",
      "\n",
      "Cuartil 1: 3.25\n",
      "Cuartil 2: 3.75\n",
      "Cuartil 3: 4.25\n",
      "\n"
     ]
    }
   ],
   "source": [
    "print(f'''\n",
    "Con pandas\n",
    "\n",
    "Cuartil 1: {rated_only.Stars.quantile(0.25)}\n",
    "Cuartil 2: {rated_only.Stars.quantile(0.5)}\n",
    "Cuartil 3: {rated_only.Stars.quantile(0.75)}\n",
    "''')"
   ]
  },
  {
   "cell_type": "code",
   "execution_count": 97,
   "metadata": {},
   "outputs": [
    {
     "name": "stdout",
     "output_type": "stream",
     "text": [
      "\n",
      "Con numpy\n",
      "\n",
      "Cuartil 1: 3.25\n",
      "Cuartil 2: 3.75\n",
      "Cuartil 3: 4.25\n",
      "\n"
     ]
    }
   ],
   "source": [
    "print(f'''\n",
    "Con numpy\n",
    "\n",
    "Cuartil 1: {np.quantile(rated_only.Stars, 0.25)}\n",
    "Cuartil 2: {np.quantile(rated_only.Stars, 0.5)}\n",
    "Cuartil 3: {np.quantile(rated_only.Stars, 0.75)}\n",
    "''')"
   ]
  },
  {
   "cell_type": "code",
   "execution_count": 98,
   "metadata": {},
   "outputs": [
    {
     "data": {
      "text/plain": [
       "1.0"
      ]
     },
     "execution_count": 98,
     "metadata": {},
     "output_type": "execute_result"
    }
   ],
   "source": [
    "iqr = np.quantile(rated_only.Stars, 0.75) - np.quantile(rated_only.Stars, 0.25)\n",
    "iqr"
   ]
  },
  {
   "cell_type": "code",
   "execution_count": 99,
   "metadata": {},
   "outputs": [
    {
     "data": {
      "text/plain": [
       "1.0"
      ]
     },
     "execution_count": 99,
     "metadata": {},
     "output_type": "execute_result"
    }
   ],
   "source": [
    "iqr = np.quantile(rated_only.Stars, 0.75) - np.quantile(rated_only.Stars, 0.25,)\n",
    "iqr"
   ]
  },
  {
   "cell_type": "code",
   "execution_count": 100,
   "metadata": {},
   "outputs": [
    {
     "data": {
      "text/plain": [
       "(array([0, 1, 2, 3, 4, 5, 6]),\n",
       " [Text(0, 0, 'Cup'),\n",
       "  Text(1, 0, 'Pack'),\n",
       "  Text(2, 0, 'Tray'),\n",
       "  Text(3, 0, 'Bowl'),\n",
       "  Text(4, 0, 'Box'),\n",
       "  Text(5, 0, 'Can'),\n",
       "  Text(6, 0, 'Bar')])"
      ]
     },
     "execution_count": 100,
     "metadata": {},
     "output_type": "execute_result"
    },
    {
     "data": {
      "image/png": "[encoded data removed]",
      "text/plain": [
       "<Figure size 1080x648 with 1 Axes>"
      ]
     },
     "metadata": {
      "needs_background": "light"
     },
     "output_type": "display_data"
    }
   ],
   "source": [
    "plt.rcParams['figure.figsize'] = (15, 9)\n",
    "sns.boxplot(x = 'Style', y = 'Stars', data = rated_only)\n",
    "plt.xticks(rotation = 45)"
   ]
  },
  {
   "cell_type": "code",
   "execution_count": 101,
   "metadata": {},
   "outputs": [
    {
     "data": {
      "text/plain": [
       "Pack    1528\n",
       "Bowl     481\n",
       "Cup      450\n",
       "Tray     108\n",
       "Box        6\n",
       "Can        1\n",
       "Bar        1\n",
       "Name: Style, dtype: int64"
      ]
     },
     "execution_count": 101,
     "metadata": {},
     "output_type": "execute_result"
    }
   ],
   "source": [
    "rated_only.Style.value_counts()"
   ]
  },
  {
   "cell_type": "code",
   "execution_count": 102,
   "metadata": {},
   "outputs": [
    {
     "data": {
      "text/plain": [
       "Nissin           381\n",
       "Nongshim          98\n",
       "Maruchan          76\n",
       "Mama              71\n",
       "Paldo             66\n",
       "                ... \n",
       "Golden Wonder      1\n",
       "Peyang             1\n",
       "Sanrio             1\n",
       "China Best         1\n",
       "Westbrae           1\n",
       "Name: Brand, Length: 355, dtype: int64"
      ]
     },
     "execution_count": 102,
     "metadata": {},
     "output_type": "execute_result"
    }
   ],
   "source": [
    "rated_only.Brand.value_counts()"
   ]
  },
  {
   "cell_type": "code",
   "execution_count": 103,
   "metadata": {},
   "outputs": [
    {
     "data": {
      "text/plain": [
       "0       False\n",
       "1       False\n",
       "2        True\n",
       "3       False\n",
       "4       False\n",
       "        ...  \n",
       "2575    False\n",
       "2576    False\n",
       "2577    False\n",
       "2578    False\n",
       "2579    False\n",
       "Length: 2577, dtype: bool"
      ]
     },
     "execution_count": 103,
     "metadata": {},
     "output_type": "execute_result"
    }
   ],
   "source": [
    "subset_brand_style = rated_only.Brand.isin(rated_only.Brand.value_counts()[:5].index) & rated_only.Style.isin(rated_only.Style.value_counts()[:4].index)\n",
    "subset_brand_style"
   ]
  },
  {
   "cell_type": "code",
   "execution_count": 104,
   "metadata": {},
   "outputs": [
    {
     "data": {
      "text/html": [
       "<div>\n",
       "<style scoped>\n",
       "    .dataframe tbody tr th:only-of-type {\n",
       "        vertical-align: middle;\n",
       "    }\n",
       "\n",
       "    .dataframe tbody tr th {\n",
       "        vertical-align: top;\n",
       "    }\n",
       "\n",
       "    .dataframe thead th {\n",
       "        text-align: right;\n",
       "    }\n",
       "</style>\n",
       "<table border=\"1\" class=\"dataframe\">\n",
       "  <thead>\n",
       "    <tr style=\"text-align: right;\">\n",
       "      <th></th>\n",
       "      <th>Review #</th>\n",
       "      <th>Brand</th>\n",
       "      <th>Variety</th>\n",
       "      <th>Style</th>\n",
       "      <th>Country</th>\n",
       "      <th>Stars</th>\n",
       "      <th>Top Ten</th>\n",
       "    </tr>\n",
       "  </thead>\n",
       "  <tbody>\n",
       "    <tr>\n",
       "      <th>244</th>\n",
       "      <td>2336</td>\n",
       "      <td>Nissin</td>\n",
       "      <td>Maxi Sopa Nissin Cuchareable Sabor A Camaron P...</td>\n",
       "      <td>Cup</td>\n",
       "      <td>Mexico</td>\n",
       "      <td>3.00</td>\n",
       "      <td>NaN</td>\n",
       "    </tr>\n",
       "    <tr>\n",
       "      <th>525</th>\n",
       "      <td>2055</td>\n",
       "      <td>Nissin</td>\n",
       "      <td>Tokyo Tokunou Gyokai Tonkotsu</td>\n",
       "      <td>Bowl</td>\n",
       "      <td>Japan</td>\n",
       "      <td>5.00</td>\n",
       "      <td>NaN</td>\n",
       "    </tr>\n",
       "    <tr>\n",
       "      <th>2545</th>\n",
       "      <td>35</td>\n",
       "      <td>Mama</td>\n",
       "      <td>Chand Clear Soup</td>\n",
       "      <td>Pack</td>\n",
       "      <td>Thailand</td>\n",
       "      <td>3.00</td>\n",
       "      <td>NaN</td>\n",
       "    </tr>\n",
       "    <tr>\n",
       "      <th>2192</th>\n",
       "      <td>388</td>\n",
       "      <td>Maruchan</td>\n",
       "      <td>Instant Lunch Cheddar Cheese</td>\n",
       "      <td>Cup</td>\n",
       "      <td>USA</td>\n",
       "      <td>2.75</td>\n",
       "      <td>NaN</td>\n",
       "    </tr>\n",
       "    <tr>\n",
       "      <th>2291</th>\n",
       "      <td>289</td>\n",
       "      <td>Paldo</td>\n",
       "      <td>South Korean Broad Noodle</td>\n",
       "      <td>Pack</td>\n",
       "      <td>South Korea</td>\n",
       "      <td>2.00</td>\n",
       "      <td>NaN</td>\n",
       "    </tr>\n",
       "    <tr>\n",
       "      <th>253</th>\n",
       "      <td>2327</td>\n",
       "      <td>Nissin</td>\n",
       "      <td>Cup Noodles Spicy Lime Flavor Ramen Noodle Sou...</td>\n",
       "      <td>Cup</td>\n",
       "      <td>USA</td>\n",
       "      <td>4.00</td>\n",
       "      <td>NaN</td>\n",
       "    </tr>\n",
       "    <tr>\n",
       "      <th>1402</th>\n",
       "      <td>1178</td>\n",
       "      <td>Nongshim</td>\n",
       "      <td>Shin Black Spicy Pot-au-feu Flavor Premium Noo...</td>\n",
       "      <td>Cup</td>\n",
       "      <td>USA</td>\n",
       "      <td>5.00</td>\n",
       "      <td>NaN</td>\n",
       "    </tr>\n",
       "    <tr>\n",
       "      <th>1034</th>\n",
       "      <td>1546</td>\n",
       "      <td>Nissin</td>\n",
       "      <td>Demae Rice Vermicelli Beef Flavour</td>\n",
       "      <td>Pack</td>\n",
       "      <td>Hong Kong</td>\n",
       "      <td>3.50</td>\n",
       "      <td>NaN</td>\n",
       "    </tr>\n",
       "    <tr>\n",
       "      <th>2440</th>\n",
       "      <td>140</td>\n",
       "      <td>Mama</td>\n",
       "      <td>Mi Goreng</td>\n",
       "      <td>Pack</td>\n",
       "      <td>Thailand</td>\n",
       "      <td>5.00</td>\n",
       "      <td>NaN</td>\n",
       "    </tr>\n",
       "    <tr>\n",
       "      <th>2492</th>\n",
       "      <td>88</td>\n",
       "      <td>Paldo</td>\n",
       "      <td>South Korean Noodle Chicken</td>\n",
       "      <td>Pack</td>\n",
       "      <td>South Korea</td>\n",
       "      <td>3.25</td>\n",
       "      <td>NaN</td>\n",
       "    </tr>\n",
       "  </tbody>\n",
       "</table>\n",
       "</div>"
      ],
      "text/plain": [
       "      Review #     Brand                                            Variety  \\\n",
       "244       2336    Nissin  Maxi Sopa Nissin Cuchareable Sabor A Camaron P...   \n",
       "525       2055    Nissin                      Tokyo Tokunou Gyokai Tonkotsu   \n",
       "2545        35      Mama                                   Chand Clear Soup   \n",
       "2192       388  Maruchan                       Instant Lunch Cheddar Cheese   \n",
       "2291       289     Paldo                          South Korean Broad Noodle   \n",
       "253       2327    Nissin  Cup Noodles Spicy Lime Flavor Ramen Noodle Sou...   \n",
       "1402      1178  Nongshim  Shin Black Spicy Pot-au-feu Flavor Premium Noo...   \n",
       "1034      1546    Nissin                 Demae Rice Vermicelli Beef Flavour   \n",
       "2440       140      Mama                                          Mi Goreng   \n",
       "2492        88     Paldo                        South Korean Noodle Chicken   \n",
       "\n",
       "     Style      Country  Stars Top Ten  \n",
       "244    Cup       Mexico   3.00     NaN  \n",
       "525   Bowl        Japan   5.00     NaN  \n",
       "2545  Pack     Thailand   3.00     NaN  \n",
       "2192   Cup          USA   2.75     NaN  \n",
       "2291  Pack  South Korea   2.00     NaN  \n",
       "253    Cup          USA   4.00     NaN  \n",
       "1402   Cup          USA   5.00     NaN  \n",
       "1034  Pack    Hong Kong   3.50     NaN  \n",
       "2440  Pack     Thailand   5.00     NaN  \n",
       "2492  Pack  South Korea   3.25     NaN  "
      ]
     },
     "execution_count": 104,
     "metadata": {},
     "output_type": "execute_result"
    }
   ],
   "source": [
    "rated_bradStyle = rated_only[subset_brand_style]\n",
    "rated_bradStyle.sample(10)"
   ]
  },
  {
   "cell_type": "code",
   "execution_count": 105,
   "metadata": {},
   "outputs": [
    {
     "data": {
      "image/png": "[encoded data removed]",
      "text/plain": [
       "<Figure size 1080x648 with 1 Axes>"
      ]
     },
     "metadata": {
      "needs_background": "light"
     },
     "output_type": "display_data"
    }
   ],
   "source": [
    "sns.boxplot(x = 'Brand', y = 'Stars', data = rated_bradStyle, hue = 'Style')\n",
    "sns.despine()"
   ]
  },
  {
   "cell_type": "code",
   "execution_count": 106,
   "metadata": {},
   "outputs": [
    {
     "data": {
      "text/plain": [
       "Brand     Style\n",
       "Mama      Bowl       4\n",
       "          Cup       19\n",
       "          Pack      48\n",
       "Maruchan  Bowl      17\n",
       "          Cup       17\n",
       "          Pack      28\n",
       "          Tray      14\n",
       "Nissin    Bowl      71\n",
       "          Cup      165\n",
       "          Pack     121\n",
       "          Tray      24\n",
       "Nongshim  Bowl      30\n",
       "          Cup       19\n",
       "          Pack      47\n",
       "          Tray       2\n",
       "Paldo     Bowl      17\n",
       "          Cup        8\n",
       "          Pack      36\n",
       "          Tray       5\n",
       "dtype: int64"
      ]
     },
     "execution_count": 106,
     "metadata": {},
     "output_type": "execute_result"
    }
   ],
   "source": [
    "#Cantindad de ramen por estilo \n",
    "rated_bradStyle.groupby(['Brand', 'Style']).size()"
   ]
  },
  {
   "cell_type": "code",
   "execution_count": null,
   "metadata": {},
   "outputs": [],
   "source": []
  }
 ],
 "metadata": {
  "kernelspec": {
   "display_name": "Python 3.10.5 64-bit",
   "language": "python",
   "name": "python3"
  },
  "language_info": {
   "codemirror_mode": {
    "name": "ipython",
    "version": 3
   },
   "file_extension": ".py",
   "mimetype": "text/x-python",
   "name": "python",
   "nbconvert_exporter": "python",
   "pygments_lexer": "ipython3",
   "version": "3.10.5"
  },
  "orig_nbformat": 4,
  "vscode": {
   "interpreter": {
    "hash": "5fe23d4cdea1a1fdeea398f38169f58ea6e36b10f84ee4017a8f0fee693ee786"
   }
  }
 },
 "nbformat": 4,
 "nbformat_minor": 2
}
