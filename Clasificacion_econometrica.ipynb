{
 "cells": [
  {
   "cell_type": "markdown",
   "metadata": {},
   "source": [
    "<h1 align=\"center\" style=\"background-color:DodgerBlue;\">Desafío - Clasificación desde la econometría</h1>\n",
    "\n",
    "* Para realizar este desafío debes haber estudiado previamente todo el material disponibilizado correspondiente a la unidad.\n",
    "* Una vez terminado el desafío, comprime la carpeta que contiene el desarrollo de los requerimientos solicitados y sube el .zip en el LMS.\n",
    "* Desarrollo desafío:\n",
    "  * El desafío se debe desarrollar de manera Individual.\n",
    "  * Para la realización del desafío necesitarás apoyarte del archivo Apoyo Desafío - Clasificación desde la econometría.\n",
    "\n",
    "### Descripción\n",
    "En esta sesión trabajaremos el dataset south african heart, el cual contiene las siguientes variables:\n",
    "* sbp: Presión Sanguínea Sistólica.\n",
    "* tobacco: Promedio tabaco consumido por día.\n",
    "* ldl: Lipoproteína de baja densidad.\n",
    "* adiposity: Adiposidad.\n",
    "* famhist: Antecedentes familiares de enfermedades cardiácas. (Binaria)\n",
    "* types: Personalidad tipo A\n",
    "* obesity: Obesidad.\n",
    "* alcohol: Consumo actual de alcohol.\n",
    "* age: edad.\n",
    "* chd: Enfermedad coronaria. (dummy)\n",
    "\n",
    "#### Desafío 1: Preparar el ambiente de trabajo\n",
    "* Cargue las librerías básicas para importación y manipulación de datos (numpy, pandas), gráficos (matplotlib y seaborn) y de modelación econométrica (statsmodels).\n",
    "* Importe el archivo southafricanheart.csv que se encuentra dentro del material de apoyo.\n",
    "* Realice una descripción del set importado mostrando:\n",
    "  * lista con los nombres de variables importadas\n",
    "  * un análisis descriptivo mediante .describe()\n",
    "  * Distribución de categorías para las variables famhist y chd.\n",
    "\n"
   ]
  },
  {
   "cell_type": "code",
   "execution_count": 22,
   "metadata": {},
   "outputs": [],
   "source": [
    "import statsmodels.api as sm\n",
    "import statsmodels.formula.api as smf\n",
    "# Importamos la triada clásica\n",
    "import numpy as np\n",
    "import pandas as pd\n",
    "import matplotlib.pyplot as plt\n",
    "%matplotlib inline\n",
    "# seaborn\n",
    "import seaborn as sns\n",
    "# scipy stats para simular\n",
    "import scipy.stats as stats\n",
    "# statsmodels para modelación\n",
    "import statsmodels.api as sm\n",
    "import statsmodels.formula.api as smf\n",
    "import warnings\n",
    "warnings.filterwarnings('ignore')\n",
    "import lec6_graphs as gfx\n",
    "plt.style.use('seaborn') # Gráficos estilo seaborn\n",
    "# plt.rcParams[\"figure.figsize\"] = (6, 3) # Tamaño gráficos\n",
    "# plt.rcParams[\"figure.dpi\"] = 200 # resolución gráficos"
   ]
  },
  {
   "cell_type": "code",
   "execution_count": 7,
   "metadata": {},
   "outputs": [
    {
     "data": {
      "text/html": [
       "<div>\n",
       "<style scoped>\n",
       "    .dataframe tbody tr th:only-of-type {\n",
       "        vertical-align: middle;\n",
       "    }\n",
       "\n",
       "    .dataframe tbody tr th {\n",
       "        vertical-align: top;\n",
       "    }\n",
       "\n",
       "    .dataframe thead th {\n",
       "        text-align: right;\n",
       "    }\n",
       "</style>\n",
       "<table border=\"1\" class=\"dataframe\">\n",
       "  <thead>\n",
       "    <tr style=\"text-align: right;\">\n",
       "      <th></th>\n",
       "      <th>sbp</th>\n",
       "      <th>tobacco</th>\n",
       "      <th>ldl</th>\n",
       "      <th>adiposity</th>\n",
       "      <th>famhist</th>\n",
       "      <th>typea</th>\n",
       "      <th>obesity</th>\n",
       "      <th>alcohol</th>\n",
       "      <th>age</th>\n",
       "      <th>chd</th>\n",
       "    </tr>\n",
       "  </thead>\n",
       "  <tbody>\n",
       "    <tr>\n",
       "      <th>0</th>\n",
       "      <td>160</td>\n",
       "      <td>12.00</td>\n",
       "      <td>5.73</td>\n",
       "      <td>23.11</td>\n",
       "      <td>Present</td>\n",
       "      <td>49</td>\n",
       "      <td>25.30</td>\n",
       "      <td>97.20</td>\n",
       "      <td>52</td>\n",
       "      <td>1</td>\n",
       "    </tr>\n",
       "    <tr>\n",
       "      <th>1</th>\n",
       "      <td>144</td>\n",
       "      <td>0.01</td>\n",
       "      <td>4.41</td>\n",
       "      <td>28.61</td>\n",
       "      <td>Absent</td>\n",
       "      <td>55</td>\n",
       "      <td>28.87</td>\n",
       "      <td>2.06</td>\n",
       "      <td>63</td>\n",
       "      <td>1</td>\n",
       "    </tr>\n",
       "    <tr>\n",
       "      <th>2</th>\n",
       "      <td>118</td>\n",
       "      <td>0.08</td>\n",
       "      <td>3.48</td>\n",
       "      <td>32.28</td>\n",
       "      <td>Present</td>\n",
       "      <td>52</td>\n",
       "      <td>29.14</td>\n",
       "      <td>3.81</td>\n",
       "      <td>46</td>\n",
       "      <td>0</td>\n",
       "    </tr>\n",
       "    <tr>\n",
       "      <th>3</th>\n",
       "      <td>170</td>\n",
       "      <td>7.50</td>\n",
       "      <td>6.41</td>\n",
       "      <td>38.03</td>\n",
       "      <td>Present</td>\n",
       "      <td>51</td>\n",
       "      <td>31.99</td>\n",
       "      <td>24.26</td>\n",
       "      <td>58</td>\n",
       "      <td>1</td>\n",
       "    </tr>\n",
       "    <tr>\n",
       "      <th>4</th>\n",
       "      <td>134</td>\n",
       "      <td>13.60</td>\n",
       "      <td>3.50</td>\n",
       "      <td>27.78</td>\n",
       "      <td>Present</td>\n",
       "      <td>60</td>\n",
       "      <td>25.99</td>\n",
       "      <td>57.34</td>\n",
       "      <td>49</td>\n",
       "      <td>1</td>\n",
       "    </tr>\n",
       "  </tbody>\n",
       "</table>\n",
       "</div>"
      ],
      "text/plain": [
       "   sbp  tobacco   ldl  adiposity  famhist  typea  obesity  alcohol  age  chd\n",
       "0  160    12.00  5.73      23.11  Present     49    25.30    97.20   52    1\n",
       "1  144     0.01  4.41      28.61   Absent     55    28.87     2.06   63    1\n",
       "2  118     0.08  3.48      32.28  Present     52    29.14     3.81   46    0\n",
       "3  170     7.50  6.41      38.03  Present     51    31.99    24.26   58    1\n",
       "4  134    13.60  3.50      27.78  Present     60    25.99    57.34   49    1"
      ]
     },
     "execution_count": 7,
     "metadata": {},
     "output_type": "execute_result"
    }
   ],
   "source": [
    "df = pd.read_csv('datasets/southafricanheart.csv')\n",
    "df.drop(columns = ['Unnamed: 0'], inplace=True)\n",
    "df.head()"
   ]
  },
  {
   "cell_type": "code",
   "execution_count": 5,
   "metadata": {},
   "outputs": [
    {
     "name": "stdout",
     "output_type": "stream",
     "text": [
      "<class 'pandas.core.frame.DataFrame'>\n",
      "RangeIndex: 462 entries, 0 to 461\n",
      "Data columns (total 10 columns):\n",
      " #   Column     Non-Null Count  Dtype  \n",
      "---  ------     --------------  -----  \n",
      " 0   sbp        462 non-null    int64  \n",
      " 1   tobacco    462 non-null    float64\n",
      " 2   ldl        462 non-null    float64\n",
      " 3   adiposity  462 non-null    float64\n",
      " 4   famhist    462 non-null    object \n",
      " 5   typea      462 non-null    int64  \n",
      " 6   obesity    462 non-null    float64\n",
      " 7   alcohol    462 non-null    float64\n",
      " 8   age        462 non-null    int64  \n",
      " 9   chd        462 non-null    int64  \n",
      "dtypes: float64(5), int64(4), object(1)\n",
      "memory usage: 36.2+ KB\n"
     ]
    }
   ],
   "source": [
    "df.info()"
   ]
  },
  {
   "cell_type": "code",
   "execution_count": 53,
   "metadata": {},
   "outputs": [
    {
     "data": {
      "text/html": [
       "<div>\n",
       "<style scoped>\n",
       "    .dataframe tbody tr th:only-of-type {\n",
       "        vertical-align: middle;\n",
       "    }\n",
       "\n",
       "    .dataframe tbody tr th {\n",
       "        vertical-align: top;\n",
       "    }\n",
       "\n",
       "    .dataframe thead th {\n",
       "        text-align: right;\n",
       "    }\n",
       "</style>\n",
       "<table border=\"1\" class=\"dataframe\">\n",
       "  <thead>\n",
       "    <tr style=\"text-align: right;\">\n",
       "      <th></th>\n",
       "      <th>sbp</th>\n",
       "      <th>tobacco</th>\n",
       "      <th>ldl</th>\n",
       "      <th>adiposity</th>\n",
       "      <th>famhist</th>\n",
       "      <th>typea</th>\n",
       "      <th>obesity</th>\n",
       "      <th>alcohol</th>\n",
       "      <th>age</th>\n",
       "      <th>OBJETIVO</th>\n",
       "    </tr>\n",
       "  </thead>\n",
       "  <tbody>\n",
       "    <tr>\n",
       "      <th>count</th>\n",
       "      <td>462.000000</td>\n",
       "      <td>462.000000</td>\n",
       "      <td>462.000000</td>\n",
       "      <td>462.000000</td>\n",
       "      <td>462.000000</td>\n",
       "      <td>462.000000</td>\n",
       "      <td>462.000000</td>\n",
       "      <td>462.000000</td>\n",
       "      <td>462.000000</td>\n",
       "      <td>462.000000</td>\n",
       "    </tr>\n",
       "    <tr>\n",
       "      <th>mean</th>\n",
       "      <td>138.326840</td>\n",
       "      <td>3.635649</td>\n",
       "      <td>4.740325</td>\n",
       "      <td>25.406732</td>\n",
       "      <td>0.415584</td>\n",
       "      <td>53.103896</td>\n",
       "      <td>26.044113</td>\n",
       "      <td>17.044394</td>\n",
       "      <td>42.816017</td>\n",
       "      <td>0.346320</td>\n",
       "    </tr>\n",
       "    <tr>\n",
       "      <th>std</th>\n",
       "      <td>20.496317</td>\n",
       "      <td>4.593024</td>\n",
       "      <td>2.070909</td>\n",
       "      <td>7.780699</td>\n",
       "      <td>0.493357</td>\n",
       "      <td>9.817534</td>\n",
       "      <td>4.213680</td>\n",
       "      <td>24.481059</td>\n",
       "      <td>14.608956</td>\n",
       "      <td>0.476313</td>\n",
       "    </tr>\n",
       "    <tr>\n",
       "      <th>min</th>\n",
       "      <td>101.000000</td>\n",
       "      <td>0.000000</td>\n",
       "      <td>0.980000</td>\n",
       "      <td>6.740000</td>\n",
       "      <td>0.000000</td>\n",
       "      <td>13.000000</td>\n",
       "      <td>14.700000</td>\n",
       "      <td>0.000000</td>\n",
       "      <td>15.000000</td>\n",
       "      <td>0.000000</td>\n",
       "    </tr>\n",
       "    <tr>\n",
       "      <th>25%</th>\n",
       "      <td>124.000000</td>\n",
       "      <td>0.052500</td>\n",
       "      <td>3.282500</td>\n",
       "      <td>19.775000</td>\n",
       "      <td>0.000000</td>\n",
       "      <td>47.000000</td>\n",
       "      <td>22.985000</td>\n",
       "      <td>0.510000</td>\n",
       "      <td>31.000000</td>\n",
       "      <td>0.000000</td>\n",
       "    </tr>\n",
       "    <tr>\n",
       "      <th>50%</th>\n",
       "      <td>134.000000</td>\n",
       "      <td>2.000000</td>\n",
       "      <td>4.340000</td>\n",
       "      <td>26.115000</td>\n",
       "      <td>0.000000</td>\n",
       "      <td>53.000000</td>\n",
       "      <td>25.805000</td>\n",
       "      <td>7.510000</td>\n",
       "      <td>45.000000</td>\n",
       "      <td>0.000000</td>\n",
       "    </tr>\n",
       "    <tr>\n",
       "      <th>75%</th>\n",
       "      <td>148.000000</td>\n",
       "      <td>5.500000</td>\n",
       "      <td>5.790000</td>\n",
       "      <td>31.227500</td>\n",
       "      <td>1.000000</td>\n",
       "      <td>60.000000</td>\n",
       "      <td>28.497500</td>\n",
       "      <td>23.892500</td>\n",
       "      <td>55.000000</td>\n",
       "      <td>1.000000</td>\n",
       "    </tr>\n",
       "    <tr>\n",
       "      <th>max</th>\n",
       "      <td>218.000000</td>\n",
       "      <td>31.200000</td>\n",
       "      <td>15.330000</td>\n",
       "      <td>42.490000</td>\n",
       "      <td>1.000000</td>\n",
       "      <td>78.000000</td>\n",
       "      <td>46.580000</td>\n",
       "      <td>147.190000</td>\n",
       "      <td>64.000000</td>\n",
       "      <td>1.000000</td>\n",
       "    </tr>\n",
       "  </tbody>\n",
       "</table>\n",
       "</div>"
      ],
      "text/plain": [
       "              sbp     tobacco         ldl   adiposity     famhist       typea  \\\n",
       "count  462.000000  462.000000  462.000000  462.000000  462.000000  462.000000   \n",
       "mean   138.326840    3.635649    4.740325   25.406732    0.415584   53.103896   \n",
       "std     20.496317    4.593024    2.070909    7.780699    0.493357    9.817534   \n",
       "min    101.000000    0.000000    0.980000    6.740000    0.000000   13.000000   \n",
       "25%    124.000000    0.052500    3.282500   19.775000    0.000000   47.000000   \n",
       "50%    134.000000    2.000000    4.340000   26.115000    0.000000   53.000000   \n",
       "75%    148.000000    5.500000    5.790000   31.227500    1.000000   60.000000   \n",
       "max    218.000000   31.200000   15.330000   42.490000    1.000000   78.000000   \n",
       "\n",
       "          obesity     alcohol         age    OBJETIVO  \n",
       "count  462.000000  462.000000  462.000000  462.000000  \n",
       "mean    26.044113   17.044394   42.816017    0.346320  \n",
       "std      4.213680   24.481059   14.608956    0.476313  \n",
       "min     14.700000    0.000000   15.000000    0.000000  \n",
       "25%     22.985000    0.510000   31.000000    0.000000  \n",
       "50%     25.805000    7.510000   45.000000    0.000000  \n",
       "75%     28.497500   23.892500   55.000000    1.000000  \n",
       "max     46.580000  147.190000   64.000000    1.000000  "
      ]
     },
     "execution_count": 53,
     "metadata": {},
     "output_type": "execute_result"
    }
   ],
   "source": [
    "df.describe()"
   ]
  },
  {
   "cell_type": "code",
   "execution_count": 8,
   "metadata": {},
   "outputs": [],
   "source": [
    "df.rename(columns = {'chd':'OBJETIVO'}, inplace=True)"
   ]
  },
  {
   "cell_type": "code",
   "execution_count": 10,
   "metadata": {},
   "outputs": [
    {
     "data": {
      "text/plain": [
       "<AxesSubplot:>"
      ]
     },
     "execution_count": 10,
     "metadata": {},
     "output_type": "execute_result"
    },
    {
     "data": {
      "image/png": "[encoded data removed]",
      "text/plain": [
       "<Figure size 1080x720 with 1 Axes>"
      ]
     },
     "metadata": {},
     "output_type": "display_data"
    }
   ],
   "source": [
    "plt.figure(figsize=(15,10))\n",
    "df.OBJETIVO.value_counts().plot(kind= 'bar')"
   ]
  },
  {
   "cell_type": "code",
   "execution_count": 11,
   "metadata": {},
   "outputs": [
    {
     "data": {
      "text/html": [
       "<div>\n",
       "<style scoped>\n",
       "    .dataframe tbody tr th:only-of-type {\n",
       "        vertical-align: middle;\n",
       "    }\n",
       "\n",
       "    .dataframe tbody tr th {\n",
       "        vertical-align: top;\n",
       "    }\n",
       "\n",
       "    .dataframe thead th {\n",
       "        text-align: right;\n",
       "    }\n",
       "</style>\n",
       "<table border=\"1\" class=\"dataframe\">\n",
       "  <thead>\n",
       "    <tr style=\"text-align: right;\">\n",
       "      <th></th>\n",
       "      <th>sbp</th>\n",
       "      <th>tobacco</th>\n",
       "      <th>ldl</th>\n",
       "      <th>adiposity</th>\n",
       "      <th>typea</th>\n",
       "      <th>obesity</th>\n",
       "      <th>alcohol</th>\n",
       "      <th>age</th>\n",
       "      <th>OBJETIVO</th>\n",
       "    </tr>\n",
       "  </thead>\n",
       "  <tbody>\n",
       "    <tr>\n",
       "      <th>count</th>\n",
       "      <td>462.000000</td>\n",
       "      <td>462.000000</td>\n",
       "      <td>462.000000</td>\n",
       "      <td>462.000000</td>\n",
       "      <td>462.000000</td>\n",
       "      <td>462.000000</td>\n",
       "      <td>462.000000</td>\n",
       "      <td>462.000000</td>\n",
       "      <td>462.000000</td>\n",
       "    </tr>\n",
       "    <tr>\n",
       "      <th>mean</th>\n",
       "      <td>138.326840</td>\n",
       "      <td>3.635649</td>\n",
       "      <td>4.740325</td>\n",
       "      <td>25.406732</td>\n",
       "      <td>53.103896</td>\n",
       "      <td>26.044113</td>\n",
       "      <td>17.044394</td>\n",
       "      <td>42.816017</td>\n",
       "      <td>0.346320</td>\n",
       "    </tr>\n",
       "    <tr>\n",
       "      <th>std</th>\n",
       "      <td>20.496317</td>\n",
       "      <td>4.593024</td>\n",
       "      <td>2.070909</td>\n",
       "      <td>7.780699</td>\n",
       "      <td>9.817534</td>\n",
       "      <td>4.213680</td>\n",
       "      <td>24.481059</td>\n",
       "      <td>14.608956</td>\n",
       "      <td>0.476313</td>\n",
       "    </tr>\n",
       "    <tr>\n",
       "      <th>min</th>\n",
       "      <td>101.000000</td>\n",
       "      <td>0.000000</td>\n",
       "      <td>0.980000</td>\n",
       "      <td>6.740000</td>\n",
       "      <td>13.000000</td>\n",
       "      <td>14.700000</td>\n",
       "      <td>0.000000</td>\n",
       "      <td>15.000000</td>\n",
       "      <td>0.000000</td>\n",
       "    </tr>\n",
       "    <tr>\n",
       "      <th>25%</th>\n",
       "      <td>124.000000</td>\n",
       "      <td>0.052500</td>\n",
       "      <td>3.282500</td>\n",
       "      <td>19.775000</td>\n",
       "      <td>47.000000</td>\n",
       "      <td>22.985000</td>\n",
       "      <td>0.510000</td>\n",
       "      <td>31.000000</td>\n",
       "      <td>0.000000</td>\n",
       "    </tr>\n",
       "    <tr>\n",
       "      <th>50%</th>\n",
       "      <td>134.000000</td>\n",
       "      <td>2.000000</td>\n",
       "      <td>4.340000</td>\n",
       "      <td>26.115000</td>\n",
       "      <td>53.000000</td>\n",
       "      <td>25.805000</td>\n",
       "      <td>7.510000</td>\n",
       "      <td>45.000000</td>\n",
       "      <td>0.000000</td>\n",
       "    </tr>\n",
       "    <tr>\n",
       "      <th>75%</th>\n",
       "      <td>148.000000</td>\n",
       "      <td>5.500000</td>\n",
       "      <td>5.790000</td>\n",
       "      <td>31.227500</td>\n",
       "      <td>60.000000</td>\n",
       "      <td>28.497500</td>\n",
       "      <td>23.892500</td>\n",
       "      <td>55.000000</td>\n",
       "      <td>1.000000</td>\n",
       "    </tr>\n",
       "    <tr>\n",
       "      <th>max</th>\n",
       "      <td>218.000000</td>\n",
       "      <td>31.200000</td>\n",
       "      <td>15.330000</td>\n",
       "      <td>42.490000</td>\n",
       "      <td>78.000000</td>\n",
       "      <td>46.580000</td>\n",
       "      <td>147.190000</td>\n",
       "      <td>64.000000</td>\n",
       "      <td>1.000000</td>\n",
       "    </tr>\n",
       "  </tbody>\n",
       "</table>\n",
       "</div>"
      ],
      "text/plain": [
       "              sbp     tobacco         ldl   adiposity       typea     obesity  \\\n",
       "count  462.000000  462.000000  462.000000  462.000000  462.000000  462.000000   \n",
       "mean   138.326840    3.635649    4.740325   25.406732   53.103896   26.044113   \n",
       "std     20.496317    4.593024    2.070909    7.780699    9.817534    4.213680   \n",
       "min    101.000000    0.000000    0.980000    6.740000   13.000000   14.700000   \n",
       "25%    124.000000    0.052500    3.282500   19.775000   47.000000   22.985000   \n",
       "50%    134.000000    2.000000    4.340000   26.115000   53.000000   25.805000   \n",
       "75%    148.000000    5.500000    5.790000   31.227500   60.000000   28.497500   \n",
       "max    218.000000   31.200000   15.330000   42.490000   78.000000   46.580000   \n",
       "\n",
       "          alcohol         age    OBJETIVO  \n",
       "count  462.000000  462.000000  462.000000  \n",
       "mean    17.044394   42.816017    0.346320  \n",
       "std     24.481059   14.608956    0.476313  \n",
       "min      0.000000   15.000000    0.000000  \n",
       "25%      0.510000   31.000000    0.000000  \n",
       "50%      7.510000   45.000000    0.000000  \n",
       "75%     23.892500   55.000000    1.000000  \n",
       "max    147.190000   64.000000    1.000000  "
      ]
     },
     "execution_count": 11,
     "metadata": {},
     "output_type": "execute_result"
    }
   ],
   "source": [
    "df.describe()"
   ]
  },
  {
   "cell_type": "code",
   "execution_count": 12,
   "metadata": {},
   "outputs": [
    {
     "data": {
      "text/plain": [
       "Absent     270\n",
       "Present    192\n",
       "Name: famhist, dtype: int64"
      ]
     },
     "execution_count": 12,
     "metadata": {},
     "output_type": "execute_result"
    }
   ],
   "source": [
    "df['famhist'].value_counts()"
   ]
  },
  {
   "cell_type": "code",
   "execution_count": 13,
   "metadata": {},
   "outputs": [
    {
     "data": {
      "text/plain": [
       "<AxesSubplot:>"
      ]
     },
     "execution_count": 13,
     "metadata": {},
     "output_type": "execute_result"
    },
    {
     "data": {
      "image/png": "[encoded data removed]",
      "text/plain": [
       "<Figure size 1080x720 with 1 Axes>"
      ]
     },
     "metadata": {},
     "output_type": "display_data"
    }
   ],
   "source": [
    "plt.figure(figsize=(15,10))\n",
    "df['famhist'].value_counts().plot(kind= 'bar')"
   ]
  },
  {
   "cell_type": "code",
   "execution_count": 14,
   "metadata": {},
   "outputs": [
    {
     "data": {
      "text/html": [
       "<div>\n",
       "<style scoped>\n",
       "    .dataframe tbody tr th:only-of-type {\n",
       "        vertical-align: middle;\n",
       "    }\n",
       "\n",
       "    .dataframe tbody tr th {\n",
       "        vertical-align: top;\n",
       "    }\n",
       "\n",
       "    .dataframe thead th {\n",
       "        text-align: right;\n",
       "    }\n",
       "</style>\n",
       "<table border=\"1\" class=\"dataframe\">\n",
       "  <thead>\n",
       "    <tr style=\"text-align: right;\">\n",
       "      <th></th>\n",
       "      <th>sbp</th>\n",
       "      <th>tobacco</th>\n",
       "      <th>ldl</th>\n",
       "      <th>adiposity</th>\n",
       "      <th>typea</th>\n",
       "      <th>obesity</th>\n",
       "      <th>alcohol</th>\n",
       "      <th>age</th>\n",
       "      <th>OBJETIVO</th>\n",
       "    </tr>\n",
       "  </thead>\n",
       "  <tbody>\n",
       "    <tr>\n",
       "      <th>sbp</th>\n",
       "      <td>1.000000</td>\n",
       "      <td>0.212247</td>\n",
       "      <td>0.158296</td>\n",
       "      <td>0.356500</td>\n",
       "      <td>-0.057454</td>\n",
       "      <td>0.238067</td>\n",
       "      <td>0.140096</td>\n",
       "      <td>0.388771</td>\n",
       "      <td>0.192354</td>\n",
       "    </tr>\n",
       "    <tr>\n",
       "      <th>tobacco</th>\n",
       "      <td>0.212247</td>\n",
       "      <td>1.000000</td>\n",
       "      <td>0.158905</td>\n",
       "      <td>0.286640</td>\n",
       "      <td>-0.014608</td>\n",
       "      <td>0.124529</td>\n",
       "      <td>0.200813</td>\n",
       "      <td>0.450330</td>\n",
       "      <td>0.299718</td>\n",
       "    </tr>\n",
       "    <tr>\n",
       "      <th>ldl</th>\n",
       "      <td>0.158296</td>\n",
       "      <td>0.158905</td>\n",
       "      <td>1.000000</td>\n",
       "      <td>0.440432</td>\n",
       "      <td>0.044048</td>\n",
       "      <td>0.330506</td>\n",
       "      <td>-0.033403</td>\n",
       "      <td>0.311799</td>\n",
       "      <td>0.263053</td>\n",
       "    </tr>\n",
       "    <tr>\n",
       "      <th>adiposity</th>\n",
       "      <td>0.356500</td>\n",
       "      <td>0.286640</td>\n",
       "      <td>0.440432</td>\n",
       "      <td>1.000000</td>\n",
       "      <td>-0.043144</td>\n",
       "      <td>0.716556</td>\n",
       "      <td>0.100330</td>\n",
       "      <td>0.625954</td>\n",
       "      <td>0.254121</td>\n",
       "    </tr>\n",
       "    <tr>\n",
       "      <th>typea</th>\n",
       "      <td>-0.057454</td>\n",
       "      <td>-0.014608</td>\n",
       "      <td>0.044048</td>\n",
       "      <td>-0.043144</td>\n",
       "      <td>1.000000</td>\n",
       "      <td>0.074006</td>\n",
       "      <td>0.039498</td>\n",
       "      <td>-0.102606</td>\n",
       "      <td>0.103156</td>\n",
       "    </tr>\n",
       "    <tr>\n",
       "      <th>obesity</th>\n",
       "      <td>0.238067</td>\n",
       "      <td>0.124529</td>\n",
       "      <td>0.330506</td>\n",
       "      <td>0.716556</td>\n",
       "      <td>0.074006</td>\n",
       "      <td>1.000000</td>\n",
       "      <td>0.051620</td>\n",
       "      <td>0.291777</td>\n",
       "      <td>0.100095</td>\n",
       "    </tr>\n",
       "    <tr>\n",
       "      <th>alcohol</th>\n",
       "      <td>0.140096</td>\n",
       "      <td>0.200813</td>\n",
       "      <td>-0.033403</td>\n",
       "      <td>0.100330</td>\n",
       "      <td>0.039498</td>\n",
       "      <td>0.051620</td>\n",
       "      <td>1.000000</td>\n",
       "      <td>0.101125</td>\n",
       "      <td>0.062531</td>\n",
       "    </tr>\n",
       "    <tr>\n",
       "      <th>age</th>\n",
       "      <td>0.388771</td>\n",
       "      <td>0.450330</td>\n",
       "      <td>0.311799</td>\n",
       "      <td>0.625954</td>\n",
       "      <td>-0.102606</td>\n",
       "      <td>0.291777</td>\n",
       "      <td>0.101125</td>\n",
       "      <td>1.000000</td>\n",
       "      <td>0.372973</td>\n",
       "    </tr>\n",
       "    <tr>\n",
       "      <th>OBJETIVO</th>\n",
       "      <td>0.192354</td>\n",
       "      <td>0.299718</td>\n",
       "      <td>0.263053</td>\n",
       "      <td>0.254121</td>\n",
       "      <td>0.103156</td>\n",
       "      <td>0.100095</td>\n",
       "      <td>0.062531</td>\n",
       "      <td>0.372973</td>\n",
       "      <td>1.000000</td>\n",
       "    </tr>\n",
       "  </tbody>\n",
       "</table>\n",
       "</div>"
      ],
      "text/plain": [
       "                sbp   tobacco       ldl  adiposity     typea   obesity  \\\n",
       "sbp        1.000000  0.212247  0.158296   0.356500 -0.057454  0.238067   \n",
       "tobacco    0.212247  1.000000  0.158905   0.286640 -0.014608  0.124529   \n",
       "ldl        0.158296  0.158905  1.000000   0.440432  0.044048  0.330506   \n",
       "adiposity  0.356500  0.286640  0.440432   1.000000 -0.043144  0.716556   \n",
       "typea     -0.057454 -0.014608  0.044048  -0.043144  1.000000  0.074006   \n",
       "obesity    0.238067  0.124529  0.330506   0.716556  0.074006  1.000000   \n",
       "alcohol    0.140096  0.200813 -0.033403   0.100330  0.039498  0.051620   \n",
       "age        0.388771  0.450330  0.311799   0.625954 -0.102606  0.291777   \n",
       "OBJETIVO   0.192354  0.299718  0.263053   0.254121  0.103156  0.100095   \n",
       "\n",
       "            alcohol       age  OBJETIVO  \n",
       "sbp        0.140096  0.388771  0.192354  \n",
       "tobacco    0.200813  0.450330  0.299718  \n",
       "ldl       -0.033403  0.311799  0.263053  \n",
       "adiposity  0.100330  0.625954  0.254121  \n",
       "typea      0.039498 -0.102606  0.103156  \n",
       "obesity    0.051620  0.291777  0.100095  \n",
       "alcohol    1.000000  0.101125  0.062531  \n",
       "age        0.101125  1.000000  0.372973  \n",
       "OBJETIVO   0.062531  0.372973  1.000000  "
      ]
     },
     "execution_count": 14,
     "metadata": {},
     "output_type": "execute_result"
    }
   ],
   "source": [
    "df.corr()"
   ]
  },
  {
   "cell_type": "markdown",
   "metadata": {},
   "source": [
    "#### Desafío 2\n",
    "A continuación se presenta el siguiente modelo a estimar:\n",
    "\n",
    "$$  log \\left(\\dfrac{Pr(chd = 1)}{1 - Pr(chd = 1)} \\right)= \\beta_0 + \\beta_1 \\times famhist$$"
   ]
  },
  {
   "cell_type": "code",
   "execution_count": 15,
   "metadata": {},
   "outputs": [],
   "source": [
    "df['famhist'] = df['famhist'].replace(['Absent', 'Present'], [0, 1])"
   ]
  },
  {
   "cell_type": "code",
   "execution_count": 16,
   "metadata": {},
   "outputs": [
    {
     "data": {
      "text/plain": [
       "0    270\n",
       "1    192\n",
       "Name: famhist, dtype: int64"
      ]
     },
     "execution_count": 16,
     "metadata": {},
     "output_type": "execute_result"
    }
   ],
   "source": [
    "df['famhist'].value_counts()"
   ]
  },
  {
   "cell_type": "code",
   "execution_count": 17,
   "metadata": {},
   "outputs": [
    {
     "name": "stdout",
     "output_type": "stream",
     "text": [
      "Optimization terminated successfully.\n",
      "         Current function value: 0.608111\n",
      "         Iterations 5\n"
     ]
    }
   ],
   "source": [
    "model_1 = smf.logit('OBJETIVO ~ famhist', df).fit()"
   ]
  },
  {
   "cell_type": "code",
   "execution_count": 18,
   "metadata": {},
   "outputs": [
    {
     "data": {
      "text/plain": [
       "<seaborn.axisgrid.FacetGrid at 0x1dd63f0b760>"
      ]
     },
     "execution_count": 18,
     "metadata": {},
     "output_type": "execute_result"
    },
    {
     "data": {
      "image/png": "[encoded data removed]",
      "text/plain": [
       "<Figure size 360x360 with 1 Axes>"
      ]
     },
     "metadata": {},
     "output_type": "display_data"
    }
   ],
   "source": [
    "sns.lmplot('famhist', 'OBJETIVO', df, logistic=True)"
   ]
  },
  {
   "cell_type": "code",
   "execution_count": 19,
   "metadata": {},
   "outputs": [
    {
     "data": {
      "text/plain": [
       "<AxesSubplot:>"
      ]
     },
     "execution_count": 19,
     "metadata": {},
     "output_type": "execute_result"
    },
    {
     "data": {
      "image/png": "[encoded data removed]",
      "text/plain": [
       "<Figure size 576x396 with 1 Axes>"
      ]
     },
     "metadata": {},
     "output_type": "display_data"
    }
   ],
   "source": [
    "df.famhist.value_counts().plot(kind= 'bar')"
   ]
  },
  {
   "cell_type": "code",
   "execution_count": 20,
   "metadata": {},
   "outputs": [
    {
     "data": {
      "text/html": [
       "<table class=\"simpletable\">\n",
       "<tr>\n",
       "        <td>Model:</td>              <td>Logit</td>      <td>Pseudo R-squared:</td>    <td>0.057</td>  \n",
       "</tr>\n",
       "<tr>\n",
       "  <td>Dependent Variable:</td>     <td>OBJETIVO</td>           <td>AIC:</td>         <td>565.8944</td> \n",
       "</tr>\n",
       "<tr>\n",
       "         <td>Date:</td>        <td>2022-09-21 19:45</td>       <td>BIC:</td>         <td>574.1655</td> \n",
       "</tr>\n",
       "<tr>\n",
       "   <td>No. Observations:</td>         <td>462</td>        <td>Log-Likelihood:</td>    <td>-280.95</td> \n",
       "</tr>\n",
       "<tr>\n",
       "       <td>Df Model:</td>              <td>1</td>            <td>LL-Null:</td>        <td>-298.05</td> \n",
       "</tr>\n",
       "<tr>\n",
       "     <td>Df Residuals:</td>           <td>460</td>         <td>LLR p-value:</td>    <td>4.9371e-09</td>\n",
       "</tr>\n",
       "<tr>\n",
       "      <td>Converged:</td>           <td>1.0000</td>           <td>Scale:</td>         <td>1.0000</td>  \n",
       "</tr>\n",
       "<tr>\n",
       "    <td>No. Iterations:</td>        <td>5.0000</td>              <td></td>               <td></td>     \n",
       "</tr>\n",
       "</table>\n",
       "<table class=\"simpletable\">\n",
       "<tr>\n",
       "      <td></td>       <th>Coef.</th>  <th>Std.Err.</th>    <th>z</th>     <th>P>|z|</th> <th>[0.025</th>  <th>0.975]</th> \n",
       "</tr>\n",
       "<tr>\n",
       "  <th>Intercept</th> <td>-1.1690</td>  <td>0.1431</td>  <td>-8.1687</td> <td>0.0000</td> <td>-1.4495</td> <td>-0.8885</td>\n",
       "</tr>\n",
       "<tr>\n",
       "  <th>famhist</th>   <td>1.1690</td>   <td>0.2033</td>  <td>5.7514</td>  <td>0.0000</td> <td>0.7706</td>  <td>1.5674</td> \n",
       "</tr>\n",
       "</table>"
      ],
      "text/plain": [
       "<class 'statsmodels.iolib.summary2.Summary'>\n",
       "\"\"\"\n",
       "                         Results: Logit\n",
       "=================================================================\n",
       "Model:              Logit            Pseudo R-squared: 0.057     \n",
       "Dependent Variable: OBJETIVO         AIC:              565.8944  \n",
       "Date:               2022-09-21 19:45 BIC:              574.1655  \n",
       "No. Observations:   462              Log-Likelihood:   -280.95   \n",
       "Df Model:           1                LL-Null:          -298.05   \n",
       "Df Residuals:       460              LLR p-value:      4.9371e-09\n",
       "Converged:          1.0000           Scale:            1.0000    \n",
       "No. Iterations:     5.0000                                       \n",
       "------------------------------------------------------------------\n",
       "               Coef.   Std.Err.     z     P>|z|    [0.025   0.975]\n",
       "------------------------------------------------------------------\n",
       "Intercept     -1.1690    0.1431  -8.1687  0.0000  -1.4495  -0.8885\n",
       "famhist        1.1690    0.2033   5.7514  0.0000   0.7706   1.5674\n",
       "=================================================================\n",
       "\n",
       "\"\"\""
      ]
     },
     "execution_count": 20,
     "metadata": {},
     "output_type": "execute_result"
    }
   ],
   "source": [
    "model_1.summary2()"
   ]
  },
  {
   "cell_type": "code",
   "execution_count": 21,
   "metadata": {},
   "outputs": [],
   "source": [
    "def inverse_logit(x):\n",
    "        return 1 / (1 + np.exp(-x))"
   ]
  },
  {
   "cell_type": "code",
   "execution_count": 23,
   "metadata": {},
   "outputs": [
    {
     "name": "stdout",
     "output_type": "stream",
     "text": [
      "La probabilidad de tener una enfermedad es de 0.5, cuando existe antecedentes familiares\n",
      "La probabilidad de tener una enfermedad es de 0.24, cuando no existen antecedentes familiares\n",
      "Un individuo con antecedentes familiares tiene  0.26 mas de tener enfermedades cardiácas\n"
     ]
    }
   ],
   "source": [
    "prob_famhist = inverse_logit(model_1.params['Intercept'] +model_1.params['famhist'] * 1)\n",
    "prob_intercept = inverse_logit(model_1.params['Intercept'])\n",
    "print(f'La probabilidad de tener una enfermedad es de {prob_famhist}, cuando existe antecedentes familiares')\n",
    "print(f'La probabilidad de tener una enfermedad es de {round(prob_intercept,2)}, cuando no existen antecedentes familiares')\n",
    "print(f'Un individuo con antecedentes familiares tiene  {round(prob_famhist - prob_intercept,2)} mas de tener enfermedades cardiácas')"
   ]
  },
  {
   "cell_type": "code",
   "execution_count": 24,
   "metadata": {},
   "outputs": [
    {
     "data": {
      "text/html": [
       "<table class=\"simpletable\">\n",
       "<tr>\n",
       "        <td>Model:</td>               <td>OLS</td>         <td>Adj. R-squared:</td>     <td>0.072</td> \n",
       "</tr>\n",
       "<tr>\n",
       "  <td>Dependent Variable:</td>     <td>OBJETIVO</td>            <td>AIC:</td>         <td>593.1725</td>\n",
       "</tr>\n",
       "<tr>\n",
       "         <td>Date:</td>        <td>2022-09-21 19:49</td>        <td>BIC:</td>         <td>601.4437</td>\n",
       "</tr>\n",
       "<tr>\n",
       "   <td>No. Observations:</td>         <td>462</td>         <td>Log-Likelihood:</td>    <td>-294.59</td>\n",
       "</tr>\n",
       "<tr>\n",
       "       <td>Df Model:</td>              <td>1</td>           <td>F-statistic:</td>       <td>36.86</td> \n",
       "</tr>\n",
       "<tr>\n",
       "     <td>Df Residuals:</td>           <td>460</td>       <td>Prob (F-statistic):</td> <td>2.66e-09</td>\n",
       "</tr>\n",
       "<tr>\n",
       "      <td>R-squared:</td>            <td>0.074</td>            <td>Scale:</td>         <td>0.21050</td>\n",
       "</tr>\n",
       "</table>\n",
       "<table class=\"simpletable\">\n",
       "<tr>\n",
       "      <td></td>       <th>Coef.</th> <th>Std.Err.</th>    <th>t</th>    <th>P>|t|</th> <th>[0.025</th> <th>0.975]</th>\n",
       "</tr>\n",
       "<tr>\n",
       "  <th>Intercept</th> <td>0.2370</td>  <td>0.0279</td>  <td>8.4893</td> <td>0.0000</td> <td>0.1822</td> <td>0.2919</td>\n",
       "</tr>\n",
       "<tr>\n",
       "  <th>famhist</th>   <td>0.2630</td>  <td>0.0433</td>  <td>6.0713</td> <td>0.0000</td> <td>0.1778</td> <td>0.3481</td>\n",
       "</tr>\n",
       "</table>\n",
       "<table class=\"simpletable\">\n",
       "<tr>\n",
       "     <td>Omnibus:</td>    <td>768.898</td>  <td>Durbin-Watson:</td>    <td>1.961</td>\n",
       "</tr>\n",
       "<tr>\n",
       "  <td>Prob(Omnibus):</td>  <td>0.000</td>  <td>Jarque-Bera (JB):</td> <td>58.778</td>\n",
       "</tr>\n",
       "<tr>\n",
       "       <td>Skew:</td>      <td>0.579</td>      <td>Prob(JB):</td>      <td>0.000</td>\n",
       "</tr>\n",
       "<tr>\n",
       "     <td>Kurtosis:</td>    <td>1.692</td>   <td>Condition No.:</td>      <td>2</td>  \n",
       "</tr>\n",
       "</table>"
      ],
      "text/plain": [
       "<class 'statsmodels.iolib.summary2.Summary'>\n",
       "\"\"\"\n",
       "                 Results: Ordinary least squares\n",
       "=================================================================\n",
       "Model:              OLS              Adj. R-squared:     0.072   \n",
       "Dependent Variable: OBJETIVO         AIC:                593.1725\n",
       "Date:               2022-09-21 19:49 BIC:                601.4437\n",
       "No. Observations:   462              Log-Likelihood:     -294.59 \n",
       "Df Model:           1                F-statistic:        36.86   \n",
       "Df Residuals:       460              Prob (F-statistic): 2.66e-09\n",
       "R-squared:          0.074            Scale:              0.21050 \n",
       "-------------------------------------------------------------------\n",
       "              Coef.    Std.Err.     t      P>|t|    [0.025   0.975]\n",
       "-------------------------------------------------------------------\n",
       "Intercept     0.2370     0.0279   8.4893   0.0000   0.1822   0.2919\n",
       "famhist       0.2630     0.0433   6.0713   0.0000   0.1778   0.3481\n",
       "-----------------------------------------------------------------\n",
       "Omnibus:             768.898       Durbin-Watson:          1.961 \n",
       "Prob(Omnibus):       0.000         Jarque-Bera (JB):       58.778\n",
       "Skew:                0.579         Prob(JB):               0.000 \n",
       "Kurtosis:            1.692         Condition No.:          2     \n",
       "=================================================================\n",
       "\n",
       "\"\"\""
      ]
     },
     "execution_count": 24,
     "metadata": {},
     "output_type": "execute_result"
    }
   ],
   "source": [
    "model_1_lpm = smf.ols('OBJETIVO ~ famhist',df).fit() \n",
    "model_1_lpm.summary2()"
   ]
  },
  {
   "cell_type": "code",
   "execution_count": 25,
   "metadata": {},
   "outputs": [
    {
     "data": {
      "text/plain": [
       "<seaborn.axisgrid.FacetGrid at 0x1dd666d3f70>"
      ]
     },
     "execution_count": 25,
     "metadata": {},
     "output_type": "execute_result"
    },
    {
     "data": {
      "image/png": "[encoded data removed]",
      "text/plain": [
       "<Figure size 360x360 with 1 Axes>"
      ]
     },
     "metadata": {},
     "output_type": "display_data"
    }
   ],
   "source": [
    "sns.lmplot('famhist', 'OBJETIVO', df)"
   ]
  },
  {
   "cell_type": "markdown",
   "metadata": {},
   "source": [
    "### Desafío 3: Estimación completa\n",
    "Implemente un modelo con la siguiente forma:\n",
    "\n",
    "$$  log \\left(\\dfrac{Pr(chd = 1)}{1 - Pr(chd = 1)} \\right)= \\beta_0 + \\sum_{i=1}^{N} \\beta_i \\times X$$\n",
    "\n",
    "* Depure el modelo manteniendo las variables con significancia estadística al 5%.\n",
    "* Compare los estadísticos de bondad de ajuste entre ambos.\n",
    "* Reporte de forma sucinta el efecto de las variables en el log-odds de tener una enfermedad coronaria."
   ]
  },
  {
   "cell_type": "code",
   "execution_count": 26,
   "metadata": {},
   "outputs": [
    {
     "name": "stdout",
     "output_type": "stream",
     "text": [
      "Optimization terminated successfully.\n",
      "         Current function value: 0.510974\n",
      "         Iterations 6\n"
     ]
    },
    {
     "data": {
      "text/html": [
       "<table class=\"simpletable\">\n",
       "<tr>\n",
       "        <td>Model:</td>              <td>Logit</td>      <td>Pseudo R-squared:</td>    <td>0.208</td>  \n",
       "</tr>\n",
       "<tr>\n",
       "  <td>Dependent Variable:</td>     <td>OBJETIVO</td>           <td>AIC:</td>         <td>492.1400</td> \n",
       "</tr>\n",
       "<tr>\n",
       "         <td>Date:</td>        <td>2022-09-21 19:49</td>       <td>BIC:</td>         <td>533.4957</td> \n",
       "</tr>\n",
       "<tr>\n",
       "   <td>No. Observations:</td>         <td>462</td>        <td>Log-Likelihood:</td>    <td>-236.07</td> \n",
       "</tr>\n",
       "<tr>\n",
       "       <td>Df Model:</td>              <td>9</td>            <td>LL-Null:</td>        <td>-298.05</td> \n",
       "</tr>\n",
       "<tr>\n",
       "     <td>Df Residuals:</td>           <td>452</td>         <td>LLR p-value:</td>    <td>2.0548e-22</td>\n",
       "</tr>\n",
       "<tr>\n",
       "      <td>Converged:</td>           <td>1.0000</td>           <td>Scale:</td>         <td>1.0000</td>  \n",
       "</tr>\n",
       "<tr>\n",
       "    <td>No. Iterations:</td>        <td>6.0000</td>              <td></td>               <td></td>     \n",
       "</tr>\n",
       "</table>\n",
       "<table class=\"simpletable\">\n",
       "<tr>\n",
       "      <td></td>       <th>Coef.</th>  <th>Std.Err.</th>    <th>z</th>     <th>P>|z|</th> <th>[0.025</th>  <th>0.975]</th> \n",
       "</tr>\n",
       "<tr>\n",
       "  <th>Intercept</th> <td>-6.1507</td>  <td>1.3083</td>  <td>-4.7015</td> <td>0.0000</td> <td>-8.7149</td> <td>-3.5866</td>\n",
       "</tr>\n",
       "<tr>\n",
       "  <th>sbp</th>       <td>0.0065</td>   <td>0.0057</td>  <td>1.1350</td>  <td>0.2564</td> <td>-0.0047</td> <td>0.0177</td> \n",
       "</tr>\n",
       "<tr>\n",
       "  <th>tobacco</th>   <td>0.0794</td>   <td>0.0266</td>  <td>2.9838</td>  <td>0.0028</td> <td>0.0272</td>  <td>0.1315</td> \n",
       "</tr>\n",
       "<tr>\n",
       "  <th>ldl</th>       <td>0.1739</td>   <td>0.0597</td>  <td>2.9152</td>  <td>0.0036</td> <td>0.0570</td>  <td>0.2909</td> \n",
       "</tr>\n",
       "<tr>\n",
       "  <th>adiposity</th> <td>0.0186</td>   <td>0.0293</td>  <td>0.6346</td>  <td>0.5257</td> <td>-0.0388</td> <td>0.0760</td> \n",
       "</tr>\n",
       "<tr>\n",
       "  <th>famhist</th>   <td>0.9254</td>   <td>0.2279</td>  <td>4.0605</td>  <td>0.0000</td> <td>0.4787</td>  <td>1.3720</td> \n",
       "</tr>\n",
       "<tr>\n",
       "  <th>typea</th>     <td>0.0396</td>   <td>0.0123</td>  <td>3.2138</td>  <td>0.0013</td> <td>0.0154</td>  <td>0.0637</td> \n",
       "</tr>\n",
       "<tr>\n",
       "  <th>obesity</th>   <td>-0.0629</td>  <td>0.0442</td>  <td>-1.4218</td> <td>0.1551</td> <td>-0.1496</td> <td>0.0238</td> \n",
       "</tr>\n",
       "<tr>\n",
       "  <th>alcohol</th>   <td>0.0001</td>   <td>0.0045</td>  <td>0.0271</td>  <td>0.9784</td> <td>-0.0087</td> <td>0.0089</td> \n",
       "</tr>\n",
       "<tr>\n",
       "  <th>age</th>       <td>0.0452</td>   <td>0.0121</td>  <td>3.7285</td>  <td>0.0002</td> <td>0.0215</td>  <td>0.0690</td> \n",
       "</tr>\n",
       "</table>"
      ],
      "text/plain": [
       "<class 'statsmodels.iolib.summary2.Summary'>\n",
       "\"\"\"\n",
       "                         Results: Logit\n",
       "=================================================================\n",
       "Model:              Logit            Pseudo R-squared: 0.208     \n",
       "Dependent Variable: OBJETIVO         AIC:              492.1400  \n",
       "Date:               2022-09-21 19:49 BIC:              533.4957  \n",
       "No. Observations:   462              Log-Likelihood:   -236.07   \n",
       "Df Model:           9                LL-Null:          -298.05   \n",
       "Df Residuals:       452              LLR p-value:      2.0548e-22\n",
       "Converged:          1.0000           Scale:            1.0000    \n",
       "No. Iterations:     6.0000                                       \n",
       "------------------------------------------------------------------\n",
       "               Coef.   Std.Err.     z     P>|z|    [0.025   0.975]\n",
       "------------------------------------------------------------------\n",
       "Intercept     -6.1507    1.3083  -4.7015  0.0000  -8.7149  -3.5866\n",
       "sbp            0.0065    0.0057   1.1350  0.2564  -0.0047   0.0177\n",
       "tobacco        0.0794    0.0266   2.9838  0.0028   0.0272   0.1315\n",
       "ldl            0.1739    0.0597   2.9152  0.0036   0.0570   0.2909\n",
       "adiposity      0.0186    0.0293   0.6346  0.5257  -0.0388   0.0760\n",
       "famhist        0.9254    0.2279   4.0605  0.0000   0.4787   1.3720\n",
       "typea          0.0396    0.0123   3.2138  0.0013   0.0154   0.0637\n",
       "obesity       -0.0629    0.0442  -1.4218  0.1551  -0.1496   0.0238\n",
       "alcohol        0.0001    0.0045   0.0271  0.9784  -0.0087   0.0089\n",
       "age            0.0452    0.0121   3.7285  0.0002   0.0215   0.0690\n",
       "=================================================================\n",
       "\n",
       "\"\"\""
      ]
     },
     "execution_count": 26,
     "metadata": {},
     "output_type": "execute_result"
    }
   ],
   "source": [
    "model_2 = smf.logit('OBJETIVO ~ sbp + tobacco + ldl + adiposity + famhist + typea + obesity + alcohol + age', df).fit()\n",
    "model_2.summary2()"
   ]
  },
  {
   "cell_type": "code",
   "execution_count": 27,
   "metadata": {},
   "outputs": [
    {
     "name": "stdout",
     "output_type": "stream",
     "text": [
      "Optimization terminated successfully.\n",
      "         Current function value: 0.514811\n",
      "         Iterations 6\n"
     ]
    },
    {
     "data": {
      "text/html": [
       "<table class=\"simpletable\">\n",
       "<tr>\n",
       "        <td>Model:</td>              <td>Logit</td>      <td>Pseudo R-squared:</td>    <td>0.202</td>  \n",
       "</tr>\n",
       "<tr>\n",
       "  <td>Dependent Variable:</td>     <td>OBJETIVO</td>           <td>AIC:</td>         <td>487.6856</td> \n",
       "</tr>\n",
       "<tr>\n",
       "         <td>Date:</td>        <td>2022-09-21 19:49</td>       <td>BIC:</td>         <td>512.4990</td> \n",
       "</tr>\n",
       "<tr>\n",
       "   <td>No. Observations:</td>         <td>462</td>        <td>Log-Likelihood:</td>    <td>-237.84</td> \n",
       "</tr>\n",
       "<tr>\n",
       "       <td>Df Model:</td>              <td>5</td>            <td>LL-Null:</td>        <td>-298.05</td> \n",
       "</tr>\n",
       "<tr>\n",
       "     <td>Df Residuals:</td>           <td>456</td>         <td>LLR p-value:</td>    <td>2.5537e-24</td>\n",
       "</tr>\n",
       "<tr>\n",
       "      <td>Converged:</td>           <td>1.0000</td>           <td>Scale:</td>         <td>1.0000</td>  \n",
       "</tr>\n",
       "<tr>\n",
       "    <td>No. Iterations:</td>        <td>6.0000</td>              <td></td>               <td></td>     \n",
       "</tr>\n",
       "</table>\n",
       "<table class=\"simpletable\">\n",
       "<tr>\n",
       "      <td></td>       <th>Coef.</th>  <th>Std.Err.</th>    <th>z</th>     <th>P>|z|</th> <th>[0.025</th>  <th>0.975]</th> \n",
       "</tr>\n",
       "<tr>\n",
       "  <th>Intercept</th> <td>-6.4464</td>  <td>0.9209</td>  <td>-7.0004</td> <td>0.0000</td> <td>-8.2513</td> <td>-4.6416</td>\n",
       "</tr>\n",
       "<tr>\n",
       "  <th>tobacco</th>   <td>0.0804</td>   <td>0.0259</td>  <td>3.1057</td>  <td>0.0019</td> <td>0.0297</td>  <td>0.1311</td> \n",
       "</tr>\n",
       "<tr>\n",
       "  <th>ldl</th>       <td>0.1620</td>   <td>0.0550</td>  <td>2.9470</td>  <td>0.0032</td> <td>0.0543</td>  <td>0.2697</td> \n",
       "</tr>\n",
       "<tr>\n",
       "  <th>famhist</th>   <td>0.9082</td>   <td>0.2258</td>  <td>4.0228</td>  <td>0.0001</td> <td>0.4657</td>  <td>1.3507</td> \n",
       "</tr>\n",
       "<tr>\n",
       "  <th>typea</th>     <td>0.0371</td>   <td>0.0122</td>  <td>3.0505</td>  <td>0.0023</td> <td>0.0133</td>  <td>0.0610</td> \n",
       "</tr>\n",
       "<tr>\n",
       "  <th>age</th>       <td>0.0505</td>   <td>0.0102</td>  <td>4.9442</td>  <td>0.0000</td> <td>0.0305</td>  <td>0.0705</td> \n",
       "</tr>\n",
       "</table>"
      ],
      "text/plain": [
       "<class 'statsmodels.iolib.summary2.Summary'>\n",
       "\"\"\"\n",
       "                         Results: Logit\n",
       "=================================================================\n",
       "Model:              Logit            Pseudo R-squared: 0.202     \n",
       "Dependent Variable: OBJETIVO         AIC:              487.6856  \n",
       "Date:               2022-09-21 19:49 BIC:              512.4990  \n",
       "No. Observations:   462              Log-Likelihood:   -237.84   \n",
       "Df Model:           5                LL-Null:          -298.05   \n",
       "Df Residuals:       456              LLR p-value:      2.5537e-24\n",
       "Converged:          1.0000           Scale:            1.0000    \n",
       "No. Iterations:     6.0000                                       \n",
       "------------------------------------------------------------------\n",
       "               Coef.   Std.Err.     z     P>|z|    [0.025   0.975]\n",
       "------------------------------------------------------------------\n",
       "Intercept     -6.4464    0.9209  -7.0004  0.0000  -8.2513  -4.6416\n",
       "tobacco        0.0804    0.0259   3.1057  0.0019   0.0297   0.1311\n",
       "ldl            0.1620    0.0550   2.9470  0.0032   0.0543   0.2697\n",
       "famhist        0.9082    0.2258   4.0228  0.0001   0.4657   1.3507\n",
       "typea          0.0371    0.0122   3.0505  0.0023   0.0133   0.0610\n",
       "age            0.0505    0.0102   4.9442  0.0000   0.0305   0.0705\n",
       "=================================================================\n",
       "\n",
       "\"\"\""
      ]
     },
     "execution_count": 27,
     "metadata": {},
     "output_type": "execute_result"
    }
   ],
   "source": [
    "model__depurado = smf.logit('OBJETIVO ~ tobacco + ldl + famhist + typea + age', df).fit()\n",
    "model__depurado.summary2()"
   ]
  },
  {
   "cell_type": "code",
   "execution_count": 28,
   "metadata": {},
   "outputs": [
    {
     "name": "stdout",
     "output_type": "stream",
     "text": [
      "Optimization terminated successfully.\n",
      "         Current function value: 0.514811\n",
      "         Iterations 6\n"
     ]
    },
    {
     "data": {
      "text/html": [
       "<table class=\"simpletable\">\n",
       "<tr>\n",
       "        <td>Model:</td>              <td>Logit</td>      <td>Pseudo R-squared:</td>    <td>0.202</td>  \n",
       "</tr>\n",
       "<tr>\n",
       "  <td>Dependent Variable:</td>     <td>OBJETIVO</td>           <td>AIC:</td>         <td>487.6856</td> \n",
       "</tr>\n",
       "<tr>\n",
       "         <td>Date:</td>        <td>2022-09-21 19:49</td>       <td>BIC:</td>         <td>512.4990</td> \n",
       "</tr>\n",
       "<tr>\n",
       "   <td>No. Observations:</td>         <td>462</td>        <td>Log-Likelihood:</td>    <td>-237.84</td> \n",
       "</tr>\n",
       "<tr>\n",
       "       <td>Df Model:</td>              <td>5</td>            <td>LL-Null:</td>        <td>-298.05</td> \n",
       "</tr>\n",
       "<tr>\n",
       "     <td>Df Residuals:</td>           <td>456</td>         <td>LLR p-value:</td>    <td>2.5537e-24</td>\n",
       "</tr>\n",
       "<tr>\n",
       "      <td>Converged:</td>           <td>1.0000</td>           <td>Scale:</td>         <td>1.0000</td>  \n",
       "</tr>\n",
       "<tr>\n",
       "    <td>No. Iterations:</td>        <td>6.0000</td>              <td></td>               <td></td>     \n",
       "</tr>\n",
       "</table>\n",
       "<table class=\"simpletable\">\n",
       "<tr>\n",
       "      <td></td>       <th>Coef.</th>  <th>Std.Err.</th>    <th>z</th>     <th>P>|z|</th> <th>[0.025</th>  <th>0.975]</th> \n",
       "</tr>\n",
       "<tr>\n",
       "  <th>Intercept</th> <td>-6.4464</td>  <td>0.9209</td>  <td>-7.0004</td> <td>0.0000</td> <td>-8.2513</td> <td>-4.6416</td>\n",
       "</tr>\n",
       "<tr>\n",
       "  <th>tobacco</th>   <td>0.0804</td>   <td>0.0259</td>  <td>3.1057</td>  <td>0.0019</td> <td>0.0297</td>  <td>0.1311</td> \n",
       "</tr>\n",
       "<tr>\n",
       "  <th>ldl</th>       <td>0.1620</td>   <td>0.0550</td>  <td>2.9470</td>  <td>0.0032</td> <td>0.0543</td>  <td>0.2697</td> \n",
       "</tr>\n",
       "<tr>\n",
       "  <th>famhist</th>   <td>0.9082</td>   <td>0.2258</td>  <td>4.0228</td>  <td>0.0001</td> <td>0.4657</td>  <td>1.3507</td> \n",
       "</tr>\n",
       "<tr>\n",
       "  <th>typea</th>     <td>0.0371</td>   <td>0.0122</td>  <td>3.0505</td>  <td>0.0023</td> <td>0.0133</td>  <td>0.0610</td> \n",
       "</tr>\n",
       "<tr>\n",
       "  <th>age</th>       <td>0.0505</td>   <td>0.0102</td>  <td>4.9442</td>  <td>0.0000</td> <td>0.0305</td>  <td>0.0705</td> \n",
       "</tr>\n",
       "</table>"
      ],
      "text/plain": [
       "<class 'statsmodels.iolib.summary2.Summary'>\n",
       "\"\"\"\n",
       "                         Results: Logit\n",
       "=================================================================\n",
       "Model:              Logit            Pseudo R-squared: 0.202     \n",
       "Dependent Variable: OBJETIVO         AIC:              487.6856  \n",
       "Date:               2022-09-21 19:49 BIC:              512.4990  \n",
       "No. Observations:   462              Log-Likelihood:   -237.84   \n",
       "Df Model:           5                LL-Null:          -298.05   \n",
       "Df Residuals:       456              LLR p-value:      2.5537e-24\n",
       "Converged:          1.0000           Scale:            1.0000    \n",
       "No. Iterations:     6.0000                                       \n",
       "------------------------------------------------------------------\n",
       "               Coef.   Std.Err.     z     P>|z|    [0.025   0.975]\n",
       "------------------------------------------------------------------\n",
       "Intercept     -6.4464    0.9209  -7.0004  0.0000  -8.2513  -4.6416\n",
       "tobacco        0.0804    0.0259   3.1057  0.0019   0.0297   0.1311\n",
       "ldl            0.1620    0.0550   2.9470  0.0032   0.0543   0.2697\n",
       "famhist        0.9082    0.2258   4.0228  0.0001   0.4657   1.3507\n",
       "typea          0.0371    0.0122   3.0505  0.0023   0.0133   0.0610\n",
       "age            0.0505    0.0102   4.9442  0.0000   0.0305   0.0705\n",
       "=================================================================\n",
       "\n",
       "\"\"\""
      ]
     },
     "execution_count": 28,
     "metadata": {},
     "output_type": "execute_result"
    }
   ],
   "source": [
    "model_3 = smf.logit('OBJETIVO ~ tobacco + ldl + famhist + typea + age', df).fit()\n",
    "model_3.summary2()"
   ]
  },
  {
   "cell_type": "code",
   "execution_count": 29,
   "metadata": {},
   "outputs": [
    {
     "data": {
      "text/plain": [
       "0.16199163569651684"
      ]
     },
     "execution_count": 29,
     "metadata": {},
     "output_type": "execute_result"
    }
   ],
   "source": [
    "model__depurado.params[ 'ldl' ]"
   ]
  },
  {
   "cell_type": "markdown",
   "metadata": {},
   "source": [
    "### Desafío 4: Estimación de perfiles\n",
    "A partir del modelo depurado, genere las estimaciones en log-odds y posteriormente transfórmelas a probabilidades con inverse_logit. Los perfiles a estimar son los siguientes:\n",
    "* La probabilidad de tener una enfermedad coronaria para un individuo con características similares a la muestra.\n",
    "* La probabilidad de tener una enfermedad coronaria para un individuo con altos niveles de lipoproteína de baja densidad, manteniendo todas las demás características constantes.\n",
    "* La probabilidad de tener una enfermedad coronaria para un individuo con bajos\n",
    "niveles de lipoproteína de baja densidad, manteniendo todas las demás características constantes\n"
   ]
  },
  {
   "cell_type": "code",
   "execution_count": 31,
   "metadata": {},
   "outputs": [],
   "source": [
    "def parammean(variable, dataframe=df, model=model__depurado):\n",
    "        return  model.params[variable] * dataframe[variable].mean()"
   ]
  },
  {
   "cell_type": "code",
   "execution_count": 32,
   "metadata": {},
   "outputs": [
    {
     "data": {
      "text/plain": [
       "0.16199163569651684"
      ]
     },
     "execution_count": 32,
     "metadata": {},
     "output_type": "execute_result"
    }
   ],
   "source": [
    "model__depurado.params[ 'ldl' ]"
   ]
  },
  {
   "cell_type": "code",
   "execution_count": 33,
   "metadata": {},
   "outputs": [],
   "source": [
    "pr_profile_mean = model__depurado.params[ 'Intercept' ] + parammean( 'tobacco' ) +parammean( 'ldl' ) + parammean( 'typea' ) + parammean( 'age' )+parammean( 'famhist' ) "
   ]
  },
  {
   "cell_type": "code",
   "execution_count": 34,
   "metadata": {},
   "outputs": [
    {
     "name": "stdout",
     "output_type": "stream",
     "text": [
      "La probabilidad de tener una enfermedad coronaria es de 0.29370927481586934, para un individuo con características similares a la muestra\n"
     ]
    }
   ],
   "source": [
    "print(f'La probabilidad de tener una enfermedad coronaria es de {inverse_logit(pr_profile_mean)}, para un individuo con características similares a la muestra')"
   ]
  },
  {
   "cell_type": "code",
   "execution_count": 35,
   "metadata": {},
   "outputs": [
    {
     "data": {
      "text/html": [
       "<div>\n",
       "<style scoped>\n",
       "    .dataframe tbody tr th:only-of-type {\n",
       "        vertical-align: middle;\n",
       "    }\n",
       "\n",
       "    .dataframe tbody tr th {\n",
       "        vertical-align: top;\n",
       "    }\n",
       "\n",
       "    .dataframe thead th {\n",
       "        text-align: right;\n",
       "    }\n",
       "</style>\n",
       "<table border=\"1\" class=\"dataframe\">\n",
       "  <thead>\n",
       "    <tr style=\"text-align: right;\">\n",
       "      <th></th>\n",
       "      <th>sbp</th>\n",
       "      <th>tobacco</th>\n",
       "      <th>ldl</th>\n",
       "      <th>adiposity</th>\n",
       "      <th>famhist</th>\n",
       "      <th>typea</th>\n",
       "      <th>obesity</th>\n",
       "      <th>alcohol</th>\n",
       "      <th>age</th>\n",
       "      <th>OBJETIVO</th>\n",
       "    </tr>\n",
       "  </thead>\n",
       "  <tbody>\n",
       "    <tr>\n",
       "      <th>count</th>\n",
       "      <td>462.000000</td>\n",
       "      <td>462.000000</td>\n",
       "      <td>462.000000</td>\n",
       "      <td>462.000000</td>\n",
       "      <td>462.000000</td>\n",
       "      <td>462.000000</td>\n",
       "      <td>462.000000</td>\n",
       "      <td>462.000000</td>\n",
       "      <td>462.000000</td>\n",
       "      <td>462.000000</td>\n",
       "    </tr>\n",
       "    <tr>\n",
       "      <th>mean</th>\n",
       "      <td>138.326840</td>\n",
       "      <td>3.635649</td>\n",
       "      <td>4.740325</td>\n",
       "      <td>25.406732</td>\n",
       "      <td>0.415584</td>\n",
       "      <td>53.103896</td>\n",
       "      <td>26.044113</td>\n",
       "      <td>17.044394</td>\n",
       "      <td>42.816017</td>\n",
       "      <td>0.346320</td>\n",
       "    </tr>\n",
       "    <tr>\n",
       "      <th>std</th>\n",
       "      <td>20.496317</td>\n",
       "      <td>4.593024</td>\n",
       "      <td>2.070909</td>\n",
       "      <td>7.780699</td>\n",
       "      <td>0.493357</td>\n",
       "      <td>9.817534</td>\n",
       "      <td>4.213680</td>\n",
       "      <td>24.481059</td>\n",
       "      <td>14.608956</td>\n",
       "      <td>0.476313</td>\n",
       "    </tr>\n",
       "    <tr>\n",
       "      <th>min</th>\n",
       "      <td>101.000000</td>\n",
       "      <td>0.000000</td>\n",
       "      <td>0.980000</td>\n",
       "      <td>6.740000</td>\n",
       "      <td>0.000000</td>\n",
       "      <td>13.000000</td>\n",
       "      <td>14.700000</td>\n",
       "      <td>0.000000</td>\n",
       "      <td>15.000000</td>\n",
       "      <td>0.000000</td>\n",
       "    </tr>\n",
       "    <tr>\n",
       "      <th>25%</th>\n",
       "      <td>124.000000</td>\n",
       "      <td>0.052500</td>\n",
       "      <td>3.282500</td>\n",
       "      <td>19.775000</td>\n",
       "      <td>0.000000</td>\n",
       "      <td>47.000000</td>\n",
       "      <td>22.985000</td>\n",
       "      <td>0.510000</td>\n",
       "      <td>31.000000</td>\n",
       "      <td>0.000000</td>\n",
       "    </tr>\n",
       "    <tr>\n",
       "      <th>50%</th>\n",
       "      <td>134.000000</td>\n",
       "      <td>2.000000</td>\n",
       "      <td>4.340000</td>\n",
       "      <td>26.115000</td>\n",
       "      <td>0.000000</td>\n",
       "      <td>53.000000</td>\n",
       "      <td>25.805000</td>\n",
       "      <td>7.510000</td>\n",
       "      <td>45.000000</td>\n",
       "      <td>0.000000</td>\n",
       "    </tr>\n",
       "    <tr>\n",
       "      <th>75%</th>\n",
       "      <td>148.000000</td>\n",
       "      <td>5.500000</td>\n",
       "      <td>5.790000</td>\n",
       "      <td>31.227500</td>\n",
       "      <td>1.000000</td>\n",
       "      <td>60.000000</td>\n",
       "      <td>28.497500</td>\n",
       "      <td>23.892500</td>\n",
       "      <td>55.000000</td>\n",
       "      <td>1.000000</td>\n",
       "    </tr>\n",
       "    <tr>\n",
       "      <th>max</th>\n",
       "      <td>218.000000</td>\n",
       "      <td>31.200000</td>\n",
       "      <td>15.330000</td>\n",
       "      <td>42.490000</td>\n",
       "      <td>1.000000</td>\n",
       "      <td>78.000000</td>\n",
       "      <td>46.580000</td>\n",
       "      <td>147.190000</td>\n",
       "      <td>64.000000</td>\n",
       "      <td>1.000000</td>\n",
       "    </tr>\n",
       "  </tbody>\n",
       "</table>\n",
       "</div>"
      ],
      "text/plain": [
       "              sbp     tobacco         ldl   adiposity     famhist       typea  \\\n",
       "count  462.000000  462.000000  462.000000  462.000000  462.000000  462.000000   \n",
       "mean   138.326840    3.635649    4.740325   25.406732    0.415584   53.103896   \n",
       "std     20.496317    4.593024    2.070909    7.780699    0.493357    9.817534   \n",
       "min    101.000000    0.000000    0.980000    6.740000    0.000000   13.000000   \n",
       "25%    124.000000    0.052500    3.282500   19.775000    0.000000   47.000000   \n",
       "50%    134.000000    2.000000    4.340000   26.115000    0.000000   53.000000   \n",
       "75%    148.000000    5.500000    5.790000   31.227500    1.000000   60.000000   \n",
       "max    218.000000   31.200000   15.330000   42.490000    1.000000   78.000000   \n",
       "\n",
       "          obesity     alcohol         age    OBJETIVO  \n",
       "count  462.000000  462.000000  462.000000  462.000000  \n",
       "mean    26.044113   17.044394   42.816017    0.346320  \n",
       "std      4.213680   24.481059   14.608956    0.476313  \n",
       "min     14.700000    0.000000   15.000000    0.000000  \n",
       "25%     22.985000    0.510000   31.000000    0.000000  \n",
       "50%     25.805000    7.510000   45.000000    0.000000  \n",
       "75%     28.497500   23.892500   55.000000    1.000000  \n",
       "max     46.580000  147.190000   64.000000    1.000000  "
      ]
     },
     "execution_count": 35,
     "metadata": {},
     "output_type": "execute_result"
    }
   ],
   "source": [
    "df.describe()"
   ]
  },
  {
   "cell_type": "code",
   "execution_count": 36,
   "metadata": {},
   "outputs": [],
   "source": [
    "pr_profile_ldl_max = model__depurado.params[ 'Intercept' ] + parammean( 'tobacco') +model__depurado.params[ 'ldl' ] * df[ 'ldl' ].max() + parammean( 'typea' ) + parammean( 'age' ) + parammean( 'famhist' )"
   ]
  },
  {
   "cell_type": "code",
   "execution_count": 37,
   "metadata": {},
   "outputs": [
    {
     "name": "stdout",
     "output_type": "stream",
     "text": [
      "La probabilidad de tener una enfermedad coronaria es de 0.6980443104466213, para un individuo con altos niveles de lipoproteína de baja densidad\n"
     ]
    }
   ],
   "source": [
    "print(f'La probabilidad de tener una enfermedad coronaria es de {inverse_logit(pr_profile_ldl_max)}, para un individuo con altos niveles de lipoproteína de baja densidad')"
   ]
  },
  {
   "cell_type": "code",
   "execution_count": 38,
   "metadata": {},
   "outputs": [],
   "source": [
    "pr_profile_ldl_min =model__depurado.params[ 'Intercept' ] + parammean( 'tobacco') +model__depurado.params[ 'ldl' ] * df[ 'ldl' ].min() + parammean( 'typea' ) + parammean( 'age' ) + parammean( 'famhist' )"
   ]
  },
  {
   "cell_type": "code",
   "execution_count": 39,
   "metadata": {},
   "outputs": [
    {
     "name": "stdout",
     "output_type": "stream",
     "text": [
      "La probabilidad de tener una enfermedad coronaria es de 0.1844359557540466, para un individuo con bajos niveles de lipoproteína de baja densidad\n"
     ]
    }
   ],
   "source": [
    "print(f'La probabilidad de tener una enfermedad coronaria es de {inverse_logit(pr_profile_ldl_min)}, para un individuo con bajos niveles de lipoproteína de baja densidad')"
   ]
  }
 ],
 "metadata": {
  "kernelspec": {
   "display_name": "Python 3.10.5 64-bit",
   "language": "python",
   "name": "python3"
  },
  "language_info": {
   "codemirror_mode": {
    "name": "ipython",
    "version": 3
   },
   "file_extension": ".py",
   "mimetype": "text/x-python",
   "name": "python",
   "nbconvert_exporter": "python",
   "pygments_lexer": "ipython3",
   "version": "3.10.5"
  },
  "orig_nbformat": 4,
  "vscode": {
   "interpreter": {
    "hash": "5fe23d4cdea1a1fdeea398f38169f58ea6e36b10f84ee4017a8f0fee693ee786"
   }
  }
 },
 "nbformat": 4,
 "nbformat_minor": 2
}
