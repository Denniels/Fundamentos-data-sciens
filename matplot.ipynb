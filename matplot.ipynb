{
 "cells": [
  {
   "cell_type": "code",
   "execution_count": 402,
   "metadata": {},
   "outputs": [],
   "source": [
    "import matplotlib.pyplot as plt\n",
    "import pandas as pd\n",
    "import numpy as np\n",
    "from scipy.stats import norm\n",
    "from scipy.stats import gaussian_kde\n",
    "import lec3_graphs as gfx"
   ]
  },
  {
   "cell_type": "code",
   "execution_count": 403,
   "metadata": {},
   "outputs": [],
   "source": [
    "x_axis = np.linspace(-3, 3)\n",
    "y_axis = x_axis ** 2 "
   ]
  },
  {
   "cell_type": "code",
   "execution_count": 404,
   "metadata": {},
   "outputs": [
    {
     "data": {
      "text/plain": [
       "[<matplotlib.lines.Line2D at 0x1ad46a0e800>]"
      ]
     },
     "execution_count": 404,
     "metadata": {},
     "output_type": "execute_result"
    },
    {
     "data": {
      "image/png": "[encoded data removed]",
      "text/plain": [
       "<Figure size 432x288 with 1 Axes>"
      ]
     },
     "metadata": {
      "needs_background": "light"
     },
     "output_type": "display_data"
    }
   ],
   "source": [
    "plt.plot(x_axis, y_axis) "
   ]
  },
  {
   "cell_type": "code",
   "execution_count": 405,
   "metadata": {},
   "outputs": [],
   "source": [
    "df = pd.read_csv('datasets/qog_std_cs_jan18.csv')"
   ]
  },
  {
   "cell_type": "code",
   "execution_count": 406,
   "metadata": {},
   "outputs": [
    {
     "data": {
      "text/html": [
       "<div>\n",
       "<style scoped>\n",
       "    .dataframe tbody tr th:only-of-type {\n",
       "        vertical-align: middle;\n",
       "    }\n",
       "\n",
       "    .dataframe tbody tr th {\n",
       "        vertical-align: top;\n",
       "    }\n",
       "\n",
       "    .dataframe thead th {\n",
       "        text-align: right;\n",
       "    }\n",
       "</style>\n",
       "<table border=\"1\" class=\"dataframe\">\n",
       "  <thead>\n",
       "    <tr style=\"text-align: right;\">\n",
       "      <th></th>\n",
       "      <th>ccode</th>\n",
       "      <th>cname</th>\n",
       "      <th>ccodealp</th>\n",
       "      <th>ccodecow</th>\n",
       "      <th>ccodewb</th>\n",
       "      <th>version</th>\n",
       "      <th>aid_cpnc</th>\n",
       "      <th>aid_cpsc</th>\n",
       "      <th>aid_crnc</th>\n",
       "      <th>aid_crnio</th>\n",
       "      <th>...</th>\n",
       "      <th>wvs_relacc</th>\n",
       "      <th>wvs_relsch</th>\n",
       "      <th>wvs_relsci</th>\n",
       "      <th>wvs_satfin</th>\n",
       "      <th>wvs_satlif</th>\n",
       "      <th>wvs_screl</th>\n",
       "      <th>wvs_subh</th>\n",
       "      <th>wvs_survself</th>\n",
       "      <th>wvs_tradrat</th>\n",
       "      <th>wvs_trust</th>\n",
       "    </tr>\n",
       "  </thead>\n",
       "  <tbody>\n",
       "    <tr>\n",
       "      <th>0</th>\n",
       "      <td>4</td>\n",
       "      <td>Afghanistan</td>\n",
       "      <td>AFG</td>\n",
       "      <td>700.0</td>\n",
       "      <td>4.0</td>\n",
       "      <td>QoGStdCSJan18</td>\n",
       "      <td>NaN</td>\n",
       "      <td>NaN</td>\n",
       "      <td>29.0</td>\n",
       "      <td>13.0</td>\n",
       "      <td>...</td>\n",
       "      <td>NaN</td>\n",
       "      <td>NaN</td>\n",
       "      <td>NaN</td>\n",
       "      <td>NaN</td>\n",
       "      <td>NaN</td>\n",
       "      <td>NaN</td>\n",
       "      <td>NaN</td>\n",
       "      <td>NaN</td>\n",
       "      <td>NaN</td>\n",
       "      <td>NaN</td>\n",
       "    </tr>\n",
       "    <tr>\n",
       "      <th>1</th>\n",
       "      <td>8</td>\n",
       "      <td>Albania</td>\n",
       "      <td>ALB</td>\n",
       "      <td>339.0</td>\n",
       "      <td>8.0</td>\n",
       "      <td>QoGStdCSJan18</td>\n",
       "      <td>NaN</td>\n",
       "      <td>NaN</td>\n",
       "      <td>26.0</td>\n",
       "      <td>13.0</td>\n",
       "      <td>...</td>\n",
       "      <td>NaN</td>\n",
       "      <td>NaN</td>\n",
       "      <td>NaN</td>\n",
       "      <td>NaN</td>\n",
       "      <td>NaN</td>\n",
       "      <td>NaN</td>\n",
       "      <td>NaN</td>\n",
       "      <td>NaN</td>\n",
       "      <td>NaN</td>\n",
       "      <td>NaN</td>\n",
       "    </tr>\n",
       "    <tr>\n",
       "      <th>2</th>\n",
       "      <td>12</td>\n",
       "      <td>Algeria</td>\n",
       "      <td>DZA</td>\n",
       "      <td>615.0</td>\n",
       "      <td>12.0</td>\n",
       "      <td>QoGStdCSJan18</td>\n",
       "      <td>NaN</td>\n",
       "      <td>NaN</td>\n",
       "      <td>21.0</td>\n",
       "      <td>6.0</td>\n",
       "      <td>...</td>\n",
       "      <td>3.710616</td>\n",
       "      <td>1.704692</td>\n",
       "      <td>3.681347</td>\n",
       "      <td>5.988125</td>\n",
       "      <td>6.301029</td>\n",
       "      <td>5.339371</td>\n",
       "      <td>3.805579</td>\n",
       "      <td>-0.409807</td>\n",
       "      <td>-0.498164</td>\n",
       "      <td>0.179286</td>\n",
       "    </tr>\n",
       "    <tr>\n",
       "      <th>3</th>\n",
       "      <td>20</td>\n",
       "      <td>Andorra</td>\n",
       "      <td>AND</td>\n",
       "      <td>232.0</td>\n",
       "      <td>20.0</td>\n",
       "      <td>QoGStdCSJan18</td>\n",
       "      <td>NaN</td>\n",
       "      <td>NaN</td>\n",
       "      <td>NaN</td>\n",
       "      <td>NaN</td>\n",
       "      <td>...</td>\n",
       "      <td>NaN</td>\n",
       "      <td>NaN</td>\n",
       "      <td>NaN</td>\n",
       "      <td>NaN</td>\n",
       "      <td>NaN</td>\n",
       "      <td>NaN</td>\n",
       "      <td>NaN</td>\n",
       "      <td>NaN</td>\n",
       "      <td>NaN</td>\n",
       "      <td>NaN</td>\n",
       "    </tr>\n",
       "  </tbody>\n",
       "</table>\n",
       "<p>4 rows × 1882 columns</p>\n",
       "</div>"
      ],
      "text/plain": [
       "   ccode        cname ccodealp  ccodecow  ccodewb        version  aid_cpnc  \\\n",
       "0      4  Afghanistan      AFG     700.0      4.0  QoGStdCSJan18       NaN   \n",
       "1      8      Albania      ALB     339.0      8.0  QoGStdCSJan18       NaN   \n",
       "2     12      Algeria      DZA     615.0     12.0  QoGStdCSJan18       NaN   \n",
       "3     20      Andorra      AND     232.0     20.0  QoGStdCSJan18       NaN   \n",
       "\n",
       "   aid_cpsc  aid_crnc  aid_crnio  ...  wvs_relacc  wvs_relsch  wvs_relsci  \\\n",
       "0       NaN      29.0       13.0  ...         NaN         NaN         NaN   \n",
       "1       NaN      26.0       13.0  ...         NaN         NaN         NaN   \n",
       "2       NaN      21.0        6.0  ...    3.710616    1.704692    3.681347   \n",
       "3       NaN       NaN        NaN  ...         NaN         NaN         NaN   \n",
       "\n",
       "   wvs_satfin  wvs_satlif  wvs_screl  wvs_subh  wvs_survself  wvs_tradrat  \\\n",
       "0         NaN         NaN        NaN       NaN           NaN          NaN   \n",
       "1         NaN         NaN        NaN       NaN           NaN          NaN   \n",
       "2    5.988125    6.301029   5.339371  3.805579     -0.409807    -0.498164   \n",
       "3         NaN         NaN        NaN       NaN           NaN          NaN   \n",
       "\n",
       "   wvs_trust  \n",
       "0        NaN  \n",
       "1        NaN  \n",
       "2   0.179286  \n",
       "3        NaN  \n",
       "\n",
       "[4 rows x 1882 columns]"
      ]
     },
     "execution_count": 406,
     "metadata": {},
     "output_type": "execute_result"
    }
   ],
   "source": [
    "#df.shape\n",
    "df.head(4)"
   ]
  },
  {
   "cell_type": "code",
   "execution_count": 407,
   "metadata": {},
   "outputs": [
    {
     "data": {
      "text/html": [
       "<div>\n",
       "<style scoped>\n",
       "    .dataframe tbody tr th:only-of-type {\n",
       "        vertical-align: middle;\n",
       "    }\n",
       "\n",
       "    .dataframe tbody tr th {\n",
       "        vertical-align: top;\n",
       "    }\n",
       "\n",
       "    .dataframe thead th {\n",
       "        text-align: right;\n",
       "    }\n",
       "</style>\n",
       "<table border=\"1\" class=\"dataframe\">\n",
       "  <thead>\n",
       "    <tr style=\"text-align: right;\">\n",
       "      <th></th>\n",
       "      <th>ccode</th>\n",
       "      <th>cname</th>\n",
       "      <th>ccodealp</th>\n",
       "      <th>ccodecow</th>\n",
       "      <th>ccodewb</th>\n",
       "      <th>version</th>\n",
       "      <th>aid_cpnc</th>\n",
       "      <th>aid_cpsc</th>\n",
       "      <th>aid_crnc</th>\n",
       "      <th>aid_crnio</th>\n",
       "      <th>...</th>\n",
       "      <th>wvs_relacc</th>\n",
       "      <th>wvs_relsch</th>\n",
       "      <th>wvs_relsci</th>\n",
       "      <th>wvs_satfin</th>\n",
       "      <th>wvs_satlif</th>\n",
       "      <th>wvs_screl</th>\n",
       "      <th>wvs_subh</th>\n",
       "      <th>wvs_survself</th>\n",
       "      <th>wvs_tradrat</th>\n",
       "      <th>wvs_trust</th>\n",
       "    </tr>\n",
       "  </thead>\n",
       "  <tbody>\n",
       "    <tr>\n",
       "      <th>27</th>\n",
       "      <td>112</td>\n",
       "      <td>Belarus</td>\n",
       "      <td>BLR</td>\n",
       "      <td>370.0</td>\n",
       "      <td>112.0</td>\n",
       "      <td>QoGStdCSJan18</td>\n",
       "      <td>NaN</td>\n",
       "      <td>NaN</td>\n",
       "      <td>23.0</td>\n",
       "      <td>11.0</td>\n",
       "      <td>...</td>\n",
       "      <td>2.07181</td>\n",
       "      <td>2.34197</td>\n",
       "      <td>2.007462</td>\n",
       "      <td>4.780829</td>\n",
       "      <td>5.778168</td>\n",
       "      <td>5.558358</td>\n",
       "      <td>3.250939</td>\n",
       "      <td>NaN</td>\n",
       "      <td>NaN</td>\n",
       "      <td>0.352243</td>\n",
       "    </tr>\n",
       "  </tbody>\n",
       "</table>\n",
       "<p>1 rows × 1882 columns</p>\n",
       "</div>"
      ],
      "text/plain": [
       "    ccode    cname ccodealp  ccodecow  ccodewb        version  aid_cpnc  \\\n",
       "27    112  Belarus      BLR     370.0    112.0  QoGStdCSJan18       NaN   \n",
       "\n",
       "    aid_cpsc  aid_crnc  aid_crnio  ...  wvs_relacc  wvs_relsch  wvs_relsci  \\\n",
       "27       NaN      23.0       11.0  ...     2.07181     2.34197    2.007462   \n",
       "\n",
       "    wvs_satfin  wvs_satlif  wvs_screl  wvs_subh  wvs_survself  wvs_tradrat  \\\n",
       "27    4.780829    5.778168   5.558358  3.250939           NaN          NaN   \n",
       "\n",
       "    wvs_trust  \n",
       "27   0.352243  \n",
       "\n",
       "[1 rows x 1882 columns]"
      ]
     },
     "execution_count": 407,
     "metadata": {},
     "output_type": "execute_result"
    }
   ],
   "source": [
    "df.sample()"
   ]
  },
  {
   "cell_type": "code",
   "execution_count": 408,
   "metadata": {},
   "outputs": [
    {
     "data": {
      "text/plain": [
       "(array([ 5., 12., 21., 15., 14., 18., 31., 27., 19., 24.]),\n",
       " array([0.347     , 0.4071    , 0.4672    , 0.5273    , 0.5874    ,\n",
       "        0.6475    , 0.70760001, 0.76770001, 0.82780001, 0.88790001,\n",
       "        0.94800001]),\n",
       " <BarContainer object of 10 artists>)"
      ]
     },
     "execution_count": 408,
     "metadata": {},
     "output_type": "execute_result"
    },
    {
     "data": {
      "image/png": "[encoded data removed]",
      "text/plain": [
       "<Figure size 432x288 with 1 Axes>"
      ]
     },
     "metadata": {
      "needs_background": "light"
     },
     "output_type": "display_data"
    }
   ],
   "source": [
    "plt.hist(df['undp_hdi'].dropna())"
   ]
  },
  {
   "cell_type": "code",
   "execution_count": 409,
   "metadata": {},
   "outputs": [
    {
     "data": {
      "text/plain": [
       "37               Taiwan\n",
       "89         Korea, North\n",
       "111              Monaco\n",
       "119               Nauru\n",
       "129    Marshall Islands\n",
       "148          San Marino\n",
       "159             Somalia\n",
       "179              Tuvalu\n",
       "Name: cname, dtype: object"
      ]
     },
     "execution_count": 409,
     "metadata": {},
     "output_type": "execute_result"
    }
   ],
   "source": [
    "df[df['undp_hdi'].isna()]['cname']"
   ]
  },
  {
   "cell_type": "code",
   "execution_count": 410,
   "metadata": {},
   "outputs": [
    {
     "data": {
      "text/plain": [
       "(194, 1882)"
      ]
     },
     "execution_count": 410,
     "metadata": {},
     "output_type": "execute_result"
    }
   ],
   "source": [
    "df.shape"
   ]
  },
  {
   "cell_type": "code",
   "execution_count": 411,
   "metadata": {},
   "outputs": [
    {
     "data": {
      "text/plain": [
       "0      0.479\n",
       "1      0.762\n",
       "2      0.743\n",
       "3      0.857\n",
       "4      0.531\n",
       "       ...  \n",
       "189    0.697\n",
       "190    0.769\n",
       "191    0.702\n",
       "192    0.499\n",
       "193    0.576\n",
       "Name: undp_hdi, Length: 186, dtype: float64"
      ]
     },
     "execution_count": 411,
     "metadata": {},
     "output_type": "execute_result"
    }
   ],
   "source": [
    "hdi_dropna = df['undp_hdi'].dropna()\n",
    "hdi_dropna"
   ]
  },
  {
   "cell_type": "code",
   "execution_count": 412,
   "metadata": {},
   "outputs": [
    {
     "data": {
      "text/plain": [
       "Text(0, 0.5, 'Frecuencia')"
      ]
     },
     "execution_count": 412,
     "metadata": {},
     "output_type": "execute_result"
    },
    {
     "data": {
      "image/png": "[encoded data removed]",
      "text/plain": [
       "<Figure size 432x288 with 1 Axes>"
      ]
     },
     "metadata": {
      "needs_background": "light"
     },
     "output_type": "display_data"
    }
   ],
   "source": [
    "plt.hist(hdi_dropna, color='lightgrey')\n",
    "plt.axvline(hdi_dropna.mean(), lw = 3, color= 'tomato', linestyle = '--')\n",
    "plt.xlabel('IDH')\n",
    "plt.ylabel('Frecuencia')"
   ]
  },
  {
   "cell_type": "code",
   "execution_count": 413,
   "metadata": {},
   "outputs": [
    {
     "data": {
      "text/html": [
       "<div>\n",
       "<style scoped>\n",
       "    .dataframe tbody tr th:only-of-type {\n",
       "        vertical-align: middle;\n",
       "    }\n",
       "\n",
       "    .dataframe tbody tr th {\n",
       "        vertical-align: top;\n",
       "    }\n",
       "\n",
       "    .dataframe thead th {\n",
       "        text-align: right;\n",
       "    }\n",
       "</style>\n",
       "<table border=\"1\" class=\"dataframe\">\n",
       "  <thead>\n",
       "    <tr style=\"text-align: right;\">\n",
       "      <th></th>\n",
       "      <th>cname</th>\n",
       "      <th>ccode</th>\n",
       "      <th>undp_hdi</th>\n",
       "      <th>ht_region</th>\n",
       "    </tr>\n",
       "  </thead>\n",
       "  <tbody>\n",
       "    <tr>\n",
       "      <th>0</th>\n",
       "      <td>Afghanistan</td>\n",
       "      <td>4</td>\n",
       "      <td>0.479</td>\n",
       "      <td>8</td>\n",
       "    </tr>\n",
       "    <tr>\n",
       "      <th>1</th>\n",
       "      <td>Albania</td>\n",
       "      <td>8</td>\n",
       "      <td>0.762</td>\n",
       "      <td>1</td>\n",
       "    </tr>\n",
       "    <tr>\n",
       "      <th>2</th>\n",
       "      <td>Algeria</td>\n",
       "      <td>12</td>\n",
       "      <td>0.743</td>\n",
       "      <td>3</td>\n",
       "    </tr>\n",
       "    <tr>\n",
       "      <th>3</th>\n",
       "      <td>Andorra</td>\n",
       "      <td>20</td>\n",
       "      <td>0.857</td>\n",
       "      <td>5</td>\n",
       "    </tr>\n",
       "    <tr>\n",
       "      <th>4</th>\n",
       "      <td>Angola</td>\n",
       "      <td>24</td>\n",
       "      <td>0.531</td>\n",
       "      <td>4</td>\n",
       "    </tr>\n",
       "  </tbody>\n",
       "</table>\n",
       "</div>"
      ],
      "text/plain": [
       "         cname  ccode  undp_hdi  ht_region\n",
       "0  Afghanistan      4     0.479          8\n",
       "1      Albania      8     0.762          1\n",
       "2      Algeria     12     0.743          3\n",
       "3      Andorra     20     0.857          5\n",
       "4       Angola     24     0.531          4"
      ]
     },
     "execution_count": 413,
     "metadata": {},
     "output_type": "execute_result"
    }
   ],
   "source": [
    "hdi_group = df.loc[:, ['cname', 'ccode', 'undp_hdi', 'ht_region']]\n",
    "hdi_group.head()"
   ]
  },
  {
   "cell_type": "code",
   "execution_count": 414,
   "metadata": {},
   "outputs": [],
   "source": [
    "hdi_group['region_record'] = hdi_group['ht_region'].replace([1,2,3,4,5,6,7,8,9,10], \n",
    "                                                            ['EastEurope', 'LatAm', 'NorthAfrica', 'SudSaharian', \n",
    "                                                            'WesternDem', 'EastAsia', 'SouthEastAsia', 'SoutAsia', \n",
    "                                                            'Pacific', 'Caribbean'])"
   ]
  },
  {
   "cell_type": "code",
   "execution_count": 415,
   "metadata": {},
   "outputs": [
    {
     "data": {
      "text/html": [
       "<div>\n",
       "<style scoped>\n",
       "    .dataframe tbody tr th:only-of-type {\n",
       "        vertical-align: middle;\n",
       "    }\n",
       "\n",
       "    .dataframe tbody tr th {\n",
       "        vertical-align: top;\n",
       "    }\n",
       "\n",
       "    .dataframe thead th {\n",
       "        text-align: right;\n",
       "    }\n",
       "</style>\n",
       "<table border=\"1\" class=\"dataframe\">\n",
       "  <thead>\n",
       "    <tr style=\"text-align: right;\">\n",
       "      <th></th>\n",
       "      <th>cname</th>\n",
       "      <th>ccode</th>\n",
       "      <th>undp_hdi</th>\n",
       "      <th>ht_region</th>\n",
       "      <th>region_record</th>\n",
       "    </tr>\n",
       "  </thead>\n",
       "  <tbody>\n",
       "    <tr>\n",
       "      <th>0</th>\n",
       "      <td>Afghanistan</td>\n",
       "      <td>4</td>\n",
       "      <td>0.479</td>\n",
       "      <td>8</td>\n",
       "      <td>SoutAsia</td>\n",
       "    </tr>\n",
       "    <tr>\n",
       "      <th>1</th>\n",
       "      <td>Albania</td>\n",
       "      <td>8</td>\n",
       "      <td>0.762</td>\n",
       "      <td>1</td>\n",
       "      <td>EastEurope</td>\n",
       "    </tr>\n",
       "    <tr>\n",
       "      <th>2</th>\n",
       "      <td>Algeria</td>\n",
       "      <td>12</td>\n",
       "      <td>0.743</td>\n",
       "      <td>3</td>\n",
       "      <td>NorthAfrica</td>\n",
       "    </tr>\n",
       "    <tr>\n",
       "      <th>3</th>\n",
       "      <td>Andorra</td>\n",
       "      <td>20</td>\n",
       "      <td>0.857</td>\n",
       "      <td>5</td>\n",
       "      <td>WesternDem</td>\n",
       "    </tr>\n",
       "    <tr>\n",
       "      <th>4</th>\n",
       "      <td>Angola</td>\n",
       "      <td>24</td>\n",
       "      <td>0.531</td>\n",
       "      <td>4</td>\n",
       "      <td>SudSaharian</td>\n",
       "    </tr>\n",
       "  </tbody>\n",
       "</table>\n",
       "</div>"
      ],
      "text/plain": [
       "         cname  ccode  undp_hdi  ht_region region_record\n",
       "0  Afghanistan      4     0.479          8      SoutAsia\n",
       "1      Albania      8     0.762          1    EastEurope\n",
       "2      Algeria     12     0.743          3   NorthAfrica\n",
       "3      Andorra     20     0.857          5    WesternDem\n",
       "4       Angola     24     0.531          4   SudSaharian"
      ]
     },
     "execution_count": 415,
     "metadata": {},
     "output_type": "execute_result"
    }
   ],
   "source": [
    "hdi_group.head()"
   ]
  },
  {
   "cell_type": "code",
   "execution_count": 416,
   "metadata": {},
   "outputs": [
    {
     "data": {
      "text/plain": [
       "region_record\n",
       "Caribbean        0.741154\n",
       "EastAsia         0.817000\n",
       "EastEurope       0.780679\n",
       "LatAm            0.721500\n",
       "NorthAfrica      0.748300\n",
       "Pacific          0.643000\n",
       "SoutAsia         0.605125\n",
       "SouthEastAsia    0.695545\n",
       "SudSaharian      0.508813\n",
       "WesternDem       0.902360\n",
       "Name: undp_hdi, dtype: float64"
      ]
     },
     "execution_count": 416,
     "metadata": {},
     "output_type": "execute_result"
    }
   ],
   "source": [
    "hdi_group.groupby('region_record')['undp_hdi'].mean()"
   ]
  },
  {
   "cell_type": "code",
   "execution_count": 417,
   "metadata": {},
   "outputs": [
    {
     "name": "stdout",
     "output_type": "stream",
     "text": [
      "SoutAsia 0.6051249925\n",
      "EastEurope 0.7806785735714287\n",
      "NorthAfrica 0.7483000004999999\n",
      "WesternDem 0.9023600028000002\n",
      "SudSaharian 0.50881250125\n",
      "Caribbean 0.7411538446153846\n",
      "LatAm 0.7215000034999999\n",
      "Pacific 0.6430000066666666\n",
      "SouthEastAsia 0.6955454572727272\n",
      "EastAsia 0.8170000024999999\n"
     ]
    }
   ],
   "source": [
    "for i in hdi_group['region_record'].unique():\n",
    "    print(i, hdi_group[hdi_group['region_record'] == i]['undp_hdi'].mean())"
   ]
  },
  {
   "cell_type": "code",
   "execution_count": 418,
   "metadata": {},
   "outputs": [
    {
     "data": {
      "text/plain": [
       "region_record\n",
       "Caribbean        0.741154\n",
       "EastAsia         0.817000\n",
       "EastEurope       0.780679\n",
       "LatAm            0.721500\n",
       "NorthAfrica      0.748300\n",
       "Pacific          0.643000\n",
       "SoutAsia         0.605125\n",
       "SouthEastAsia    0.695545\n",
       "SudSaharian      0.508813\n",
       "WesternDem       0.902360\n",
       "Name: undp_hdi, dtype: float64"
      ]
     },
     "execution_count": 418,
     "metadata": {},
     "output_type": "execute_result"
    }
   ],
   "source": [
    "hdi_groupby_means = hdi_group.groupby('region_record')['undp_hdi'].mean()\n",
    "hdi_groupby_means"
   ]
  },
  {
   "cell_type": "code",
   "execution_count": 419,
   "metadata": {},
   "outputs": [
    {
     "data": {
      "text/plain": [
       "<matplotlib.lines.Line2D at 0x1ad46c29db0>"
      ]
     },
     "execution_count": 419,
     "metadata": {},
     "output_type": "execute_result"
    },
    {
     "data": {
      "image/png": "[encoded data removed]",
      "text/plain": [
       "<Figure size 432x288 with 1 Axes>"
      ]
     },
     "metadata": {
      "needs_background": "light"
     },
     "output_type": "display_data"
    }
   ],
   "source": [
    "plt.plot(hdi_groupby_means.values, hdi_groupby_means.index, 'o')\n",
    "plt.axvline(hdi_group['undp_hdi'].mean(), color = 'tomato', linestyle = '--')"
   ]
  },
  {
   "cell_type": "code",
   "execution_count": 420,
   "metadata": {},
   "outputs": [
    {
     "name": "stdout",
     "output_type": "stream",
     "text": [
      "\n",
      "La media de IDH es de: 0.6958010768279569\n",
      "Y su varianza es de: 0.02411465796313719\n"
     ]
    }
   ],
   "source": [
    "mu = hdi_dropna.mean()\n",
    "sigma = hdi_dropna.var()\n",
    "print(f'''\n",
    "La media de IDH es de: {mu}\n",
    "Y su varianza es de: {sigma}''')"
   ]
  },
  {
   "cell_type": "code",
   "execution_count": 421,
   "metadata": {},
   "outputs": [
    {
     "data": {
      "text/plain": [
       "(0.3, 1.0)"
      ]
     },
     "execution_count": 421,
     "metadata": {},
     "output_type": "execute_result"
    },
    {
     "data": {
      "image/png": "[encoded data removed]",
      "text/plain": [
       "<Figure size 432x288 with 1 Axes>"
      ]
     },
     "metadata": {
      "needs_background": "light"
     },
     "output_type": "display_data"
    }
   ],
   "source": [
    "simulate_normal = np.random.normal(mu, np.sqrt(sigma), 1000)\n",
    "plt.hist(simulate_normal, color='lightgrey', alpha = .4)\n",
    "plt.xlim(.3, 1)\n",
    "\n",
    "\n"
   ]
  },
  {
   "cell_type": "code",
   "execution_count": 422,
   "metadata": {},
   "outputs": [
    {
     "data": {
      "text/plain": [
       "[<matplotlib.lines.Line2D at 0x1ad44158400>]"
      ]
     },
     "execution_count": 422,
     "metadata": {},
     "output_type": "execute_result"
    },
    {
     "data": {
      "image/png": "[encoded data removed]",
      "text/plain": [
       "<Figure size 432x288 with 1 Axes>"
      ]
     },
     "metadata": {
      "needs_background": "light"
     },
     "output_type": "display_data"
    }
   ],
   "source": [
    "x_axis_s = np.linspace(.3, 1, 1000)\n",
    "simulate_normal_pdf = norm.pdf(x_axis_s,mu,np.sqrt(sigma))\n",
    "plt.plot(x_axis_s, simulate_normal_pdf, color = 'tomato', lw = 3)"
   ]
  },
  {
   "cell_type": "code",
   "execution_count": 423,
   "metadata": {},
   "outputs": [
    {
     "data": {
      "text/plain": [
       "[<matplotlib.lines.Line2D at 0x1ad43f77e50>]"
      ]
     },
     "execution_count": 423,
     "metadata": {},
     "output_type": "execute_result"
    },
    {
     "data": {
      "image/png": "[encoded data removed]",
      "text/plain": [
       "<Figure size 432x288 with 1 Axes>"
      ]
     },
     "metadata": {
      "needs_background": "light"
     },
     "output_type": "display_data"
    }
   ],
   "source": [
    "plt.hist(hdi_dropna, color = 'lightgrey', alpha = .4)\n",
    "x_axis = np.linspace(.3,1,100)\n",
    "gauss_norm = gaussian_kde(hdi_dropna)\n",
    "Z = (np.reshape(gauss_norm(x_axis).T,x_axis.shape)) * 10\n",
    "plt.plot(x_axis, Z, color = 'tomato', lw = 3)"
   ]
  },
  {
   "cell_type": "code",
   "execution_count": 424,
   "metadata": {},
   "outputs": [
    {
     "data": {
      "image/png": "[encoded data removed]",
      "text/plain": [
       "<Figure size 1008x432 with 2 Axes>"
      ]
     },
     "metadata": {
      "needs_background": "light"
     },
     "output_type": "display_data"
    }
   ],
   "source": [
    "plt.figure(figsize = (14,6))\n",
    "gfx.normal_distributions()"
   ]
  },
  {
   "cell_type": "code",
   "execution_count": 425,
   "metadata": {},
   "outputs": [
    {
     "data": {
      "text/plain": [
       "(array([115.,  35.,  15.,  16.,   5.,   3.,   0.,   0.,   0.,   3.]),\n",
       " array([   324.16 ,  11139.857,  21955.554,  32771.251,  43586.948,\n",
       "         54402.645,  65218.342,  76034.039,  86849.736,  97665.433,\n",
       "        108481.13 ]),\n",
       " <BarContainer object of 10 artists>)"
      ]
     },
     "execution_count": 425,
     "metadata": {},
     "output_type": "execute_result"
    },
    {
     "data": {
      "image/png": "[encoded data removed]",
      "text/plain": [
       "<Figure size 432x288 with 1 Axes>"
      ]
     },
     "metadata": {
      "needs_background": "light"
     },
     "output_type": "display_data"
    }
   ],
   "source": [
    "gdp = df['gle_cgdpc'].dropna()\n",
    "plt.hist(gdp)"
   ]
  },
  {
   "cell_type": "code",
   "execution_count": 426,
   "metadata": {},
   "outputs": [
    {
     "data": {
      "text/plain": [
       "(array([ 3., 14., 19., 24., 27., 26., 30., 25., 19.,  5.]),\n",
       " array([ 5.78123722,  6.36254665,  6.94385608,  7.52516551,  8.10647494,\n",
       "         8.68778437,  9.2690938 ,  9.85040323, 10.43171266, 11.01302209,\n",
       "        11.59433152]),\n",
       " <BarContainer object of 10 artists>)"
      ]
     },
     "execution_count": 426,
     "metadata": {},
     "output_type": "execute_result"
    },
    {
     "data": {
      "image/png": "[encoded data removed]",
      "text/plain": [
       "<Figure size 432x288 with 1 Axes>"
      ]
     },
     "metadata": {
      "needs_background": "light"
     },
     "output_type": "display_data"
    }
   ],
   "source": [
    "plt.hist(np.log(gdp))"
   ]
  },
  {
   "cell_type": "code",
   "execution_count": 427,
   "metadata": {},
   "outputs": [
    {
     "data": {
      "text/plain": [
       "Text(0.5, 1.0, 'GDP')"
      ]
     },
     "execution_count": 427,
     "metadata": {},
     "output_type": "execute_result"
    },
    {
     "data": {
      "image/png": "[encoded data removed]",
      "text/plain": [
       "<Figure size 432x288 with 2 Axes>"
      ]
     },
     "metadata": {
      "needs_background": "light"
     },
     "output_type": "display_data"
    }
   ],
   "source": [
    "plt.subplot(2,1,1)\n",
    "plt.hist(np.log(gdp))\n",
    "plt.title('log(GDP)')\n",
    "plt.subplot(2,1,2)\n",
    "plt.hist(gdp)\n",
    "plt.title('GDP')"
   ]
  },
  {
   "cell_type": "code",
   "execution_count": 428,
   "metadata": {},
   "outputs": [
    {
     "data": {
      "image/png": "[encoded data removed]",
      "text/plain": [
       "<Figure size 720x432 with 1 Axes>"
      ]
     },
     "metadata": {
      "needs_background": "light"
     },
     "output_type": "display_data"
    }
   ],
   "source": [
    "plt.figure(figsize = (10,6))\n",
    "gfx.normal_distribution_sigma()"
   ]
  },
  {
   "cell_type": "code",
   "execution_count": 429,
   "metadata": {},
   "outputs": [
    {
     "data": {
      "text/plain": [
       "35    0.845\n",
       "Name: undp_hdi, dtype: float64"
      ]
     },
     "execution_count": 429,
     "metadata": {},
     "output_type": "execute_result"
    }
   ],
   "source": [
    "chile_hdi = df[df['cname'] == 'Chile']['undp_hdi']\n",
    "chile_hdi"
   ]
  },
  {
   "cell_type": "code",
   "execution_count": 430,
   "metadata": {},
   "outputs": [
    {
     "data": {
      "text/plain": [
       "35    0.960783\n",
       "Name: undp_hdi, dtype: float64"
      ]
     },
     "execution_count": 430,
     "metadata": {},
     "output_type": "execute_result"
    }
   ],
   "source": [
    "chile_zscore = (chile_hdi - df['undp_hdi'].mean()) / df['undp_hdi'].std()\n",
    "chile_zscore"
   ]
  },
  {
   "cell_type": "code",
   "execution_count": 431,
   "metadata": {},
   "outputs": [],
   "source": [
    "def get_zscore(col, case):\n",
    "    get_point = df[df['cname'] == case][col]\n",
    "    preproc = df[col].dropna()\n",
    "    get_mean = preproc.mean()\n",
    "    get_std = preproc.std()\n",
    "    return (get_point - get_mean) / get_std"
   ]
  },
  {
   "cell_type": "code",
   "execution_count": 432,
   "metadata": {},
   "outputs": [
    {
     "data": {
      "text/plain": [
       "35    False\n",
       "Name: undp_hdi, dtype: bool"
      ]
     },
     "execution_count": 432,
     "metadata": {},
     "output_type": "execute_result"
    }
   ],
   "source": [
    "chile_zscore == get_zscore('undp_hdi', 'Chile')"
   ]
  }
 ],
 "metadata": {
  "kernelspec": {
   "display_name": "Python 3.10.5 64-bit",
   "language": "python",
   "name": "python3"
  },
  "language_info": {
   "codemirror_mode": {
    "name": "ipython",
    "version": 3
   },
   "file_extension": ".py",
   "mimetype": "text/x-python",
   "name": "python",
   "nbconvert_exporter": "python",
   "pygments_lexer": "ipython3",
   "version": "3.10.5"
  },
  "orig_nbformat": 4,
  "vscode": {
   "interpreter": {
    "hash": "5fe23d4cdea1a1fdeea398f38169f58ea6e36b10f84ee4017a8f0fee693ee786"
   }
  }
 },
 "nbformat": 4,
 "nbformat_minor": 2
}
