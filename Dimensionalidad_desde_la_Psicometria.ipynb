{
 "cells": [
  {
   "cell_type": "markdown",
   "metadata": {},
   "source": [
    "### Competencias\n",
    "\n",
    "* Entender el problema de la \"maldición de la dimensionalidad\" y sus implicancias para el modelo. \n",
    "* Conocer la aproximación psicométrica del Principal Component Analysis y el Análisis Factorial.\n",
    "\n",
    "#### Introducción\n",
    "\n",
    "A lo largo de esta unidad conoceremos y emplearemos algunas técnicas de aprendizaje no-supervisado. \n",
    "Por esto hacemos referencia a la ausencia de información previa sobre los atributos y/o del vector objetivo. \n",
    "Cuando trabajamos desde esta perspectiva, hablamos de \"dimensiones latentes\" como atributos existentes pero no medibles.\n",
    "\n",
    "Dos ejemplos de aprendizaje no-supervisado pueden ser las disciplinas de reducción de dimensionalidad y clustering.\n",
    "Hablamos de técnicas de reducción de dimensionalidad cuando el objetivo es minimizar una gran cantidad de atributos en una serie de \n",
    "dimensiones sustancialmente menores.\n",
    "\n",
    "Las técnicas de clustering buscan agrupar los puntos en distintos conjuntos de datos dado reglas de similitud o diferencias.\n",
    "\n",
    "#### Maldición de la Dimensionalidad\n",
    "Los algoritmos que implementamos operan en un número finito de dimensiones que se establecen en una serie de espacios d-dimensionales, \n",
    "un problema en varias áreas relacionadas a las que estamos estudiando surge cuando este número de dimensiones aumenta mucho en comparación \n",
    "con la cantidad de ejemplos, al aumentar la dimensionalidad en la que se representan los datos el “volumen” del espacio aumenta de forma \n",
    "exponencial ya que la cantidad de combinaciones posibles entre los valores que pueden tomar las dimensiones (columnas) de los ejemplos de \n",
    "la muestra es mucho mayor a la cantidad de ejemplos en la misma, por lo tanto, puntos en este espacio hiperdimensional estarán dispersos \n",
    "(manteniendo en nuestro ejemplo siempre una cantidad constante de ejemplos en la muestra). Este fenómeno se conoce como la maldición de la\n",
    "dimensionalidad.\n",
    "\n",
    "El problema es que la convergencia de cualquier estimador al parámetro verdadero de una función definida en un espacio d-dimensional es \n",
    "muy lento dado al exceso de atributos y falta de observaciones. Ejemplifiquemos la distancia entre puntos cuando aumentamos la cantidad \n",
    "de dimensiones. Para ello implementamos la función sim_distance.\n",
    "\n",
    "La función simula una serie finita de 1000 puntos aleatorios en un cubo y estima sus distancias. Evaluaremos la función cuando tenemos \n",
    "2, 10, 100 y 1000 atributos. La función retorna un histograma de la distancia y la recta roja señala la media de la distancia. En la\n",
    "medida que aumentamos artificialmente la cantidad de dimensiones, la distancia promedio entre dos puntos aumenta substancialmente.\n",
    "\n"
   ]
  },
  {
   "cell_type": "code",
   "execution_count": 82,
   "metadata": {},
   "outputs": [],
   "source": [
    "import pandas as pd\n",
    "import numpy as np\n",
    "import matplotlib.pyplot as plt\n",
    "%matplotlib inline\n",
    "import factor_analyzer as factor\n",
    "import missingno as msngo\n",
    "import scipy.stats as stats\n",
    "import seaborn as sns\n",
    "import lec7_graphs as gfx\n",
    "import warnings\n",
    "warnings.filterwarnings(action=\"ignore\")\n",
    "plt.style.use('seaborn')"
   ]
  },
  {
   "cell_type": "code",
   "execution_count": 83,
   "metadata": {},
   "outputs": [
    {
     "data": {
      "image/png": "[encoded data removed]",
      "text/plain": [
       "<Figure size 576x396 with 4 Axes>"
      ]
     },
     "metadata": {},
     "output_type": "display_data"
    }
   ],
   "source": [
    "for i, e in enumerate([2, 10, 100, 1000]):\n",
    "        plt.subplot(2,2, i+1)\n",
    "        gfx.sim_distance(e)\n",
    "        plt.tight_layout()\n"
   ]
  },
  {
   "cell_type": "markdown",
   "metadata": {},
   "source": [
    "Digresión: Bendiciones de la dimensionalidad\n",
    "\n",
    "No todo lo asociado con la dimensionalidad es negativo. Donoho (2000) sugiere que un\n",
    "problema a investigar con más dimensiones que observaciones permite concentrar las\n",
    "mediciones en dimensiones que capturen distintos aspectos de los atributos.\n",
    "\n",
    "Trabajando con la dimensionalidad\n",
    "\n",
    "Existen dos escuelas de análisis frente a la dimensionalidad. Una escuela psicométrica,\n",
    "enfocada en la identificación de \"factores causales\" condicionales a un conjunto d >> n de\n",
    "datos. La otra escuela, más cercana a las ciencias de la computación busca redimensionar\n",
    "los factores latentes mediante la maximización de la varianza.\n",
    "\n",
    "Análisis Factorial: La visión psicométrica\n",
    "\n",
    "El análisis factorial busca extraer información sobre la variabilidad del conjunto finito de\n",
    "variables, y transformarla en una serie de factores latentes (o no-observables\n",
    "empíricamente). Para ello, el análisis busca la variación conjunta de dos variables en\n",
    "respuesta a un factor específico. Las variables observadas se modelan como una\n",
    "combinación lineal de los factores y errores.\n",
    "\n",
    "Si deseamos analizar cómo una serie de variables observadas X están asociadas de forma\n",
    "lineal a una cantidad finita de factores f, empleamos el siguiente sistema de ecuaciones.\n",
    "\n",
    "$$ X_1 = \\lambda_{10} + \\lambda_{11}f_1 + ... \\lambda_{k}f_k + \\epsilon_1 $$\n",
    "$$ X_1 = \\lambda_{20} + \\lambda_{21}f_1 + ... \\lambda_{2k}f_k + \\epsilon_2 $$\n",
    "$$\\vdots$$\n",
    "$$ X_n = \\lambda_{n} + \\lambda_{n}f_1 + ... \\lambda_{nk}f_k + \\epsilon_n $$\n",
    "\n",
    "Donde λ representa la carga asociada a la combinación lineal y ε representa el error en la\n",
    "medición del constructo.\n",
    "\n",
    "#### Implementando un análisis de factores con factor_analyzer\n",
    "A lo largo de esta sección, trabajaremos con una encuesta del Centro de Estudios Públicos\n",
    "realizada en Junio del 2003. Parte de la batería de preguntas está asociada a preguntas\n",
    "sobre el nivel de confianza institucional.\n",
    "\n",
    "Las preguntas se refieren la evaluación en una serie de instituciones de la sociedad civil, tales como:\n",
    "\n",
    "* p17_a: La Iglesia Católica.\n",
    "* p17_b: La Iglesia Evangélica.\n",
    "* p17_c: Las Fuerzas Armadas.\n",
    "* p17_d: Los Tribunales de Justicia.\n",
    "* p17_e: La Prensa Escrita.\n",
    "* p17_f: La Televisión.\n",
    "* p17_g: Los Sindicatos.\n",
    "* p17_h: Los Carabineros.\n",
    "* p17_i: El Gobierno.\n",
    "* p17_j: Los Partidos Políticos.\n",
    "* p17_k: El Congreso.\n",
    "* p17_l: Las Empresas.\n",
    "* p17_m: Las Universidades.\n",
    "* p17_n: La Radio.\n",
    "\n",
    "Cada una de estas preguntas se evaluó en una escala entre 1 (Mucha Confianza), 2\n",
    "(Bastante Confianza), 3 (No Mucha Confianza), 4 (Ninguna Confianza). Las categorías 8 (No\n",
    "sabe), 9 (No contesta) representan valores perdidos.\n",
    "Para implementar un análisis factorial en Python, utilizaremos la librería factor_analyzer.\n",
    "\n",
    "Hay una característica no menor del análisis factorial: las variables deben compartir la\n",
    "misma escala. Para este ejemplo no es un problema mayor, dado que emergen de un diseño\n",
    "estadístico deliberado y las variables contienen una estructura coherente. Aún así,\n",
    "podríamos estar ante la eventualidad de variables en distintas escalas. Una alternativa\n",
    "viable es estandarizar todas las variables a incorporar en el análisis factorial.\n",
    "\n",
    "Digresión: Estandarizando un conjunto de variables\n",
    "Ante la eventualidad de estandarizar, la opción más viable es mapear una función a lo largo\n",
    "del conjunto de variables. Esto se puede lograr con:\n",
    "df.loc[:, 'conjunto':'variables'].applymap(lambda x: stats.zscore(x))\n"
   ]
  },
  {
   "cell_type": "code",
   "execution_count": 84,
   "metadata": {},
   "outputs": [
    {
     "data": {
      "text/html": [
       "<div>\n",
       "<style scoped>\n",
       "    .dataframe tbody tr th:only-of-type {\n",
       "        vertical-align: middle;\n",
       "    }\n",
       "\n",
       "    .dataframe tbody tr th {\n",
       "        vertical-align: top;\n",
       "    }\n",
       "\n",
       "    .dataframe thead th {\n",
       "        text-align: right;\n",
       "    }\n",
       "</style>\n",
       "<table border=\"1\" class=\"dataframe\">\n",
       "  <thead>\n",
       "    <tr style=\"text-align: right;\">\n",
       "      <th></th>\n",
       "      <th>corr</th>\n",
       "      <th>filtro</th>\n",
       "      <th>psu</th>\n",
       "      <th>region</th>\n",
       "      <th>p1_1</th>\n",
       "      <th>p1_2</th>\n",
       "      <th>p1_3</th>\n",
       "      <th>p2</th>\n",
       "      <th>p3</th>\n",
       "      <th>p4</th>\n",
       "      <th>...</th>\n",
       "      <th>de14_b</th>\n",
       "      <th>de14_c</th>\n",
       "      <th>de14_d</th>\n",
       "      <th>de14_e</th>\n",
       "      <th>de14_f</th>\n",
       "      <th>de15</th>\n",
       "      <th>de16</th>\n",
       "      <th>de17</th>\n",
       "      <th>b5</th>\n",
       "      <th>pond</th>\n",
       "    </tr>\n",
       "  </thead>\n",
       "  <tbody>\n",
       "    <tr>\n",
       "      <th>0</th>\n",
       "      <td>1</td>\n",
       "      <td>937</td>\n",
       "      <td>150</td>\n",
       "      <td>13</td>\n",
       "      <td>9</td>\n",
       "      <td>3</td>\n",
       "      <td>6</td>\n",
       "      <td>1</td>\n",
       "      <td>3</td>\n",
       "      <td>2</td>\n",
       "      <td>...</td>\n",
       "      <td>2</td>\n",
       "      <td>2</td>\n",
       "      <td>2</td>\n",
       "      <td>2</td>\n",
       "      <td>2</td>\n",
       "      <td>6</td>\n",
       "      <td>4</td>\n",
       "      <td>4</td>\n",
       "      <td>1</td>\n",
       "      <td>0.782461</td>\n",
       "    </tr>\n",
       "    <tr>\n",
       "      <th>1</th>\n",
       "      <td>2</td>\n",
       "      <td>938</td>\n",
       "      <td>150</td>\n",
       "      <td>13</td>\n",
       "      <td>7</td>\n",
       "      <td>6</td>\n",
       "      <td>3</td>\n",
       "      <td>2</td>\n",
       "      <td>2</td>\n",
       "      <td>1</td>\n",
       "      <td>...</td>\n",
       "      <td>2</td>\n",
       "      <td>2</td>\n",
       "      <td>1</td>\n",
       "      <td>2</td>\n",
       "      <td>2</td>\n",
       "      <td>8</td>\n",
       "      <td>4</td>\n",
       "      <td>4</td>\n",
       "      <td>1</td>\n",
       "      <td>1.157864</td>\n",
       "    </tr>\n",
       "    <tr>\n",
       "      <th>2</th>\n",
       "      <td>3</td>\n",
       "      <td>939</td>\n",
       "      <td>150</td>\n",
       "      <td>13</td>\n",
       "      <td>3</td>\n",
       "      <td>6</td>\n",
       "      <td>9</td>\n",
       "      <td>2</td>\n",
       "      <td>2</td>\n",
       "      <td>3</td>\n",
       "      <td>...</td>\n",
       "      <td>2</td>\n",
       "      <td>2</td>\n",
       "      <td>2</td>\n",
       "      <td>2</td>\n",
       "      <td>2</td>\n",
       "      <td>9</td>\n",
       "      <td>6</td>\n",
       "      <td>4</td>\n",
       "      <td>1</td>\n",
       "      <td>1.204037</td>\n",
       "    </tr>\n",
       "    <tr>\n",
       "      <th>3</th>\n",
       "      <td>4</td>\n",
       "      <td>1096</td>\n",
       "      <td>182</td>\n",
       "      <td>13</td>\n",
       "      <td>3</td>\n",
       "      <td>4</td>\n",
       "      <td>11</td>\n",
       "      <td>3</td>\n",
       "      <td>2</td>\n",
       "      <td>2</td>\n",
       "      <td>...</td>\n",
       "      <td>2</td>\n",
       "      <td>2</td>\n",
       "      <td>2</td>\n",
       "      <td>2</td>\n",
       "      <td>2</td>\n",
       "      <td>6</td>\n",
       "      <td>3</td>\n",
       "      <td>3</td>\n",
       "      <td>1</td>\n",
       "      <td>1.025330</td>\n",
       "    </tr>\n",
       "    <tr>\n",
       "      <th>4</th>\n",
       "      <td>5</td>\n",
       "      <td>1097</td>\n",
       "      <td>182</td>\n",
       "      <td>13</td>\n",
       "      <td>6</td>\n",
       "      <td>11</td>\n",
       "      <td>7</td>\n",
       "      <td>3</td>\n",
       "      <td>1</td>\n",
       "      <td>1</td>\n",
       "      <td>...</td>\n",
       "      <td>2</td>\n",
       "      <td>2</td>\n",
       "      <td>2</td>\n",
       "      <td>2</td>\n",
       "      <td>2</td>\n",
       "      <td>6</td>\n",
       "      <td>3</td>\n",
       "      <td>3</td>\n",
       "      <td>1</td>\n",
       "      <td>1.204037</td>\n",
       "    </tr>\n",
       "  </tbody>\n",
       "</table>\n",
       "<p>5 rows × 188 columns</p>\n",
       "</div>"
      ],
      "text/plain": [
       "   corr  filtro  psu  region  p1_1  p1_2  p1_3  p2  p3  p4  ...  de14_b  \\\n",
       "0     1     937  150      13     9     3     6   1   3   2  ...       2   \n",
       "1     2     938  150      13     7     6     3   2   2   1  ...       2   \n",
       "2     3     939  150      13     3     6     9   2   2   3  ...       2   \n",
       "3     4    1096  182      13     3     4    11   3   2   2  ...       2   \n",
       "4     5    1097  182      13     6    11     7   3   1   1  ...       2   \n",
       "\n",
       "   de14_c  de14_d  de14_e  de14_f  de15  de16  de17  b5      pond  \n",
       "0       2       2       2       2     6     4     4   1  0.782461  \n",
       "1       2       1       2       2     8     4     4   1  1.157864  \n",
       "2       2       2       2       2     9     6     4   1  1.204037  \n",
       "3       2       2       2       2     6     3     3   1  1.025330  \n",
       "4       2       2       2       2     6     3     3   1  1.204037  \n",
       "\n",
       "[5 rows x 188 columns]"
      ]
     },
     "execution_count": 84,
     "metadata": {},
     "output_type": "execute_result"
    }
   ],
   "source": [
    "df = pd.read_csv('datasets/cep45.csv')\n",
    "df.head()"
   ]
  },
  {
   "cell_type": "code",
   "execution_count": 85,
   "metadata": {},
   "outputs": [
    {
     "data": {
      "text/plain": [
       "(1503, 188)"
      ]
     },
     "execution_count": 85,
     "metadata": {},
     "output_type": "execute_result"
    }
   ],
   "source": [
    "df.shape"
   ]
  },
  {
   "cell_type": "code",
   "execution_count": 87,
   "metadata": {},
   "outputs": [
    {
     "data": {
      "text/html": [
       "<div>\n",
       "<style scoped>\n",
       "    .dataframe tbody tr th:only-of-type {\n",
       "        vertical-align: middle;\n",
       "    }\n",
       "\n",
       "    .dataframe tbody tr th {\n",
       "        vertical-align: top;\n",
       "    }\n",
       "\n",
       "    .dataframe thead th {\n",
       "        text-align: right;\n",
       "    }\n",
       "</style>\n",
       "<table border=\"1\" class=\"dataframe\">\n",
       "  <thead>\n",
       "    <tr style=\"text-align: right;\">\n",
       "      <th></th>\n",
       "      <th>corr</th>\n",
       "      <th>filtro</th>\n",
       "      <th>psu</th>\n",
       "      <th>region</th>\n",
       "      <th>p1_1</th>\n",
       "      <th>p1_2</th>\n",
       "      <th>p1_3</th>\n",
       "      <th>p2</th>\n",
       "      <th>p3</th>\n",
       "      <th>p4</th>\n",
       "      <th>...</th>\n",
       "      <th>de14_b</th>\n",
       "      <th>de14_c</th>\n",
       "      <th>de14_d</th>\n",
       "      <th>de14_e</th>\n",
       "      <th>de14_f</th>\n",
       "      <th>de15</th>\n",
       "      <th>de16</th>\n",
       "      <th>de17</th>\n",
       "      <th>b5</th>\n",
       "      <th>pond</th>\n",
       "    </tr>\n",
       "  </thead>\n",
       "  <tbody>\n",
       "    <tr>\n",
       "      <th>count</th>\n",
       "      <td>1503.000000</td>\n",
       "      <td>1503.000000</td>\n",
       "      <td>1503.000000</td>\n",
       "      <td>1503.000000</td>\n",
       "      <td>1503.000000</td>\n",
       "      <td>1503.000000</td>\n",
       "      <td>1503.000000</td>\n",
       "      <td>1503.000000</td>\n",
       "      <td>1503.000000</td>\n",
       "      <td>1503.000000</td>\n",
       "      <td>...</td>\n",
       "      <td>1503.000000</td>\n",
       "      <td>1503.000000</td>\n",
       "      <td>1503.000000</td>\n",
       "      <td>1503.000000</td>\n",
       "      <td>1503.000000</td>\n",
       "      <td>1503.000000</td>\n",
       "      <td>1503.000000</td>\n",
       "      <td>1503.000000</td>\n",
       "      <td>1503.000000</td>\n",
       "      <td>1503.000000</td>\n",
       "    </tr>\n",
       "    <tr>\n",
       "      <th>mean</th>\n",
       "      <td>752.000000</td>\n",
       "      <td>753.267465</td>\n",
       "      <td>150.953426</td>\n",
       "      <td>9.187625</td>\n",
       "      <td>6.913506</td>\n",
       "      <td>7.504325</td>\n",
       "      <td>7.936793</td>\n",
       "      <td>2.489022</td>\n",
       "      <td>2.048570</td>\n",
       "      <td>1.913506</td>\n",
       "      <td>...</td>\n",
       "      <td>2.131071</td>\n",
       "      <td>2.108450</td>\n",
       "      <td>1.924817</td>\n",
       "      <td>2.064538</td>\n",
       "      <td>2.137725</td>\n",
       "      <td>18.617432</td>\n",
       "      <td>4.061876</td>\n",
       "      <td>3.489687</td>\n",
       "      <td>1.139055</td>\n",
       "      <td>1.000000</td>\n",
       "    </tr>\n",
       "    <tr>\n",
       "      <th>std</th>\n",
       "      <td>434.023041</td>\n",
       "      <td>434.827153</td>\n",
       "      <td>86.900408</td>\n",
       "      <td>3.747622</td>\n",
       "      <td>4.805730</td>\n",
       "      <td>5.853273</td>\n",
       "      <td>6.943705</td>\n",
       "      <td>0.899611</td>\n",
       "      <td>1.372998</td>\n",
       "      <td>1.258462</td>\n",
       "      <td>...</td>\n",
       "      <td>0.984967</td>\n",
       "      <td>0.999108</td>\n",
       "      <td>1.089993</td>\n",
       "      <td>1.024578</td>\n",
       "      <td>0.999498</td>\n",
       "      <td>30.589297</td>\n",
       "      <td>2.053098</td>\n",
       "      <td>0.837531</td>\n",
       "      <td>0.346119</td>\n",
       "      <td>0.189577</td>\n",
       "    </tr>\n",
       "    <tr>\n",
       "      <th>min</th>\n",
       "      <td>1.000000</td>\n",
       "      <td>1.000000</td>\n",
       "      <td>1.000000</td>\n",
       "      <td>1.000000</td>\n",
       "      <td>1.000000</td>\n",
       "      <td>1.000000</td>\n",
       "      <td>1.000000</td>\n",
       "      <td>1.000000</td>\n",
       "      <td>1.000000</td>\n",
       "      <td>1.000000</td>\n",
       "      <td>...</td>\n",
       "      <td>1.000000</td>\n",
       "      <td>1.000000</td>\n",
       "      <td>1.000000</td>\n",
       "      <td>1.000000</td>\n",
       "      <td>1.000000</td>\n",
       "      <td>1.000000</td>\n",
       "      <td>1.000000</td>\n",
       "      <td>1.000000</td>\n",
       "      <td>1.000000</td>\n",
       "      <td>0.659186</td>\n",
       "    </tr>\n",
       "    <tr>\n",
       "      <th>25%</th>\n",
       "      <td>376.500000</td>\n",
       "      <td>376.500000</td>\n",
       "      <td>76.000000</td>\n",
       "      <td>6.000000</td>\n",
       "      <td>3.000000</td>\n",
       "      <td>5.000000</td>\n",
       "      <td>5.000000</td>\n",
       "      <td>2.000000</td>\n",
       "      <td>1.000000</td>\n",
       "      <td>1.000000</td>\n",
       "      <td>...</td>\n",
       "      <td>2.000000</td>\n",
       "      <td>2.000000</td>\n",
       "      <td>2.000000</td>\n",
       "      <td>2.000000</td>\n",
       "      <td>2.000000</td>\n",
       "      <td>5.000000</td>\n",
       "      <td>3.000000</td>\n",
       "      <td>3.000000</td>\n",
       "      <td>1.000000</td>\n",
       "      <td>0.782461</td>\n",
       "    </tr>\n",
       "    <tr>\n",
       "      <th>50%</th>\n",
       "      <td>752.000000</td>\n",
       "      <td>754.000000</td>\n",
       "      <td>151.000000</td>\n",
       "      <td>9.000000</td>\n",
       "      <td>6.000000</td>\n",
       "      <td>7.000000</td>\n",
       "      <td>7.000000</td>\n",
       "      <td>3.000000</td>\n",
       "      <td>2.000000</td>\n",
       "      <td>2.000000</td>\n",
       "      <td>...</td>\n",
       "      <td>2.000000</td>\n",
       "      <td>2.000000</td>\n",
       "      <td>2.000000</td>\n",
       "      <td>2.000000</td>\n",
       "      <td>2.000000</td>\n",
       "      <td>7.000000</td>\n",
       "      <td>4.000000</td>\n",
       "      <td>4.000000</td>\n",
       "      <td>1.000000</td>\n",
       "      <td>1.037718</td>\n",
       "    </tr>\n",
       "    <tr>\n",
       "      <th>75%</th>\n",
       "      <td>1127.500000</td>\n",
       "      <td>1129.500000</td>\n",
       "      <td>226.000000</td>\n",
       "      <td>13.000000</td>\n",
       "      <td>10.000000</td>\n",
       "      <td>10.000000</td>\n",
       "      <td>10.000000</td>\n",
       "      <td>3.000000</td>\n",
       "      <td>2.000000</td>\n",
       "      <td>2.000000</td>\n",
       "      <td>...</td>\n",
       "      <td>2.000000</td>\n",
       "      <td>2.000000</td>\n",
       "      <td>2.000000</td>\n",
       "      <td>2.000000</td>\n",
       "      <td>2.000000</td>\n",
       "      <td>10.500000</td>\n",
       "      <td>5.000000</td>\n",
       "      <td>4.000000</td>\n",
       "      <td>1.000000</td>\n",
       "      <td>1.157864</td>\n",
       "    </tr>\n",
       "    <tr>\n",
       "      <th>max</th>\n",
       "      <td>1503.000000</td>\n",
       "      <td>1505.000000</td>\n",
       "      <td>301.000000</td>\n",
       "      <td>13.000000</td>\n",
       "      <td>99.000000</td>\n",
       "      <td>99.000000</td>\n",
       "      <td>99.000000</td>\n",
       "      <td>9.000000</td>\n",
       "      <td>9.000000</td>\n",
       "      <td>9.000000</td>\n",
       "      <td>...</td>\n",
       "      <td>9.000000</td>\n",
       "      <td>9.000000</td>\n",
       "      <td>9.000000</td>\n",
       "      <td>9.000000</td>\n",
       "      <td>9.000000</td>\n",
       "      <td>99.000000</td>\n",
       "      <td>17.000000</td>\n",
       "      <td>5.000000</td>\n",
       "      <td>2.000000</td>\n",
       "      <td>1.446977</td>\n",
       "    </tr>\n",
       "  </tbody>\n",
       "</table>\n",
       "<p>8 rows × 187 columns</p>\n",
       "</div>"
      ],
      "text/plain": [
       "              corr       filtro          psu       region         p1_1  \\\n",
       "count  1503.000000  1503.000000  1503.000000  1503.000000  1503.000000   \n",
       "mean    752.000000   753.267465   150.953426     9.187625     6.913506   \n",
       "std     434.023041   434.827153    86.900408     3.747622     4.805730   \n",
       "min       1.000000     1.000000     1.000000     1.000000     1.000000   \n",
       "25%     376.500000   376.500000    76.000000     6.000000     3.000000   \n",
       "50%     752.000000   754.000000   151.000000     9.000000     6.000000   \n",
       "75%    1127.500000  1129.500000   226.000000    13.000000    10.000000   \n",
       "max    1503.000000  1505.000000   301.000000    13.000000    99.000000   \n",
       "\n",
       "              p1_2         p1_3           p2           p3           p4  ...  \\\n",
       "count  1503.000000  1503.000000  1503.000000  1503.000000  1503.000000  ...   \n",
       "mean      7.504325     7.936793     2.489022     2.048570     1.913506  ...   \n",
       "std       5.853273     6.943705     0.899611     1.372998     1.258462  ...   \n",
       "min       1.000000     1.000000     1.000000     1.000000     1.000000  ...   \n",
       "25%       5.000000     5.000000     2.000000     1.000000     1.000000  ...   \n",
       "50%       7.000000     7.000000     3.000000     2.000000     2.000000  ...   \n",
       "75%      10.000000    10.000000     3.000000     2.000000     2.000000  ...   \n",
       "max      99.000000    99.000000     9.000000     9.000000     9.000000  ...   \n",
       "\n",
       "            de14_b       de14_c       de14_d       de14_e       de14_f  \\\n",
       "count  1503.000000  1503.000000  1503.000000  1503.000000  1503.000000   \n",
       "mean      2.131071     2.108450     1.924817     2.064538     2.137725   \n",
       "std       0.984967     0.999108     1.089993     1.024578     0.999498   \n",
       "min       1.000000     1.000000     1.000000     1.000000     1.000000   \n",
       "25%       2.000000     2.000000     2.000000     2.000000     2.000000   \n",
       "50%       2.000000     2.000000     2.000000     2.000000     2.000000   \n",
       "75%       2.000000     2.000000     2.000000     2.000000     2.000000   \n",
       "max       9.000000     9.000000     9.000000     9.000000     9.000000   \n",
       "\n",
       "              de15         de16         de17           b5         pond  \n",
       "count  1503.000000  1503.000000  1503.000000  1503.000000  1503.000000  \n",
       "mean     18.617432     4.061876     3.489687     1.139055     1.000000  \n",
       "std      30.589297     2.053098     0.837531     0.346119     0.189577  \n",
       "min       1.000000     1.000000     1.000000     1.000000     0.659186  \n",
       "25%       5.000000     3.000000     3.000000     1.000000     0.782461  \n",
       "50%       7.000000     4.000000     4.000000     1.000000     1.037718  \n",
       "75%      10.500000     5.000000     4.000000     1.000000     1.157864  \n",
       "max      99.000000    17.000000     5.000000     2.000000     1.446977  \n",
       "\n",
       "[8 rows x 187 columns]"
      ]
     },
     "execution_count": 87,
     "metadata": {},
     "output_type": "execute_result"
    }
   ],
   "source": [
    "df.describe()"
   ]
  },
  {
   "cell_type": "markdown",
   "metadata": {},
   "source": [
    "Nuestro objetivo es pre procesar y analizar la batería de preguntas asociadas a la confianza\n",
    "institucional. Para ello nos enfocaremos en el comportamiento empírico de las variables y\n",
    "en las tasas de valores perdidos.\n",
    "\n",
    "Dado que trabajaremos de manera reiterada con este conjunto, una buena práctica es\n",
    "separarlo en un nuevo objeto. Ya sabemos cómo segmentar columnas con loc, ahora lo\n",
    "haremos con filter. Dentro de los argumentos de filter implementaremos la opción\n",
    "regex, que emplea expresiones regulares para encontrar patrones comunes entre strings.\n",
    "\n",
    "Para este caso emplearemos un asterisco como comodín.\n",
    "Con nuestra batería seleccionada, grafiquemos el comportamiento de las respuestas\n",
    "utilizando iteritems() como un orientador del loop. Se observa que a lo largo de todas las\n",
    "preguntas las tasas de no respuesta son bajas, no superando el 1% del total de las\n",
    "observaciones.\n"
   ]
  },
  {
   "cell_type": "code",
   "execution_count": 89,
   "metadata": {},
   "outputs": [],
   "source": [
    "trust_df = df.filter(regex=\"p17_*\")"
   ]
  },
  {
   "cell_type": "code",
   "execution_count": 90,
   "metadata": {},
   "outputs": [
    {
     "data": {
      "text/html": [
       "<div>\n",
       "<style scoped>\n",
       "    .dataframe tbody tr th:only-of-type {\n",
       "        vertical-align: middle;\n",
       "    }\n",
       "\n",
       "    .dataframe tbody tr th {\n",
       "        vertical-align: top;\n",
       "    }\n",
       "\n",
       "    .dataframe thead th {\n",
       "        text-align: right;\n",
       "    }\n",
       "</style>\n",
       "<table border=\"1\" class=\"dataframe\">\n",
       "  <thead>\n",
       "    <tr style=\"text-align: right;\">\n",
       "      <th></th>\n",
       "      <th>p17_a</th>\n",
       "      <th>p17_b</th>\n",
       "      <th>p17_c</th>\n",
       "      <th>p17_d</th>\n",
       "      <th>p17_e</th>\n",
       "      <th>p17_f</th>\n",
       "      <th>p17_g</th>\n",
       "      <th>p17_h</th>\n",
       "      <th>p17_i</th>\n",
       "      <th>p17_j</th>\n",
       "      <th>p17_k</th>\n",
       "      <th>p17_l</th>\n",
       "      <th>p17_m</th>\n",
       "      <th>p17_n</th>\n",
       "    </tr>\n",
       "  </thead>\n",
       "  <tbody>\n",
       "    <tr>\n",
       "      <th>41</th>\n",
       "      <td>3</td>\n",
       "      <td>1</td>\n",
       "      <td>3</td>\n",
       "      <td>3</td>\n",
       "      <td>1</td>\n",
       "      <td>1</td>\n",
       "      <td>4</td>\n",
       "      <td>3</td>\n",
       "      <td>3</td>\n",
       "      <td>3</td>\n",
       "      <td>4</td>\n",
       "      <td>3</td>\n",
       "      <td>3</td>\n",
       "      <td>2</td>\n",
       "    </tr>\n",
       "  </tbody>\n",
       "</table>\n",
       "</div>"
      ],
      "text/plain": [
       "    p17_a  p17_b  p17_c  p17_d  p17_e  p17_f  p17_g  p17_h  p17_i  p17_j  \\\n",
       "41      3      1      3      3      1      1      4      3      3      3   \n",
       "\n",
       "    p17_k  p17_l  p17_m  p17_n  \n",
       "41      4      3      3      2  "
      ]
     },
     "execution_count": 90,
     "metadata": {},
     "output_type": "execute_result"
    }
   ],
   "source": [
    "trust_df.sample()"
   ]
  },
  {
   "cell_type": "code",
   "execution_count": 102,
   "metadata": {},
   "outputs": [],
   "source": [
    "# filtramos las columnas\n",
    "trust_df = trust_df.rename(columns = {'p17_a': 'I.Catolica', 'p17_b':\n",
    "                                        'I.Evangelica', 'p17_c': 'FFAA', 'p17_d': 'Justicia',\n",
    "                                        'p17_e': 'Prensa', 'p17_f': 'Television',\n",
    "                                        'p17_g':'Sindicatos', 'p17_h':'Carabineros',\n",
    "                                        'p17_i': 'Gobierno', 'p17_j': 'PartidosPol',\n",
    "                                        'p17_k': 'Congreso', 'p17_l':'Empresas',\n",
    "                                        'p17_m':'Universidades', 'p17_n':'Radio'})\n"
   ]
  },
  {
   "cell_type": "code",
   "execution_count": 104,
   "metadata": {},
   "outputs": [
    {
     "data": {
      "text/html": [
       "<div>\n",
       "<style scoped>\n",
       "    .dataframe tbody tr th:only-of-type {\n",
       "        vertical-align: middle;\n",
       "    }\n",
       "\n",
       "    .dataframe tbody tr th {\n",
       "        vertical-align: top;\n",
       "    }\n",
       "\n",
       "    .dataframe thead th {\n",
       "        text-align: right;\n",
       "    }\n",
       "</style>\n",
       "<table border=\"1\" class=\"dataframe\">\n",
       "  <thead>\n",
       "    <tr style=\"text-align: right;\">\n",
       "      <th></th>\n",
       "      <th>I.Catolica</th>\n",
       "      <th>I.Evangelica</th>\n",
       "      <th>FFAA</th>\n",
       "      <th>Justicia</th>\n",
       "      <th>Prensa</th>\n",
       "      <th>Television</th>\n",
       "      <th>Sindicatos</th>\n",
       "      <th>Carabineros</th>\n",
       "      <th>Gobierno</th>\n",
       "      <th>PartidosPol</th>\n",
       "      <th>Congreso</th>\n",
       "      <th>Empresas</th>\n",
       "      <th>Universidades</th>\n",
       "      <th>Radio</th>\n",
       "    </tr>\n",
       "  </thead>\n",
       "  <tbody>\n",
       "    <tr>\n",
       "      <th>0</th>\n",
       "      <td>2</td>\n",
       "      <td>4</td>\n",
       "      <td>3</td>\n",
       "      <td>2</td>\n",
       "      <td>3</td>\n",
       "      <td>3</td>\n",
       "      <td>3</td>\n",
       "      <td>4</td>\n",
       "      <td>3</td>\n",
       "      <td>3</td>\n",
       "      <td>2</td>\n",
       "      <td>3</td>\n",
       "      <td>2</td>\n",
       "      <td>2</td>\n",
       "    </tr>\n",
       "    <tr>\n",
       "      <th>1</th>\n",
       "      <td>2</td>\n",
       "      <td>3</td>\n",
       "      <td>3</td>\n",
       "      <td>3</td>\n",
       "      <td>3</td>\n",
       "      <td>3</td>\n",
       "      <td>2</td>\n",
       "      <td>2</td>\n",
       "      <td>3</td>\n",
       "      <td>4</td>\n",
       "      <td>3</td>\n",
       "      <td>3</td>\n",
       "      <td>3</td>\n",
       "      <td>3</td>\n",
       "    </tr>\n",
       "    <tr>\n",
       "      <th>2</th>\n",
       "      <td>4</td>\n",
       "      <td>4</td>\n",
       "      <td>4</td>\n",
       "      <td>4</td>\n",
       "      <td>3</td>\n",
       "      <td>3</td>\n",
       "      <td>4</td>\n",
       "      <td>4</td>\n",
       "      <td>4</td>\n",
       "      <td>4</td>\n",
       "      <td>4</td>\n",
       "      <td>3</td>\n",
       "      <td>4</td>\n",
       "      <td>2</td>\n",
       "    </tr>\n",
       "    <tr>\n",
       "      <th>3</th>\n",
       "      <td>1</td>\n",
       "      <td>3</td>\n",
       "      <td>2</td>\n",
       "      <td>2</td>\n",
       "      <td>3</td>\n",
       "      <td>2</td>\n",
       "      <td>3</td>\n",
       "      <td>3</td>\n",
       "      <td>3</td>\n",
       "      <td>4</td>\n",
       "      <td>3</td>\n",
       "      <td>3</td>\n",
       "      <td>3</td>\n",
       "      <td>3</td>\n",
       "    </tr>\n",
       "    <tr>\n",
       "      <th>4</th>\n",
       "      <td>3</td>\n",
       "      <td>3</td>\n",
       "      <td>2</td>\n",
       "      <td>1</td>\n",
       "      <td>2</td>\n",
       "      <td>2</td>\n",
       "      <td>1</td>\n",
       "      <td>1</td>\n",
       "      <td>2</td>\n",
       "      <td>3</td>\n",
       "      <td>2</td>\n",
       "      <td>2</td>\n",
       "      <td>2</td>\n",
       "      <td>2</td>\n",
       "    </tr>\n",
       "  </tbody>\n",
       "</table>\n",
       "</div>"
      ],
      "text/plain": [
       "   I.Catolica  I.Evangelica  FFAA  Justicia  Prensa  Television  Sindicatos  \\\n",
       "0           2             4     3         2       3           3           3   \n",
       "1           2             3     3         3       3           3           2   \n",
       "2           4             4     4         4       3           3           4   \n",
       "3           1             3     2         2       3           2           3   \n",
       "4           3             3     2         1       2           2           1   \n",
       "\n",
       "   Carabineros  Gobierno  PartidosPol  Congreso  Empresas  Universidades  \\\n",
       "0            4         3            3         2         3              2   \n",
       "1            2         3            4         3         3              3   \n",
       "2            4         4            4         4         3              4   \n",
       "3            3         3            4         3         3              3   \n",
       "4            1         2            3         2         2              2   \n",
       "\n",
       "   Radio  \n",
       "0      2  \n",
       "1      3  \n",
       "2      2  \n",
       "3      3  \n",
       "4      2  "
      ]
     },
     "execution_count": 104,
     "metadata": {},
     "output_type": "execute_result"
    }
   ],
   "source": [
    "trust_df.head()"
   ]
  },
  {
   "cell_type": "code",
   "execution_count": 101,
   "metadata": {},
   "outputs": [
    {
     "name": "stdout",
     "output_type": "stream",
     "text": [
      "I.Catolica 0.03\n",
      "I.Evangelica 0.07\n",
      "FFAA 0.04\n",
      "Justicia 0.04\n",
      "Prensa 0.03\n",
      "Television 0.02\n",
      "Sindicatos 0.09\n",
      "Carabineros 0.02\n",
      "Gobierno 0.03\n",
      "PartidosPol 0.03\n",
      "Congreso 0.05\n",
      "Empresas 0.04\n",
      "Universidades 0.07\n",
      "Radio 0.03\n"
     ]
    }
   ],
   "source": [
    "def fetch_missing(df, missing_vals = [8, 9]):\n",
    "        for colname, serie in df.iteritems():\n",
    "                print(colname, serie.isin(missing_vals).value_counts('%')[1].round(2))\n",
    "\n",
    "fetch_missing(trust_df)"
   ]
  },
  {
   "cell_type": "markdown",
   "metadata": {},
   "source": [
    "La función matrix dentro de la librería missingno permite visualizar la matriz de datos, las\n",
    "líneas en blanco representan respuestas perdidas (o negadas) por el encuestado. De\n",
    "manera similar a lo entregado por nuestra función fetch_missing, las preguntas con\n",
    "mayores niveles de perdidos son p17_b (La Iglesia Evangélica), p17_g (Los Sindicatos),\n",
    "p17_m (Las Universidades).\n",
    "\n",
    "Esperamos que estas variables presenten cargas bajas en los factores. Este punto será\n",
    "retomado posteriormente.\n"
   ]
  },
  {
   "cell_type": "code",
   "execution_count": 93,
   "metadata": {},
   "outputs": [
    {
     "data": {
      "text/plain": [
       "<AxesSubplot:>"
      ]
     },
     "execution_count": 93,
     "metadata": {},
     "output_type": "execute_result"
    },
    {
     "data": {
      "text/plain": [
       "<Figure size 288x288 with 0 Axes>"
      ]
     },
     "metadata": {},
     "output_type": "display_data"
    },
    {
     "data": {
      "image/png": "[encoded data removed]",
      "text/plain": [
       "<Figure size 1800x720 with 2 Axes>"
      ]
     },
     "metadata": {},
     "output_type": "display_data"
    }
   ],
   "source": [
    "plt.figure(figsize=(4,4))\n",
    "msngo.matrix(trust_df.replace([8, 9], [np.nan, np.nan]))\n"
   ]
  },
  {
   "cell_type": "markdown",
   "metadata": {},
   "source": [
    "Una vez analizado el patrón de datos perdidos, optamos por eliminarlos y procedemos a\n",
    "inspeccionar las medias de cada variable en la batería de preguntas mediante un dotplot."
   ]
  },
  {
   "cell_type": "code",
   "execution_count": 100,
   "metadata": {},
   "outputs": [],
   "source": [
    "# Generamos dos arrays vacíos para guardar el nombre de la variable y la media\n",
    "variable, mean = [], []\n",
    "# para cada columna de la base, extraemos su nombre y sus valores\n",
    "for colname, serie in trust_df.iteritems():\n",
    "        # guardamos el nombre en \n",
    "        variable.append(colname)\n",
    "        # calculamos y procesamos la media\n",
    "        mean.append(serie.mean())\n",
    "\n",
    "tmp_df = pd.DataFrame({'var':variable, 'mean':mean}).sort_values(by = ['mean'])"
   ]
  },
  {
   "cell_type": "code",
   "execution_count": 97,
   "metadata": {},
   "outputs": [
    {
     "data": {
      "text/plain": [
       "[<matplotlib.lines.Line2D at 0x20688ca1000>]"
      ]
     },
     "execution_count": 97,
     "metadata": {},
     "output_type": "execute_result"
    },
    {
     "data": {
      "image/png": "[encoded data removed]",
      "text/plain": [
       "<Figure size 576x396 with 1 Axes>"
      ]
     },
     "metadata": {},
     "output_type": "display_data"
    }
   ],
   "source": [
    "plt.plot(tmp_df['mean'], tmp_df['var'], 'o')"
   ]
  },
  {
   "cell_type": "markdown",
   "metadata": {},
   "source": [
    "Recordemos que valores más altos en la escala de confianza significa que la sociedad\n",
    "confía menos en las instituciones. En un extremo observamos a instituciones de carácter\n",
    "político como los Partidos Políticos, los Tribunales de Justicia, el Congreso y los Sindicatos.\n",
    "En el otro extremo encontramos a instituciones \"cotidianas\", aquellas que presentan un\n",
    "mayor grado de interacción con las personas como los Carabineros, la Iglesia Católica y la\n",
    "Radio. Esto entrega indicios sobre dos grupos de instituciones.\n",
    "\n",
    "Antes de modelar los factores latentes de nuestro modelo, es necesario realizar un par de\n",
    "pruebas sobre la idoneidad de nuestra matriz de datos para extraer factores. Las pruebas de\n",
    "esfericidad de Barlett y de muestreo de Kaiser-Meyer-Olkin entregan información sobre el\n",
    "grado de covarianza entre variables en la batería de preguntas. Si nos encontramos ante\n",
    "casos donde las cargas en la matriz de covarianza son bajas y/o responden a otras\n",
    "estructuras de datos, es preferible implementar otros enfoques que escapan a los objetivos\n",
    "del curso.\n",
    "\n",
    "#### Prueba de esfericidad de errores de Bartlett\n",
    "\n",
    "Debemos preguntarnos si nuestra matriz de correlaciones entre los atributos es o no una\n",
    "matriz de identidad (matriz donde la diagonal principal es de 1 y los triángulos superiores e\n",
    "inferiores son 0), de ocurrir eso estaríamos viendo columnas completamente\n",
    "perpendiculares entre sí, por lo tanto, no comparten información en común . Un supuesto\n",
    "clave sobre la estructura de nuestra matriz de datos y que requerimos para justificar el\n",
    "proceso de extracción de factores latentes es que parte de la varianza de nuestras variables\n",
    "sea común entre ellas (o al menos entre algunas de ellas).\n",
    "En esta prueba, la hipótesis nula es que la matriz de correlaciones entre las variables de\n",
    "nuestra matriz es una matriz identidad, mientras que la hipótesis alternativa es que esta es\n",
    "distinta a una identidad. De manera similar a las otras pruebas de estadísticos de ajuste, si\n",
    "encontramos evidencia para fallar en rechazar la hipótesis nula con un cierto grado de\n",
    "confianza (90%, 95% o 99%, por ejemplo), la prueba concluye que la matriz sigue una\n",
    "distribución multivariada normal, no una matriz de identidad, por lo que se puede proceder\n",
    "con el análisis de factores.\n",
    "Para implementar la prueba dentro de Python, utilizamos el método\n",
    "calculate_bartlett_sphericity de la librería factor_analyzer en nuestra batería de\n",
    "preguntas. La prueba retorna el valor del estadístico de contraste chi-square y un p-value\n",
    "asociado a ese estadístico. En este caso, la prueba de esfericidad sugiere que la matriz de\n",
    "correlaciones no es igual a la matriz de identidad con un grado suficientemente alto de\n",
    "1 La razón por la que la diagonal principal de esa matrix estaría compuesta por unos mientras\n",
    "que las matrices triangulares superior e inferior son nulas, es porque esto significa que cada\n",
    "par de variables tienen correlación de 0 entre sí, sin embargo, una variable tiene correlación de\n",
    "1 consigo misma confianza (de hecho tan pequeño fue el pvalor que se nos entregó aproximado simplemente\n",
    "a 0.0), por lo que se puede seguir con el análisis.\n",
    ".\n"
   ]
  },
  {
   "cell_type": "code",
   "execution_count": 106,
   "metadata": {},
   "outputs": [
    {
     "data": {
      "text/plain": [
       "(6630.891612219067, 0.0)"
      ]
     },
     "execution_count": 106,
     "metadata": {},
     "output_type": "execute_result"
    }
   ],
   "source": [
    "factor.calculate_bartlett_sphericity(trust_df)"
   ]
  },
  {
   "cell_type": "markdown",
   "metadata": {},
   "source": [
    "#### Prueba de muestreo Kaiser-Meyer-Olkin (KMO)\n",
    "\n",
    "De manera adicional a la prueba de Bartlett, podemos medir si las correlaciones parciales\n",
    "dentro de la matriz son cercanas a 0. De ser este el caso, la prueba sugiere la existencia de\n",
    "por lo menos un factor latente dentro de la batería de preguntas.\n",
    "\n",
    "Se puede implementar mediante el método calculate_kmo de la librería factor_analyzer.\n",
    "El método devuelve el puntaje KMO para cada ítem dentro de la batería, así como un puntaje\n",
    "global para todos los items.\n",
    "\n",
    "Se sugiere que para seguir con el análisis factorial, el KMO debe presentar valores\n",
    "superiores a .7. En este caso se satisface el punto y podemos proseguir.\n",
    "\n",
    "Ante el caso en que encontremos puntajes bajos, la estructura a estimar se puede mejorar al\n",
    "eliminar los ítems con cargas KMO inferiores al puntaje de corte.\n",
    "\n",
    "La eliminación de estos ítems permite liberar la matriz de elementos inestables que\n",
    "dificulten la identificación de los factores a extraer.\n"
   ]
  },
  {
   "cell_type": "code",
   "execution_count": 107,
   "metadata": {},
   "outputs": [
    {
     "data": {
      "text/plain": [
       "(array([0.93861106, 0.92726637, 0.93185239, 0.9529143 , 0.91981398,\n",
       "        0.88566125, 0.93679868, 0.9113125 , 0.93989144, 0.91301888,\n",
       "        0.91937924, 0.94242112, 0.95184539, 0.93229633]),\n",
       " 0.9275552166414565)"
      ]
     },
     "execution_count": 107,
     "metadata": {},
     "output_type": "execute_result"
    }
   ],
   "source": [
    "factor.calculate_kmo(trust_df)"
   ]
  },
  {
   "cell_type": "markdown",
   "metadata": {},
   "source": [
    "#### Estimando la cantidad de factores a extraer\n",
    "Posterior al análisis de la idoneidad de nuestra matriz de datos para el análisis factorial, la\n",
    "siguiente pregunta a responder es ¿qué tantos factores necesitamos?\n",
    "\n",
    "Para ello podemos analizar los valores propios (eigenvalues) de la descomposición de la\n",
    "matriz. Estos informan qué tanta varianza se puede atribuir un factor en específico.\n",
    "Mediante la definición de qué tantos factores necesitamos para caracterizar una matriz\n",
    "podemos obtener una estructura parsimoniosa e interpretable.\n",
    "\n",
    "La manera más simple de analizar esto es mediante un scree plot, que visualiza los\n",
    "eigenvalues en la medida que se aumenta la cantidad de factores. Por convención no\n",
    "pueden existir más factores que variables dentro de la matriz.\n",
    "\n",
    "Comencemos por implementar un modelo con factor_analyzer.\n",
    "* Nuestro objeto instanciado, podemos implementar el análisis con\n",
    "factorize.analyze. El primer parámetro (data) que debe ser ingresado es la\n",
    "matriz a descomponer. El segundo parámetro (n_factors) es la cantidad de\n",
    "factores a extraer. Por último, method hace referencia a la rotación aplicada en la\n",
    "matriz de cargas. Implementaremos la estrategia más simple conocida como\n",
    "varimax.\n",
    "\n",
    "* Con las cargas λ podemos estimar una matriz de covarianza Λ para calcular la matriz\n",
    "de covarianza observable. Asumiendo el cumplimiento de los supuestos, se asume\n",
    "que Λ es un buen aproximado de la covarianza observable.\n",
    "\n",
    "* Por lo general empleamos Análisis de Componentes Principales para estimar la\n",
    "comunalidad total de la matriz.\n",
    "\n",
    "* Las cargas λ no tienen una identificación única, por lo que se puede emplear una\n",
    "\"rotación\" de la matriz para encontrar una mejor estructura latente. Están los\n",
    "métodos ortogonales (que no permiten correlación entre factores) y oblicuos (que sí\n",
    "permiten correlación entre factores). Algunas de las más utilizadas son:\n",
    "  * Varimax: Rotación que busca maximizar la varianza de las cargas para cada factor.\n",
    "  * Quartimax: Rotación que busca maximizar la varianza de las cargas y tiende a producir cargas más altas para cada variable.\n",
    "\n",
    "* Para generar el scree plot, extraemos los eigenvalues reportados en\n",
    "factorize.get_eigenvalues()[0] y los graficamos contra la cantidad de factores\n",
    "estimables.\n",
    "\n",
    "#### Extraccion de valores latentes\n",
    "\n",
    "Se debe indicar la cantida de factores al instanciar la clase, y el metodod e rotacion en el atributo \"rotation\""
   ]
  },
  {
   "cell_type": "code",
   "execution_count": 112,
   "metadata": {},
   "outputs": [],
   "source": [
    "factorize = factor.FactorAnalyzer(rotation = 'varimax')"
   ]
  },
  {
   "cell_type": "markdown",
   "metadata": {},
   "source": [
    "Se debe llamar al metodo .fit, pasando como argumento el set de datos"
   ]
  },
  {
   "cell_type": "code",
   "execution_count": 113,
   "metadata": {},
   "outputs": [
    {
     "data": {
      "text/html": [
       "<style>#sk-container-id-5 {color: black;background-color: white;}#sk-container-id-5 pre{padding: 0;}#sk-container-id-5 div.sk-toggleable {background-color: white;}#sk-container-id-5 label.sk-toggleable__label {cursor: pointer;display: block;width: 100%;margin-bottom: 0;padding: 0.3em;box-sizing: border-box;text-align: center;}#sk-container-id-5 label.sk-toggleable__label-arrow:before {content: \"▸\";float: left;margin-right: 0.25em;color: #696969;}#sk-container-id-5 label.sk-toggleable__label-arrow:hover:before {color: black;}#sk-container-id-5 div.sk-estimator:hover label.sk-toggleable__label-arrow:before {color: black;}#sk-container-id-5 div.sk-toggleable__content {max-height: 0;max-width: 0;overflow: hidden;text-align: left;background-color: #f0f8ff;}#sk-container-id-5 div.sk-toggleable__content pre {margin: 0.2em;color: black;border-radius: 0.25em;background-color: #f0f8ff;}#sk-container-id-5 input.sk-toggleable__control:checked~div.sk-toggleable__content {max-height: 200px;max-width: 100%;overflow: auto;}#sk-container-id-5 input.sk-toggleable__control:checked~label.sk-toggleable__label-arrow:before {content: \"▾\";}#sk-container-id-5 div.sk-estimator input.sk-toggleable__control:checked~label.sk-toggleable__label {background-color: #d4ebff;}#sk-container-id-5 div.sk-label input.sk-toggleable__control:checked~label.sk-toggleable__label {background-color: #d4ebff;}#sk-container-id-5 input.sk-hidden--visually {border: 0;clip: rect(1px 1px 1px 1px);clip: rect(1px, 1px, 1px, 1px);height: 1px;margin: -1px;overflow: hidden;padding: 0;position: absolute;width: 1px;}#sk-container-id-5 div.sk-estimator {font-family: monospace;background-color: #f0f8ff;border: 1px dotted black;border-radius: 0.25em;box-sizing: border-box;margin-bottom: 0.5em;}#sk-container-id-5 div.sk-estimator:hover {background-color: #d4ebff;}#sk-container-id-5 div.sk-parallel-item::after {content: \"\";width: 100%;border-bottom: 1px solid gray;flex-grow: 1;}#sk-container-id-5 div.sk-label:hover label.sk-toggleable__label {background-color: #d4ebff;}#sk-container-id-5 div.sk-serial::before {content: \"\";position: absolute;border-left: 1px solid gray;box-sizing: border-box;top: 0;bottom: 0;left: 50%;z-index: 0;}#sk-container-id-5 div.sk-serial {display: flex;flex-direction: column;align-items: center;background-color: white;padding-right: 0.2em;padding-left: 0.2em;position: relative;}#sk-container-id-5 div.sk-item {position: relative;z-index: 1;}#sk-container-id-5 div.sk-parallel {display: flex;align-items: stretch;justify-content: center;background-color: white;position: relative;}#sk-container-id-5 div.sk-item::before, #sk-container-id-5 div.sk-parallel-item::before {content: \"\";position: absolute;border-left: 1px solid gray;box-sizing: border-box;top: 0;bottom: 0;left: 50%;z-index: -1;}#sk-container-id-5 div.sk-parallel-item {display: flex;flex-direction: column;z-index: 1;position: relative;background-color: white;}#sk-container-id-5 div.sk-parallel-item:first-child::after {align-self: flex-end;width: 50%;}#sk-container-id-5 div.sk-parallel-item:last-child::after {align-self: flex-start;width: 50%;}#sk-container-id-5 div.sk-parallel-item:only-child::after {width: 0;}#sk-container-id-5 div.sk-dashed-wrapped {border: 1px dashed gray;margin: 0 0.4em 0.5em 0.4em;box-sizing: border-box;padding-bottom: 0.4em;background-color: white;}#sk-container-id-5 div.sk-label label {font-family: monospace;font-weight: bold;display: inline-block;line-height: 1.2em;}#sk-container-id-5 div.sk-label-container {text-align: center;}#sk-container-id-5 div.sk-container {/* jupyter's `normalize.less` sets `[hidden] { display: none; }` but bootstrap.min.css set `[hidden] { display: none !important; }` so we also need the `!important` here to be able to override the default hidden behavior on the sphinx rendered scikit-learn.org. See: https://github.com/scikit-learn/scikit-learn/issues/21755 */display: inline-block !important;position: relative;}#sk-container-id-5 div.sk-text-repr-fallback {display: none;}</style><div id=\"sk-container-id-5\" class=\"sk-top-container\"><div class=\"sk-text-repr-fallback\"><pre>FactorAnalyzer(rotation=&#x27;varimax&#x27;, rotation_kwargs={})</pre><b>In a Jupyter environment, please rerun this cell to show the HTML representation or trust the notebook. <br />On GitHub, the HTML representation is unable to render, please try loading this page with nbviewer.org.</b></div><div class=\"sk-container\" hidden><div class=\"sk-item\"><div class=\"sk-estimator sk-toggleable\"><input class=\"sk-toggleable__control sk-hidden--visually\" id=\"sk-estimator-id-5\" type=\"checkbox\" checked><label for=\"sk-estimator-id-5\" class=\"sk-toggleable__label sk-toggleable__label-arrow\">FactorAnalyzer</label><div class=\"sk-toggleable__content\"><pre>FactorAnalyzer(rotation=&#x27;varimax&#x27;, rotation_kwargs={})</pre></div></div></div></div></div>"
      ],
      "text/plain": [
       "FactorAnalyzer(rotation='varimax', rotation_kwargs={})"
      ]
     },
     "execution_count": 113,
     "metadata": {},
     "output_type": "execute_result"
    }
   ],
   "source": [
    "factorize.fit(trust_df)"
   ]
  },
  {
   "cell_type": "markdown",
   "metadata": {},
   "source": [
    "Se pueden obtener los eigenvalues accediendo al metodo get_eigenvalues()"
   ]
  },
  {
   "cell_type": "code",
   "execution_count": 114,
   "metadata": {},
   "outputs": [
    {
     "data": {
      "text/plain": [
       "array([5.49842419, 1.14587292, 0.89926341, 0.85550809, 0.72165128,\n",
       "       0.69572011, 0.63389523, 0.62396403, 0.60609083, 0.57058745,\n",
       "       0.49919319, 0.46208615, 0.40448333, 0.38325979])"
      ]
     },
     "execution_count": 114,
     "metadata": {},
     "output_type": "execute_result"
    }
   ],
   "source": [
    "factor_eigenvalues = factorize.get_eigenvalues()[0]\n",
    "factor_eigenvalues"
   ]
  },
  {
   "cell_type": "markdown",
   "metadata": {},
   "source": [
    "#### Valores propios asociados a cada factor\n",
    "\n",
    "Al momneto de graficar, debemos asignar en el eje x una lista o arreglo de valores de 1 a n la cantidad de valores propios obtenidos. Y en el eje y los valores propios obtenidos"
   ]
  },
  {
   "cell_type": "code",
   "execution_count": 116,
   "metadata": {},
   "outputs": [
    {
     "data": {
      "text/plain": [
       "<matplotlib.lines.Line2D at 0x20688323370>"
      ]
     },
     "execution_count": 116,
     "metadata": {},
     "output_type": "execute_result"
    },
    {
     "data": {
      "image/png": "[encoded data removed]",
      "text/plain": [
       "<Figure size 720x360 with 1 Axes>"
      ]
     },
     "metadata": {},
     "output_type": "display_data"
    }
   ],
   "source": [
    "plt.figure(figsize = (10, 5))\n",
    "plt.plot(np.arange(1, len(factor_eigenvalues) + 1), factor_eigenvalues, 'o-', color = 'tomato')\n",
    "plt.xlabel('Numero de factores latentes')\n",
    "plt.ylabel('Eigenvalues')\n",
    "plt.axhline(1, color = 'dodgerblue')"
   ]
  },
  {
   "cell_type": "markdown",
   "metadata": {},
   "source": [
    "Ajustar la cantida de factores extraidos.\n",
    "\n",
    "Se actualiza la cantidad de factores extraidos y se aplica .fit() para reentrenar"
   ]
  },
  {
   "cell_type": "code",
   "execution_count": 117,
   "metadata": {},
   "outputs": [
    {
     "data": {
      "text/html": [
       "<style>#sk-container-id-6 {color: black;background-color: white;}#sk-container-id-6 pre{padding: 0;}#sk-container-id-6 div.sk-toggleable {background-color: white;}#sk-container-id-6 label.sk-toggleable__label {cursor: pointer;display: block;width: 100%;margin-bottom: 0;padding: 0.3em;box-sizing: border-box;text-align: center;}#sk-container-id-6 label.sk-toggleable__label-arrow:before {content: \"▸\";float: left;margin-right: 0.25em;color: #696969;}#sk-container-id-6 label.sk-toggleable__label-arrow:hover:before {color: black;}#sk-container-id-6 div.sk-estimator:hover label.sk-toggleable__label-arrow:before {color: black;}#sk-container-id-6 div.sk-toggleable__content {max-height: 0;max-width: 0;overflow: hidden;text-align: left;background-color: #f0f8ff;}#sk-container-id-6 div.sk-toggleable__content pre {margin: 0.2em;color: black;border-radius: 0.25em;background-color: #f0f8ff;}#sk-container-id-6 input.sk-toggleable__control:checked~div.sk-toggleable__content {max-height: 200px;max-width: 100%;overflow: auto;}#sk-container-id-6 input.sk-toggleable__control:checked~label.sk-toggleable__label-arrow:before {content: \"▾\";}#sk-container-id-6 div.sk-estimator input.sk-toggleable__control:checked~label.sk-toggleable__label {background-color: #d4ebff;}#sk-container-id-6 div.sk-label input.sk-toggleable__control:checked~label.sk-toggleable__label {background-color: #d4ebff;}#sk-container-id-6 input.sk-hidden--visually {border: 0;clip: rect(1px 1px 1px 1px);clip: rect(1px, 1px, 1px, 1px);height: 1px;margin: -1px;overflow: hidden;padding: 0;position: absolute;width: 1px;}#sk-container-id-6 div.sk-estimator {font-family: monospace;background-color: #f0f8ff;border: 1px dotted black;border-radius: 0.25em;box-sizing: border-box;margin-bottom: 0.5em;}#sk-container-id-6 div.sk-estimator:hover {background-color: #d4ebff;}#sk-container-id-6 div.sk-parallel-item::after {content: \"\";width: 100%;border-bottom: 1px solid gray;flex-grow: 1;}#sk-container-id-6 div.sk-label:hover label.sk-toggleable__label {background-color: #d4ebff;}#sk-container-id-6 div.sk-serial::before {content: \"\";position: absolute;border-left: 1px solid gray;box-sizing: border-box;top: 0;bottom: 0;left: 50%;z-index: 0;}#sk-container-id-6 div.sk-serial {display: flex;flex-direction: column;align-items: center;background-color: white;padding-right: 0.2em;padding-left: 0.2em;position: relative;}#sk-container-id-6 div.sk-item {position: relative;z-index: 1;}#sk-container-id-6 div.sk-parallel {display: flex;align-items: stretch;justify-content: center;background-color: white;position: relative;}#sk-container-id-6 div.sk-item::before, #sk-container-id-6 div.sk-parallel-item::before {content: \"\";position: absolute;border-left: 1px solid gray;box-sizing: border-box;top: 0;bottom: 0;left: 50%;z-index: -1;}#sk-container-id-6 div.sk-parallel-item {display: flex;flex-direction: column;z-index: 1;position: relative;background-color: white;}#sk-container-id-6 div.sk-parallel-item:first-child::after {align-self: flex-end;width: 50%;}#sk-container-id-6 div.sk-parallel-item:last-child::after {align-self: flex-start;width: 50%;}#sk-container-id-6 div.sk-parallel-item:only-child::after {width: 0;}#sk-container-id-6 div.sk-dashed-wrapped {border: 1px dashed gray;margin: 0 0.4em 0.5em 0.4em;box-sizing: border-box;padding-bottom: 0.4em;background-color: white;}#sk-container-id-6 div.sk-label label {font-family: monospace;font-weight: bold;display: inline-block;line-height: 1.2em;}#sk-container-id-6 div.sk-label-container {text-align: center;}#sk-container-id-6 div.sk-container {/* jupyter's `normalize.less` sets `[hidden] { display: none; }` but bootstrap.min.css set `[hidden] { display: none !important; }` so we also need the `!important` here to be able to override the default hidden behavior on the sphinx rendered scikit-learn.org. See: https://github.com/scikit-learn/scikit-learn/issues/21755 */display: inline-block !important;position: relative;}#sk-container-id-6 div.sk-text-repr-fallback {display: none;}</style><div id=\"sk-container-id-6\" class=\"sk-top-container\"><div class=\"sk-text-repr-fallback\"><pre>FactorAnalyzer(n_factors=2, rotation=&#x27;varimax&#x27;, rotation_kwargs={})</pre><b>In a Jupyter environment, please rerun this cell to show the HTML representation or trust the notebook. <br />On GitHub, the HTML representation is unable to render, please try loading this page with nbviewer.org.</b></div><div class=\"sk-container\" hidden><div class=\"sk-item\"><div class=\"sk-estimator sk-toggleable\"><input class=\"sk-toggleable__control sk-hidden--visually\" id=\"sk-estimator-id-6\" type=\"checkbox\" checked><label for=\"sk-estimator-id-6\" class=\"sk-toggleable__label sk-toggleable__label-arrow\">FactorAnalyzer</label><div class=\"sk-toggleable__content\"><pre>FactorAnalyzer(n_factors=2, rotation=&#x27;varimax&#x27;, rotation_kwargs={})</pre></div></div></div></div></div>"
      ],
      "text/plain": [
       "FactorAnalyzer(n_factors=2, rotation='varimax', rotation_kwargs={})"
      ]
     },
     "execution_count": 117,
     "metadata": {},
     "output_type": "execute_result"
    }
   ],
   "source": [
    "factorize_dos = factor.FactorAnalyzer(n_factors = 2, rotation = 'varimax')\n",
    "factorize_dos.fit(trust_df)"
   ]
  },
  {
   "cell_type": "code",
   "execution_count": 118,
   "metadata": {},
   "outputs": [
    {
     "data": {
      "text/plain": [
       "array([5.49842419, 1.14587292, 0.89926341, 0.85550809, 0.72165128,\n",
       "       0.69572011, 0.63389523, 0.62396403, 0.60609083, 0.57058745,\n",
       "       0.49919319, 0.46208615, 0.40448333, 0.38325979])"
      ]
     },
     "execution_count": 118,
     "metadata": {},
     "output_type": "execute_result"
    }
   ],
   "source": [
    "factorize_dos.get_eigenvalues()[0]"
   ]
  },
  {
   "cell_type": "code",
   "execution_count": 119,
   "metadata": {},
   "outputs": [
    {
     "data": {
      "text/plain": [
       "array([[0.2115378 , 0.48207631],\n",
       "       [0.18909242, 0.31556017],\n",
       "       [0.44635957, 0.4410592 ],\n",
       "       [0.49501859, 0.36986145],\n",
       "       [0.39299559, 0.50611705],\n",
       "       [0.20838918, 0.7000665 ],\n",
       "       [0.50838434, 0.18316639],\n",
       "       [0.24972885, 0.5685152 ],\n",
       "       [0.51311237, 0.45708089],\n",
       "       [0.66688535, 0.28831161],\n",
       "       [0.72624282, 0.21479004],\n",
       "       [0.56733533, 0.31276563],\n",
       "       [0.44188951, 0.33202866],\n",
       "       [0.24208804, 0.57256938]])"
      ]
     },
     "execution_count": 119,
     "metadata": {},
     "output_type": "execute_result"
    }
   ],
   "source": [
    "factorize_dos.loadings_"
   ]
  },
  {
   "cell_type": "code",
   "execution_count": 120,
   "metadata": {},
   "outputs": [
    {
     "data": {
      "text/plain": [
       "(14, 2)"
      ]
     },
     "execution_count": 120,
     "metadata": {},
     "output_type": "execute_result"
    }
   ],
   "source": [
    "factorize_dos.loadings_.shape"
   ]
  },
  {
   "cell_type": "code",
   "execution_count": 125,
   "metadata": {},
   "outputs": [
    {
     "data": {
      "text/html": [
       "<div>\n",
       "<style scoped>\n",
       "    .dataframe tbody tr th:only-of-type {\n",
       "        vertical-align: middle;\n",
       "    }\n",
       "\n",
       "    .dataframe tbody tr th {\n",
       "        vertical-align: top;\n",
       "    }\n",
       "\n",
       "    .dataframe thead th {\n",
       "        text-align: right;\n",
       "    }\n",
       "</style>\n",
       "<table border=\"1\" class=\"dataframe\">\n",
       "  <thead>\n",
       "    <tr style=\"text-align: right;\">\n",
       "      <th></th>\n",
       "      <th>Factor_1</th>\n",
       "      <th>Factor_2</th>\n",
       "    </tr>\n",
       "  </thead>\n",
       "  <tbody>\n",
       "    <tr>\n",
       "      <th>I.Catolica</th>\n",
       "      <td>0.211538</td>\n",
       "      <td>0.482076</td>\n",
       "    </tr>\n",
       "    <tr>\n",
       "      <th>I.Evangelica</th>\n",
       "      <td>0.189092</td>\n",
       "      <td>0.315560</td>\n",
       "    </tr>\n",
       "    <tr>\n",
       "      <th>FFAA</th>\n",
       "      <td>0.446360</td>\n",
       "      <td>0.441059</td>\n",
       "    </tr>\n",
       "    <tr>\n",
       "      <th>Justicia</th>\n",
       "      <td>0.495019</td>\n",
       "      <td>0.369861</td>\n",
       "    </tr>\n",
       "    <tr>\n",
       "      <th>Prensa</th>\n",
       "      <td>0.392996</td>\n",
       "      <td>0.506117</td>\n",
       "    </tr>\n",
       "    <tr>\n",
       "      <th>Television</th>\n",
       "      <td>0.208389</td>\n",
       "      <td>0.700067</td>\n",
       "    </tr>\n",
       "    <tr>\n",
       "      <th>Sindicatos</th>\n",
       "      <td>0.508384</td>\n",
       "      <td>0.183166</td>\n",
       "    </tr>\n",
       "    <tr>\n",
       "      <th>Carabineros</th>\n",
       "      <td>0.249729</td>\n",
       "      <td>0.568515</td>\n",
       "    </tr>\n",
       "    <tr>\n",
       "      <th>Gobierno</th>\n",
       "      <td>0.513112</td>\n",
       "      <td>0.457081</td>\n",
       "    </tr>\n",
       "    <tr>\n",
       "      <th>PartidosPol</th>\n",
       "      <td>0.666885</td>\n",
       "      <td>0.288312</td>\n",
       "    </tr>\n",
       "    <tr>\n",
       "      <th>Congreso</th>\n",
       "      <td>0.726243</td>\n",
       "      <td>0.214790</td>\n",
       "    </tr>\n",
       "    <tr>\n",
       "      <th>Empresas</th>\n",
       "      <td>0.567335</td>\n",
       "      <td>0.312766</td>\n",
       "    </tr>\n",
       "    <tr>\n",
       "      <th>Universidades</th>\n",
       "      <td>0.441890</td>\n",
       "      <td>0.332029</td>\n",
       "    </tr>\n",
       "    <tr>\n",
       "      <th>Radio</th>\n",
       "      <td>0.242088</td>\n",
       "      <td>0.572569</td>\n",
       "    </tr>\n",
       "  </tbody>\n",
       "</table>\n",
       "</div>"
      ],
      "text/plain": [
       "               Factor_1  Factor_2\n",
       "I.Catolica     0.211538  0.482076\n",
       "I.Evangelica   0.189092  0.315560\n",
       "FFAA           0.446360  0.441059\n",
       "Justicia       0.495019  0.369861\n",
       "Prensa         0.392996  0.506117\n",
       "Television     0.208389  0.700067\n",
       "Sindicatos     0.508384  0.183166\n",
       "Carabineros    0.249729  0.568515\n",
       "Gobierno       0.513112  0.457081\n",
       "PartidosPol    0.666885  0.288312\n",
       "Congreso       0.726243  0.214790\n",
       "Empresas       0.567335  0.312766\n",
       "Universidades  0.441890  0.332029\n",
       "Radio          0.242088  0.572569"
      ]
     },
     "execution_count": 125,
     "metadata": {},
     "output_type": "execute_result"
    }
   ],
   "source": [
    "loudings_df = pd.DataFrame(factorize_dos.loadings_, columns = {'Factor_1', 'Factor_2'}, index = trust_df.columns)\n",
    "loudings_df"
   ]
  },
  {
   "cell_type": "code",
   "execution_count": 126,
   "metadata": {},
   "outputs": [
    {
     "data": {
      "text/plain": [
       "<AxesSubplot:>"
      ]
     },
     "execution_count": 126,
     "metadata": {},
     "output_type": "execute_result"
    },
    {
     "data": {
      "image/png": "[encoded data removed]",
      "text/plain": [
       "<Figure size 1296x432 with 2 Axes>"
      ]
     },
     "metadata": {},
     "output_type": "display_data"
    }
   ],
   "source": [
    "plt.figure(figsize = (18, 6))\n",
    "factor_loudings = loudings_df.applymap(lambda x: np.where(x < .4, 0, round(x, 2)))\n",
    "sns.heatmap(factor_loudings, cmap = 'Greens', annot = True)"
   ]
  },
  {
   "cell_type": "markdown",
   "metadata": {},
   "source": [
    "Visualizacion de cargas factoriales para cada variable.\n",
    "\n",
    "Podemos destacar aquellas cargas que tengan una magnitud sobre un cierto umbral fijado por nosotros"
   ]
  },
  {
   "cell_type": "code",
   "execution_count": 128,
   "metadata": {},
   "outputs": [
    {
     "data": {
      "text/plain": [
       "<matplotlib.lines.Line2D at 0x2068e66ae00>"
      ]
     },
     "execution_count": 128,
     "metadata": {},
     "output_type": "execute_result"
    },
    {
     "data": {
      "image/png": "[encoded data removed]",
      "text/plain": [
       "<Figure size 1224x720 with 1 Axes>"
      ]
     },
     "metadata": {},
     "output_type": "display_data"
    }
   ],
   "source": [
    "plt.figure(figsize = (17, 10))\n",
    "plt.plot(loudings_df.Factor_1, loudings_df.Factor_2, 'o')\n",
    "plt.xlabel('Factor 1', size = 16)\n",
    "plt.ylabel('Factor 2', size = 16)\n",
    "plt.title('Las cargas factoriales de las distintas variables sobre cada factor')\n",
    "\n",
    "for i, text in enumerate(loudings_df.index):\n",
    "        plt.annotate(text, (loudings_df['Factor_1'][i], loudings_df['Factor_2'][i]))\n",
    "\n",
    "plt.axvline(loudings_df['Factor_1'].mean(), color = 'dodgerblue')\n",
    "plt.axhline(loudings_df['Factor_2'].mean(), color = 'purple')"
   ]
  },
  {
   "cell_type": "markdown",
   "metadata": {},
   "source": [
    "Varianza explicada por los factores"
   ]
  },
  {
   "cell_type": "code",
   "execution_count": 129,
   "metadata": {},
   "outputs": [
    {
     "data": {
      "text/html": [
       "<div>\n",
       "<style scoped>\n",
       "    .dataframe tbody tr th:only-of-type {\n",
       "        vertical-align: middle;\n",
       "    }\n",
       "\n",
       "    .dataframe tbody tr th {\n",
       "        vertical-align: top;\n",
       "    }\n",
       "\n",
       "    .dataframe thead th {\n",
       "        text-align: right;\n",
       "    }\n",
       "</style>\n",
       "<table border=\"1\" class=\"dataframe\">\n",
       "  <thead>\n",
       "    <tr style=\"text-align: right;\">\n",
       "      <th></th>\n",
       "      <th>Factor_1</th>\n",
       "      <th>Factor_2</th>\n",
       "    </tr>\n",
       "  </thead>\n",
       "  <tbody>\n",
       "    <tr>\n",
       "      <th>Sun of square loadings (variance)</th>\n",
       "      <td>2.854667</td>\n",
       "      <td>2.640396</td>\n",
       "    </tr>\n",
       "    <tr>\n",
       "      <th>Proportional variance</th>\n",
       "      <td>0.203905</td>\n",
       "      <td>0.188600</td>\n",
       "    </tr>\n",
       "    <tr>\n",
       "      <th>Cumulative variance</th>\n",
       "      <td>0.203905</td>\n",
       "      <td>0.392504</td>\n",
       "    </tr>\n",
       "  </tbody>\n",
       "</table>\n",
       "</div>"
      ],
      "text/plain": [
       "                                   Factor_1  Factor_2\n",
       "Sun of square loadings (variance)  2.854667  2.640396\n",
       "Proportional variance              0.203905  0.188600\n",
       "Cumulative variance                0.203905  0.392504"
      ]
     },
     "execution_count": 129,
     "metadata": {},
     "output_type": "execute_result"
    }
   ],
   "source": [
    "factor_var = factorize_dos.get_factor_variance()\n",
    "df_fv = pd.DataFrame(factor_var, columns = ['Factor_1', 'Factor_2'], index = ['Sun of square loadings (variance)', 'Proportional variance', 'Cumulative variance'])\n",
    "df_fv"
   ]
  },
  {
   "cell_type": "code",
   "execution_count": 130,
   "metadata": {},
   "outputs": [
    {
     "data": {
      "text/plain": [
       "array([[-0.67809168,  0.33784116],\n",
       "       [-0.04809729, -0.00985878],\n",
       "       [ 0.54219961,  0.42465026],\n",
       "       ...,\n",
       "       [-0.22806842,  0.13539122],\n",
       "       [-0.03749916, -0.04883833],\n",
       "       [ 4.13069654, -0.00732222]])"
      ]
     },
     "execution_count": 130,
     "metadata": {},
     "output_type": "execute_result"
    }
   ],
   "source": [
    "scores = factorize_dos.transform(trust_df)\n",
    "scores"
   ]
  },
  {
   "cell_type": "code",
   "execution_count": 131,
   "metadata": {},
   "outputs": [
    {
     "data": {
      "text/plain": [
       "(1503, 2)"
      ]
     },
     "execution_count": 131,
     "metadata": {},
     "output_type": "execute_result"
    }
   ],
   "source": [
    "scores.shape"
   ]
  }
 ],
 "metadata": {
  "kernelspec": {
   "display_name": "Python 3.10.5 64-bit",
   "language": "python",
   "name": "python3"
  },
  "language_info": {
   "codemirror_mode": {
    "name": "ipython",
    "version": 3
   },
   "file_extension": ".py",
   "mimetype": "text/x-python",
   "name": "python",
   "nbconvert_exporter": "python",
   "pygments_lexer": "ipython3",
   "version": "3.10.5"
  },
  "orig_nbformat": 4,
  "vscode": {
   "interpreter": {
    "hash": "5fe23d4cdea1a1fdeea398f38169f58ea6e36b10f84ee4017a8f0fee693ee786"
   }
  }
 },
 "nbformat": 4,
 "nbformat_minor": 2
}
