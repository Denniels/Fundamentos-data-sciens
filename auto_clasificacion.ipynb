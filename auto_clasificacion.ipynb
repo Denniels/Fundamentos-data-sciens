{
 "cells": [
  {
   "cell_type": "markdown",
   "metadata": {},
   "source": [
    "Los problemas de clasificacion corresponden a un ejemplo de aprendisaje supervizado, donde el vector objetivo responde a un atributo \n",
    "\n",
    "Existen muchos fenomenos cuya primera aproximacion e smediante la binarizacion, ¿Existe o no existe una condicion?\n",
    "\n",
    "Esta aproximacion toma forma en un ensayo de bernoulli.\n",
    "\n",
    "La binarizacion corresponde a por ejemplo si van a comprar un cierto producto o no, si va votar por cierto candidato o no, hay un excetera de ejemplos y todos corresponden a un problema de calsificacion binario donde se observa la precencia o ausencia de un atributo especifico ."
   ]
  },
  {
   "cell_type": "code",
   "execution_count": 1,
   "metadata": {},
   "outputs": [],
   "source": [
    "# importaciones analicis exploratorio y muestreo de datos\n",
    "import numpy as np\n",
    "import pandas as pd\n",
    "import matplotlib.pyplot as plt\n",
    "%matplotlib inline\n",
    "# seaborn\n",
    "import seaborn as sns\n",
    "# scipy stats para simular\n",
    "import scipy.stats as stats\n",
    "# statsmodels para modelación\n",
    "import statsmodels.api as sm\n",
    "import statsmodels.formula.api as smf\n",
    "import warnings\n",
    "warnings.filterwarnings(\"ignore\")\n",
    "import lec6_graphs as gfx\n",
    "plt.style.use('seaborn') # Gráficos estilo seaborn\n",
    "# plt.rcParams[\"figure.figsize\"] = (6, 3) # Tamaño gráficos\n",
    "# plt.rcParams[\"figure.dpi\"] = 200 # resolución gráficos\n",
    "# Regrecion Machine Learning\n",
    "from sklearn.linear_model import LogisticRegression\n",
    "from sklearn.model_selection import train_test_split\n",
    "from sklearn.preprocessing import StandardScaler\n",
    "# Matriz de confusion y metricas de desempeño\n",
    "from sklearn.metrics import classification_report, confusion_matrix, accuracy_score, precision_score, recall_score, f1_score"
   ]
  },
  {
   "cell_type": "code",
   "execution_count": 2,
   "metadata": {},
   "outputs": [
    {
     "data": {
      "text/html": [
       "<div>\n",
       "<style scoped>\n",
       "    .dataframe tbody tr th:only-of-type {\n",
       "        vertical-align: middle;\n",
       "    }\n",
       "\n",
       "    .dataframe tbody tr th {\n",
       "        vertical-align: top;\n",
       "    }\n",
       "\n",
       "    .dataframe thead th {\n",
       "        text-align: right;\n",
       "    }\n",
       "</style>\n",
       "<table border=\"1\" class=\"dataframe\">\n",
       "  <thead>\n",
       "    <tr style=\"text-align: right;\">\n",
       "      <th></th>\n",
       "      <th>y</th>\n",
       "      <th>dist100</th>\n",
       "      <th>arsenic</th>\n",
       "      <th>educ4</th>\n",
       "      <th>assoc</th>\n",
       "    </tr>\n",
       "  </thead>\n",
       "  <tbody>\n",
       "    <tr>\n",
       "      <th>0</th>\n",
       "      <td>1</td>\n",
       "      <td>0.16826</td>\n",
       "      <td>2.36</td>\n",
       "      <td>0.0</td>\n",
       "      <td>0</td>\n",
       "    </tr>\n",
       "    <tr>\n",
       "      <th>1</th>\n",
       "      <td>1</td>\n",
       "      <td>0.47322</td>\n",
       "      <td>0.71</td>\n",
       "      <td>0.0</td>\n",
       "      <td>0</td>\n",
       "    </tr>\n",
       "    <tr>\n",
       "      <th>2</th>\n",
       "      <td>0</td>\n",
       "      <td>0.20967</td>\n",
       "      <td>2.07</td>\n",
       "      <td>2.5</td>\n",
       "      <td>0</td>\n",
       "    </tr>\n",
       "    <tr>\n",
       "      <th>3</th>\n",
       "      <td>1</td>\n",
       "      <td>0.21486</td>\n",
       "      <td>1.15</td>\n",
       "      <td>3.0</td>\n",
       "      <td>0</td>\n",
       "    </tr>\n",
       "    <tr>\n",
       "      <th>4</th>\n",
       "      <td>1</td>\n",
       "      <td>0.40874</td>\n",
       "      <td>1.10</td>\n",
       "      <td>3.5</td>\n",
       "      <td>1</td>\n",
       "    </tr>\n",
       "  </tbody>\n",
       "</table>\n",
       "</div>"
      ],
      "text/plain": [
       "   y  dist100  arsenic  educ4  assoc\n",
       "0  1  0.16826     2.36    0.0      0\n",
       "1  1  0.47322     0.71    0.0      0\n",
       "2  0  0.20967     2.07    2.5      0\n",
       "3  1  0.21486     1.15    3.0      0\n",
       "4  1  0.40874     1.10    3.5      1"
      ]
     },
     "execution_count": 2,
     "metadata": {},
     "output_type": "execute_result"
    }
   ],
   "source": [
    "# ingresamos la base de datos\n",
    "df = pd.read_csv('datasets/wells.csv')\n",
    "# La base de datos incluye una columna de índice. Eliminemosla para evitar futuros conflictos\n",
    "df = df.drop(\"index\", axis = 1)\n",
    "df.head()"
   ]
  },
  {
   "cell_type": "code",
   "execution_count": 3,
   "metadata": {},
   "outputs": [
    {
     "data": {
      "text/plain": [
       "(3020, 5)"
      ]
     },
     "execution_count": 3,
     "metadata": {},
     "output_type": "execute_result"
    }
   ],
   "source": [
    "df.shape"
   ]
  },
  {
   "cell_type": "code",
   "execution_count": 4,
   "metadata": {},
   "outputs": [
    {
     "data": {
      "text/plain": [
       "Index(['y', 'dist100', 'arsenic', 'educ4', 'assoc'], dtype='object')"
      ]
     },
     "execution_count": 4,
     "metadata": {},
     "output_type": "execute_result"
    }
   ],
   "source": [
    "df.columns"
   ]
  },
  {
   "cell_type": "code",
   "execution_count": 5,
   "metadata": {},
   "outputs": [
    {
     "data": {
      "image/png": "[encoded data removed]",
      "text/plain": [
       "<Figure size 576x396 with 5 Axes>"
      ]
     },
     "metadata": {},
     "output_type": "display_data"
    }
   ],
   "source": [
    "for index, value in enumerate(df):\n",
    "    plt.subplot(2, 3, index + 1)\n",
    "    if len(df[value].value_counts()) > 2:\n",
    "        sns.distplot(df[value])\n",
    "    else:\n",
    "        sns.countplot(df[value])\n",
    "    plt.tight_layout()\n",
    "    "
   ]
  },
  {
   "cell_type": "code",
   "execution_count": 6,
   "metadata": {},
   "outputs": [
    {
     "data": {
      "text/plain": [
       "<AxesSubplot:>"
      ]
     },
     "execution_count": 6,
     "metadata": {},
     "output_type": "execute_result"
    },
    {
     "data": {
      "image/png": "[encoded data removed]",
      "text/plain": [
       "<Figure size 576x396 with 2 Axes>"
      ]
     },
     "metadata": {},
     "output_type": "display_data"
    }
   ],
   "source": [
    "sns.heatmap(df.corr(), cmap = 'Blues', annot = True)"
   ]
  },
  {
   "cell_type": "markdown",
   "metadata": {},
   "source": [
    "Primera aproximación: utilizar una regrecion lineal asumiendo que nuestra variable dependiente mide la probabilidad del suceso.\n",
    "\n",
    "Este preoceso se conoce como modelo de probabilidad lineal.\n",
    "\n",
    "$$Y_i = \\beta_0 + \\beta_1 \\times dist100 + \\varepsilon_i$$\n",
    "\n",
    "La interpretacion de los coeficientes se hace consideracion a la probabilidad de ocurrencia del suceso."
   ]
  },
  {
   "cell_type": "code",
   "execution_count": 7,
   "metadata": {},
   "outputs": [],
   "source": [
    "m1_ols = smf.ols('y ~ dist100', df).fit()"
   ]
  },
  {
   "cell_type": "code",
   "execution_count": 8,
   "metadata": {},
   "outputs": [],
   "source": [
    "def conciense_summary(mod, print_fit = True):\n",
    "    '''\n",
    "    Esta funcion genera un resumen abreviado de los principales estadisticos de un modelo.\n",
    "    Parametros de ingreso: Modelo\n",
    "    Parametros de salida: Un print\n",
    "    '''\n",
    "    fit = pd.DataFrame({'Statistics':mod.summary2().tables[0][0][2:], \n",
    "                        'Value':mod.summary2().tables[0][3][2:]})\n",
    "    estimates = pd.DataFrame(mod.summary2().tables[1].loc[:, 'Coef.':'Std.Err.'])\n",
    "\n",
    "    if print_fit is True:\n",
    "        print(f'''\n",
    "Goodness of Fit statistics \n",
    "{fit}''')\n",
    "\n",
    "    print(f'''\n",
    "Point estimates\n",
    "{estimates}''')"
   ]
  },
  {
   "cell_type": "code",
   "execution_count": 9,
   "metadata": {},
   "outputs": [
    {
     "name": "stdout",
     "output_type": "stream",
     "text": [
      "\n",
      "Goodness of Fit statistics \n",
      "          Statistics      Value\n",
      "2              Date:  4288.4686\n",
      "3  No. Observations:    -2136.2\n",
      "4          Df Model:      42.57\n",
      "5      Df Residuals:   7.95e-11\n",
      "6         R-squared:    0.24111\n",
      "\n",
      "Point estimates\n",
      "              Coef.  Std.Err.\n",
      "Intercept  0.648407  0.014347\n",
      "dist100   -0.151539  0.023225\n"
     ]
    }
   ],
   "source": [
    "conciense_summary(m1_ols)"
   ]
  },
  {
   "cell_type": "markdown",
   "metadata": {},
   "source": [
    "Para obtener el puntaje Z vamos a dividir el coeficiente del intercepto por el error estandart del intercepto.\n",
    "0.648407 / 0.014347\n",
    "\n",
    "45.19460514393253"
   ]
  },
  {
   "cell_type": "code",
   "execution_count": 10,
   "metadata": {},
   "outputs": [
    {
     "data": {
      "text/plain": [
       "45.19460514393253"
      ]
     },
     "execution_count": 10,
     "metadata": {},
     "output_type": "execute_result"
    }
   ],
   "source": [
    "0.648407/0.014347"
   ]
  },
  {
   "cell_type": "code",
   "execution_count": 11,
   "metadata": {},
   "outputs": [
    {
     "data": {
      "text/plain": [
       "-6.5248223896663085"
      ]
     },
     "execution_count": 11,
     "metadata": {},
     "output_type": "execute_result"
    }
   ],
   "source": [
    "-0.151539 / 0.023225"
   ]
  },
  {
   "cell_type": "markdown",
   "metadata": {},
   "source": [
    "Es superio a los puntos criticos por lo que hay evidencia para rechar la hipotecis nula\n",
    "Ambos estadisticos son una buena aproximacion del modelo"
   ]
  },
  {
   "cell_type": "code",
   "execution_count": 12,
   "metadata": {},
   "outputs": [
    {
     "data": {
      "text/plain": [
       "<seaborn.axisgrid.FacetGrid at 0x1a52c5fdcf0>"
      ]
     },
     "execution_count": 12,
     "metadata": {},
     "output_type": "execute_result"
    },
    {
     "data": {
      "image/png": "[encoded data removed]",
      "text/plain": [
       "<Figure size 360x360 with 1 Axes>"
      ]
     },
     "metadata": {},
     "output_type": "display_data"
    }
   ],
   "source": [
    "sns.lmplot('dist100', 'y', df, line_kws = {'color':'tomato'}, \n",
    "                            scatter_kws = {'color':'grey', 'alpha': .5})"
   ]
  },
  {
   "cell_type": "markdown",
   "metadata": {},
   "source": [
    "La estimacion de los coeficientes en la regrecion logistica se realiza mediante el metodo de maxima verosimilitud\n",
    "$$  log \\left(\\dfrac{Pr(y)}{1 - Pr(y)} \\right)= \\beta_0 + \\beta_1 \\times dist100 + \\varepsilon_i$$"
   ]
  },
  {
   "cell_type": "code",
   "execution_count": 13,
   "metadata": {},
   "outputs": [
    {
     "name": "stdout",
     "output_type": "stream",
     "text": [
      "Optimization terminated successfully.\n",
      "         Current function value: 0.674874\n",
      "         Iterations 4\n",
      "\n",
      "Goodness of Fit statistics \n",
      "          Statistics       Value\n",
      "2              Date:   4092.2639\n",
      "3  No. Observations:     -2038.1\n",
      "4          Df Model:     -2059.0\n",
      "5      Df Residuals:  9.7978e-11\n",
      "6         Converged:      1.0000\n",
      "7    No. Iterations:            \n",
      "\n",
      "Point estimates\n",
      "              Coef.  Std.Err.\n",
      "Intercept  0.605959  0.060310\n",
      "dist100   -0.621882  0.097426\n"
     ]
    }
   ],
   "source": [
    "m1_logit = smf.logit('y ~ dist100', df).fit()\n",
    "conciense_summary(m1_logit)"
   ]
  },
  {
   "cell_type": "markdown",
   "metadata": {},
   "source": [
    ">El objetivo es traducir de log-odds a una declaracion probabilistica. Asi generamos una explicacion intituiva sobre el efecto de una variable en la probabilidad de ocurrencia\n",
    ">\n",
    ">$$ logit^{-1} (x)= \\dfrac{exp(x)}{1 + exp(-x)} $$\n",
    ">$$\t\\Downarrow $$\n",
    ">$$ Pr(Cambio\\ de\\ pozo = 1 |X) = log \\dfrac{exp(\\beta_0 + \\beta_1)}{1 + exp(\\beta_0 + \\beta_1)} $$"
   ]
  },
  {
   "cell_type": "code",
   "execution_count": 14,
   "metadata": {},
   "outputs": [
    {
     "name": "stdout",
     "output_type": "stream",
     "text": [
      "0.4673960540623984\n"
     ]
    }
   ],
   "source": [
    "dist100_mean = df['dist100'].mean()\n",
    "estimate_y = m1_logit.params['Intercept'] + (m1_logit.params['dist100'] + dist100_mean)\n",
    "print(estimate_y)"
   ]
  },
  {
   "cell_type": "code",
   "execution_count": 15,
   "metadata": {},
   "outputs": [
    {
     "name": "stdout",
     "output_type": "stream",
     "text": [
      "0.6147672524277406\n"
     ]
    }
   ],
   "source": [
    "def invlogit(x):\n",
    "    return 1 / (1 + np.exp(-x))\n",
    "print(invlogit(estimate_y))\n"
   ]
  },
  {
   "cell_type": "code",
   "execution_count": 16,
   "metadata": {},
   "outputs": [
    {
     "data": {
      "text/plain": [
       "0.4833186257042435"
      ]
     },
     "execution_count": 16,
     "metadata": {},
     "output_type": "execute_result"
    }
   ],
   "source": [
    "dist100_mean"
   ]
  },
  {
   "cell_type": "code",
   "execution_count": 17,
   "metadata": {},
   "outputs": [],
   "source": [
    "pr_dist_100 = invlogit(m1_logit.params['Intercept'] + (m1_logit.params['dist100'] * 1))\n",
    "pr_dist_200 = invlogit(m1_logit.params['Intercept'] + (m1_logit.params['dist100'] * 2))\n",
    "pr_dist_300 = invlogit(m1_logit.params['Intercept'] + (m1_logit.params['dist100'] * 3))\n",
    "pr_dist_400 = invlogit(m1_logit.params['Intercept'] + (m1_logit.params['dist100'] * 4))"
   ]
  },
  {
   "cell_type": "code",
   "execution_count": 18,
   "metadata": {},
   "outputs": [
    {
     "data": {
      "text/plain": [
       "(0.4960194411878717,\n",
       " 0.34574300299201427,\n",
       " 0.22102787555555548,\n",
       " 0.13220883169891445)"
      ]
     },
     "execution_count": 18,
     "metadata": {},
     "output_type": "execute_result"
    }
   ],
   "source": [
    "pr_dist_100, pr_dist_200, pr_dist_300, pr_dist_400"
   ]
  },
  {
   "cell_type": "code",
   "execution_count": 19,
   "metadata": {},
   "outputs": [
    {
     "name": "stdout",
     "output_type": "stream",
     "text": [
      "La probabilidad de cambiar entre 100 y 200 es de 0.15\n"
     ]
    }
   ],
   "source": [
    "print(f'La probabilidad de cambiar entre 100 y 200 es de {round(pr_dist_100 - pr_dist_200, 3)}')"
   ]
  },
  {
   "cell_type": "code",
   "execution_count": 20,
   "metadata": {},
   "outputs": [
    {
     "name": "stdout",
     "output_type": "stream",
     "text": [
      "La probabilidad de cambiar entre 200 y 300 es de 0.125\n"
     ]
    }
   ],
   "source": [
    "print(f'La probabilidad de cambiar entre 200 y 300 es de {round(pr_dist_200 - pr_dist_300, 3)}')"
   ]
  },
  {
   "cell_type": "code",
   "execution_count": 21,
   "metadata": {},
   "outputs": [
    {
     "name": "stdout",
     "output_type": "stream",
     "text": [
      "La probabilidad de cambiar entre 300 y 400 es de 0.089\n"
     ]
    }
   ],
   "source": [
    "print(f'La probabilidad de cambiar entre 300 y 400 es de {round(pr_dist_300 - pr_dist_400, 3)}')"
   ]
  },
  {
   "cell_type": "code",
   "execution_count": 22,
   "metadata": {},
   "outputs": [
    {
     "data": {
      "text/plain": [
       "0.97439615007053"
      ]
     },
     "execution_count": 22,
     "metadata": {},
     "output_type": "execute_result"
    }
   ],
   "source": [
    "decision_boundary = - m1_logit.params['Intercept'] / m1_logit.params['dist100']\n",
    "decision_boundary"
   ]
  },
  {
   "cell_type": "code",
   "execution_count": 23,
   "metadata": {},
   "outputs": [
    {
     "data": {
      "text/plain": [
       "(0.0, 0.8)"
      ]
     },
     "execution_count": 23,
     "metadata": {},
     "output_type": "execute_result"
    },
    {
     "data": {
      "image/png": "[encoded data removed]",
      "text/plain": [
       "<Figure size 360x360 with 1 Axes>"
      ]
     },
     "metadata": {},
     "output_type": "display_data"
    }
   ],
   "source": [
    "from turtle import color\n",
    "\n",
    "\n",
    "sns.lmplot('dist100', 'y', df, logistic = True, line_kws={'color':'tomato', 'lw':3},\n",
    "                                            scatter_kws={'color':'lightgrey', 'alpha':.5})\n",
    "                                            \n",
    "plt.axvline(decision_boundary, lw = 1, color = 'dodgerblue')\n",
    "plt.axhline(.5, linestyle = '--', color = 'dodgerblue', lw = 1)\n",
    "plt.text(decision_boundary + .2, .5 + .05, r'Caso donde $\\hat{p}=.5$', color = 'forestgreen')\n",
    "plt.plot(decision_boundary, .5, 'o', color = 'forestgreen')\n",
    "plt.ylim(0.0, 0.8)"
   ]
  },
  {
   "cell_type": "code",
   "execution_count": 24,
   "metadata": {},
   "outputs": [
    {
     "name": "stdout",
     "output_type": "stream",
     "text": [
      "OLS - LPM\n",
      "\n",
      "Point estimates\n",
      "              Coef.  Std.Err.\n",
      "Intercept  0.648407  0.014347\n",
      "dist100   -0.151539  0.023225\n",
      "Logit\n",
      "\n",
      "Point estimates\n",
      "              Coef.  Std.Err.\n",
      "Intercept  0.605959  0.060310\n",
      "dist100   -0.621882  0.097426\n"
     ]
    }
   ],
   "source": [
    "print('OLS - LPM')\n",
    "conciense_summary(m1_ols, print_fit = False)\n",
    "\n",
    "print('Logit')\n",
    "conciense_summary(m1_logit, print_fit = False)"
   ]
  },
  {
   "cell_type": "code",
   "execution_count": 25,
   "metadata": {},
   "outputs": [
    {
     "data": {
      "text/plain": [
       "-0.155"
      ]
     },
     "execution_count": 25,
     "metadata": {},
     "output_type": "execute_result"
    }
   ],
   "source": [
    "-0.62 / 4"
   ]
  },
  {
   "cell_type": "markdown",
   "metadata": {},
   "source": [
    "Clasificacion desde el Machine Learning\n",
    "\n",
    "Dividimos la muestra con train_test_split"
   ]
  },
  {
   "cell_type": "code",
   "execution_count": 26,
   "metadata": {},
   "outputs": [],
   "source": [
    "x_train_pre, x_test_pre, y_train, y_test = train_test_split(df.loc[:, 'dist100':'assoc'], \n",
    "                                                        df['y'], test_size = .33, \n",
    "                                                        random_state = 15820)"
   ]
  },
  {
   "cell_type": "markdown",
   "metadata": {},
   "source": [
    "Transformamos los conjuntos de entrenamiento y test la con transformacion entrenada sobre el conjunto de entrenamiento"
   ]
  },
  {
   "cell_type": "code",
   "execution_count": 27,
   "metadata": {},
   "outputs": [],
   "source": [
    "scaler = StandardScaler().fit(x_train_pre)\n",
    "x_train = scaler.transform(x_train_pre)\n",
    "x_test = scaler.transform(x_test_pre)"
   ]
  },
  {
   "cell_type": "markdown",
   "metadata": {},
   "source": [
    "Luego de tener nuestras matrices estandarizadas, instanciamos a LogisticRegression() y la vamos a entrenar con nuestras matrices de entrenamiento"
   ]
  },
  {
   "cell_type": "code",
   "execution_count": 28,
   "metadata": {},
   "outputs": [],
   "source": [
    "default_model = LogisticRegression().fit(x_train, y_train)"
   ]
  },
  {
   "cell_type": "code",
   "execution_count": 29,
   "metadata": {},
   "outputs": [
    {
     "data": {
      "text/plain": [
       "array([[-0.28398626,  0.53436482,  0.18001498, -0.03678595]])"
      ]
     },
     "execution_count": 29,
     "metadata": {},
     "output_type": "execute_result"
    }
   ],
   "source": [
    "default_model.coef_"
   ]
  },
  {
   "cell_type": "markdown",
   "metadata": {},
   "source": [
    "#### Metricas de desempeño.\n",
    "\n",
    "Ahora que tenemos nuestro modelo entrenado, podemos pedirle que aga algunas predicciones sobre un conjunto de datos. Vamos hacer que aga todas las predicciones para el conjunto de test"
   ]
  },
  {
   "cell_type": "code",
   "execution_count": 30,
   "metadata": {},
   "outputs": [
    {
     "data": {
      "text/plain": [
       "array([1, 1, 1, 1, 1, 1, 1, 1, 1, 1, 1, 0, 0, 1, 1, 1, 1, 1, 1, 1],\n",
       "      dtype=int64)"
      ]
     },
     "execution_count": 30,
     "metadata": {},
     "output_type": "execute_result"
    }
   ],
   "source": [
    "yhat = default_model.predict(x_test)\n",
    "yhat[:20]"
   ]
  },
  {
   "cell_type": "code",
   "execution_count": 31,
   "metadata": {},
   "outputs": [
    {
     "data": {
      "text/plain": [
       "array([[0.23213126, 0.76786874],\n",
       "       [0.36406036, 0.63593964],\n",
       "       [0.45295198, 0.54704802],\n",
       "       [0.4538275 , 0.5461725 ],\n",
       "       [0.22100255, 0.77899745],\n",
       "       [0.49336206, 0.50663794],\n",
       "       [0.36687675, 0.63312325],\n",
       "       [0.14194144, 0.85805856],\n",
       "       [0.47597782, 0.52402218],\n",
       "       [0.48324471, 0.51675529],\n",
       "       [0.43320904, 0.56679096],\n",
       "       [0.58241544, 0.41758456],\n",
       "       [0.54819581, 0.45180419],\n",
       "       [0.35159417, 0.64840583],\n",
       "       [0.36450069, 0.63549931],\n",
       "       [0.48285301, 0.51714699],\n",
       "       [0.27478505, 0.72521495],\n",
       "       [0.45117916, 0.54882084],\n",
       "       [0.36574692, 0.63425308],\n",
       "       [0.43571371, 0.56428629]])"
      ]
     },
     "execution_count": 31,
     "metadata": {},
     "output_type": "execute_result"
    }
   ],
   "source": [
    "yhat_pr = default_model.predict_proba(x_test)\n",
    "yhat_pr[:20]"
   ]
  },
  {
   "cell_type": "markdown",
   "metadata": {},
   "source": [
    "### Matriz de confusion.\n",
    "\n",
    "Es cruce de informacion predicha y etiquetas reales en la muetra de validacion.\n",
    "\n",
    "Permite observar la cantidad de observaciones predichas de forma correcta"
   ]
  },
  {
   "cell_type": "code",
   "execution_count": 32,
   "metadata": {},
   "outputs": [
    {
     "data": {
      "text/plain": [
       "array([[177, 261],\n",
       "       [112, 447]], dtype=int64)"
      ]
     },
     "execution_count": 32,
     "metadata": {},
     "output_type": "execute_result"
    }
   ],
   "source": [
    "m1_confusion = confusion_matrix(y_test, yhat)\n",
    "m1_confusion"
   ]
  },
  {
   "cell_type": "code",
   "execution_count": 33,
   "metadata": {},
   "outputs": [
    {
     "data": {
      "text/plain": [
       "0.6258776328986961"
      ]
     },
     "execution_count": 33,
     "metadata": {},
     "output_type": "execute_result"
    }
   ],
   "source": [
    "m1_acc = accuracy_score(y_test, yhat)\n",
    "m1_acc"
   ]
  },
  {
   "cell_type": "markdown",
   "metadata": {},
   "source": []
  },
  {
   "cell_type": "code",
   "execution_count": 34,
   "metadata": {},
   "outputs": [
    {
     "data": {
      "text/plain": [
       "0.12587763289869613"
      ]
     },
     "execution_count": 34,
     "metadata": {},
     "output_type": "execute_result"
    }
   ],
   "source": [
    "m1_acc - .5"
   ]
  },
  {
   "cell_type": "markdown",
   "metadata": {},
   "source": [
    "### Accuracy, Precision, Recall\n",
    "\n",
    "Exactitud: Casos correctamente predichos del total de observaciones.\n",
    "\n",
    "$$ Exactitud = \\dfrac{VP + VN}{VP + VN + FP + FN} $$\n",
    "\n",
    "Precision: Etiquetas correctas en las positivas.\n",
    "\n",
    "$$ Presicion = \\dfrac{VP}{VP + FP} $$\n",
    "\n",
    "Recall: Verdaderos positivos entre los predichos del modelo.\n",
    "\n",
    "$$ Presicion = \\dfrac{VP}{VP + FN} $$\n",
    "\n",
    "VN = Verdadero Negativo\n",
    "\n",
    "VP = Verdadero Negativo\n",
    "\n",
    "FP = Faslso Positivo\n",
    "\n",
    "FN = Falso Negativo\n"
   ]
  },
  {
   "cell_type": "code",
   "execution_count": 35,
   "metadata": {},
   "outputs": [
    {
     "data": {
      "text/plain": [
       "0.6313559322033898"
      ]
     },
     "execution_count": 35,
     "metadata": {},
     "output_type": "execute_result"
    }
   ],
   "source": [
    "m1_prec = precision_score(y_test, yhat)\n",
    "m1_prec"
   ]
  },
  {
   "cell_type": "code",
   "execution_count": 36,
   "metadata": {},
   "outputs": [
    {
     "data": {
      "text/plain": [
       "0.7996422182468694"
      ]
     },
     "execution_count": 36,
     "metadata": {},
     "output_type": "execute_result"
    }
   ],
   "source": [
    "m1_recall = recall_score(y_test, yhat)\n",
    "m1_recall"
   ]
  },
  {
   "cell_type": "code",
   "execution_count": 37,
   "metadata": {},
   "outputs": [
    {
     "data": {
      "text/plain": [
       "0.7056037884767167"
      ]
     },
     "execution_count": 37,
     "metadata": {},
     "output_type": "execute_result"
    }
   ],
   "source": [
    "m1_fscore = f1_score(y_test, yhat)\n",
    "m1_fscore"
   ]
  },
  {
   "cell_type": "code",
   "execution_count": 38,
   "metadata": {},
   "outputs": [
    {
     "name": "stdout",
     "output_type": "stream",
     "text": [
      "              precision    recall  f1-score   support\n",
      "\n",
      "           0       0.61      0.40      0.49       438\n",
      "           1       0.63      0.80      0.71       559\n",
      "\n",
      "    accuracy                           0.63       997\n",
      "   macro avg       0.62      0.60      0.60       997\n",
      "weighted avg       0.62      0.63      0.61       997\n",
      "\n"
     ]
    }
   ],
   "source": [
    "print(classification_report(y_test, yhat))"
   ]
  },
  {
   "cell_type": "markdown",
   "metadata": {},
   "source": [
    "### Curva ROC\n",
    "Permite evaluar el rango de errores de un modelo\n",
    "\n",
    "Evalua la relacion entre falsos positivos y verdaderos positivos\n",
    "\n",
    "* En el eje X va la tasa de Falsos Positivos(Falsas alarmas)\n",
    "* En el eje Y va la tasa de Verdaderos Positivos"
   ]
  },
  {
   "cell_type": "code",
   "execution_count": 39,
   "metadata": {},
   "outputs": [
    {
     "data": {
      "text/plain": [
       "743     1\n",
       "2159    0\n",
       "1099    0\n",
       "1430    1\n",
       "1531    1\n",
       "       ..\n",
       "1247    1\n",
       "775     0\n",
       "2080    0\n",
       "462     1\n",
       "572     0\n",
       "Name: y, Length: 997, dtype: int64"
      ]
     },
     "execution_count": 39,
     "metadata": {},
     "output_type": "execute_result"
    }
   ],
   "source": [
    "y_test"
   ]
  },
  {
   "cell_type": "code",
   "execution_count": 40,
   "metadata": {},
   "outputs": [],
   "source": [
    "X_train, X_test, y_train, y_test = train_test_split(df.loc[:, 'dist100':'assoc'], \n",
    "                                                        df['y'], test_size = .33, \n",
    "                                                        random_state = 15820)"
   ]
  },
  {
   "cell_type": "code",
   "execution_count": 41,
   "metadata": {},
   "outputs": [],
   "source": [
    "from sklearn.metrics import roc_curve\n",
    "yhay_pr_roc = default_model.predict_proba(X_test)[:, 1]\n",
    "false_positive, true_positive, threshol = roc_curve(y_test, yhay_pr_roc)"
   ]
  },
  {
   "cell_type": "code",
   "execution_count": 42,
   "metadata": {},
   "outputs": [
    {
     "data": {
      "text/plain": [
       "[<matplotlib.lines.Line2D at 0x1a5271d8dc0>]"
      ]
     },
     "execution_count": 42,
     "metadata": {},
     "output_type": "execute_result"
    },
    {
     "data": {
      "image/png": "[encoded data removed]",
      "text/plain": [
       "<Figure size 576x396 with 1 Axes>"
      ]
     },
     "metadata": {},
     "output_type": "display_data"
    }
   ],
   "source": [
    "plt.plot(false_positive, true_positive, lw = 1)\n",
    "plt.plot([0, 1], linestyle = '--', lw = 1, color = 'tomato')"
   ]
  },
  {
   "cell_type": "code",
   "execution_count": 43,
   "metadata": {},
   "outputs": [
    {
     "data": {
      "text/plain": [
       "0.6018759036439826"
      ]
     },
     "execution_count": 43,
     "metadata": {},
     "output_type": "execute_result"
    }
   ],
   "source": [
    "from sklearn.metrics import roc_auc_score\n",
    "\n",
    "roc_auc_score(y_test, yhat)\n"
   ]
  },
  {
   "cell_type": "markdown",
   "metadata": {},
   "source": [
    "### Validacion Cruzada\n",
    "\n",
    "* Situacion comun: no existen suficientes observaciones como para generar un estadistico de prueba robusta.\n",
    "* Solucion: iterar de forma sucesiva simulando el entrenamiento del modelo en multiples muestras.\n",
    "* Por cada muetsra se estima una metrica de desempeño.\n",
    "\n",
    "### K-Fold Cross Validation\n",
    "\n",
    "$$ E= \\dfrac{1}{10} \\sum_{i=1}^{10} E_i $$"
   ]
  },
  {
   "cell_type": "code",
   "execution_count": 44,
   "metadata": {},
   "outputs": [
    {
     "data": {
      "text/plain": [
       "array([0.70499244, 0.6888361 , 0.7006079 ])"
      ]
     },
     "execution_count": 44,
     "metadata": {},
     "output_type": "execute_result"
    }
   ],
   "source": [
    "from sklearn.model_selection import cross_val_score\n",
    "\n",
    "m1_cv = cross_val_score(LogisticRegression(), X = df.loc[:, 'dist100':'assoc'], y = df['y'], cv = 3, scoring = 'f1')\n",
    "m1_cv"
   ]
  },
  {
   "cell_type": "code",
   "execution_count": 45,
   "metadata": {},
   "outputs": [
    {
     "data": {
      "text/plain": [
       "0.6981454809840354"
      ]
     },
     "execution_count": 45,
     "metadata": {},
     "output_type": "execute_result"
    }
   ],
   "source": [
    "np.mean(m1_cv)"
   ]
  },
  {
   "cell_type": "code",
   "execution_count": 46,
   "metadata": {},
   "outputs": [
    {
     "data": {
      "text/plain": [
       "0.006821749533435546"
      ]
     },
     "execution_count": 46,
     "metadata": {},
     "output_type": "execute_result"
    }
   ],
   "source": [
    "np.std(m1_cv)"
   ]
  },
  {
   "cell_type": "markdown",
   "metadata": {},
   "source": [
    "### Leav One Out Cross Validation\n",
    "\n",
    "* Version extrema de K-Fold Cros Validation.\n",
    "* Generamos tantos modelos con (n-1) obseervaciones como observaciones existen en una muestra"
   ]
  },
  {
   "cell_type": "code",
   "execution_count": 47,
   "metadata": {},
   "outputs": [],
   "source": [
    "from sklearn.model_selection import LeaveOneOut\n",
    "m1_cv_loo = cross_val_score(LogisticRegression(), X = df.loc[:, 'dist100':'assoc'], y = df['y'], cv = LeaveOneOut(), scoring = 'accuracy')"
   ]
  },
  {
   "cell_type": "code",
   "execution_count": 48,
   "metadata": {},
   "outputs": [
    {
     "data": {
      "text/plain": [
       "0.6142384105960265"
      ]
     },
     "execution_count": 48,
     "metadata": {},
     "output_type": "execute_result"
    }
   ],
   "source": [
    "np.mean(m1_cv_loo)"
   ]
  },
  {
   "cell_type": "code",
   "execution_count": 49,
   "metadata": {},
   "outputs": [
    {
     "data": {
      "text/plain": [
       "0.4867746763590867"
      ]
     },
     "execution_count": 49,
     "metadata": {},
     "output_type": "execute_result"
    }
   ],
   "source": [
    "np.std(m1_cv_loo)"
   ]
  },
  {
   "cell_type": "markdown",
   "metadata": {},
   "source": [
    "Experimento: Evaluacion de la complejidad del modelo condicional a terminos polinomiales.\n",
    "\n",
    "* Objetivo: Desarrollar una serie de modelos aumentando las interacciones entre variables y evaluar cual es el mejor modelo.\n",
    "* Metodo: Evaluar las metricas F1, Accuracy, Precision y Recall en tres grados polinomiales (1, 2 y 3). Para cada metrica:\n",
    "  * Calcular los puntajes de validacion cruzada con k = 10 para cada modelo candidato.\n",
    "  * Generar un objeto DataFrame, graficamos el diagrama de cajas.\n",
    "  * Finiquitamos con detalles esteticos de presentacion.\n",
    "\n",
    "#### Generar las matrices estandarizadas"
   ]
  },
  {
   "cell_type": "code",
   "execution_count": 50,
   "metadata": {},
   "outputs": [],
   "source": [
    "std_matrix = StandardScaler().fit_transform(df.loc[:, 'dist100':'assoc'])"
   ]
  },
  {
   "cell_type": "code",
   "execution_count": 51,
   "metadata": {},
   "outputs": [],
   "source": [
    "from sklearn.preprocessing import PolynomialFeatures\n",
    "\n",
    "df_int_2 = PolynomialFeatures(degree = 2, interaction_only=True, include_bias=False).fit_transform(std_matrix)\n",
    "df_int_3 = PolynomialFeatures(degree = 3, interaction_only=True, include_bias=False).fit_transform(std_matrix)"
   ]
  },
  {
   "cell_type": "code",
   "execution_count": 52,
   "metadata": {},
   "outputs": [
    {
     "data": {
      "text/plain": [
       "(3020, 5)"
      ]
     },
     "execution_count": 52,
     "metadata": {},
     "output_type": "execute_result"
    }
   ],
   "source": [
    "df.shape"
   ]
  },
  {
   "cell_type": "code",
   "execution_count": 53,
   "metadata": {},
   "outputs": [
    {
     "data": {
      "text/plain": [
       "(3020, 10)"
      ]
     },
     "execution_count": 53,
     "metadata": {},
     "output_type": "execute_result"
    }
   ],
   "source": [
    "df_int_2.shape"
   ]
  },
  {
   "cell_type": "code",
   "execution_count": 54,
   "metadata": {},
   "outputs": [
    {
     "data": {
      "text/plain": [
       "(3020, 14)"
      ]
     },
     "execution_count": 54,
     "metadata": {},
     "output_type": "execute_result"
    }
   ],
   "source": [
    "df_int_3.shape"
   ]
  },
  {
   "cell_type": "markdown",
   "metadata": {},
   "source": [
    "#### Definir las metricas"
   ]
  },
  {
   "cell_type": "markdown",
   "metadata": {},
   "source": []
  },
  {
   "cell_type": "code",
   "execution_count": 55,
   "metadata": {},
   "outputs": [],
   "source": [
    "eval_metric = ['f1', 'precision', 'recall', 'accuracy']"
   ]
  },
  {
   "cell_type": "markdown",
   "metadata": {},
   "source": [
    "### Iniciar el loop"
   ]
  },
  {
   "cell_type": "code",
   "execution_count": 64,
   "metadata": {},
   "outputs": [
    {
     "data": {
      "image/png": "[encoded data removed]",
      "text/plain": [
       "<Figure size 576x396 with 4 Axes>"
      ]
     },
     "metadata": {},
     "output_type": "display_data"
    }
   ],
   "source": [
    "for index, value in enumerate(eval_metric):\n",
    "        tmp_1 = cross_val_score(LogisticRegression(), df.loc[:, 'dist100':'assoc'], df['y'], cv = 10, scoring = value)\n",
    "        tmp_2 = cross_val_score(LogisticRegression(), df_int_2, df['y'], cv = 10, scoring = value)\n",
    "        tmp_3 = cross_val_score(LogisticRegression(), df_int_3, df['y'], cv = 10, scoring = value)\n",
    "        tmp = pd.DataFrame({'Aditive':tmp_1, '2-order Interaction':tmp_2, '3-order Interaction':tmp_3}).unstack().reset_index()\n",
    "        tmp.rename(columns={'level_0':'order', 'level_1':'num', '0':'score'}, inplace = True)\n",
    "\n",
    "        plt.subplot(1, 4, index + 1)\n",
    "        sns.boxplot(tmp.iloc[:, 0], tmp.iloc[:, 2])\n",
    "        plt.title(value.capitalize())\n",
    "        plt.ylabel(' ')\n",
    "        plt.xlabel(' ')\n",
    "        plt.xticks(rotation = 45, ha = 'right')"
   ]
  },
  {
   "cell_type": "code",
   "execution_count": 57,
   "metadata": {},
   "outputs": [
    {
     "data": {
      "text/html": [
       "<div>\n",
       "<style scoped>\n",
       "    .dataframe tbody tr th:only-of-type {\n",
       "        vertical-align: middle;\n",
       "    }\n",
       "\n",
       "    .dataframe tbody tr th {\n",
       "        vertical-align: top;\n",
       "    }\n",
       "\n",
       "    .dataframe thead th {\n",
       "        text-align: right;\n",
       "    }\n",
       "</style>\n",
       "<table border=\"1\" class=\"dataframe\">\n",
       "  <thead>\n",
       "    <tr style=\"text-align: right;\">\n",
       "      <th></th>\n",
       "      <th>order</th>\n",
       "      <th>num</th>\n",
       "      <th>0</th>\n",
       "    </tr>\n",
       "  </thead>\n",
       "  <tbody>\n",
       "    <tr>\n",
       "      <th>0</th>\n",
       "      <td>Aditive</td>\n",
       "      <td>0</td>\n",
       "      <td>0.599338</td>\n",
       "    </tr>\n",
       "    <tr>\n",
       "      <th>1</th>\n",
       "      <td>Aditive</td>\n",
       "      <td>1</td>\n",
       "      <td>0.605960</td>\n",
       "    </tr>\n",
       "    <tr>\n",
       "      <th>2</th>\n",
       "      <td>Aditive</td>\n",
       "      <td>2</td>\n",
       "      <td>0.592715</td>\n",
       "    </tr>\n",
       "    <tr>\n",
       "      <th>3</th>\n",
       "      <td>Aditive</td>\n",
       "      <td>3</td>\n",
       "      <td>0.612583</td>\n",
       "    </tr>\n",
       "    <tr>\n",
       "      <th>4</th>\n",
       "      <td>Aditive</td>\n",
       "      <td>4</td>\n",
       "      <td>0.509934</td>\n",
       "    </tr>\n",
       "    <tr>\n",
       "      <th>5</th>\n",
       "      <td>Aditive</td>\n",
       "      <td>5</td>\n",
       "      <td>0.625828</td>\n",
       "    </tr>\n",
       "    <tr>\n",
       "      <th>6</th>\n",
       "      <td>Aditive</td>\n",
       "      <td>6</td>\n",
       "      <td>0.692053</td>\n",
       "    </tr>\n",
       "    <tr>\n",
       "      <th>7</th>\n",
       "      <td>Aditive</td>\n",
       "      <td>7</td>\n",
       "      <td>0.635762</td>\n",
       "    </tr>\n",
       "    <tr>\n",
       "      <th>8</th>\n",
       "      <td>Aditive</td>\n",
       "      <td>8</td>\n",
       "      <td>0.572848</td>\n",
       "    </tr>\n",
       "    <tr>\n",
       "      <th>9</th>\n",
       "      <td>Aditive</td>\n",
       "      <td>9</td>\n",
       "      <td>0.559603</td>\n",
       "    </tr>\n",
       "    <tr>\n",
       "      <th>10</th>\n",
       "      <td>2-order Interaction</td>\n",
       "      <td>0</td>\n",
       "      <td>0.609272</td>\n",
       "    </tr>\n",
       "    <tr>\n",
       "      <th>11</th>\n",
       "      <td>2-order Interaction</td>\n",
       "      <td>1</td>\n",
       "      <td>0.589404</td>\n",
       "    </tr>\n",
       "    <tr>\n",
       "      <th>12</th>\n",
       "      <td>2-order Interaction</td>\n",
       "      <td>2</td>\n",
       "      <td>0.596026</td>\n",
       "    </tr>\n",
       "    <tr>\n",
       "      <th>13</th>\n",
       "      <td>2-order Interaction</td>\n",
       "      <td>3</td>\n",
       "      <td>0.605960</td>\n",
       "    </tr>\n",
       "    <tr>\n",
       "      <th>14</th>\n",
       "      <td>2-order Interaction</td>\n",
       "      <td>4</td>\n",
       "      <td>0.503311</td>\n",
       "    </tr>\n",
       "    <tr>\n",
       "      <th>15</th>\n",
       "      <td>2-order Interaction</td>\n",
       "      <td>5</td>\n",
       "      <td>0.632450</td>\n",
       "    </tr>\n",
       "    <tr>\n",
       "      <th>16</th>\n",
       "      <td>2-order Interaction</td>\n",
       "      <td>6</td>\n",
       "      <td>0.685430</td>\n",
       "    </tr>\n",
       "    <tr>\n",
       "      <th>17</th>\n",
       "      <td>2-order Interaction</td>\n",
       "      <td>7</td>\n",
       "      <td>0.605960</td>\n",
       "    </tr>\n",
       "    <tr>\n",
       "      <th>18</th>\n",
       "      <td>2-order Interaction</td>\n",
       "      <td>8</td>\n",
       "      <td>0.579470</td>\n",
       "    </tr>\n",
       "    <tr>\n",
       "      <th>19</th>\n",
       "      <td>2-order Interaction</td>\n",
       "      <td>9</td>\n",
       "      <td>0.576159</td>\n",
       "    </tr>\n",
       "    <tr>\n",
       "      <th>20</th>\n",
       "      <td>3-order Interaction</td>\n",
       "      <td>0</td>\n",
       "      <td>0.625828</td>\n",
       "    </tr>\n",
       "    <tr>\n",
       "      <th>21</th>\n",
       "      <td>3-order Interaction</td>\n",
       "      <td>1</td>\n",
       "      <td>0.602649</td>\n",
       "    </tr>\n",
       "    <tr>\n",
       "      <th>22</th>\n",
       "      <td>3-order Interaction</td>\n",
       "      <td>2</td>\n",
       "      <td>0.579470</td>\n",
       "    </tr>\n",
       "    <tr>\n",
       "      <th>23</th>\n",
       "      <td>3-order Interaction</td>\n",
       "      <td>3</td>\n",
       "      <td>0.622517</td>\n",
       "    </tr>\n",
       "    <tr>\n",
       "      <th>24</th>\n",
       "      <td>3-order Interaction</td>\n",
       "      <td>4</td>\n",
       "      <td>0.503311</td>\n",
       "    </tr>\n",
       "    <tr>\n",
       "      <th>25</th>\n",
       "      <td>3-order Interaction</td>\n",
       "      <td>5</td>\n",
       "      <td>0.612583</td>\n",
       "    </tr>\n",
       "    <tr>\n",
       "      <th>26</th>\n",
       "      <td>3-order Interaction</td>\n",
       "      <td>6</td>\n",
       "      <td>0.698675</td>\n",
       "    </tr>\n",
       "    <tr>\n",
       "      <th>27</th>\n",
       "      <td>3-order Interaction</td>\n",
       "      <td>7</td>\n",
       "      <td>0.612583</td>\n",
       "    </tr>\n",
       "    <tr>\n",
       "      <th>28</th>\n",
       "      <td>3-order Interaction</td>\n",
       "      <td>8</td>\n",
       "      <td>0.579470</td>\n",
       "    </tr>\n",
       "    <tr>\n",
       "      <th>29</th>\n",
       "      <td>3-order Interaction</td>\n",
       "      <td>9</td>\n",
       "      <td>0.572848</td>\n",
       "    </tr>\n",
       "  </tbody>\n",
       "</table>\n",
       "</div>"
      ],
      "text/plain": [
       "                  order  num         0\n",
       "0               Aditive    0  0.599338\n",
       "1               Aditive    1  0.605960\n",
       "2               Aditive    2  0.592715\n",
       "3               Aditive    3  0.612583\n",
       "4               Aditive    4  0.509934\n",
       "5               Aditive    5  0.625828\n",
       "6               Aditive    6  0.692053\n",
       "7               Aditive    7  0.635762\n",
       "8               Aditive    8  0.572848\n",
       "9               Aditive    9  0.559603\n",
       "10  2-order Interaction    0  0.609272\n",
       "11  2-order Interaction    1  0.589404\n",
       "12  2-order Interaction    2  0.596026\n",
       "13  2-order Interaction    3  0.605960\n",
       "14  2-order Interaction    4  0.503311\n",
       "15  2-order Interaction    5  0.632450\n",
       "16  2-order Interaction    6  0.685430\n",
       "17  2-order Interaction    7  0.605960\n",
       "18  2-order Interaction    8  0.579470\n",
       "19  2-order Interaction    9  0.576159\n",
       "20  3-order Interaction    0  0.625828\n",
       "21  3-order Interaction    1  0.602649\n",
       "22  3-order Interaction    2  0.579470\n",
       "23  3-order Interaction    3  0.622517\n",
       "24  3-order Interaction    4  0.503311\n",
       "25  3-order Interaction    5  0.612583\n",
       "26  3-order Interaction    6  0.698675\n",
       "27  3-order Interaction    7  0.612583\n",
       "28  3-order Interaction    8  0.579470\n",
       "29  3-order Interaction    9  0.572848"
      ]
     },
     "execution_count": 57,
     "metadata": {},
     "output_type": "execute_result"
    }
   ],
   "source": [
    "tmp"
   ]
  }
 ],
 "metadata": {
  "kernelspec": {
   "display_name": "Python 3.10.5 64-bit",
   "language": "python",
   "name": "python3"
  },
  "language_info": {
   "codemirror_mode": {
    "name": "ipython",
    "version": 3
   },
   "file_extension": ".py",
   "mimetype": "text/x-python",
   "name": "python",
   "nbconvert_exporter": "python",
   "pygments_lexer": "ipython3",
   "version": "3.10.5"
  },
  "orig_nbformat": 4,
  "vscode": {
   "interpreter": {
    "hash": "5fe23d4cdea1a1fdeea398f38169f58ea6e36b10f84ee4017a8f0fee693ee786"
   }
  }
 },
 "nbformat": 4,
 "nbformat_minor": 2
}
