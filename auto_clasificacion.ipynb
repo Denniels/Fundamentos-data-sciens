{
 "cells": [
  {
   "cell_type": "markdown",
   "metadata": {},
   "source": [
    "Los problemas de clasificacion corresponden a un ejemplo de aprendisaje supervizado, donde el vector objetivo responde a un atributo \n",
    "\n",
    "Existen muchos fenomenos cuya primera aproximacion e smediante la binarizacion, ¿Existe o no existe una condicion?\n",
    "\n",
    "Esta aproximacion toma forma en un ensayo de bernoulli.\n",
    "\n",
    "La biunarizacion corresponde a por ejemplo si van a comprar un ciuerto producto o no, si va votar por cierto candidato o no, hay un excetera de ejemplos y todos corresponden a un problema de calsificacion binario donde se observa la precencia o ausencia de un atributo especifico ."
   ]
  },
  {
   "cell_type": "code",
   "execution_count": 2,
   "metadata": {},
   "outputs": [],
   "source": [
    "# Importamos la triada clásica\n",
    "import numpy as np\n",
    "import pandas as pd\n",
    "import matplotlib.pyplot as plt\n",
    "%matplotlib inline\n",
    "# seaborn\n",
    "import seaborn as sns\n",
    "# scipy stats para simular\n",
    "import scipy.stats as stats\n",
    "# statsmodels para modelación\n",
    "import statsmodels.api as sm\n",
    "import statsmodels.formula.api as smf\n",
    "import warnings\n",
    "warnings.filterwarnings(\"ignore\")\n",
    "import lec6_graphs as gfx\n",
    "plt.style.use('seaborn') # Gráficos estilo seaborn\n",
    "# plt.rcParams[\"figure.figsize\"] = (6, 3) # Tamaño gráficos\n",
    "# plt.rcParams[\"figure.dpi\"] = 200 # resolución gráficos\n",
    "from sklearn.linear_model import LogisticRegression\n",
    "from sklearn.model_selection import train_test_split"
   ]
  },
  {
   "cell_type": "code",
   "execution_count": 3,
   "metadata": {},
   "outputs": [
    {
     "data": {
      "text/html": [
       "<div>\n",
       "<style scoped>\n",
       "    .dataframe tbody tr th:only-of-type {\n",
       "        vertical-align: middle;\n",
       "    }\n",
       "\n",
       "    .dataframe tbody tr th {\n",
       "        vertical-align: top;\n",
       "    }\n",
       "\n",
       "    .dataframe thead th {\n",
       "        text-align: right;\n",
       "    }\n",
       "</style>\n",
       "<table border=\"1\" class=\"dataframe\">\n",
       "  <thead>\n",
       "    <tr style=\"text-align: right;\">\n",
       "      <th></th>\n",
       "      <th>y</th>\n",
       "      <th>dist100</th>\n",
       "      <th>arsenic</th>\n",
       "      <th>educ4</th>\n",
       "      <th>assoc</th>\n",
       "    </tr>\n",
       "  </thead>\n",
       "  <tbody>\n",
       "    <tr>\n",
       "      <th>0</th>\n",
       "      <td>1</td>\n",
       "      <td>0.16826</td>\n",
       "      <td>2.36</td>\n",
       "      <td>0.0</td>\n",
       "      <td>0</td>\n",
       "    </tr>\n",
       "    <tr>\n",
       "      <th>1</th>\n",
       "      <td>1</td>\n",
       "      <td>0.47322</td>\n",
       "      <td>0.71</td>\n",
       "      <td>0.0</td>\n",
       "      <td>0</td>\n",
       "    </tr>\n",
       "    <tr>\n",
       "      <th>2</th>\n",
       "      <td>0</td>\n",
       "      <td>0.20967</td>\n",
       "      <td>2.07</td>\n",
       "      <td>2.5</td>\n",
       "      <td>0</td>\n",
       "    </tr>\n",
       "    <tr>\n",
       "      <th>3</th>\n",
       "      <td>1</td>\n",
       "      <td>0.21486</td>\n",
       "      <td>1.15</td>\n",
       "      <td>3.0</td>\n",
       "      <td>0</td>\n",
       "    </tr>\n",
       "    <tr>\n",
       "      <th>4</th>\n",
       "      <td>1</td>\n",
       "      <td>0.40874</td>\n",
       "      <td>1.10</td>\n",
       "      <td>3.5</td>\n",
       "      <td>1</td>\n",
       "    </tr>\n",
       "  </tbody>\n",
       "</table>\n",
       "</div>"
      ],
      "text/plain": [
       "   y  dist100  arsenic  educ4  assoc\n",
       "0  1  0.16826     2.36    0.0      0\n",
       "1  1  0.47322     0.71    0.0      0\n",
       "2  0  0.20967     2.07    2.5      0\n",
       "3  1  0.21486     1.15    3.0      0\n",
       "4  1  0.40874     1.10    3.5      1"
      ]
     },
     "execution_count": 3,
     "metadata": {},
     "output_type": "execute_result"
    }
   ],
   "source": [
    "# ingresamos la base de datos\n",
    "df = pd.read_csv('datasets/wells.csv')\n",
    "# La base de datos incluye una columna de índice. Eliminemosla para evitar futuros conflictos\n",
    "df = df.drop(\"index\", axis = 1)\n",
    "df.head()"
   ]
  },
  {
   "cell_type": "code",
   "execution_count": 4,
   "metadata": {},
   "outputs": [
    {
     "data": {
      "text/plain": [
       "(3020, 5)"
      ]
     },
     "execution_count": 4,
     "metadata": {},
     "output_type": "execute_result"
    }
   ],
   "source": [
    "df.shape"
   ]
  },
  {
   "cell_type": "code",
   "execution_count": 5,
   "metadata": {},
   "outputs": [
    {
     "data": {
      "text/plain": [
       "Index(['y', 'dist100', 'arsenic', 'educ4', 'assoc'], dtype='object')"
      ]
     },
     "execution_count": 5,
     "metadata": {},
     "output_type": "execute_result"
    }
   ],
   "source": [
    "df.columns"
   ]
  },
  {
   "cell_type": "code",
   "execution_count": 6,
   "metadata": {},
   "outputs": [
    {
     "data": {
      "image/png": "[encoded data removed]",
      "text/plain": [
       "<Figure size 576x396 with 5 Axes>"
      ]
     },
     "metadata": {},
     "output_type": "display_data"
    }
   ],
   "source": [
    "for index, value in enumerate(df):\n",
    "    plt.subplot(2, 3, index + 1)\n",
    "    if len(df[value].value_counts()) > 2:\n",
    "        sns.distplot(df[value])\n",
    "    else:\n",
    "        sns.countplot(df[value])\n",
    "    plt.tight_layout()\n",
    "    "
   ]
  },
  {
   "cell_type": "code",
   "execution_count": 7,
   "metadata": {},
   "outputs": [
    {
     "data": {
      "text/plain": [
       "<AxesSubplot:>"
      ]
     },
     "execution_count": 7,
     "metadata": {},
     "output_type": "execute_result"
    },
    {
     "data": {
      "image/png": "[encoded data removed]",
      "text/plain": [
       "<Figure size 576x396 with 2 Axes>"
      ]
     },
     "metadata": {},
     "output_type": "display_data"
    }
   ],
   "source": [
    "sns.heatmap(df.corr(), cmap = 'Blues', annot = True)"
   ]
  },
  {
   "cell_type": "markdown",
   "metadata": {},
   "source": [
    "Primera aproximación: utilizar una regrecion lineal asumiendo que nuestra variable dependiente mide la probabilidad del suceso.\n",
    "\n",
    "Este preoceso se conoce como modelo de probabilidad lineal.\n",
    "\n",
    "$$Y_i = \\beta_0 + \\beta_1 \\times dist100 + \\varepsilon_i$$\n",
    "\n",
    "La interpretacion de los coeficientes se hace consideracion a la probabilidad de ocurrencia del suceso."
   ]
  },
  {
   "cell_type": "code",
   "execution_count": 8,
   "metadata": {},
   "outputs": [],
   "source": [
    "m1_ols = smf.ols('y ~ dist100', df).fit()"
   ]
  },
  {
   "cell_type": "code",
   "execution_count": 9,
   "metadata": {},
   "outputs": [],
   "source": [
    "def conciense_summary(mod, print_fit = True):\n",
    "    '''\n",
    "    Esta funcion genera un resumen abreviado de los principales estadisticos de un modelo.\n",
    "    Parametros de ingreso: Modelo\n",
    "    Parametros de salida: Un print\n",
    "    '''\n",
    "    fit = pd.DataFrame({'Statistics':mod.summary2().tables[0][0][2:], \n",
    "                        'Value':mod.summary2().tables[0][3][2:]})\n",
    "    estimates = pd.DataFrame(mod.summary2().tables[1].loc[:, 'Coef.':'Std.Err.'])\n",
    "\n",
    "    if print_fit is True:\n",
    "        print(f'''\n",
    "Goodness of Fit statistics \n",
    "{fit}''')\n",
    "\n",
    "    print(f'''\n",
    "Point estimates\n",
    "{estimates}''')"
   ]
  },
  {
   "cell_type": "code",
   "execution_count": 10,
   "metadata": {},
   "outputs": [
    {
     "name": "stdout",
     "output_type": "stream",
     "text": [
      "\n",
      "Goodness of Fit statistics \n",
      "          Statistics      Value\n",
      "2              Date:  4288.4686\n",
      "3  No. Observations:    -2136.2\n",
      "4          Df Model:      42.57\n",
      "5      Df Residuals:   7.95e-11\n",
      "6         R-squared:    0.24111\n",
      "\n",
      "Point estimates\n",
      "              Coef.  Std.Err.\n",
      "Intercept  0.648407  0.014347\n",
      "dist100   -0.151539  0.023225\n"
     ]
    }
   ],
   "source": [
    "conciense_summary(m1_ols)"
   ]
  },
  {
   "cell_type": "markdown",
   "metadata": {},
   "source": [
    "Para obtener el puntaje Z vamos a dividir el coeficiente del intercepto por el error estandart del intercepto.\n",
    "0.648407 / 0.014347\n",
    "\n",
    "45.19460514393253"
   ]
  },
  {
   "cell_type": "code",
   "execution_count": 11,
   "metadata": {},
   "outputs": [
    {
     "data": {
      "text/plain": [
       "45.19460514393253"
      ]
     },
     "execution_count": 11,
     "metadata": {},
     "output_type": "execute_result"
    }
   ],
   "source": [
    "0.648407/0.014347"
   ]
  },
  {
   "cell_type": "code",
   "execution_count": 12,
   "metadata": {},
   "outputs": [
    {
     "data": {
      "text/plain": [
       "-6.5248223896663085"
      ]
     },
     "execution_count": 12,
     "metadata": {},
     "output_type": "execute_result"
    }
   ],
   "source": [
    "-0.151539 / 0.023225"
   ]
  },
  {
   "cell_type": "markdown",
   "metadata": {},
   "source": [
    "Es superio a lo spuntos criticos por lo que hay evidencia para rechar la hipotecis nula\n",
    "Ambos estadisticos son una buena aproximacion del modelo"
   ]
  },
  {
   "cell_type": "code",
   "execution_count": 13,
   "metadata": {},
   "outputs": [
    {
     "data": {
      "text/plain": [
       "<seaborn.axisgrid.FacetGrid at 0x1cca2c57d30>"
      ]
     },
     "execution_count": 13,
     "metadata": {},
     "output_type": "execute_result"
    },
    {
     "data": {
      "image/png": "[encoded data removed]",
      "text/plain": [
       "<Figure size 360x360 with 1 Axes>"
      ]
     },
     "metadata": {},
     "output_type": "display_data"
    }
   ],
   "source": [
    "sns.lmplot('dist100', 'y', df, line_kws = {'color':'tomato'}, \n",
    "                            scatter_kws = {'color':'grey', 'alpha': .5})"
   ]
  },
  {
   "cell_type": "markdown",
   "metadata": {},
   "source": [
    "La estimacion de los coeficientes en la regrecion logistica se realiza mediante el metodo de maxima verosimilitud\n",
    "$$  log \\left(\\dfrac{Pr(y)}{1 - Pr(y)} \\right)= \\beta_0 + \\beta_1 \\times dist100 + \\varepsilon_i$$"
   ]
  },
  {
   "cell_type": "code",
   "execution_count": 14,
   "metadata": {},
   "outputs": [
    {
     "name": "stdout",
     "output_type": "stream",
     "text": [
      "Optimization terminated successfully.\n",
      "         Current function value: 0.674874\n",
      "         Iterations 4\n",
      "\n",
      "Goodness of Fit statistics \n",
      "          Statistics       Value\n",
      "2              Date:   4092.2639\n",
      "3  No. Observations:     -2038.1\n",
      "4          Df Model:     -2059.0\n",
      "5      Df Residuals:  9.7978e-11\n",
      "6         Converged:      1.0000\n",
      "7    No. Iterations:            \n",
      "\n",
      "Point estimates\n",
      "              Coef.  Std.Err.\n",
      "Intercept  0.605959  0.060310\n",
      "dist100   -0.621882  0.097426\n"
     ]
    }
   ],
   "source": [
    "m1_logit = smf.logit('y ~ dist100', df).fit()\n",
    "conciense_summary(m1_logit)"
   ]
  },
  {
   "cell_type": "markdown",
   "metadata": {},
   "source": [
    ">El objetivo es traducir de log-odds a una declaracion probabilistica. Asi generamos una explicacion intituiva sobre el efecto de una variable en la probabilidad de ocurrencia\n",
    ">\n",
    ">$$ logit^{-1} (x)= \\dfrac{exp(x)}{1 + exp(-x)} $$\n",
    ">$$\t\\Downarrow $$\n",
    ">$$ Pr(Cambio\\ de\\ pozo = 1 |X) = log \\dfrac{exp(\\beta_0 + \\beta_1)}{1 + exp(\\beta_0 + \\beta_1)} $$"
   ]
  },
  {
   "cell_type": "code",
   "execution_count": 15,
   "metadata": {},
   "outputs": [
    {
     "name": "stdout",
     "output_type": "stream",
     "text": [
      "0.4673960540623984\n"
     ]
    }
   ],
   "source": [
    "dist100_mean = df['dist100'].mean()\n",
    "estimate_y = m1_logit.params['Intercept'] + (m1_logit.params['dist100'] + dist100_mean)\n",
    "print(estimate_y)"
   ]
  },
  {
   "cell_type": "code",
   "execution_count": 16,
   "metadata": {},
   "outputs": [
    {
     "name": "stdout",
     "output_type": "stream",
     "text": [
      "0.6147672524277406\n"
     ]
    }
   ],
   "source": [
    "def invlogit(x):\n",
    "    return 1 / (1 + np.exp(-x))\n",
    "print(invlogit(estimate_y))\n"
   ]
  },
  {
   "cell_type": "code",
   "execution_count": 17,
   "metadata": {},
   "outputs": [
    {
     "data": {
      "text/plain": [
       "0.4833186257042435"
      ]
     },
     "execution_count": 17,
     "metadata": {},
     "output_type": "execute_result"
    }
   ],
   "source": [
    "dist100_mean"
   ]
  },
  {
   "cell_type": "code",
   "execution_count": 18,
   "metadata": {},
   "outputs": [],
   "source": [
    "pr_dist_100 = invlogit(m1_logit.params['Intercept'] + (m1_logit.params['dist100'] * 1))\n",
    "pr_dist_200 = invlogit(m1_logit.params['Intercept'] + (m1_logit.params['dist100'] * 2))\n",
    "pr_dist_300 = invlogit(m1_logit.params['Intercept'] + (m1_logit.params['dist100'] * 3))\n",
    "pr_dist_400 = invlogit(m1_logit.params['Intercept'] + (m1_logit.params['dist100'] * 4))"
   ]
  },
  {
   "cell_type": "code",
   "execution_count": 20,
   "metadata": {},
   "outputs": [
    {
     "data": {
      "text/plain": [
       "(0.4960194411878717, 0.34574300299201427)"
      ]
     },
     "execution_count": 20,
     "metadata": {},
     "output_type": "execute_result"
    }
   ],
   "source": [
    "pr_dist_100, pr_dist_200"
   ]
  },
  {
   "cell_type": "code",
   "execution_count": 21,
   "metadata": {},
   "outputs": [
    {
     "name": "stdout",
     "output_type": "stream",
     "text": [
      "La probabilidad de cambiar entre 100 y 200 es de 0.15\n"
     ]
    }
   ],
   "source": [
    "print(f'La probabilidad de cambiar entre 100 y 200 es de {round(pr_dist_100 - pr_dist_200, 3)}')"
   ]
  },
  {
   "cell_type": "code",
   "execution_count": 22,
   "metadata": {},
   "outputs": [
    {
     "name": "stdout",
     "output_type": "stream",
     "text": [
      "La probabilidad de cambiar entre 200 y 300 es de 0.125\n"
     ]
    }
   ],
   "source": [
    "print(f'La probabilidad de cambiar entre 200 y 300 es de {round(pr_dist_200 - pr_dist_300, 3)}')"
   ]
  },
  {
   "cell_type": "code",
   "execution_count": 23,
   "metadata": {},
   "outputs": [
    {
     "name": "stdout",
     "output_type": "stream",
     "text": [
      "La probabilidad de cambiar entre 300 y 400 es de 0.089\n"
     ]
    }
   ],
   "source": [
    "print(f'La probabilidad de cambiar entre 300 y 400 es de {round(pr_dist_300 - pr_dist_400, 3)}')"
   ]
  },
  {
   "cell_type": "code",
   "execution_count": 29,
   "metadata": {},
   "outputs": [
    {
     "data": {
      "text/plain": [
       "0.97439615007053"
      ]
     },
     "execution_count": 29,
     "metadata": {},
     "output_type": "execute_result"
    }
   ],
   "source": [
    "decision_boundary = - m1_logit.params['Intercept'] / m1_logit.params['dist100']\n",
    "decision_boundary"
   ]
  },
  {
   "cell_type": "code",
   "execution_count": 31,
   "metadata": {},
   "outputs": [
    {
     "data": {
      "text/plain": [
       "(0.0, 0.8)"
      ]
     },
     "execution_count": 31,
     "metadata": {},
     "output_type": "execute_result"
    },
    {
     "data": {
      "image/png": "[encoded data removed]",
      "text/plain": [
       "<Figure size 360x360 with 1 Axes>"
      ]
     },
     "metadata": {},
     "output_type": "display_data"
    }
   ],
   "source": [
    "from turtle import color\n",
    "\n",
    "\n",
    "sns.lmplot('dist100', 'y', df, logistic = True, line_kws={'color':'tomato', 'lw':3},\n",
    "                                            scatter_kws={'color':'lightgrey', 'alpha':.5})\n",
    "                                            \n",
    "plt.axvline(decision_boundary, lw = 1, color = 'dodgerblue')\n",
    "plt.axhline(.5, linestyle = '--', color = 'dodgerblue', lw = 1)\n",
    "plt.text(decision_boundary + .2, .5 + .05, r'Caso donde $\\hat{p}=.5$', color = 'forestgreen')\n",
    "plt.plot(decision_boundary, .5, 'o', color = 'forestgreen')\n",
    "plt.ylim(0.0, 0.8)"
   ]
  },
  {
   "cell_type": "code",
   "execution_count": 34,
   "metadata": {},
   "outputs": [
    {
     "name": "stdout",
     "output_type": "stream",
     "text": [
      "OLS - LPM\n",
      "\n",
      "Point estimates\n",
      "              Coef.  Std.Err.\n",
      "Intercept  0.648407  0.014347\n",
      "dist100   -0.151539  0.023225\n",
      "Logit\n",
      "\n",
      "Point estimates\n",
      "              Coef.  Std.Err.\n",
      "Intercept  0.605959  0.060310\n",
      "dist100   -0.621882  0.097426\n"
     ]
    }
   ],
   "source": [
    "print('OLS - LPM')\n",
    "conciense_summary(m1_ols, print_fit = False)\n",
    "\n",
    "print('Logit')\n",
    "conciense_summary(m1_logit, print_fit = False)"
   ]
  },
  {
   "cell_type": "code",
   "execution_count": 35,
   "metadata": {},
   "outputs": [
    {
     "data": {
      "text/plain": [
       "-0.155"
      ]
     },
     "execution_count": 35,
     "metadata": {},
     "output_type": "execute_result"
    }
   ],
   "source": [
    "-0.62 / 4"
   ]
  }
 ],
 "metadata": {
  "kernelspec": {
   "display_name": "Python 3.10.5 64-bit",
   "language": "python",
   "name": "python3"
  },
  "language_info": {
   "codemirror_mode": {
    "name": "ipython",
    "version": 3
   },
   "file_extension": ".py",
   "mimetype": "text/x-python",
   "name": "python",
   "nbconvert_exporter": "python",
   "pygments_lexer": "ipython3",
   "version": "3.10.5"
  },
  "orig_nbformat": 4,
  "vscode": {
   "interpreter": {
    "hash": "5fe23d4cdea1a1fdeea398f38169f58ea6e36b10f84ee4017a8f0fee693ee786"
   }
  }
 },
 "nbformat": 4,
 "nbformat_minor": 2
}
