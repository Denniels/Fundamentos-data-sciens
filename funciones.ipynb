{
 "cells": [
  {
   "cell_type": "code",
   "execution_count": 1,
   "metadata": {},
   "outputs": [],
   "source": [
    "import math"
   ]
  },
  {
   "cell_type": "code",
   "execution_count": 2,
   "metadata": {},
   "outputs": [],
   "source": [
    "def hipotenusa(x, y):\n",
    "    tmp = (x ** 2 + y ** 2)\n",
    "    tmp = math.sqrt(tmp)\n",
    "    return(tmp)\n"
   ]
  },
  {
   "cell_type": "code",
   "execution_count": 3,
   "metadata": {},
   "outputs": [
    {
     "data": {
      "text/plain": [
       "5.0"
      ]
     },
     "execution_count": 3,
     "metadata": {},
     "output_type": "execute_result"
    }
   ],
   "source": [
    "hipotenusa(3,4)"
   ]
  },
  {
   "cell_type": "code",
   "execution_count": 4,
   "metadata": {},
   "outputs": [],
   "source": [
    "def saludar():\n",
    "    print('Hola Mundo!')\n"
   ]
  },
  {
   "cell_type": "code",
   "execution_count": 5,
   "metadata": {},
   "outputs": [
    {
     "name": "stdout",
     "output_type": "stream",
     "text": [
      "Hola Mundo!\n"
     ]
    }
   ],
   "source": [
    "saludar()"
   ]
  },
  {
   "cell_type": "code",
   "execution_count": 6,
   "metadata": {},
   "outputs": [
    {
     "ename": "IndentationError",
     "evalue": "expected an indented block after function definition on line 1 (2123302715.py, line 2)",
     "output_type": "error",
     "traceback": [
      "\u001b[1;36m  Input \u001b[1;32mIn [6]\u001b[1;36m\u001b[0m\n\u001b[1;33m    print(\"esto no se imprimirá porque hay un error\")\u001b[0m\n\u001b[1;37m    ^\u001b[0m\n\u001b[1;31mIndentationError\u001b[0m\u001b[1;31m:\u001b[0m expected an indented block after function definition on line 1\n"
     ]
    }
   ],
   "source": [
    "def saludar():\n",
    "print(\"esto no se imprimirá porque hay un error\")\n",
    "saludar()\n"
   ]
  },
  {
   "cell_type": "code",
   "execution_count": null,
   "metadata": {},
   "outputs": [
    {
     "name": "stdout",
     "output_type": "stream",
     "text": [
      "este código no pertenece a la función\n",
      "este código si pertenece a la función\n",
      "este código si pertenece a la función\n",
      "este código si pertenece a la función\n",
      "este código si pertenece a la función\n",
      "este código si pertenece a la función\n",
      "este código si pertenece a la función\n"
     ]
    }
   ],
   "source": [
    "def saludar():\n",
    "    print(\"este código si pertenece a la función\")\n",
    "    print(\"este código si pertenece a la función\")\n",
    "print(\"este código no pertenece a la función\")\n",
    "saludar()\n",
    "saludar()\n",
    "saludar()\n"
   ]
  },
  {
   "cell_type": "code",
   "execution_count": null,
   "metadata": {},
   "outputs": [
    {
     "name": "stdout",
     "output_type": "stream",
     "text": [
      "hola\n",
      "hola mundo\n"
     ]
    }
   ],
   "source": [
    "def saludar(saludo):\n",
    "    print(saludo)\n",
    "saludar(\"hola\")\n",
    "saludar(\"hola mundo\")\n"
   ]
  },
  {
   "cell_type": "code",
   "execution_count": null,
   "metadata": {},
   "outputs": [
    {
     "ename": "TypeError",
     "evalue": "saludar() takes 1 positional argument but 2 were given",
     "output_type": "error",
     "traceback": [
      "\u001b[1;31m---------------------------------------------------------------------------\u001b[0m",
      "\u001b[1;31mTypeError\u001b[0m                                 Traceback (most recent call last)",
      "\u001b[1;32mc:\\Users\\dmard\\Documents\\GitHub\\Fundamentos data sciens\\funciones.ipynb Celda 9\u001b[0m in \u001b[0;36m<cell line: 1>\u001b[1;34m()\u001b[0m\n\u001b[1;32m----> <a href='vscode-notebook-cell:/c%3A/Users/dmard/Documents/GitHub/Fundamentos%20data%20sciens/funciones.ipynb#X11sZmlsZQ%3D%3D?line=0'>1</a>\u001b[0m saludar(\u001b[39m\"\u001b[39;49m\u001b[39mhola\u001b[39;49m\u001b[39m\"\u001b[39;49m, \u001b[39m\"\u001b[39;49m\u001b[39mmundo\u001b[39;49m\u001b[39m\"\u001b[39;49m)\n",
      "\u001b[1;31mTypeError\u001b[0m: saludar() takes 1 positional argument but 2 were given"
     ]
    }
   ],
   "source": [
    "saludar(\"hola\", \"mundo\")"
   ]
  },
  {
   "cell_type": "code",
   "execution_count": null,
   "metadata": {},
   "outputs": [
    {
     "name": "stdout",
     "output_type": "stream",
     "text": [
      "hola valor por defecto\n",
      "hola valor ingresado manualmente\n"
     ]
    }
   ],
   "source": [
    "def saludar(saludo1, saludo2=\"valor por defecto\"):\n",
    "    print(saludo1, saludo2)\n",
    "saludar(\"hola\")\n",
    "saludar(\"hola\", \"valor ingresado manualmente\")\n"
   ]
  },
  {
   "cell_type": "code",
   "execution_count": null,
   "metadata": {},
   "outputs": [
    {
     "name": "stdout",
     "output_type": "stream",
     "text": [
      "3\n",
      "9\n"
     ]
    }
   ],
   "source": [
    "def incrementar(a, b = 1):\n",
    "    return a + b\n",
    "print(incrementar(2))\n",
    "print(incrementar(5, 4))\n"
   ]
  },
  {
   "cell_type": "code",
   "execution_count": null,
   "metadata": {},
   "outputs": [
    {
     "data": {
      "text/plain": [
       "5.0"
      ]
     },
     "execution_count": 17,
     "metadata": {},
     "output_type": "execute_result"
    }
   ],
   "source": [
    "import numpy as np\n",
    "np.sqrt((3 **2 + 4 ** 2))"
   ]
  },
  {
   "cell_type": "code",
   "execution_count": null,
   "metadata": {},
   "outputs": [
    {
     "name": "stdout",
     "output_type": "stream",
     "text": [
      "5.0\n"
     ]
    }
   ],
   "source": [
    "def hypotenuse(x, y):\n",
    "    return np.sqrt((x **2 + y ** 2))\n",
    "print(hypotenuse(3, 4))"
   ]
  },
  {
   "cell_type": "code",
   "execution_count": null,
   "metadata": {},
   "outputs": [],
   "source": [
    "import pandas as pd\n",
    "from scipy import stats\n",
    "def fetch_descriptives(x):\n",
    "    np.mean(x)\n",
    "    stats.mode(x)\n",
    "    np.std(x)\n"
   ]
  },
  {
   "cell_type": "code",
   "execution_count": null,
   "metadata": {},
   "outputs": [
    {
     "name": "stdout",
     "output_type": "stream",
     "text": [
      "9942.541666666666\n",
      "ModeResult(mode=array([nan]), count=array([14]))\n",
      "19856.031772442948\n"
     ]
    }
   ],
   "source": [
    "df = pd.read_csv('datasets/got_battles.csv')\n",
    "fetch_descriptives(df['attacker_size'])"
   ]
  },
  {
   "cell_type": "code",
   "execution_count": null,
   "metadata": {},
   "outputs": [
    {
     "name": "stdout",
     "output_type": "stream",
     "text": [
      "9942.541666666666\n",
      "ModeResult(mode=array([nan]), count=array([14]))\n",
      "19856.031772442948\n"
     ]
    }
   ],
   "source": [
    "def fetch_descriptives(x):\n",
    "    print(np.mean(x))\n",
    "    print(stats.mode(x))\n",
    "    print(np.std(x))\n",
    "fetch_descriptives(df['attacker_size'])\n"
   ]
  },
  {
   "cell_type": "code",
   "execution_count": null,
   "metadata": {},
   "outputs": [
    {
     "data": {
      "text/plain": [
       "(9942.541666666666,\n",
       " ModeResult(mode=array([nan]), count=array([14])),\n",
       " 19856.031772442948)"
      ]
     },
     "execution_count": 25,
     "metadata": {},
     "output_type": "execute_result"
    }
   ],
   "source": [
    "def fetch_descriptives(x):\n",
    "    mu = np.mean(x)\n",
    "    mode = stats.mode(x)\n",
    "    sigma = np.std(x)\n",
    "    return mu, mode, sigma\n",
    "fetch_descriptives(df['attacker_size'])"
   ]
  },
  {
   "cell_type": "code",
   "execution_count": null,
   "metadata": {},
   "outputs": [
    {
     "data": {
      "text/plain": [
       "(9942.541666666666,\n",
       " ModeResult(mode=array([nan]), count=array([14])),\n",
       " 19856.031772442948)"
      ]
     },
     "execution_count": 26,
     "metadata": {},
     "output_type": "execute_result"
    }
   ],
   "source": [
    "resultado = fetch_descriptives(df['attacker_size'])\n",
    "resultado"
   ]
  },
  {
   "cell_type": "code",
   "execution_count": null,
   "metadata": {},
   "outputs": [
    {
     "name": "stdout",
     "output_type": "stream",
     "text": [
      "9942.541666666666\n",
      "ModeResult(mode=array([nan]), count=array([14]))\n",
      "19856.031772442948\n"
     ]
    }
   ],
   "source": [
    "media, moda, varianza = fetch_descriptives(df['attacker_size'])\n",
    "print(media)\n",
    "print(moda)\n",
    "print(varianza)\n"
   ]
  },
  {
   "cell_type": "code",
   "execution_count": null,
   "metadata": {},
   "outputs": [
    {
     "name": "stdout",
     "output_type": "stream",
     "text": [
      "9942.542\n",
      "nan\n",
      "19856.032\n"
     ]
    }
   ],
   "source": [
    "def fetch_descriptives(x):\n",
    "# utilizamos round para redondear al tercer decimal\n",
    "    mu = round(np.mean(x), 3)\n",
    "# solicitamos primer elemento (6000) dentro del primer resultado de la moda\n",
    "    mode = stats.mode(x)[0][0]\n",
    "# utilizamos round para redondear al tercer decimal\n",
    "    sigma = round(np.std(x), 3)\n",
    "    return mu, mode, sigma\n",
    "media, moda, varianza = fetch_descriptives(df['attacker_size'])\n",
    "print(media)\n",
    "print(moda)\n",
    "print(varianza)\n"
   ]
  },
  {
   "cell_type": "code",
   "execution_count": null,
   "metadata": {},
   "outputs": [
    {
     "data": {
      "text/plain": [
       "True"
      ]
     },
     "execution_count": 29,
     "metadata": {},
     "output_type": "execute_result"
    }
   ],
   "source": [
    "isinstance(df['attacker_size'], pd.Series)"
   ]
  },
  {
   "cell_type": "code",
   "execution_count": null,
   "metadata": {},
   "outputs": [
    {
     "ename": "ValueError",
     "evalue": "El tipo de dato ingresado no es un objetopd.Series",
     "output_type": "error",
     "traceback": [
      "\u001b[1;31m---------------------------------------------------------------------------\u001b[0m",
      "\u001b[1;31mValueError\u001b[0m                                Traceback (most recent call last)",
      "\u001b[1;32mc:\\Users\\dmard\\Documents\\GitHub\\Fundamentos data sciens\\funciones.ipynb Celda 22\u001b[0m in \u001b[0;36m<cell line: 10>\u001b[1;34m()\u001b[0m\n\u001b[0;32m      <a href='vscode-notebook-cell:/c%3A/Users/dmard/Documents/GitHub/Fundamentos%20data%20sciens/funciones.ipynb#X30sZmlsZQ%3D%3D?line=7'>8</a>\u001b[0m         \u001b[39mraise\u001b[39;00m \u001b[39mValueError\u001b[39;00m(\u001b[39m'\u001b[39m\u001b[39mEl tipo de dato ingresado no es un objetopd.Series\u001b[39m\u001b[39m'\u001b[39m)\n\u001b[0;32m      <a href='vscode-notebook-cell:/c%3A/Users/dmard/Documents/GitHub/Fundamentos%20data%20sciens/funciones.ipynb#X30sZmlsZQ%3D%3D?line=8'>9</a>\u001b[0m     \u001b[39mreturn\u001b[39;00m mu, median, mode, sigma\n\u001b[1;32m---> <a href='vscode-notebook-cell:/c%3A/Users/dmard/Documents/GitHub/Fundamentos%20data%20sciens/funciones.ipynb#X30sZmlsZQ%3D%3D?line=9'>10</a>\u001b[0m fetch_descriptives(\u001b[39m'\u001b[39;49m\u001b[39mLorem Ipsum Dolor Sit Amet\u001b[39;49m\u001b[39m'\u001b[39;49m)\n",
      "\u001b[1;32mc:\\Users\\dmard\\Documents\\GitHub\\Fundamentos data sciens\\funciones.ipynb Celda 22\u001b[0m in \u001b[0;36mfetch_descriptives\u001b[1;34m(x)\u001b[0m\n\u001b[0;32m      <a href='vscode-notebook-cell:/c%3A/Users/dmard/Documents/GitHub/Fundamentos%20data%20sciens/funciones.ipynb#X30sZmlsZQ%3D%3D?line=5'>6</a>\u001b[0m     sigma \u001b[39m=\u001b[39m \u001b[39mround\u001b[39m(np\u001b[39m.\u001b[39mstd(x), \u001b[39m3\u001b[39m)\n\u001b[0;32m      <a href='vscode-notebook-cell:/c%3A/Users/dmard/Documents/GitHub/Fundamentos%20data%20sciens/funciones.ipynb#X30sZmlsZQ%3D%3D?line=6'>7</a>\u001b[0m \u001b[39melse\u001b[39;00m:\n\u001b[1;32m----> <a href='vscode-notebook-cell:/c%3A/Users/dmard/Documents/GitHub/Fundamentos%20data%20sciens/funciones.ipynb#X30sZmlsZQ%3D%3D?line=7'>8</a>\u001b[0m     \u001b[39mraise\u001b[39;00m \u001b[39mValueError\u001b[39;00m(\u001b[39m'\u001b[39m\u001b[39mEl tipo de dato ingresado no es un objetopd.Series\u001b[39m\u001b[39m'\u001b[39m)\n\u001b[0;32m      <a href='vscode-notebook-cell:/c%3A/Users/dmard/Documents/GitHub/Fundamentos%20data%20sciens/funciones.ipynb#X30sZmlsZQ%3D%3D?line=8'>9</a>\u001b[0m \u001b[39mreturn\u001b[39;00m mu, median, mode, sigma\n",
      "\u001b[1;31mValueError\u001b[0m: El tipo de dato ingresado no es un objetopd.Series"
     ]
    }
   ],
   "source": [
    "def fetch_descriptives(x):\n",
    "    if isinstance(x, pd.Series) is True:\n",
    "        mu = round(np.mean(x), 3)\n",
    "        median = np.median(x)\n",
    "        mode = stats.mode(x)[0][0]\n",
    "        sigma = round(np.std(x), 3)\n",
    "    else:\n",
    "        raise ValueError('El tipo de dato ingresado no es un objetopd.Series')\n",
    "    return mu, median, mode, sigma\n",
    "fetch_descriptives('Lorem Ipsum Dolor Sit Amet')\n"
   ]
  },
  {
   "cell_type": "code",
   "execution_count": null,
   "metadata": {},
   "outputs": [],
   "source": []
  }
 ],
 "metadata": {
  "kernelspec": {
   "display_name": "Python 3 (ipykernel)",
   "language": "python",
   "name": "python3"
  },
  "language_info": {
   "codemirror_mode": {
    "name": "ipython",
    "version": 3
   },
   "file_extension": ".py",
   "mimetype": "text/x-python",
   "name": "python",
   "nbconvert_exporter": "python",
   "pygments_lexer": "ipython3",
   "version": "3.10.8"
  },
  "vscode": {
   "interpreter": {
    "hash": "5fe23d4cdea1a1fdeea398f38169f58ea6e36b10f84ee4017a8f0fee693ee786"
   }
  }
 },
 "nbformat": 4,
 "nbformat_minor": 4
}
