{
 "cells": [
  {
   "cell_type": "markdown",
   "metadata": {},
   "source": [
    "# Modelos Lineales Generalizados\n",
    "\n",
    "> __Alcances de la lectura__:\n",
    "* Conocer los componentes del marco analítico de los Modelos Lineales Generalizados (Componentes estocásticos, sistemáticos y funciones de enlace).\n",
    "* Conocer el método de Estimación por Máxima Verosimilitud por el cual se estiman los Modelos Lineales Generalizados.\n",
    "* Identificar la correcta implementación de los modelos en base a la naturaleza del problema.\n",
    "* Implementar modelos mediante la librería statsmodels acorde a la naturaleza del problema.\n",
    "* Interpretar las estimaciones de manera correcta tomando en cuenta las funciones de enlace asociadas a cada modelo.\n",
    "\n",
    "* Los modelos lineales generalizados responden a un marco analítico para implementar aproximaciones estadísticas a distintos fenómenos manifestados en nuestros vectores objetivos. Resulta que los modelos lineales y logísticos son casos específicos de este marco analítico, donde el predictor estimado es lineal.\n",
    "* Un modelo lineal generalizado se compone de tres partes: \n",
    "\n",
    "    - __Componente aleatorio (o estocástico)__: El componente estocástico de una MLG identifica la familia distribucional que modelará el fenómeno en estudio. Se hace necesario entonces qué problema está resolviendo el vector objetivo Y de manera de ajustar una distribución de probabilidad, normalmente de alguna familia exponencial, para modelar el fenómeno de la manera más fidedigna posible.\n",
    "    \n",
    "    - __Componente sistemático__: El componente sistemático especifica las variables exógenas. Siguiendo el nombre del marco analítico, se ingresan de forma lineal-aditiva en el lado derecho de la ecuación. Esta combinación de variables exógenas se conoce como el _predictor lineal_ del modelo ($\\mathbf{X}_{i}\\beta$).\n",
    "    \n",
    "    - __Función de Enlace__: Mediante el componente sistemático podemos aproximarnos al valor esperado de nuestro vector objetivo $\\mu=\\mathbb{E}(Y)$. Para ello debemos establecer una función vinculante ($g(\\cdot)$) entre ambos componentes de manera\n",
    "    \n",
    "    $$\n",
    "    g(\\mu) = \\mathbf{X}_{i}\\beta\n",
    "    $$\n",
    "\n",
    "\n",
    "## Miembros de la Familia Exponencial\n",
    "\n",
    "* Resulta que la mayoría de los componentes aleatorios pertenecen a la familia exponencial. Éstas son un grupo de distribuciones que presentan una serie de propiedades algebráicas generalizables que permiten asimilar de manera relativamente natural los fenómenos.\n",
    "\n",
    "* Las distribuciones de la familia exponencial presentan la propiedad de _suficiencia estadística_, que asegura que ningún otro estadístico que puede estimarse sobre la misma muestra proporcional información adicional sobre su valor. Esto asegura estabilidad en las estimaciones.\n",
    "\n",
    "| Distribución | Link Canónico $\\theta(\\mu)$ | Función Cumulativa $b(\\theta)$ | Parámetro de dispersión $\\phi$ | Expectativa $\\mathbb{E}=b'(\\theta)$ | Varianza $\\phi b''(\\theta)$ |\n",
    "|---|---|---|---|---|---|\n",
    "|Normal| $\\mu$ | $\\theta^{2}/2$ | $\\sigma^{2}$ | $\\theta$ | $\\sigma^{2}$ |\n",
    "|Bernoulli | $\\textsf{ln}(\\mu/(1-\\mu))$ | $\\textsf{ln}(1 + \\textsf{exp}(\\theta))$ | $1$ | $\\frac{\\textsf{exp}(\\theta)}{1 + \\textsf{exp}(\\theta)}$ | $\\mu(1-\\mu)$ |\n",
    "|Binomial | $\\textsf{ln}(\\mu/(1-\\mu))$ | $\\textsf{ln}(1 + \\textsf{exp}(\\theta))$ | $1/n$ | $\\frac{\\textsf{exp}(\\theta)}{1 + \\textsf{exp}(\\theta)}$ | $\\mu(1-\\mu)/n$ |\n",
    "|Poisson | $\\text{ln}(\\mu)$ | $\\textsf{exp}(\\theta)$ | $1$ | $\\textsf{exp}(\\theta)$ | $\\mu$ | \n",
    "| Gamma | $-1/\\mu$ | $-\\textsf{ln}(-\\theta)$ | $\\alpha^{-1}$ | $-1/\\theta$ | $\\mu^{2}\\alpha^{-1}$ | \n",
    "| Gausiana Inversa | $1/\\mu^{2}$ | $-(-2\\theta)^{1/2}$ | $\\sigma^{2}$ | $-(-2\\theta)^{1/2}$ | $\\mu^{3}\\sigma^{2}$ |\n",
    "\n",
    "\n",
    "\n",
    "\n",
    "\n",
    "\n",
    "## Funciones de enlace\n",
    "\n",
    "* Para bajar la complejidad de las distribuciones y que tengan sentido dentro de la combinación lineal de los parámetros, implementamos funciones de enlace que permitan esta conversión de los valores. \n",
    "\n",
    "\n",
    "| Enlace |Funcíon $g(\\mu)$ |Función $g^{-1}(\\nu)$ | Rango de  $g^{-1}(\\nu)$ | Asociación Distributiva | \n",
    "|--------|----------|---------------|-------------------------|---|\n",
    "|Identidad| $\\mu$ | $\\nu$ | $-\\infty, \\infty$ | Normal |\n",
    "|Recíproco | $1/\\mu$ | $1/\\nu$ | $-\\infty, \\infty$ | Normal |\n",
    "|Logaritmo | $\\textsf{ln}(\\mu)$ | $\\textsf{exp}(\\mu)$ | $0, \\infty$ | Normal, Poisson, Gamma |\n",
    "|Logit | $\\textsf{ln}\\Big(\\frac{\\mu}{1 - \\mu }\\Big)$ | $\\frac{\\textsf{exp}(-\\nu)}{1 + \\textsf{exp}(\\nu)}$ | $0, 1$ | Binomial, Logística-Binomial, Binomial-Beta |\n",
    "|Probit | $\\mathbf{\\Phi}^{-1}(\\mu)$ | $\\mathbf{\\Phi}(\\nu)$ | $0, 1$ | Binomial | \n",
    "|Log-Log Complementario | $\\textsf{ln}(-\\textsf{ln}(1-\\mu))$ | $1 - \\textsf{exp}(-\\textsf{exp}(\\nu))$ | $0, 1$ | Binomial |\n",
    "\n",
    "\n",
    "\n",
    "## Dinámica\n",
    "\n",
    "* A lo largo de esta sesión implementaremos distintas aproximaciones MLG:\n",
    "    - Los modelos _Poisson_ se utilizan cuando nuestro fenómeno observado es un conteo. La función $g(\\mu)$ que se utiliza para transformar el valor esperado es la logarítmica, para que el predictor linear $X_{i}\\beta$ se transforme en un valor predicho positivo $\\hat{y}_{i}$.\n",
    "    - Los modelos _ordinales_ y _multinomiales_ son implementados cuando nuestro fenómeno observado presenta más de 2 categorías. La función $g(\\mu)$ implementa la transformación logit o probit para reescalar el predictor lineal $X_{i}\\beta$ se transforme en un valor predicho positivo $\\hat{y}_{i}$.\n",
    "    - Los modelos de _supervivencia_ se utilizan cuando deseamos observar las tasas de mantención o decaimiento de un evento respecto al tiempo. Para este caso implementamos un modelo semiparamétrico donde la respuesta se implementa mediante el estimador _Kaplan-Meier_ y posteriormente se modela con predictores lineales $X_{i}\\beta$ que se transforman mediante la función logística.\n",
    "    \n",
    "> ### Précis: Estimadores de Máxima Verosimilitud\n",
    ">\n",
    ">* La estimación de Máxima Verosimilitud sugiere que el estimador que explique de mejor manera los datos de la muestra (aquél que maximice la verosimilitud de ocurrencia) será el mejor estimador fuera de la muestra.\n",
    "* La principal ventaja de este método es que tiene propiedades asintóticas. en la medida que el tamaño muestral aumenta, el estimador convergerá de manera más rápida al parámetro poblacional. \n",
    "* Por lo general para implementar máxima verosimilitud ejecutamos los siguientes pasos:\n",
    "    - Formulamos una función de verosimilitud para los datos. La función de verosimilitud no es nada más que la probabilidad de observar cierto dato, condicional a los parámetros ($\\text{Pr}(\\text{Datos} | \\theta)$). La forma de los parámetros dependen de nuestros supuestos.\n",
    "    - Mediante una técnica de optimización encontramos un estimador para el parámetro $\\theta$."
   ]
  },
  {
   "cell_type": "code",
   "execution_count": 8,
   "metadata": {
    "scrolled": true
   },
   "outputs": [],
   "source": [
    "import numpy as np\n",
    "import pandas as pd\n",
    "from scipy import stats\n",
    "import matplotlib.pyplot as plt\n",
    "import seaborn as sns\n",
    "import statsmodels.api as sm\n",
    "import statsmodels.formula.api as smf\n",
    "# statsmodels pide una función chisqprob que scipy no tiene, pero se puede hacer\n",
    "stats.chisqprob = lambda chisq, df: stats.chi2.sf(chisq, df)"
   ]
  },
  {
   "cell_type": "markdown",
   "metadata": {},
   "source": [
    "## Modelación de conteos con un modelo Poisson\n",
    "\n",
    "* Un modelo Poisson se aplica cuando nuestro vector objetivo responde a una cantidad de ocurrencias de un fenómeno. Así, nuestro fenómeno es no-negativo con un mínimo de 0 y un máximo de $+\\infty$.\n",
    "\n",
    "* En el siguiente ejemplo trabajaremos un registro de pacientes y la cantidad de visitas realizadas al doctor. Algunas de las variables registradas en la base de datos son:\n",
    "    - `educ`: Nivel educacional\n",
    "    - `docvis`: Cantidad de visitas\n",
    "    - `age`: Edad\n",
    "    - `income`: Nivel de Ingreso\n",
    "    - `female`: Binario para mujeres\n",
    "    - `black`: Binario para afroamericanos\n",
    "    - `hispanic`: Binario para descendientes hispánicos\n",
    "    - `married`: Binario para casados\n",
    "    - `noreast`: Binarios para el Noreste.\n",
    "    - `midwest`: Binario para el Mediooeste.\n",
    "    - `south`: Binario para el Sur\n",
    "    - `famsize`: Tamaño de la familia del paciente\n",
    "    - `injury`: Binario para daño en el paciente\n",
    "    - `private`: Binario para la visita privada del paciente\n",
    "    - `chronic`: Binario para un paciente crónico\n",
    "\n",
    "* Generaremos un modelo donde los predictores serán lineales pero serán transformados mediante el enlace logarítmico, lo que permite\n",
    "$$\n",
    "y_{i}\\sim\\textsf{Poisson}(\\textsf{exp}(\\mathbf{X}_{i}\\beta))\n",
    "$$\n",
    "\n",
    "### Interpretación de los coeficientes\n",
    "\n",
    "* Los coeficientes se pueden exponenciar y considerarse como efectos multiplicativos.\n",
    "\n",
    "* Un coeficiente es la diferencia esperada de $\\textsf{log}(y)$ por cada unidad de incremento en $X$. Si exponenciamos el coeficiente $\\textsf{e}^{\\beta}$, obtendremos el efecto multiplicativo de la combinación lineal de parámetros $\\mathbf{X}_{i}\\beta$.\n"
   ]
  },
  {
   "cell_type": "code",
   "execution_count": 3,
   "metadata": {},
   "outputs": [],
   "source": [
    "df = pd.read_stata(\"http://data.princeton.edu/wws509/datasets/docvis.dta\")"
   ]
  },
  {
   "cell_type": "code",
   "execution_count": 4,
   "metadata": {},
   "outputs": [
    {
     "data": {
      "text/html": [
       "<div>\n",
       "<style scoped>\n",
       "    .dataframe tbody tr th:only-of-type {\n",
       "        vertical-align: middle;\n",
       "    }\n",
       "\n",
       "    .dataframe tbody tr th {\n",
       "        vertical-align: top;\n",
       "    }\n",
       "\n",
       "    .dataframe thead th {\n",
       "        text-align: right;\n",
       "    }\n",
       "</style>\n",
       "<table border=\"1\" class=\"dataframe\">\n",
       "  <thead>\n",
       "    <tr style=\"text-align: right;\">\n",
       "      <th></th>\n",
       "      <th>educ</th>\n",
       "      <th>docvis</th>\n",
       "      <th>age</th>\n",
       "      <th>income</th>\n",
       "      <th>female</th>\n",
       "      <th>black</th>\n",
       "      <th>hispanic</th>\n",
       "      <th>married</th>\n",
       "      <th>noreast</th>\n",
       "      <th>midwest</th>\n",
       "      <th>...</th>\n",
       "      <th>year97</th>\n",
       "      <th>year98</th>\n",
       "      <th>year99</th>\n",
       "      <th>year00</th>\n",
       "      <th>year01</th>\n",
       "      <th>year02</th>\n",
       "      <th>famsize</th>\n",
       "      <th>injury</th>\n",
       "      <th>private</th>\n",
       "      <th>chronic</th>\n",
       "    </tr>\n",
       "  </thead>\n",
       "  <tbody>\n",
       "    <tr>\n",
       "      <th>0</th>\n",
       "      <td>12</td>\n",
       "      <td>0</td>\n",
       "      <td>3.9</td>\n",
       "      <td>30.000000</td>\n",
       "      <td>1</td>\n",
       "      <td>0</td>\n",
       "      <td>1</td>\n",
       "      <td>1</td>\n",
       "      <td>0</td>\n",
       "      <td>0</td>\n",
       "      <td>...</td>\n",
       "      <td>0</td>\n",
       "      <td>0</td>\n",
       "      <td>0</td>\n",
       "      <td>0</td>\n",
       "      <td>0</td>\n",
       "      <td>1</td>\n",
       "      <td>6</td>\n",
       "      <td>0</td>\n",
       "      <td>1</td>\n",
       "      <td>0</td>\n",
       "    </tr>\n",
       "    <tr>\n",
       "      <th>1</th>\n",
       "      <td>6</td>\n",
       "      <td>1</td>\n",
       "      <td>4.7</td>\n",
       "      <td>10.000000</td>\n",
       "      <td>0</td>\n",
       "      <td>0</td>\n",
       "      <td>1</td>\n",
       "      <td>1</td>\n",
       "      <td>0</td>\n",
       "      <td>0</td>\n",
       "      <td>...</td>\n",
       "      <td>0</td>\n",
       "      <td>0</td>\n",
       "      <td>0</td>\n",
       "      <td>0</td>\n",
       "      <td>0</td>\n",
       "      <td>1</td>\n",
       "      <td>6</td>\n",
       "      <td>0</td>\n",
       "      <td>1</td>\n",
       "      <td>0</td>\n",
       "    </tr>\n",
       "    <tr>\n",
       "      <th>2</th>\n",
       "      <td>12</td>\n",
       "      <td>15</td>\n",
       "      <td>2.7</td>\n",
       "      <td>27.000000</td>\n",
       "      <td>1</td>\n",
       "      <td>0</td>\n",
       "      <td>0</td>\n",
       "      <td>0</td>\n",
       "      <td>0</td>\n",
       "      <td>1</td>\n",
       "      <td>...</td>\n",
       "      <td>0</td>\n",
       "      <td>0</td>\n",
       "      <td>0</td>\n",
       "      <td>0</td>\n",
       "      <td>0</td>\n",
       "      <td>1</td>\n",
       "      <td>1</td>\n",
       "      <td>0</td>\n",
       "      <td>1</td>\n",
       "      <td>1</td>\n",
       "    </tr>\n",
       "    <tr>\n",
       "      <th>3</th>\n",
       "      <td>10</td>\n",
       "      <td>0</td>\n",
       "      <td>3.0</td>\n",
       "      <td>11.250000</td>\n",
       "      <td>0</td>\n",
       "      <td>0</td>\n",
       "      <td>0</td>\n",
       "      <td>1</td>\n",
       "      <td>0</td>\n",
       "      <td>1</td>\n",
       "      <td>...</td>\n",
       "      <td>0</td>\n",
       "      <td>0</td>\n",
       "      <td>0</td>\n",
       "      <td>0</td>\n",
       "      <td>0</td>\n",
       "      <td>1</td>\n",
       "      <td>2</td>\n",
       "      <td>0</td>\n",
       "      <td>0</td>\n",
       "      <td>0</td>\n",
       "    </tr>\n",
       "    <tr>\n",
       "      <th>4</th>\n",
       "      <td>12</td>\n",
       "      <td>2</td>\n",
       "      <td>5.4</td>\n",
       "      <td>76.330002</td>\n",
       "      <td>1</td>\n",
       "      <td>0</td>\n",
       "      <td>0</td>\n",
       "      <td>1</td>\n",
       "      <td>0</td>\n",
       "      <td>0</td>\n",
       "      <td>...</td>\n",
       "      <td>0</td>\n",
       "      <td>0</td>\n",
       "      <td>0</td>\n",
       "      <td>0</td>\n",
       "      <td>0</td>\n",
       "      <td>1</td>\n",
       "      <td>3</td>\n",
       "      <td>0</td>\n",
       "      <td>1</td>\n",
       "      <td>0</td>\n",
       "    </tr>\n",
       "  </tbody>\n",
       "</table>\n",
       "<p>5 rows × 28 columns</p>\n",
       "</div>"
      ],
      "text/plain": [
       "   educ  docvis  age     income  female  black  hispanic  married  noreast  \\\n",
       "0    12       0  3.9  30.000000       1      0         1        1        0   \n",
       "1     6       1  4.7  10.000000       0      0         1        1        0   \n",
       "2    12      15  2.7  27.000000       1      0         0        0        0   \n",
       "3    10       0  3.0  11.250000       0      0         0        1        0   \n",
       "4    12       2  5.4  76.330002       1      0         0        1        0   \n",
       "\n",
       "   midwest  ...  year97  year98  year99  year00  year01  year02  famsize  \\\n",
       "0        0  ...       0       0       0       0       0       1        6   \n",
       "1        0  ...       0       0       0       0       0       1        6   \n",
       "2        1  ...       0       0       0       0       0       1        1   \n",
       "3        1  ...       0       0       0       0       0       1        2   \n",
       "4        0  ...       0       0       0       0       0       1        3   \n",
       "\n",
       "   injury  private  chronic  \n",
       "0       0        1        0  \n",
       "1       0        1        0  \n",
       "2       0        1        1  \n",
       "3       0        0        0  \n",
       "4       0        1        0  \n",
       "\n",
       "[5 rows x 28 columns]"
      ]
     },
     "execution_count": 4,
     "metadata": {},
     "output_type": "execute_result"
    }
   ],
   "source": [
    "df.head()"
   ]
  },
  {
   "cell_type": "code",
   "execution_count": 6,
   "metadata": {},
   "outputs": [
    {
     "name": "stdout",
     "output_type": "stream",
     "text": [
      "<class 'pandas.core.frame.DataFrame'>\n",
      "Int64Index: 4412 entries, 0 to 4411\n",
      "Data columns (total 28 columns):\n",
      " #   Column    Non-Null Count  Dtype  \n",
      "---  ------    --------------  -----  \n",
      " 0   educ      4412 non-null   int8   \n",
      " 1   docvis    4412 non-null   int16  \n",
      " 2   age       4412 non-null   float32\n",
      " 3   income    4412 non-null   float32\n",
      " 4   female    4412 non-null   int8   \n",
      " 5   black     4412 non-null   int8   \n",
      " 6   hispanic  4412 non-null   int8   \n",
      " 7   married   4412 non-null   int8   \n",
      " 8   noreast   4412 non-null   int8   \n",
      " 9   midwest   4412 non-null   int8   \n",
      " 10  south     4412 non-null   int8   \n",
      " 11  msa       4412 non-null   int8   \n",
      " 12  firmsize  4412 non-null   float32\n",
      " 13  vegood    4412 non-null   int8   \n",
      " 14  good      4412 non-null   int8   \n",
      " 15  physlim   4412 non-null   int8   \n",
      " 16  fairpoor  4412 non-null   int8   \n",
      " 17  age2      4412 non-null   float32\n",
      " 18  year97    4412 non-null   int8   \n",
      " 19  year98    4412 non-null   int8   \n",
      " 20  year99    4412 non-null   int8   \n",
      " 21  year00    4412 non-null   int8   \n",
      " 22  year01    4412 non-null   int8   \n",
      " 23  year02    4412 non-null   int8   \n",
      " 24  famsize   4412 non-null   int8   \n",
      " 25  injury    4412 non-null   int8   \n",
      " 26  private   4412 non-null   int8   \n",
      " 27  chronic   4412 non-null   int8   \n",
      "dtypes: float32(4), int16(1), int8(23)\n",
      "memory usage: 211.1 KB\n"
     ]
    }
   ],
   "source": [
    "df.info()"
   ]
  },
  {
   "cell_type": "code",
   "execution_count": null,
   "metadata": {},
   "outputs": [],
   "source": [
    "smf."
   ]
  },
  {
   "cell_type": "code",
   "execution_count": 5,
   "metadata": {},
   "outputs": [
    {
     "data": {
      "text/plain": [
       "0     1606\n",
       "1      700\n",
       "2      459\n",
       "3      300\n",
       "4      238\n",
       "      ... \n",
       "61       1\n",
       "93       1\n",
       "49       1\n",
       "45       1\n",
       "80       1\n",
       "Name: docvis, Length: 66, dtype: int64"
      ]
     },
     "execution_count": 5,
     "metadata": {},
     "output_type": "execute_result"
    }
   ],
   "source": [
    "df.docvis.value_counts()"
   ]
  },
  {
   "cell_type": "code",
   "execution_count": 8,
   "metadata": {},
   "outputs": [
    {
     "name": "stdout",
     "output_type": "stream",
     "text": [
      "Optimization terminated successfully.\n",
      "         Current function value: 4.164435\n",
      "         Iterations 6\n"
     ]
    }
   ],
   "source": [
    "model_poisson = smf.poisson('docvis ~ private + chronic + female + income + black + hispanic', df).fit()"
   ]
  },
  {
   "cell_type": "code",
   "execution_count": 9,
   "metadata": {},
   "outputs": [
    {
     "data": {
      "text/html": [
       "<div>\n",
       "<style scoped>\n",
       "    .dataframe tbody tr th:only-of-type {\n",
       "        vertical-align: middle;\n",
       "    }\n",
       "\n",
       "    .dataframe tbody tr th {\n",
       "        vertical-align: top;\n",
       "    }\n",
       "\n",
       "    .dataframe thead th {\n",
       "        text-align: right;\n",
       "    }\n",
       "</style>\n",
       "<table border=\"1\" class=\"dataframe\">\n",
       "  <thead>\n",
       "    <tr style=\"text-align: right;\">\n",
       "      <th></th>\n",
       "      <th>0</th>\n",
       "      <th>1</th>\n",
       "      <th>2</th>\n",
       "      <th>3</th>\n",
       "    </tr>\n",
       "  </thead>\n",
       "  <tbody>\n",
       "    <tr>\n",
       "      <th>0</th>\n",
       "      <td>Model:</td>\n",
       "      <td>Poisson</td>\n",
       "      <td>Pseudo R-squared:</td>\n",
       "      <td>0.199</td>\n",
       "    </tr>\n",
       "    <tr>\n",
       "      <th>1</th>\n",
       "      <td>Dependent Variable:</td>\n",
       "      <td>docvis</td>\n",
       "      <td>AIC:</td>\n",
       "      <td>36760.9772</td>\n",
       "    </tr>\n",
       "    <tr>\n",
       "      <th>2</th>\n",
       "      <td>Date:</td>\n",
       "      <td>2022-01-11 20:14</td>\n",
       "      <td>BIC:</td>\n",
       "      <td>36805.7218</td>\n",
       "    </tr>\n",
       "    <tr>\n",
       "      <th>3</th>\n",
       "      <td>No. Observations:</td>\n",
       "      <td>4412</td>\n",
       "      <td>Log-Likelihood:</td>\n",
       "      <td>-18373.</td>\n",
       "    </tr>\n",
       "    <tr>\n",
       "      <th>4</th>\n",
       "      <td>Df Model:</td>\n",
       "      <td>6</td>\n",
       "      <td>LL-Null:</td>\n",
       "      <td>-22930.</td>\n",
       "    </tr>\n",
       "    <tr>\n",
       "      <th>5</th>\n",
       "      <td>Df Residuals:</td>\n",
       "      <td>4405</td>\n",
       "      <td>LLR p-value:</td>\n",
       "      <td>0.0000</td>\n",
       "    </tr>\n",
       "    <tr>\n",
       "      <th>6</th>\n",
       "      <td>Converged:</td>\n",
       "      <td>1.0000</td>\n",
       "      <td>Scale:</td>\n",
       "      <td>1.0000</td>\n",
       "    </tr>\n",
       "    <tr>\n",
       "      <th>7</th>\n",
       "      <td>No. Iterations:</td>\n",
       "      <td>6.0000</td>\n",
       "      <td></td>\n",
       "      <td></td>\n",
       "    </tr>\n",
       "  </tbody>\n",
       "</table>\n",
       "</div>"
      ],
      "text/plain": [
       "                     0                 1                  2           3\n",
       "0               Model:           Poisson  Pseudo R-squared:       0.199\n",
       "1  Dependent Variable:            docvis               AIC:  36760.9772\n",
       "2                Date:  2022-01-11 20:14               BIC:  36805.7218\n",
       "3    No. Observations:              4412    Log-Likelihood:     -18373.\n",
       "4            Df Model:                 6           LL-Null:     -22930.\n",
       "5        Df Residuals:              4405       LLR p-value:      0.0000\n",
       "6           Converged:            1.0000             Scale:      1.0000\n",
       "7      No. Iterations:            6.0000                               "
      ]
     },
     "execution_count": 9,
     "metadata": {},
     "output_type": "execute_result"
    }
   ],
   "source": [
    "model_poisson.summary2().tables[0]"
   ]
  },
  {
   "cell_type": "markdown",
   "metadata": {},
   "source": [
    "- __Log Likelihood__: Verosimilitud del modelo implementado. Se utiliza para calcular la prueba $\\chi^{2}$ si todos los coeficientes son simultáneamente 0. También se implementa para comparar la capacidad explicativa del modelo _dentro de la muestra_ cuando se compara con el Log Likelihood de un modelo nulo.\n",
    "- __LLR p-value__: Es el puntaje de la prueba $\\chi^{2}$ de significancia conjunta de los regresores. Si el puntaje es menor a 0.05 estamos habilitados para rechazar la hipótesis nula de insignificancia conjunta de los regresores. En este caso la evidencia sugiere que por lo menos un coeficiente será distinto de 0.\n",
    "- __LL-Null__: Es la verosimilitud del modelo cuando no se especifican regresores lineales que afecten las chances en una de las categorías. En este caso, el modelo con regresores minimiza la distancia respecto a la verosimilitud en aproximadamente 4557 puntos. Esto sugiere que nuestra combinación de predictores lineales mejora el desempeño del modelo.\n",
    " - __Pseudo R-squared.__: Corresponde a un R-squared penalizado dependiendo de la complejidad del modelo, es decir, a mayor número de parámetros predictores mayor es la penalización."
   ]
  },
  {
   "cell_type": "code",
   "execution_count": 10,
   "metadata": {},
   "outputs": [
    {
     "data": {
      "text/html": [
       "<div>\n",
       "<style scoped>\n",
       "    .dataframe tbody tr th:only-of-type {\n",
       "        vertical-align: middle;\n",
       "    }\n",
       "\n",
       "    .dataframe tbody tr th {\n",
       "        vertical-align: top;\n",
       "    }\n",
       "\n",
       "    .dataframe thead th {\n",
       "        text-align: right;\n",
       "    }\n",
       "</style>\n",
       "<table border=\"1\" class=\"dataframe\">\n",
       "  <thead>\n",
       "    <tr style=\"text-align: right;\">\n",
       "      <th></th>\n",
       "      <th>Coef.</th>\n",
       "      <th>Std.Err.</th>\n",
       "      <th>z</th>\n",
       "      <th>P&gt;|z|</th>\n",
       "      <th>[0.025</th>\n",
       "      <th>0.975]</th>\n",
       "    </tr>\n",
       "  </thead>\n",
       "  <tbody>\n",
       "    <tr>\n",
       "      <th>Intercept</th>\n",
       "      <td>-0.049970</td>\n",
       "      <td>0.030664</td>\n",
       "      <td>-1.629590</td>\n",
       "      <td>1.031882e-01</td>\n",
       "      <td>-0.110071</td>\n",
       "      <td>0.010131</td>\n",
       "    </tr>\n",
       "    <tr>\n",
       "      <th>private</th>\n",
       "      <td>0.720344</td>\n",
       "      <td>0.028146</td>\n",
       "      <td>25.592685</td>\n",
       "      <td>1.840213e-144</td>\n",
       "      <td>0.665178</td>\n",
       "      <td>0.775510</td>\n",
       "    </tr>\n",
       "    <tr>\n",
       "      <th>chronic</th>\n",
       "      <td>1.068487</td>\n",
       "      <td>0.015864</td>\n",
       "      <td>67.353507</td>\n",
       "      <td>0.000000e+00</td>\n",
       "      <td>1.037395</td>\n",
       "      <td>1.099580</td>\n",
       "    </tr>\n",
       "    <tr>\n",
       "      <th>female</th>\n",
       "      <td>0.477582</td>\n",
       "      <td>0.016030</td>\n",
       "      <td>29.792499</td>\n",
       "      <td>4.886229e-195</td>\n",
       "      <td>0.446164</td>\n",
       "      <td>0.509001</td>\n",
       "    </tr>\n",
       "    <tr>\n",
       "      <th>income</th>\n",
       "      <td>0.003006</td>\n",
       "      <td>0.000248</td>\n",
       "      <td>12.138902</td>\n",
       "      <td>6.570179e-34</td>\n",
       "      <td>0.002520</td>\n",
       "      <td>0.003491</td>\n",
       "    </tr>\n",
       "    <tr>\n",
       "      <th>black</th>\n",
       "      <td>-0.186783</td>\n",
       "      <td>0.036502</td>\n",
       "      <td>-5.117019</td>\n",
       "      <td>3.104029e-07</td>\n",
       "      <td>-0.258326</td>\n",
       "      <td>-0.115240</td>\n",
       "    </tr>\n",
       "    <tr>\n",
       "      <th>hispanic</th>\n",
       "      <td>-0.351035</td>\n",
       "      <td>0.023259</td>\n",
       "      <td>-15.092771</td>\n",
       "      <td>1.806926e-51</td>\n",
       "      <td>-0.396621</td>\n",
       "      <td>-0.305449</td>\n",
       "    </tr>\n",
       "  </tbody>\n",
       "</table>\n",
       "</div>"
      ],
      "text/plain": [
       "              Coef.  Std.Err.          z          P>|z|    [0.025    0.975]\n",
       "Intercept -0.049970  0.030664  -1.629590   1.031882e-01 -0.110071  0.010131\n",
       "private    0.720344  0.028146  25.592685  1.840213e-144  0.665178  0.775510\n",
       "chronic    1.068487  0.015864  67.353507   0.000000e+00  1.037395  1.099580\n",
       "female     0.477582  0.016030  29.792499  4.886229e-195  0.446164  0.509001\n",
       "income     0.003006  0.000248  12.138902   6.570179e-34  0.002520  0.003491\n",
       "black     -0.186783  0.036502  -5.117019   3.104029e-07 -0.258326 -0.115240\n",
       "hispanic  -0.351035  0.023259 -15.092771   1.806926e-51 -0.396621 -0.305449"
      ]
     },
     "execution_count": 10,
     "metadata": {},
     "output_type": "execute_result"
    }
   ],
   "source": [
    "model_poisson.summary2().tables[1]"
   ]
  },
  {
   "cell_type": "markdown",
   "metadata": {},
   "source": [
    "* Consideremos las variables binarias `private` y `chronic`. Entre dos pacientes con características similares que difieren sólo en que uno es un paciente crónico, éste tiene 3 veces más chances de visitar al doctor en comparación al otro individuo."
   ]
  },
  {
   "cell_type": "code",
   "execution_count": 6,
   "metadata": {},
   "outputs": [
    {
     "data": {
      "text/plain": [
       "2.910972616070348"
      ]
     },
     "execution_count": 6,
     "metadata": {},
     "output_type": "execute_result"
    }
   ],
   "source": [
    "np.exp(model_poisson.params['chronic'])"
   ]
  },
  {
   "cell_type": "markdown",
   "metadata": {},
   "source": [
    "* Entre dos pacientes con características similares que sólo difieren en que uno asistió a un clínica privada, éste tiene 2 veces más chances de visitar al doctor en comparación al otro individuo."
   ]
  },
  {
   "cell_type": "code",
   "execution_count": 7,
   "metadata": {},
   "outputs": [
    {
     "data": {
      "text/plain": [
       "2.055140430350537"
      ]
     },
     "execution_count": 7,
     "metadata": {},
     "output_type": "execute_result"
    }
   ],
   "source": [
    "np.exp(model_poisson.params['private'])"
   ]
  },
  {
   "cell_type": "markdown",
   "metadata": {},
   "source": [
    "\n",
    "\n",
    "# Modelando múltiples categorías con una regresión multinomial\n",
    "\n",
    "* También conocido como un modelo clasificador multiclases, la regresión logística multinomial se implementa cuando tenemos más de dos categorías en nuestro vector objetivo y es difícil discenir cuando existe jerarquía entre ambas. De manera similar a la operacionalización logística binaria, el objeto es ver las chances de ocurrencia en $j \\in \\mathcal{J}$ evento. La ecuación a estimar queda así:\n",
    "\n",
    "$$\n",
    "\\text{Pr}(Y_{i} = j) = \\frac{\\textsf{exp}(X_{i}^{\\textsf{T}}\\beta_{j})}{1+\\sum_{k=1}^{\\mathcal{J-1}}\\textsf{exp}(X_{i}^{\\textsf{T}}\\beta_{k})}\n",
    "$$\n",
    "\n",
    "donde $X_{i}\\beta$ es la combinación lineal de parámetros a estimar. La sumatoria del denominador es válida en el rango $\\mathcal{J}-1$, para excluír una categoría que será de referencia (y permitirá hacer el modelo identificable).\n",
    "\n",
    "* Para este ejemplo utilizaremos una base de datos sobre actitudes vocacionales de 200 estudiantes. Modelaremos mediante una regresión multinomial las chances de proseguir estudios en un programa académico, general o vocacional. Las covariables a implementar como explicativas son:\n",
    "    - `female`: El sexo del estudiante (`male` o `female`).\n",
    "    - `ses`: Nivel socioeconómico (`low`, `middle`, `high`).\n",
    "    - `schtyp`: El tipo de escuela a la que asisten (`public`, `private`).\n",
    "    - `prog`: El tipo de programa a proseguir.\n",
    "    - `read`, `write`, `math`, `science`, `socst`: Los puntajes de cada alumno en las asignaturas.\n",
    "    - `honors`: ¿Está en un programa de honores? (`enrolled`, `not_enrolled`)\n",
    "    - `awards`: Cantidad de premios recibidos.\n",
    "    \n",
    "* Antes de implementar nuestro modelo generaremos recodificaciones en las variables con strings, para facilitar el desarrollo del modelo."
   ]
  },
  {
   "cell_type": "code",
   "execution_count": 17,
   "metadata": {},
   "outputs": [],
   "source": [
    "# importamos la base desde internet\n",
    "df = pd.read_stata(\"https://stats.idre.ucla.edu/stat/data/hsbdemo.dta\")\n",
    "df['female'] = df['female'].replace(['female', 'male'], [1, 0])\n",
    "df['ses'] = df['ses'].replace(['low', 'middle', 'high'], [-1, 0, 1])\n",
    "df['schtyp'] = df['schtyp'].replace(['public', 'private'], [0, 1])\n",
    "df['honors'] = df['honors'].replace(['not enrolled', 'enrolled'], [0, 1])\n",
    "df['prog'] = df['prog'].replace(['academic', 'vocation', 'general'], [0, 1, -1])"
   ]
  },
  {
   "cell_type": "code",
   "execution_count": 19,
   "metadata": {},
   "outputs": [
    {
     "data": {
      "text/plain": [
       " 0    105\n",
       " 1     50\n",
       "-1     45\n",
       "Name: prog, dtype: int64"
      ]
     },
     "execution_count": 19,
     "metadata": {},
     "output_type": "execute_result"
    }
   ],
   "source": [
    "df.prog.value_counts()"
   ]
  },
  {
   "cell_type": "markdown",
   "metadata": {},
   "source": [
    "* Para implementar el modelo con `statsmodels` ocuparemos el método `mnlogit` que recibe los parámetros `formula` y `df`. "
   ]
  },
  {
   "cell_type": "code",
   "execution_count": 20,
   "metadata": {},
   "outputs": [
    {
     "name": "stdout",
     "output_type": "stream",
     "text": [
      "Optimization terminated successfully.\n",
      "         Current function value: 0.792146\n",
      "         Iterations 7\n"
     ]
    }
   ],
   "source": [
    "mlog_1 = smf.mnlogit('prog ~ read + write + math + science +socst + female + ses + schtyp + honors + awards', df).fit()"
   ]
  },
  {
   "cell_type": "code",
   "execution_count": 22,
   "metadata": {},
   "outputs": [
    {
     "data": {
      "text/html": [
       "<table class=\"simpletable\">\n",
       "<caption>MNLogit Regression Results</caption>\n",
       "<tr>\n",
       "  <th>Dep. Variable:</th>         <td>prog</td>       <th>  No. Observations:  </th>  <td>   200</td>  \n",
       "</tr>\n",
       "<tr>\n",
       "  <th>Model:</th>                <td>MNLogit</td>     <th>  Df Residuals:      </th>  <td>   178</td>  \n",
       "</tr>\n",
       "<tr>\n",
       "  <th>Method:</th>                 <td>MLE</td>       <th>  Df Model:          </th>  <td>    20</td>  \n",
       "</tr>\n",
       "<tr>\n",
       "  <th>Date:</th>            <td>Wed, 06 Apr 2022</td> <th>  Pseudo R-squ.:     </th>  <td>0.2238</td>  \n",
       "</tr>\n",
       "<tr>\n",
       "  <th>Time:</th>                <td>19:21:17</td>     <th>  Log-Likelihood:    </th> <td> -158.43</td> \n",
       "</tr>\n",
       "<tr>\n",
       "  <th>converged:</th>             <td>True</td>       <th>  LL-Null:           </th> <td> -204.10</td> \n",
       "</tr>\n",
       "<tr>\n",
       "  <th>Covariance Type:</th>     <td>nonrobust</td>    <th>  LLR p-value:       </th> <td>4.327e-11</td>\n",
       "</tr>\n",
       "</table>"
      ],
      "text/plain": [
       "<class 'statsmodels.iolib.table.SimpleTable'>"
      ]
     },
     "execution_count": 22,
     "metadata": {},
     "output_type": "execute_result"
    }
   ],
   "source": [
    "mlog_1.summary().tables[0]"
   ]
  },
  {
   "cell_type": "markdown",
   "metadata": {},
   "source": [
    "* De manera similar a como lo hicimos con el modelo Poisson, vamos a revisar las estadísticas de bondad de ajuste del modelo generado, para ello nos fijaremos en 3 características:\n",
    "\n",
    "- __Log Likelihood__: Verosimilitud del modelo implementado. Se utiliza para calcular la prueba $\\chi^{2}$ si todos los coeficientes son simultáneamente 0. También se implementa para comparar la capacidad explicativa del modelo _dentro de la muestra_ cuando se compara con el Log Likelihood de un modelo nulo.\n",
    "- __LLR p-value__: Es el puntaje de la prueba $\\chi^{2}$ de significancia conjunta de los regresores. Si el puntaje es menor a 0.05 estamos habilitados para rechazar la hipótesis nula de insignificancia conjunta de los regresores. En este caso la evidencia sugiere que por lo menos un coeficiente será distinto de 0.\n",
    "- __LL-Null__: Es la verosimilitud del modelo cuando no se especifican regresores lineales que afecten las chances en una de las categorías. En este caso, el modelo con regresores minimiza la distancia respecto a la verosimilitud en aproximadamente 45 puntos. Esto sugiere que nuestra combinación de predictores lineales mejora el desempeño del modelo.\n",
    " - __Pseudo R-squared.__: Corresponde a un R-squared penalizado dependiendo de la complejidad del modelo, es decir, a mayor número de parámetros predictores mayor es la penalización."
   ]
  },
  {
   "cell_type": "code",
   "execution_count": 24,
   "metadata": {},
   "outputs": [
    {
     "data": {
      "text/plain": [
       "-45.66751107362012"
      ]
     },
     "execution_count": 24,
     "metadata": {},
     "output_type": "execute_result"
    }
   ],
   "source": [
    "# estimando el incremento en la función de verosimilitud\n",
    "(mlog_1.llnull - mlog_1.llf)"
   ]
  },
  {
   "cell_type": "code",
   "execution_count": 25,
   "metadata": {
    "scrolled": true
   },
   "outputs": [
    {
     "data": {
      "text/html": [
       "<table class=\"simpletable\">\n",
       "<tr>\n",
       "   <th>prog=0</th>      <th>coef</th>     <th>std err</th>      <th>z</th>      <th>P>|z|</th>  <th>[0.025</th>    <th>0.975]</th>  \n",
       "</tr>\n",
       "<tr>\n",
       "  <th>Intercept</th> <td>   -5.1140</td> <td>    2.373</td> <td>   -2.155</td> <td> 0.031</td> <td>   -9.766</td> <td>   -0.462</td>\n",
       "</tr>\n",
       "<tr>\n",
       "  <th>read</th>      <td>    0.0456</td> <td>    0.031</td> <td>    1.481</td> <td> 0.139</td> <td>   -0.015</td> <td>    0.106</td>\n",
       "</tr>\n",
       "<tr>\n",
       "  <th>write</th>     <td>    0.0539</td> <td>    0.051</td> <td>    1.062</td> <td> 0.288</td> <td>   -0.046</td> <td>    0.153</td>\n",
       "</tr>\n",
       "<tr>\n",
       "  <th>math</th>      <td>    0.0959</td> <td>    0.034</td> <td>    2.785</td> <td> 0.005</td> <td>    0.028</td> <td>    0.163</td>\n",
       "</tr>\n",
       "<tr>\n",
       "  <th>science</th>   <td>   -0.1033</td> <td>    0.032</td> <td>   -3.268</td> <td> 0.001</td> <td>   -0.165</td> <td>   -0.041</td>\n",
       "</tr>\n",
       "<tr>\n",
       "  <th>socst</th>     <td>    0.0239</td> <td>    0.027</td> <td>    0.890</td> <td> 0.373</td> <td>   -0.029</td> <td>    0.076</td>\n",
       "</tr>\n",
       "<tr>\n",
       "  <th>female</th>    <td>   -0.1425</td> <td>    0.451</td> <td>   -0.316</td> <td> 0.752</td> <td>   -1.026</td> <td>    0.740</td>\n",
       "</tr>\n",
       "<tr>\n",
       "  <th>ses</th>       <td>    0.5689</td> <td>    0.307</td> <td>    1.854</td> <td> 0.064</td> <td>   -0.032</td> <td>    1.170</td>\n",
       "</tr>\n",
       "<tr>\n",
       "  <th>schtyp</th>    <td>    0.5222</td> <td>    0.553</td> <td>    0.945</td> <td> 0.345</td> <td>   -0.561</td> <td>    1.606</td>\n",
       "</tr>\n",
       "<tr>\n",
       "  <th>honors</th>    <td>    0.6662</td> <td>    0.858</td> <td>    0.777</td> <td> 0.437</td> <td>   -1.015</td> <td>    2.348</td>\n",
       "</tr>\n",
       "<tr>\n",
       "  <th>awards</th>    <td>   -0.2658</td> <td>    0.298</td> <td>   -0.891</td> <td> 0.373</td> <td>   -0.850</td> <td>    0.319</td>\n",
       "</tr>\n",
       "<tr>\n",
       "   <th>prog=1</th>      <th>coef</th>     <th>std err</th>      <th>z</th>      <th>P>|z|</th>  <th>[0.025</th>    <th>0.975]</th>  \n",
       "</tr>\n",
       "<tr>\n",
       "  <th>Intercept</th> <td>    4.6342</td> <td>    2.387</td> <td>    1.942</td> <td> 0.052</td> <td>   -0.044</td> <td>    9.312</td>\n",
       "</tr>\n",
       "<tr>\n",
       "  <th>read</th>      <td>    0.0058</td> <td>    0.033</td> <td>    0.174</td> <td> 0.862</td> <td>   -0.059</td> <td>    0.071</td>\n",
       "</tr>\n",
       "<tr>\n",
       "  <th>write</th>     <td>    0.0004</td> <td>    0.052</td> <td>    0.007</td> <td> 0.994</td> <td>   -0.102</td> <td>    0.102</td>\n",
       "</tr>\n",
       "<tr>\n",
       "  <th>math</th>      <td>   -0.0213</td> <td>    0.038</td> <td>   -0.569</td> <td> 0.570</td> <td>   -0.095</td> <td>    0.052</td>\n",
       "</tr>\n",
       "<tr>\n",
       "  <th>science</th>   <td>   -0.0370</td> <td>    0.032</td> <td>   -1.163</td> <td> 0.245</td> <td>   -0.099</td> <td>    0.025</td>\n",
       "</tr>\n",
       "<tr>\n",
       "  <th>socst</th>     <td>   -0.0368</td> <td>    0.027</td> <td>   -1.349</td> <td> 0.177</td> <td>   -0.090</td> <td>    0.017</td>\n",
       "</tr>\n",
       "<tr>\n",
       "  <th>female</th>    <td>    0.2340</td> <td>    0.516</td> <td>    0.454</td> <td> 0.650</td> <td>   -0.777</td> <td>    1.245</td>\n",
       "</tr>\n",
       "<tr>\n",
       "  <th>ses</th>       <td>    0.5713</td> <td>    0.337</td> <td>    1.697</td> <td> 0.090</td> <td>   -0.089</td> <td>    1.231</td>\n",
       "</tr>\n",
       "<tr>\n",
       "  <th>schtyp</th>    <td>   -1.2578</td> <td>    0.897</td> <td>   -1.402</td> <td> 0.161</td> <td>   -3.016</td> <td>    0.501</td>\n",
       "</tr>\n",
       "<tr>\n",
       "  <th>honors</th>    <td>    1.4597</td> <td>    1.085</td> <td>    1.345</td> <td> 0.179</td> <td>   -0.668</td> <td>    3.587</td>\n",
       "</tr>\n",
       "<tr>\n",
       "  <th>awards</th>    <td>   -0.3410</td> <td>    0.378</td> <td>   -0.902</td> <td> 0.367</td> <td>   -1.082</td> <td>    0.400</td>\n",
       "</tr>\n",
       "</table>"
      ],
      "text/plain": [
       "<class 'statsmodels.iolib.table.SimpleTable'>"
      ]
     },
     "execution_count": 25,
     "metadata": {},
     "output_type": "execute_result"
    }
   ],
   "source": [
    "mlog_1.summary().tables[1]"
   ]
  },
  {
   "cell_type": "markdown",
   "metadata": {},
   "source": [
    "* Cuando estimamos un modelo multinomial se define una categoría de referencia en nuestro vector objetivo, de similar manera a cómo lo desarrollamos en un modelo logístico binario. \n",
    "\n",
    "* Por defecto, statsmodels define de forma automática cuál va a ser la categoría de referencia. Los coeficientes estimados en estos modelos son el efecto en el logaritmo de chance la probabilidad lineal en la categoría específica.\n",
    "\n",
    "* Para estos casos podemos realizar interpretaciones súbitas como la regla de dividir por 4 o exponenciar el coeficiente y evaluarlo respecto a 1.\n",
    "\n",
    "* Partamos por discriminar entre aquellos coeficientes que satisfacen con los criterios arbitrarios de significancia estadística. \n",
    "\n",
    "* Cuando analizamos las chances que un alumno tome un programa académico respecto a un programa de formación general, atributos como su desempeño en matemáticas y ciencias, así como el nivel socioeconómico están asociados de manera significativa con mayores chances.\n",
    "\n",
    "* Respecto a las chances de que un alumno tome programas vocacionales, sólo el nivel socioeconómico está débilmente asociado con mayores chances.\n",
    "\n",
    "## Cambio marginal en los parámetros estimados\n",
    "\n",
    "* Dado la complejidad de interpretar los log-odds estimados en los modelos con variables discretas, una opción para entender el efecto de $x$ en $Pr(y)$ es mediante la obtención de la derivada parcial de la pendiente que asocia ambas variables mediante la siguiente ecuación:\n",
    "\n",
    "$$\n",
    "\\frac{\\partial\\ \\textsf{Pr}(y = j | \\mathbf{x})}{\\partial x_{k}}\n",
    "=\n",
    "\\textsf{Pr}(y = j | \\mathbf{x})\n",
    "\\Bigg(\\beta_{k, m|\\mathcal{J}} - \\sum_{j=1}^{\\mathcal{J}} \\beta_{k, j| \\mathcal{J}} \\textsf{Pr}(y = j | \\mathbf{x}) \\Bigg)\n",
    "$$\n",
    "\n",
    "* Una vez que nuestro objeto creado con `smf.mnlogit` es ejecutado, tiene el método `get_margeff` que calcula los efectos marginales por cada parámetro. Por defecto todos los efectos estimados se generan calculando el promedio de los efectos marginales a lo largo de cada valor de $x_{k}$.\n",
    "* A diferencia de otras implementaciones de estimación de efectos marginales para modelos multinomiales (`stata` y `R`), esta implementación devuelve los efectos para todas las categorías en el vector objetivo.\n",
    "* Si solicitamos el resumen, el efecto marginal reportado se encuentra en la columna `dy/dx`. Volviendo a los resultados obtenidos al inspeccionar los log-odds, esperamos que para las chances de seguir un programa académico _el aumentar los puntajes en matemática en 1 unidad conlleva a un aumento de 0.0176 en la probabilidad de éste_. \n",
    "* De manera opuesta, _el aumento en 1 unidad de los puntajes de ciencia conlleva a un decrecimiento de 0.0145 en la probabilidad de proseguir con un programa académico_."
   ]
  },
  {
   "cell_type": "code",
   "execution_count": 26,
   "metadata": {
    "scrolled": true
   },
   "outputs": [
    {
     "data": {
      "text/html": [
       "<table class=\"simpletable\">\n",
       "<caption>MNLogit Marginal Effects</caption>\n",
       "<tr>\n",
       "  <th>Dep. Variable:</th>  <td>prog</td>  \n",
       "</tr>\n",
       "<tr>\n",
       "  <th>Method:</th>         <td>dydx</td>  \n",
       "</tr>\n",
       "<tr>\n",
       "  <th>At:</th>            <td>overall</td>\n",
       "</tr>\n",
       "</table>\n",
       "<table class=\"simpletable\">\n",
       "<tr>\n",
       "  <th>prog=-1</th>    <th>dy/dx</th>    <th>std err</th>      <th>z</th>      <th>P>|z|</th>  <th>[0.025</th>    <th>0.975]</th>  \n",
       "</tr>\n",
       "<tr>\n",
       "  <th>read</th>    <td>   -0.0046</td> <td>    0.004</td> <td>   -1.079</td> <td> 0.281</td> <td>   -0.013</td> <td>    0.004</td>\n",
       "</tr>\n",
       "<tr>\n",
       "  <th>write</th>   <td>   -0.0050</td> <td>    0.007</td> <td>   -0.720</td> <td> 0.471</td> <td>   -0.019</td> <td>    0.009</td>\n",
       "</tr>\n",
       "<tr>\n",
       "  <th>math</th>    <td>   -0.0074</td> <td>    0.004</td> <td>   -1.662</td> <td> 0.096</td> <td>   -0.016</td> <td>    0.001</td>\n",
       "</tr>\n",
       "<tr>\n",
       "  <th>science</th> <td>    0.0119</td> <td>    0.004</td> <td>    2.952</td> <td> 0.003</td> <td>    0.004</td> <td>    0.020</td>\n",
       "</tr>\n",
       "<tr>\n",
       "  <th>socst</th>   <td>    0.0002</td> <td>    0.004</td> <td>    0.051</td> <td> 0.959</td> <td>   -0.007</td> <td>    0.007</td>\n",
       "</tr>\n",
       "<tr>\n",
       "  <th>female</th>  <td>   -0.0020</td> <td>    0.065</td> <td>   -0.031</td> <td> 0.975</td> <td>   -0.129</td> <td>    0.125</td>\n",
       "</tr>\n",
       "<tr>\n",
       "  <th>ses</th>     <td>   -0.0893</td> <td>    0.042</td> <td>   -2.111</td> <td> 0.035</td> <td>   -0.172</td> <td>   -0.006</td>\n",
       "</tr>\n",
       "<tr>\n",
       "  <th>schtyp</th>  <td>    0.0332</td> <td>    0.090</td> <td>    0.371</td> <td> 0.711</td> <td>   -0.142</td> <td>    0.209</td>\n",
       "</tr>\n",
       "<tr>\n",
       "  <th>honors</th>  <td>   -0.1557</td> <td>    0.130</td> <td>   -1.200</td> <td> 0.230</td> <td>   -0.410</td> <td>    0.099</td>\n",
       "</tr>\n",
       "<tr>\n",
       "  <th>awards</th>  <td>    0.0465</td> <td>    0.045</td> <td>    1.041</td> <td> 0.298</td> <td>   -0.041</td> <td>    0.134</td>\n",
       "</tr>\n",
       "<tr>\n",
       "  <th>prog=0</th>     <th>dy/dx</th>    <th>std err</th>      <th>z</th>      <th>P>|z|</th>  <th>[0.025</th>    <th>0.975]</th>  \n",
       "</tr>\n",
       "<tr>\n",
       "  <th>read</th>    <td>    0.0072</td> <td>    0.004</td> <td>    1.623</td> <td> 0.105</td> <td>   -0.001</td> <td>    0.016</td>\n",
       "</tr>\n",
       "<tr>\n",
       "  <th>write</th>   <td>    0.0090</td> <td>    0.007</td> <td>    1.230</td> <td> 0.219</td> <td>   -0.005</td> <td>    0.023</td>\n",
       "</tr>\n",
       "<tr>\n",
       "  <th>math</th>    <td>    0.0176</td> <td>    0.005</td> <td>    3.806</td> <td> 0.000</td> <td>    0.009</td> <td>    0.027</td>\n",
       "</tr>\n",
       "<tr>\n",
       "  <th>science</th> <td>   -0.0145</td> <td>    0.004</td> <td>   -3.473</td> <td> 0.001</td> <td>   -0.023</td> <td>   -0.006</td>\n",
       "</tr>\n",
       "<tr>\n",
       "  <th>socst</th>   <td>    0.0067</td> <td>    0.004</td> <td>    1.751</td> <td> 0.080</td> <td>   -0.001</td> <td>    0.014</td>\n",
       "</tr>\n",
       "<tr>\n",
       "  <th>female</th>  <td>   -0.0412</td> <td>    0.065</td> <td>   -0.634</td> <td> 0.526</td> <td>   -0.169</td> <td>    0.086</td>\n",
       "</tr>\n",
       "<tr>\n",
       "  <th>ses</th>     <td>    0.0522</td> <td>    0.043</td> <td>    1.216</td> <td> 0.224</td> <td>   -0.032</td> <td>    0.136</td>\n",
       "</tr>\n",
       "<tr>\n",
       "  <th>schtyp</th>  <td>    0.1810</td> <td>    0.085</td> <td>    2.119</td> <td> 0.034</td> <td>    0.014</td> <td>    0.348</td>\n",
       "</tr>\n",
       "<tr>\n",
       "  <th>honors</th>  <td>    0.0021</td> <td>    0.119</td> <td>    0.017</td> <td> 0.986</td> <td>   -0.232</td> <td>    0.236</td>\n",
       "</tr>\n",
       "<tr>\n",
       "  <th>awards</th>  <td>   -0.0188</td> <td>    0.043</td> <td>   -0.433</td> <td> 0.665</td> <td>   -0.104</td> <td>    0.066</td>\n",
       "</tr>\n",
       "<tr>\n",
       "  <th>prog=1</th>     <th>dy/dx</th>    <th>std err</th>      <th>z</th>      <th>P>|z|</th>  <th>[0.025</th>    <th>0.975]</th>  \n",
       "</tr>\n",
       "<tr>\n",
       "  <th>read</th>    <td>   -0.0026</td> <td>    0.004</td> <td>   -0.644</td> <td> 0.520</td> <td>   -0.011</td> <td>    0.005</td>\n",
       "</tr>\n",
       "<tr>\n",
       "  <th>write</th>   <td>   -0.0040</td> <td>    0.006</td> <td>   -0.633</td> <td> 0.527</td> <td>   -0.016</td> <td>    0.008</td>\n",
       "</tr>\n",
       "<tr>\n",
       "  <th>math</th>    <td>   -0.0101</td> <td>    0.004</td> <td>   -2.298</td> <td> 0.022</td> <td>   -0.019</td> <td>   -0.001</td>\n",
       "</tr>\n",
       "<tr>\n",
       "  <th>science</th> <td>    0.0026</td> <td>    0.004</td> <td>    0.699</td> <td> 0.484</td> <td>   -0.005</td> <td>    0.010</td>\n",
       "</tr>\n",
       "<tr>\n",
       "  <th>socst</th>   <td>   -0.0069</td> <td>    0.003</td> <td>   -2.130</td> <td> 0.033</td> <td>   -0.013</td> <td>   -0.001</td>\n",
       "</tr>\n",
       "<tr>\n",
       "  <th>female</th>  <td>    0.0433</td> <td>    0.062</td> <td>    0.695</td> <td> 0.487</td> <td>   -0.079</td> <td>    0.165</td>\n",
       "</tr>\n",
       "<tr>\n",
       "  <th>ses</th>     <td>    0.0371</td> <td>    0.039</td> <td>    0.947</td> <td> 0.343</td> <td>   -0.040</td> <td>    0.114</td>\n",
       "</tr>\n",
       "<tr>\n",
       "  <th>schtyp</th>  <td>   -0.2142</td> <td>    0.112</td> <td>   -1.921</td> <td> 0.055</td> <td>   -0.433</td> <td>    0.004</td>\n",
       "</tr>\n",
       "<tr>\n",
       "  <th>honors</th>  <td>    0.1536</td> <td>    0.126</td> <td>    1.215</td> <td> 0.224</td> <td>   -0.094</td> <td>    0.401</td>\n",
       "</tr>\n",
       "<tr>\n",
       "  <th>awards</th>  <td>   -0.0277</td> <td>    0.046</td> <td>   -0.602</td> <td> 0.547</td> <td>   -0.118</td> <td>    0.062</td>\n",
       "</tr>\n",
       "</table>"
      ],
      "text/plain": [
       "<class 'statsmodels.iolib.summary.Summary'>\n",
       "\"\"\"\n",
       "       MNLogit Marginal Effects      \n",
       "=====================================\n",
       "Dep. Variable:                   prog\n",
       "Method:                          dydx\n",
       "At:                           overall\n",
       "==============================================================================\n",
       "   prog=-1      dy/dx    std err          z      P>|z|      [0.025      0.975]\n",
       "------------------------------------------------------------------------------\n",
       "read          -0.0046      0.004     -1.079      0.281      -0.013       0.004\n",
       "write         -0.0050      0.007     -0.720      0.471      -0.019       0.009\n",
       "math          -0.0074      0.004     -1.662      0.096      -0.016       0.001\n",
       "science        0.0119      0.004      2.952      0.003       0.004       0.020\n",
       "socst          0.0002      0.004      0.051      0.959      -0.007       0.007\n",
       "female        -0.0020      0.065     -0.031      0.975      -0.129       0.125\n",
       "ses           -0.0893      0.042     -2.111      0.035      -0.172      -0.006\n",
       "schtyp         0.0332      0.090      0.371      0.711      -0.142       0.209\n",
       "honors        -0.1557      0.130     -1.200      0.230      -0.410       0.099\n",
       "awards         0.0465      0.045      1.041      0.298      -0.041       0.134\n",
       "------------------------------------------------------------------------------\n",
       "    prog=0      dy/dx    std err          z      P>|z|      [0.025      0.975]\n",
       "------------------------------------------------------------------------------\n",
       "read           0.0072      0.004      1.623      0.105      -0.001       0.016\n",
       "write          0.0090      0.007      1.230      0.219      -0.005       0.023\n",
       "math           0.0176      0.005      3.806      0.000       0.009       0.027\n",
       "science       -0.0145      0.004     -3.473      0.001      -0.023      -0.006\n",
       "socst          0.0067      0.004      1.751      0.080      -0.001       0.014\n",
       "female        -0.0412      0.065     -0.634      0.526      -0.169       0.086\n",
       "ses            0.0522      0.043      1.216      0.224      -0.032       0.136\n",
       "schtyp         0.1810      0.085      2.119      0.034       0.014       0.348\n",
       "honors         0.0021      0.119      0.017      0.986      -0.232       0.236\n",
       "awards        -0.0188      0.043     -0.433      0.665      -0.104       0.066\n",
       "------------------------------------------------------------------------------\n",
       "    prog=1      dy/dx    std err          z      P>|z|      [0.025      0.975]\n",
       "------------------------------------------------------------------------------\n",
       "read          -0.0026      0.004     -0.644      0.520      -0.011       0.005\n",
       "write         -0.0040      0.006     -0.633      0.527      -0.016       0.008\n",
       "math          -0.0101      0.004     -2.298      0.022      -0.019      -0.001\n",
       "science        0.0026      0.004      0.699      0.484      -0.005       0.010\n",
       "socst         -0.0069      0.003     -2.130      0.033      -0.013      -0.001\n",
       "female         0.0433      0.062      0.695      0.487      -0.079       0.165\n",
       "ses            0.0371      0.039      0.947      0.343      -0.040       0.114\n",
       "schtyp        -0.2142      0.112     -1.921      0.055      -0.433       0.004\n",
       "honors         0.1536      0.126      1.215      0.224      -0.094       0.401\n",
       "awards        -0.0277      0.046     -0.602      0.547      -0.118       0.062\n",
       "==============================================================================\n",
       "\"\"\""
      ]
     },
     "execution_count": 26,
     "metadata": {},
     "output_type": "execute_result"
    }
   ],
   "source": [
    "mlog_1_margeff = mlog_1.get_margeff()\n",
    "mlog_1_margeff.summary()"
   ]
  },
  {
   "cell_type": "markdown",
   "metadata": {},
   "source": [
    "# Modelando supervivencia con un modelo de riesgos proporcionales\n",
    "\n",
    "\n",
    "### Ejemplo: Modelando la tasa de reincidencia carcelaria\n",
    "\n",
    "* Para este ejemplo utilizaremos datos provinientes de 432 prisioneros que fueron observados a lo largo de un año posterior a ser liberados de la cárcel. Las variables de la base de datos `rossi` son las siguientes:\n",
    "\n",
    "    * `week`: Semanas del primer arresto desde la liberación.\n",
    "    * `arrest`: Evento a analizar, 1 si el individuo fue arrestado en el periodo de análisis y 0 de lo contrario.\n",
    "    * `fin`: Ayuda financiera al individuo posterior a su liberación. \"yes\" si recibió, \"no\" de lo contrario.\n",
    "    * `age`: Edad del individuo.\n",
    "    * `wexp`: Experiencia laboral previa del individuo. \"yes\" si tiene, \"no\" de lo contrario.\n",
    "    * `race`: Raza del individuo. \"black\" para afrodescendientes, \"other\" para latinos, asiático y caucásicos.\n",
    "    * `mar`: Estado civil del individuo. \"married\" si estaba casado al momento de ser liberado, \"not married\" de lo contrario.\n",
    "    * `paro`: Libertad condicional del individuo al momento de salir. \"yes\" si lo estaba, \"no\" de lo contrario.\n",
    "    * `prio`: Cantidad de encarcelamientos previos del individuo.\n",
    "\n",
    "## Modelo de Riesgos Proporcionales de Cox\n",
    "\n",
    "* El modelo de Cox busca examinar la relación la distribución de supervivencia de un evento dada una serie de covariables. El modelo se considera como _semiparamétrico_ dado que genera dos estimaciones, una _no paramétrica_ donde el riesgo basal puede tomar cualquier forma funcional, y una _paramétrica_ que estima el impacto de los predictores __lineales__ del modelo.\n",
    "* El modelo de Cox considera el intercepto ($\\alpha(t)=\\text{log}h_{0}(t)$) como indefinido respecto al tiempo (definido como $t$:\n",
    "\n",
    "$$\n",
    "\\textsf{log} h_{i}(t) = \\alpha(t) + \\beta_{1}x_{i1}+\\beta_{2}x_{i2} + \\cdots + \\beta_{k}x_{ik}\n",
    "$$\n",
    "\n",
    "* Si tomamos dos observaciones $i$ e $i'$ que difieren en 1 unidad en sus $x$, las predicciones lineales estimadas son:\n",
    "\n",
    "$$\n",
    "\\eta_{i}=\\beta_{1}x_{i1}+\\beta_{2}x_{i2} + \\cdots + \\beta_{k}x_{ik}\n",
    "$$\n",
    "\n",
    "y\n",
    "\n",
    "$$\n",
    "\\eta_{i'}'=\\beta_{1}x_{i1}+\\beta_{2}x_{i2} + \\cdots + \\beta_{k}x_{ik}\n",
    "$$\n",
    "\n",
    "podemos tomar la razón de riesgos de $\\eta$ y $\\eta '$ como\n",
    "\n",
    "$$\n",
    "\\begin{eqnarray}\n",
    "\\frac{h_{i}(t)}{h_{i'}(t)} & = \\frac{h_{0}(t)\\textsf{exp}(\\eta_{i})}{h_{0}(t)\\textsf{exp}(\\eta_{i'})} \\\\\n",
    "                           & = \\frac{\\textsf{exp}(\\eta_{i})}{\\textsf{exp}(\\eta_{i'})} \\\\\n",
    "\\end{eqnarray}\n",
    "$$\n",
    "\n",
    "Esta razón de riesgos es independiente del tiempo y mide el riesgo proporcional entre dos combinaciones de predictores lineales.\n",
    "\n",
    "## Implementando el modelo con `lifelines`\n",
    "\n",
    "* Para estimar el modelo utilizaremos la librería `lifelines` que debemos agregar a nuestra carpeta `conda``conda install -c conda-forge lifelines`. Recuerden que utilizamos `conda-forge` porque son librerías externas al proyecto `anaconda`.\n",
    "* El modelo de riesgos proporcionales se encuentra en la clase `CoxPHFitter`. Dentro de los argumentos de la clase encontramos `alpha`, que determina el nivel de los intervalos de confianza a estimar en el modelo; `tie_method`, que especifica el método a implementar ante el caso de empates entre observaciones. Por el momento sólo está disponiblel el método de `'efron'`. Otros lenguajes como `R` ofrecen más métodos de resolución de empate como `'breslow'` y `'exact'`."
   ]
  },
  {
   "cell_type": "code",
   "execution_count": 2,
   "metadata": {},
   "outputs": [],
   "source": [
    "from lifelines.datasets import load_rossi\n",
    "from lifelines import CoxPHFitter\n",
    "df = load_rossi()\n",
    "cox_ph = CoxPHFitter()"
   ]
  },
  {
   "cell_type": "code",
   "execution_count": 3,
   "metadata": {},
   "outputs": [
    {
     "data": {
      "text/html": [
       "<div>\n",
       "<style scoped>\n",
       "    .dataframe tbody tr th:only-of-type {\n",
       "        vertical-align: middle;\n",
       "    }\n",
       "\n",
       "    .dataframe tbody tr th {\n",
       "        vertical-align: top;\n",
       "    }\n",
       "\n",
       "    .dataframe thead th {\n",
       "        text-align: right;\n",
       "    }\n",
       "</style>\n",
       "<table border=\"1\" class=\"dataframe\">\n",
       "  <thead>\n",
       "    <tr style=\"text-align: right;\">\n",
       "      <th></th>\n",
       "      <th>week</th>\n",
       "      <th>arrest</th>\n",
       "      <th>fin</th>\n",
       "      <th>age</th>\n",
       "      <th>race</th>\n",
       "      <th>wexp</th>\n",
       "      <th>mar</th>\n",
       "      <th>paro</th>\n",
       "      <th>prio</th>\n",
       "    </tr>\n",
       "  </thead>\n",
       "  <tbody>\n",
       "    <tr>\n",
       "      <th>0</th>\n",
       "      <td>20</td>\n",
       "      <td>1</td>\n",
       "      <td>0</td>\n",
       "      <td>27</td>\n",
       "      <td>1</td>\n",
       "      <td>0</td>\n",
       "      <td>0</td>\n",
       "      <td>1</td>\n",
       "      <td>3</td>\n",
       "    </tr>\n",
       "    <tr>\n",
       "      <th>1</th>\n",
       "      <td>17</td>\n",
       "      <td>1</td>\n",
       "      <td>0</td>\n",
       "      <td>18</td>\n",
       "      <td>1</td>\n",
       "      <td>0</td>\n",
       "      <td>0</td>\n",
       "      <td>1</td>\n",
       "      <td>8</td>\n",
       "    </tr>\n",
       "    <tr>\n",
       "      <th>2</th>\n",
       "      <td>25</td>\n",
       "      <td>1</td>\n",
       "      <td>0</td>\n",
       "      <td>19</td>\n",
       "      <td>0</td>\n",
       "      <td>1</td>\n",
       "      <td>0</td>\n",
       "      <td>1</td>\n",
       "      <td>13</td>\n",
       "    </tr>\n",
       "    <tr>\n",
       "      <th>3</th>\n",
       "      <td>52</td>\n",
       "      <td>0</td>\n",
       "      <td>1</td>\n",
       "      <td>23</td>\n",
       "      <td>1</td>\n",
       "      <td>1</td>\n",
       "      <td>1</td>\n",
       "      <td>1</td>\n",
       "      <td>1</td>\n",
       "    </tr>\n",
       "    <tr>\n",
       "      <th>4</th>\n",
       "      <td>52</td>\n",
       "      <td>0</td>\n",
       "      <td>0</td>\n",
       "      <td>19</td>\n",
       "      <td>0</td>\n",
       "      <td>1</td>\n",
       "      <td>0</td>\n",
       "      <td>1</td>\n",
       "      <td>3</td>\n",
       "    </tr>\n",
       "  </tbody>\n",
       "</table>\n",
       "</div>"
      ],
      "text/plain": [
       "   week  arrest  fin  age  race  wexp  mar  paro  prio\n",
       "0    20       1    0   27     1     0    0     1     3\n",
       "1    17       1    0   18     1     0    0     1     8\n",
       "2    25       1    0   19     0     1    0     1    13\n",
       "3    52       0    1   23     1     1    1     1     1\n",
       "4    52       0    0   19     0     1    0     1     3"
      ]
     },
     "execution_count": 3,
     "metadata": {},
     "output_type": "execute_result"
    }
   ],
   "source": [
    "df.head()"
   ]
  },
  {
   "cell_type": "code",
   "execution_count": 4,
   "metadata": {},
   "outputs": [
    {
     "data": {
      "text/plain": [
       "1     113\n",
       "2     100\n",
       "3      58\n",
       "4      43\n",
       "0      38\n",
       "5      26\n",
       "6      11\n",
       "8       9\n",
       "10      8\n",
       "7       6\n",
       "11      6\n",
       "9       5\n",
       "13      2\n",
       "12      2\n",
       "14      2\n",
       "18      2\n",
       "15      1\n",
       "Name: prio, dtype: int64"
      ]
     },
     "execution_count": 4,
     "metadata": {},
     "output_type": "execute_result"
    }
   ],
   "source": [
    "df.prio.value_counts()"
   ]
  },
  {
   "cell_type": "markdown",
   "metadata": {},
   "source": [
    "* Una vez que instanciamos nuestro objeto con la clase `CoxPHFitter`, podemos pasar los datos donde generaremos el modelo. Debemos utilizar el método `fit` en nuestro objeto. En su versión más reducida, se necesitan declarar tres argumentos:\n",
    "    - `df`: La base de datos donde implementaremos el análisis.\n",
    "    - `duration_col`: La variable que mide la exposición a lo largo del tiempo.\n",
    "    - `event_col`: El evento a estimar la supervivencia."
   ]
  },
  {
   "cell_type": "code",
   "execution_count": 5,
   "metadata": {},
   "outputs": [
    {
     "data": {
      "text/plain": [
       "<lifelines.CoxPHFitter: fitted with 432 total observations, 318 right-censored observations>"
      ]
     },
     "execution_count": 5,
     "metadata": {},
     "output_type": "execute_result"
    }
   ],
   "source": [
    "cox_ph.fit(df, duration_col='week', event_col='arrest')"
   ]
  },
  {
   "cell_type": "markdown",
   "metadata": {},
   "source": [
    "* Con nuestro modelo estimado podemos pedir los coeficientes con `print_summary()`. Si aplicamos las prácticas comunes de interpretación, observamos que hay 3 factores estadeisticamente significativos (asumiendo un nivel de significancia nominal del 95%) asociados a la reincidencia carcelaria: la edad del individuo (`age`), la cantidad de encarcelamientos previos (`prio`) y ayuda financiera (`fin`).\n",
    "* Podemos estar tentados a interpretar los coeficientes de forma lineal, pero los resultados de los coeficientes vienen exponenciados en `exp(coef)`. Estos se pueden interpretar como efectos multiplicativos en el riesgo de reincidencia. Así, observamos que entre dos individuos que difieren en un año de edad hay una disminución en el riesgo _promedio_ de 5.6% en la reincidencia. Este número se estima a partir de $(1 - \\text{exp}(\\beta_{2}\\texttt{age})) = (1 - 0.944) = 5.6$.\n",
    "* Por lo general, comparamos el coeficiente exponenciado respecto a 1. Si la diferencia entre 1 y $\\text{exp}(\\beta)$ es positiva, se dice que la covariable aumenta la tasa de supervivencia. De siminar la manera si la diferencia entre 1 y $\\text{exp}\\beta$, se dice que la covariable disminuye la tasa de supervivencia.\n",
    "* La cantidad de encarcelamientos está asociado negativamente con el tiempo fuera de la cárcel del individuo. Cada una aumenta el riesgo en 9.6% ($(1 - \\text{exp}(\\beta_{7}\\texttt{prio})) = (1 - 1.096) = 9.6$)."
   ]
  },
  {
   "cell_type": "code",
   "execution_count": 6,
   "metadata": {},
   "outputs": [
    {
     "data": {
      "text/html": [
       "<div>\n",
       "<style scoped>\n",
       "    .dataframe tbody tr th:only-of-type {\n",
       "        vertical-align: middle;\n",
       "    }\n",
       "\n",
       "    .dataframe tbody tr th {\n",
       "        vertical-align: top;\n",
       "    }\n",
       "\n",
       "    .dataframe thead th {\n",
       "        text-align: right;\n",
       "    }\n",
       "</style>\n",
       "<table border=\"1\" class=\"dataframe\">\n",
       "  <tbody>\n",
       "    <tr>\n",
       "      <th>model</th>\n",
       "      <td>lifelines.CoxPHFitter</td>\n",
       "    </tr>\n",
       "    <tr>\n",
       "      <th>duration col</th>\n",
       "      <td>'week'</td>\n",
       "    </tr>\n",
       "    <tr>\n",
       "      <th>event col</th>\n",
       "      <td>'arrest'</td>\n",
       "    </tr>\n",
       "    <tr>\n",
       "      <th>baseline estimation</th>\n",
       "      <td>breslow</td>\n",
       "    </tr>\n",
       "    <tr>\n",
       "      <th>number of observations</th>\n",
       "      <td>432</td>\n",
       "    </tr>\n",
       "    <tr>\n",
       "      <th>number of events observed</th>\n",
       "      <td>114</td>\n",
       "    </tr>\n",
       "    <tr>\n",
       "      <th>partial log-likelihood</th>\n",
       "      <td>-658.75</td>\n",
       "    </tr>\n",
       "    <tr>\n",
       "      <th>time fit was run</th>\n",
       "      <td>2022-09-29 22:21:06 UTC</td>\n",
       "    </tr>\n",
       "  </tbody>\n",
       "</table>\n",
       "</div><table border=\"1\" class=\"dataframe\">\n",
       "  <thead>\n",
       "    <tr style=\"text-align: right;\">\n",
       "      <th style=\"min-width: 12px;\"></th>\n",
       "      <th style=\"min-width: 12px;\">coef</th>\n",
       "      <th style=\"min-width: 12px;\">exp(coef)</th>\n",
       "      <th style=\"min-width: 12px;\">se(coef)</th>\n",
       "      <th style=\"min-width: 12px;\">coef lower 95%</th>\n",
       "      <th style=\"min-width: 12px;\">coef upper 95%</th>\n",
       "      <th style=\"min-width: 12px;\">exp(coef) lower 95%</th>\n",
       "      <th style=\"min-width: 12px;\">exp(coef) upper 95%</th>\n",
       "      <th style=\"min-width: 12px;\">z</th>\n",
       "      <th style=\"min-width: 12px;\">p</th>\n",
       "      <th style=\"min-width: 12px;\">-log2(p)</th>\n",
       "    </tr>\n",
       "  </thead>\n",
       "  <tbody>\n",
       "    <tr>\n",
       "      <th>fin</th>\n",
       "      <td>-0.38</td>\n",
       "      <td>0.68</td>\n",
       "      <td>0.19</td>\n",
       "      <td>-0.75</td>\n",
       "      <td>-0.00</td>\n",
       "      <td>0.47</td>\n",
       "      <td>1.00</td>\n",
       "      <td>-1.98</td>\n",
       "      <td>0.05</td>\n",
       "      <td>4.40</td>\n",
       "    </tr>\n",
       "    <tr>\n",
       "      <th>age</th>\n",
       "      <td>-0.06</td>\n",
       "      <td>0.94</td>\n",
       "      <td>0.02</td>\n",
       "      <td>-0.10</td>\n",
       "      <td>-0.01</td>\n",
       "      <td>0.90</td>\n",
       "      <td>0.99</td>\n",
       "      <td>-2.61</td>\n",
       "      <td>0.01</td>\n",
       "      <td>6.79</td>\n",
       "    </tr>\n",
       "    <tr>\n",
       "      <th>race</th>\n",
       "      <td>0.31</td>\n",
       "      <td>1.37</td>\n",
       "      <td>0.31</td>\n",
       "      <td>-0.29</td>\n",
       "      <td>0.92</td>\n",
       "      <td>0.75</td>\n",
       "      <td>2.50</td>\n",
       "      <td>1.02</td>\n",
       "      <td>0.31</td>\n",
       "      <td>1.70</td>\n",
       "    </tr>\n",
       "    <tr>\n",
       "      <th>wexp</th>\n",
       "      <td>-0.15</td>\n",
       "      <td>0.86</td>\n",
       "      <td>0.21</td>\n",
       "      <td>-0.57</td>\n",
       "      <td>0.27</td>\n",
       "      <td>0.57</td>\n",
       "      <td>1.30</td>\n",
       "      <td>-0.71</td>\n",
       "      <td>0.48</td>\n",
       "      <td>1.06</td>\n",
       "    </tr>\n",
       "    <tr>\n",
       "      <th>mar</th>\n",
       "      <td>-0.43</td>\n",
       "      <td>0.65</td>\n",
       "      <td>0.38</td>\n",
       "      <td>-1.18</td>\n",
       "      <td>0.31</td>\n",
       "      <td>0.31</td>\n",
       "      <td>1.37</td>\n",
       "      <td>-1.14</td>\n",
       "      <td>0.26</td>\n",
       "      <td>1.97</td>\n",
       "    </tr>\n",
       "    <tr>\n",
       "      <th>paro</th>\n",
       "      <td>-0.08</td>\n",
       "      <td>0.92</td>\n",
       "      <td>0.20</td>\n",
       "      <td>-0.47</td>\n",
       "      <td>0.30</td>\n",
       "      <td>0.63</td>\n",
       "      <td>1.35</td>\n",
       "      <td>-0.43</td>\n",
       "      <td>0.66</td>\n",
       "      <td>0.59</td>\n",
       "    </tr>\n",
       "    <tr>\n",
       "      <th>prio</th>\n",
       "      <td>0.09</td>\n",
       "      <td>1.10</td>\n",
       "      <td>0.03</td>\n",
       "      <td>0.04</td>\n",
       "      <td>0.15</td>\n",
       "      <td>1.04</td>\n",
       "      <td>1.16</td>\n",
       "      <td>3.19</td>\n",
       "      <td>&lt;0.005</td>\n",
       "      <td>9.48</td>\n",
       "    </tr>\n",
       "  </tbody>\n",
       "</table><br><div>\n",
       "<style scoped>\n",
       "    .dataframe tbody tr th:only-of-type {\n",
       "        vertical-align: middle;\n",
       "    }\n",
       "\n",
       "    .dataframe tbody tr th {\n",
       "        vertical-align: top;\n",
       "    }\n",
       "\n",
       "    .dataframe thead th {\n",
       "        text-align: right;\n",
       "    }\n",
       "</style>\n",
       "<table border=\"1\" class=\"dataframe\">\n",
       "  <tbody>\n",
       "    <tr>\n",
       "      <th>Concordance</th>\n",
       "      <td>0.64</td>\n",
       "    </tr>\n",
       "    <tr>\n",
       "      <th>Partial AIC</th>\n",
       "      <td>1331.50</td>\n",
       "    </tr>\n",
       "    <tr>\n",
       "      <th>log-likelihood ratio test</th>\n",
       "      <td>33.27 on 7 df</td>\n",
       "    </tr>\n",
       "    <tr>\n",
       "      <th>-log2(p) of ll-ratio test</th>\n",
       "      <td>15.37</td>\n",
       "    </tr>\n",
       "  </tbody>\n",
       "</table>\n",
       "</div>"
      ],
      "text/latex": [
       "\\begin{tabular}{lrrrrrrrrrr}\n",
       "\\toprule\n",
       "{} &  coef &  exp(coef) &  se(coef) &  coef lower 95\\% &  coef upper 95\\% &  exp(coef) lower 95\\% &  exp(coef) upper 95\\% &     z &    p &  -log2(p) \\\\\n",
       "covariate &       &            &           &                 &                 &                      &                      &       &      &           \\\\\n",
       "\\midrule\n",
       "fin       & -0.38 &       0.68 &      0.19 &           -0.75 &           -0.00 &                 0.47 &                 1.00 & -1.98 & 0.05 &      4.40 \\\\\n",
       "age       & -0.06 &       0.94 &      0.02 &           -0.10 &           -0.01 &                 0.90 &                 0.99 & -2.61 & 0.01 &      6.79 \\\\\n",
       "race      &  0.31 &       1.37 &      0.31 &           -0.29 &            0.92 &                 0.75 &                 2.50 &  1.02 & 0.31 &      1.70 \\\\\n",
       "wexp      & -0.15 &       0.86 &      0.21 &           -0.57 &            0.27 &                 0.57 &                 1.30 & -0.71 & 0.48 &      1.06 \\\\\n",
       "mar       & -0.43 &       0.65 &      0.38 &           -1.18 &            0.31 &                 0.31 &                 1.37 & -1.14 & 0.26 &      1.97 \\\\\n",
       "paro      & -0.08 &       0.92 &      0.20 &           -0.47 &            0.30 &                 0.63 &                 1.35 & -0.43 & 0.66 &      0.59 \\\\\n",
       "prio      &  0.09 &       1.10 &      0.03 &            0.04 &            0.15 &                 1.04 &                 1.16 &  3.19 & 0.00 &      9.48 \\\\\n",
       "\\bottomrule\n",
       "\\end{tabular}\n"
      ],
      "text/plain": [
       "<lifelines.CoxPHFitter: fitted with 432 total observations, 318 right-censored observations>\n",
       "             duration col = 'week'\n",
       "                event col = 'arrest'\n",
       "      baseline estimation = breslow\n",
       "   number of observations = 432\n",
       "number of events observed = 114\n",
       "   partial log-likelihood = -658.75\n",
       "         time fit was run = 2022-09-29 22:21:06 UTC\n",
       "\n",
       "---\n",
       "            coef  exp(coef)   se(coef)   coef lower 95%   coef upper 95%  exp(coef) lower 95%  exp(coef) upper 95%\n",
       "covariate                                                                                                         \n",
       "fin        -0.38       0.68       0.19            -0.75            -0.00                 0.47                 1.00\n",
       "age        -0.06       0.94       0.02            -0.10            -0.01                 0.90                 0.99\n",
       "race        0.31       1.37       0.31            -0.29             0.92                 0.75                 2.50\n",
       "wexp       -0.15       0.86       0.21            -0.57             0.27                 0.57                 1.30\n",
       "mar        -0.43       0.65       0.38            -1.18             0.31                 0.31                 1.37\n",
       "paro       -0.08       0.92       0.20            -0.47             0.30                 0.63                 1.35\n",
       "prio        0.09       1.10       0.03             0.04             0.15                 1.04                 1.16\n",
       "\n",
       "              z      p   -log2(p)\n",
       "covariate                        \n",
       "fin       -1.98   0.05       4.40\n",
       "age       -2.61   0.01       6.79\n",
       "race       1.02   0.31       1.70\n",
       "wexp      -0.71   0.48       1.06\n",
       "mar       -1.14   0.26       1.97\n",
       "paro      -0.43   0.66       0.59\n",
       "prio       3.19 <0.005       9.48\n",
       "---\n",
       "Concordance = 0.64\n",
       "Partial AIC = 1331.50\n",
       "log-likelihood ratio test = 33.27 on 7 df\n",
       "-log2(p) of ll-ratio test = 15.37"
      ]
     },
     "metadata": {},
     "output_type": "display_data"
    }
   ],
   "source": [
    "cox_ph.print_summary()"
   ]
  },
  {
   "cell_type": "markdown",
   "metadata": {},
   "source": [
    "## Visualizando la tasa de reincidencia\n",
    "\n",
    "* Ya sabemos el efecto de las covariables inspeccionadas. Ahora podemos analizar la evolución de la reincidencia en la muestra completa. Para ello implementaremos el estimador de Kaplan-Meier, un método no paramétrico para estimar la función de supervivencia. El estimador viene de\n",
    "\n",
    "$$\n",
    "\\hat{S}(t)=\\prod_{1: t_{i}\\leq t} \\Bigg(1 - \\frac{d_{i}}{n_{i}}\\Bigg)\n",
    "$$ \n",
    "\n",
    "donde se resuelve el número de eventos $d_{i}$ por sobre la cantidad de individuos _sin eventos ocurridos_ en tiempo $t_{i}$. Esto se calcula por cada periodo y posteriormente se multiplican los resultados.\n",
    "\n",
    "* Por lo general el estimador se visualiza como una serie de peldaños descendientes y mide la disminución de no ocurrencia del evento a lo largo del tiempo.\n",
    "* Este es el componente noparamétrico del modelo de riesgos proporcionales de Cox."
   ]
  },
  {
   "cell_type": "code",
   "execution_count": 9,
   "metadata": {},
   "outputs": [
    {
     "data": {
      "text/plain": [
       "Text(0, 0.5, 'Probabilidad de no reincidir')"
      ]
     },
     "execution_count": 9,
     "metadata": {},
     "output_type": "execute_result"
    },
    {
     "data": {
      "image/png": "[encoded data removed]",
      "text/plain": [
       "<Figure size 432x288 with 1 Axes>"
      ]
     },
     "metadata": {
      "needs_background": "light"
     },
     "output_type": "display_data"
    }
   ],
   "source": [
    "from lifelines import KaplanMeierFitter\n",
    "\n",
    "kapmeier = KaplanMeierFitter()\n",
    "kapmeier.fit(df['week'], event_observed=df['arrest'])\n",
    "kapmeier.plot()\n",
    "plt.ylabel(\"Probabilidad de no reincidir\")"
   ]
  },
  {
   "cell_type": "markdown",
   "metadata": {},
   "source": [
    "### Visualizando el efecto de una covariable a lo largo del tiempo\n",
    "\n",
    "* Hasta el momento hemos modelado el riesgo del evento mediante la combinación lineal de los predictores. Dada la naturaleza semiparamétrica del modelo de riesgos proporcionales, podemos evaluar la evolución del riesgo para ciertos valores en la medida que pasa el tiempo.\n",
    "* Una vez que ya estimamos el modelo de riesgos proporcionales, el objeto ofrece el método `plot_partial_effects_on_outcome`. Dentro de este método uno debe declarar dos argumentos: 1. la covariable a analizar, la cual debe estar presente en el modelo; 2. los puntajes donde evaluaremos el efecto de la variable a lo largo del tiempo.\n",
    "* Para este caso analizaremos el efecto de la ayuda financiera en las tasas de encarcelamiento. En este caso el método devuelve tres escenarios: dos por los valores a evaluar y un punto basal que responde cuando nuestra combinación lineal de valores está en 0.\n",
    "* Observamos que una vez que salen de la cárcel, todos los individuos parten con una probabilidad de no reincidir de 1. En la medida que el tiempo pasa, el riesgo de no reincidir en aquellos individuos sin ayuda financiera disminuye de una forma más acelerada que el grupo con ayuda financiera."
   ]
  },
  {
   "cell_type": "code",
   "execution_count": 12,
   "metadata": {},
   "outputs": [
    {
     "data": {
      "text/plain": [
       "<matplotlib.legend.Legend at 0x125fca8b0>"
      ]
     },
     "execution_count": 12,
     "metadata": {},
     "output_type": "execute_result"
    },
    {
     "data": {
      "image/png": "[encoded data removed]",
      "text/plain": [
       "<Figure size 432x288 with 1 Axes>"
      ]
     },
     "metadata": {
      "needs_background": "light"
     },
     "output_type": "display_data"
    }
   ],
   "source": [
    "cox_ph.plot_partial_effects_on_outcome('fin', [0, 1])\n",
    "plt.ylabel('Proporción no encarcelados')\n",
    "plt.legend(['Sin ayuda', 'Con ayuda', 'Comparación basal'])"
   ]
  },
  {
   "cell_type": "code",
   "execution_count": 13,
   "metadata": {},
   "outputs": [
    {
     "data": {
      "text/plain": [
       "<AxesSubplot:>"
      ]
     },
     "execution_count": 13,
     "metadata": {},
     "output_type": "execute_result"
    },
    {
     "data": {
      "image/png": "[encoded data removed]",
      "text/plain": [
       "<Figure size 432x288 with 1 Axes>"
      ]
     },
     "metadata": {
      "needs_background": "light"
     },
     "output_type": "display_data"
    }
   ],
   "source": [
    "cox_ph.plot_partial_effects_on_outcome('prio', [0, 5, 10, 15])\n",
    "#`prio`: Cantidad de encarcelamientos previos del individuo."
   ]
  },
  {
   "cell_type": "markdown",
   "metadata": {},
   "source": [
    "* Para analizar los riesgos en las covariables contínuas, se declara un array con cada valor a evaluar en  `plot_covariate_groups`. Vamos a graficar los riesgos para las otras dos variables \"significativas\".\n",
    "* Observamos que cuando los individuos liberados no tienen encarcelamientos previos tienen mayores chances de no reincidir, en comparación a la categoría basal. "
   ]
  },
  {
   "cell_type": "code",
   "execution_count": 19,
   "metadata": {},
   "outputs": [
    {
     "data": {
      "text/plain": [
       "<matplotlib.axes._subplots.AxesSubplot at 0x1c1ff17160>"
      ]
     },
     "execution_count": 19,
     "metadata": {},
     "output_type": "execute_result"
    },
    {
     "data": {
      "image/png": "[encoded data removed]",
      "text/plain": [
       "<matplotlib.figure.Figure at 0x1c1fdfe320>"
      ]
     },
     "metadata": {},
     "output_type": "display_data"
    }
   ],
   "source": [
    "cox_ph.plot_covariate_groups('prio', [0, 5, 10, 15])"
   ]
  },
  {
   "cell_type": "markdown",
   "metadata": {},
   "source": [
    "* De similar manera, se observa que individuos tienen mayores chances de reincidir."
   ]
  },
  {
   "cell_type": "code",
   "execution_count": 16,
   "metadata": {},
   "outputs": [
    {
     "data": {
      "text/plain": [
       "<AxesSubplot:>"
      ]
     },
     "execution_count": 16,
     "metadata": {},
     "output_type": "execute_result"
    },
    {
     "data": {
      "image/png": "[encoded data removed]",
      "text/plain": [
       "<Figure size 432x288 with 1 Axes>"
      ]
     },
     "metadata": {
      "needs_background": "light"
     },
     "output_type": "display_data"
    }
   ],
   "source": [
    "cox_ph.plot_partial_effects_on_outcome('age', [20, 30, 40, 50])"
   ]
  },
  {
   "cell_type": "code",
   "execution_count": 17,
   "metadata": {},
   "outputs": [
    {
     "data": {
      "text/plain": [
       "<AxesSubplot:>"
      ]
     },
     "execution_count": 17,
     "metadata": {},
     "output_type": "execute_result"
    },
    {
     "data": {
      "image/png": "[encoded data removed]",
      "text/plain": [
       "<Figure size 432x288 with 1 Axes>"
      ]
     },
     "metadata": {
      "needs_background": "light"
     },
     "output_type": "display_data"
    }
   ],
   "source": [
    "cox_ph.plot_partial_effects_on_outcome('mar', [0, 1])"
   ]
  },
  {
   "cell_type": "code",
   "execution_count": 19,
   "metadata": {},
   "outputs": [
    {
     "data": {
      "text/plain": [
       "<AxesSubplot:>"
      ]
     },
     "execution_count": 19,
     "metadata": {},
     "output_type": "execute_result"
    },
    {
     "data": {
      "image/png": "[encoded data removed]",
      "text/plain": [
       "<Figure size 432x288 with 1 Axes>"
      ]
     },
     "metadata": {
      "needs_background": "light"
     },
     "output_type": "display_data"
    }
   ],
   "source": [
    "cox_ph.plot_partial_effects_on_outcome('race', [0, 1])"
   ]
  },
  {
   "cell_type": "code",
   "execution_count": 21,
   "metadata": {},
   "outputs": [
    {
     "data": {
      "text/plain": [
       "<AxesSubplot:>"
      ]
     },
     "execution_count": 21,
     "metadata": {},
     "output_type": "execute_result"
    },
    {
     "data": {
      "image/png": "[encoded data removed]",
      "text/plain": [
       "<Figure size 432x288 with 1 Axes>"
      ]
     },
     "metadata": {
      "needs_background": "light"
     },
     "output_type": "display_data"
    }
   ],
   "source": [
    "cox_ph.plot_partial_effects_on_outcome('paro', [0, 1])"
   ]
  },
  {
   "cell_type": "code",
   "execution_count": 20,
   "metadata": {},
   "outputs": [
    {
     "data": {
      "text/plain": [
       "<AxesSubplot:>"
      ]
     },
     "execution_count": 20,
     "metadata": {},
     "output_type": "execute_result"
    },
    {
     "data": {
      "image/png": "[encoded data removed]",
      "text/plain": [
       "<Figure size 432x288 with 1 Axes>"
      ]
     },
     "metadata": {
      "needs_background": "light"
     },
     "output_type": "display_data"
    }
   ],
   "source": [
    "cox_ph.plot_partial_effects_on_outcome('wexp', [0, 1])"
   ]
  }
 ],
 "metadata": {
  "kernelspec": {
   "display_name": "Python 3 (ipykernel)",
   "language": "python",
   "name": "python3"
  },
  "language_info": {
   "codemirror_mode": {
    "name": "ipython",
    "version": 3
   },
   "file_extension": ".py",
   "mimetype": "text/x-python",
   "name": "python",
   "nbconvert_exporter": "python",
   "pygments_lexer": "ipython3",
   "version": "3.9.7"
  }
 },
 "nbformat": 4,
 "nbformat_minor": 4
}
