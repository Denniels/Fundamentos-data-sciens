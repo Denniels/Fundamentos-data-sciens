{
 "cells": [
  {
   "cell_type": "markdown",
   "metadata": {},
   "source": [
    "# PCA- Factorial"
   ]
  },
  {
   "cell_type": "code",
   "execution_count": 1,
   "metadata": {},
   "outputs": [],
   "source": [
    " import pandas as pd\n",
    "import numpy as np\n",
    "import matplotlib.pyplot as plt\n",
    "%matplotlib inline\n",
    "import scipy.stats as stats\n",
    "import seaborn as sns\n",
    "import warnings\n",
    "warnings.filterwarnings(action=\"ignore\") \n",
    "plt.style.use('seaborn')\n",
    "import factor_analyzer as factor\n",
    "import missingno as msngo"
   ]
  },
  {
   "cell_type": "code",
   "execution_count": 2,
   "metadata": {},
   "outputs": [
    {
     "data": {
      "image/png": "[encoded data removed]",
      "text/plain": [
       "<Figure size 432x288 with 4 Axes>"
      ]
     },
     "metadata": {
      "needs_background": "light"
     },
     "output_type": "display_data"
    }
   ],
   "source": [
    " for i, e in enumerate([2, 10, 100, 1000]): \n",
    "    plt.subplot(2,2, i+1) \n",
    "    gfx.sim_distance(e)\n",
    "    plt.tight_layout()"
   ]
  },
  {
   "cell_type": "code",
   "execution_count": 27,
   "metadata": {},
   "outputs": [],
   "source": [
    "df = pd.read_csv('students.csv', sep='|')"
   ]
  },
  {
   "cell_type": "code",
   "execution_count": 28,
   "metadata": {},
   "outputs": [
    {
     "data": {
      "text/html": [
       "<div>\n",
       "<style scoped>\n",
       "    .dataframe tbody tr th:only-of-type {\n",
       "        vertical-align: middle;\n",
       "    }\n",
       "\n",
       "    .dataframe tbody tr th {\n",
       "        vertical-align: top;\n",
       "    }\n",
       "\n",
       "    .dataframe thead th {\n",
       "        text-align: right;\n",
       "    }\n",
       "</style>\n",
       "<table border=\"1\" class=\"dataframe\">\n",
       "  <thead>\n",
       "    <tr style=\"text-align: right;\">\n",
       "      <th></th>\n",
       "      <th>Unnamed: 0</th>\n",
       "      <th>school</th>\n",
       "      <th>sex</th>\n",
       "      <th>age</th>\n",
       "      <th>address</th>\n",
       "      <th>famsize</th>\n",
       "      <th>Pstatus</th>\n",
       "      <th>Medu</th>\n",
       "      <th>Fedu</th>\n",
       "      <th>Mjob</th>\n",
       "      <th>...</th>\n",
       "      <th>famrel</th>\n",
       "      <th>freetime</th>\n",
       "      <th>goout</th>\n",
       "      <th>Dalc</th>\n",
       "      <th>Walc</th>\n",
       "      <th>health</th>\n",
       "      <th>absences</th>\n",
       "      <th>G1</th>\n",
       "      <th>G2</th>\n",
       "      <th>G3</th>\n",
       "    </tr>\n",
       "  </thead>\n",
       "  <tbody>\n",
       "    <tr>\n",
       "      <th>0</th>\n",
       "      <td>0</td>\n",
       "      <td>GP</td>\n",
       "      <td>F</td>\n",
       "      <td>nulidade</td>\n",
       "      <td>U</td>\n",
       "      <td>GT3</td>\n",
       "      <td>A</td>\n",
       "      <td>4</td>\n",
       "      <td>4</td>\n",
       "      <td>at_home</td>\n",
       "      <td>...</td>\n",
       "      <td>4</td>\n",
       "      <td>3</td>\n",
       "      <td>\"4\"</td>\n",
       "      <td>1</td>\n",
       "      <td>1</td>\n",
       "      <td>\"3\"</td>\n",
       "      <td>6</td>\n",
       "      <td>5</td>\n",
       "      <td>6</td>\n",
       "      <td>6</td>\n",
       "    </tr>\n",
       "    <tr>\n",
       "      <th>1</th>\n",
       "      <td>1</td>\n",
       "      <td>GP</td>\n",
       "      <td>F</td>\n",
       "      <td>\"17\"</td>\n",
       "      <td>U</td>\n",
       "      <td>GT3</td>\n",
       "      <td>T</td>\n",
       "      <td>1</td>\n",
       "      <td>1</td>\n",
       "      <td>at_home</td>\n",
       "      <td>...</td>\n",
       "      <td>5</td>\n",
       "      <td>3</td>\n",
       "      <td>\"3\"</td>\n",
       "      <td>1</td>\n",
       "      <td>1</td>\n",
       "      <td>\"3\"</td>\n",
       "      <td>4</td>\n",
       "      <td>5</td>\n",
       "      <td>5</td>\n",
       "      <td>6</td>\n",
       "    </tr>\n",
       "    <tr>\n",
       "      <th>2</th>\n",
       "      <td>2</td>\n",
       "      <td>GP</td>\n",
       "      <td>F</td>\n",
       "      <td>\"15\"</td>\n",
       "      <td>U</td>\n",
       "      <td>LE3</td>\n",
       "      <td>T</td>\n",
       "      <td>1</td>\n",
       "      <td>1</td>\n",
       "      <td>at_home</td>\n",
       "      <td>...</td>\n",
       "      <td>4</td>\n",
       "      <td>3</td>\n",
       "      <td>\"2\"</td>\n",
       "      <td>2</td>\n",
       "      <td>3</td>\n",
       "      <td>\"3\"</td>\n",
       "      <td>10</td>\n",
       "      <td>zero</td>\n",
       "      <td>8</td>\n",
       "      <td>10</td>\n",
       "    </tr>\n",
       "    <tr>\n",
       "      <th>3</th>\n",
       "      <td>3</td>\n",
       "      <td>GP</td>\n",
       "      <td>F</td>\n",
       "      <td>\"15\"</td>\n",
       "      <td>U</td>\n",
       "      <td>GT3</td>\n",
       "      <td>T</td>\n",
       "      <td>4</td>\n",
       "      <td>2</td>\n",
       "      <td>health</td>\n",
       "      <td>...</td>\n",
       "      <td>3</td>\n",
       "      <td>2</td>\n",
       "      <td>\"2\"</td>\n",
       "      <td>1</td>\n",
       "      <td>1</td>\n",
       "      <td>\"5\"</td>\n",
       "      <td>2</td>\n",
       "      <td>15</td>\n",
       "      <td>14</td>\n",
       "      <td>15</td>\n",
       "    </tr>\n",
       "    <tr>\n",
       "      <th>4</th>\n",
       "      <td>4</td>\n",
       "      <td>GP</td>\n",
       "      <td>F</td>\n",
       "      <td>sem validade</td>\n",
       "      <td>U</td>\n",
       "      <td>GT3</td>\n",
       "      <td>T</td>\n",
       "      <td>3</td>\n",
       "      <td>3</td>\n",
       "      <td>other</td>\n",
       "      <td>...</td>\n",
       "      <td>4</td>\n",
       "      <td>3</td>\n",
       "      <td>\"2\"</td>\n",
       "      <td>1</td>\n",
       "      <td>2</td>\n",
       "      <td>\"5\"</td>\n",
       "      <td>4</td>\n",
       "      <td>6</td>\n",
       "      <td>10</td>\n",
       "      <td>10</td>\n",
       "    </tr>\n",
       "  </tbody>\n",
       "</table>\n",
       "<p>5 rows × 34 columns</p>\n",
       "</div>"
      ],
      "text/plain": [
       "   Unnamed: 0 school sex           age address famsize Pstatus Medu Fedu  \\\n",
       "0           0     GP   F      nulidade       U     GT3       A    4    4   \n",
       "1           1     GP   F          \"17\"       U     GT3       T    1    1   \n",
       "2           2     GP   F          \"15\"       U     LE3       T    1    1   \n",
       "3           3     GP   F          \"15\"       U     GT3       T    4    2   \n",
       "4           4     GP   F  sem validade       U     GT3       T    3    3   \n",
       "\n",
       "      Mjob ... famrel freetime goout Dalc Walc health absences    G1  G2  G3  \n",
       "0  at_home ...      4        3   \"4\"    1    1    \"3\"        6     5   6   6  \n",
       "1  at_home ...      5        3   \"3\"    1    1    \"3\"        4     5   5   6  \n",
       "2  at_home ...      4        3   \"2\"    2    3    \"3\"       10  zero   8  10  \n",
       "3   health ...      3        2   \"2\"    1    1    \"5\"        2    15  14  15  \n",
       "4    other ...      4        3   \"2\"    1    2    \"5\"        4     6  10  10  \n",
       "\n",
       "[5 rows x 34 columns]"
      ]
     },
     "execution_count": 28,
     "metadata": {},
     "output_type": "execute_result"
    }
   ],
   "source": [
    "df.head()"
   ]
  },
  {
   "cell_type": "code",
   "execution_count": 29,
   "metadata": {},
   "outputs": [],
   "source": [
    "df_2 = pd.read_csv('income-db.csv')"
   ]
  },
  {
   "cell_type": "code",
   "execution_count": 30,
   "metadata": {},
   "outputs": [
    {
     "data": {
      "text/html": [
       "<div>\n",
       "<style scoped>\n",
       "    .dataframe tbody tr th:only-of-type {\n",
       "        vertical-align: middle;\n",
       "    }\n",
       "\n",
       "    .dataframe tbody tr th {\n",
       "        vertical-align: top;\n",
       "    }\n",
       "\n",
       "    .dataframe thead th {\n",
       "        text-align: right;\n",
       "    }\n",
       "</style>\n",
       "<table border=\"1\" class=\"dataframe\">\n",
       "  <thead>\n",
       "    <tr style=\"text-align: right;\">\n",
       "      <th></th>\n",
       "      <th>age</th>\n",
       "      <th>workclass</th>\n",
       "      <th>fnlwgt</th>\n",
       "      <th>education</th>\n",
       "      <th>educational-num</th>\n",
       "      <th>marital-status</th>\n",
       "      <th>occupation</th>\n",
       "      <th>relationship</th>\n",
       "      <th>race</th>\n",
       "      <th>gender</th>\n",
       "      <th>capital-gain</th>\n",
       "      <th>capital-loss</th>\n",
       "      <th>hours-per-week</th>\n",
       "      <th>native-country</th>\n",
       "      <th>income</th>\n",
       "    </tr>\n",
       "  </thead>\n",
       "  <tbody>\n",
       "    <tr>\n",
       "      <th>0</th>\n",
       "      <td>25</td>\n",
       "      <td>Private</td>\n",
       "      <td>226802</td>\n",
       "      <td>11th</td>\n",
       "      <td>7</td>\n",
       "      <td>Never-married</td>\n",
       "      <td>Machine-op-inspct</td>\n",
       "      <td>Own-child</td>\n",
       "      <td>Black</td>\n",
       "      <td>Male</td>\n",
       "      <td>0</td>\n",
       "      <td>0</td>\n",
       "      <td>40</td>\n",
       "      <td>United-States</td>\n",
       "      <td>&lt;=50K</td>\n",
       "    </tr>\n",
       "    <tr>\n",
       "      <th>1</th>\n",
       "      <td>38</td>\n",
       "      <td>Private</td>\n",
       "      <td>89814</td>\n",
       "      <td>HS-grad</td>\n",
       "      <td>9</td>\n",
       "      <td>Married-civ-spouse</td>\n",
       "      <td>Farming-fishing</td>\n",
       "      <td>Husband</td>\n",
       "      <td>White</td>\n",
       "      <td>Male</td>\n",
       "      <td>0</td>\n",
       "      <td>0</td>\n",
       "      <td>50</td>\n",
       "      <td>United-States</td>\n",
       "      <td>&lt;=50K</td>\n",
       "    </tr>\n",
       "    <tr>\n",
       "      <th>2</th>\n",
       "      <td>28</td>\n",
       "      <td>Local-gov</td>\n",
       "      <td>336951</td>\n",
       "      <td>Assoc-acdm</td>\n",
       "      <td>12</td>\n",
       "      <td>Married-civ-spouse</td>\n",
       "      <td>Protective-serv</td>\n",
       "      <td>Husband</td>\n",
       "      <td>White</td>\n",
       "      <td>Male</td>\n",
       "      <td>0</td>\n",
       "      <td>0</td>\n",
       "      <td>40</td>\n",
       "      <td>United-States</td>\n",
       "      <td>&gt;50K</td>\n",
       "    </tr>\n",
       "    <tr>\n",
       "      <th>3</th>\n",
       "      <td>44</td>\n",
       "      <td>Private</td>\n",
       "      <td>160323</td>\n",
       "      <td>Some-college</td>\n",
       "      <td>10</td>\n",
       "      <td>Married-civ-spouse</td>\n",
       "      <td>Machine-op-inspct</td>\n",
       "      <td>Husband</td>\n",
       "      <td>Black</td>\n",
       "      <td>Male</td>\n",
       "      <td>7688</td>\n",
       "      <td>0</td>\n",
       "      <td>40</td>\n",
       "      <td>United-States</td>\n",
       "      <td>&gt;50K</td>\n",
       "    </tr>\n",
       "    <tr>\n",
       "      <th>4</th>\n",
       "      <td>18</td>\n",
       "      <td>?</td>\n",
       "      <td>103497</td>\n",
       "      <td>Some-college</td>\n",
       "      <td>10</td>\n",
       "      <td>Never-married</td>\n",
       "      <td>?</td>\n",
       "      <td>Own-child</td>\n",
       "      <td>White</td>\n",
       "      <td>Female</td>\n",
       "      <td>0</td>\n",
       "      <td>0</td>\n",
       "      <td>30</td>\n",
       "      <td>United-States</td>\n",
       "      <td>&lt;=50K</td>\n",
       "    </tr>\n",
       "  </tbody>\n",
       "</table>\n",
       "</div>"
      ],
      "text/plain": [
       "   age  workclass  fnlwgt     education  educational-num      marital-status  \\\n",
       "0   25    Private  226802          11th                7       Never-married   \n",
       "1   38    Private   89814       HS-grad                9  Married-civ-spouse   \n",
       "2   28  Local-gov  336951    Assoc-acdm               12  Married-civ-spouse   \n",
       "3   44    Private  160323  Some-college               10  Married-civ-spouse   \n",
       "4   18          ?  103497  Some-college               10       Never-married   \n",
       "\n",
       "          occupation relationship   race  gender  capital-gain  capital-loss  \\\n",
       "0  Machine-op-inspct    Own-child  Black    Male             0             0   \n",
       "1    Farming-fishing      Husband  White    Male             0             0   \n",
       "2    Protective-serv      Husband  White    Male             0             0   \n",
       "3  Machine-op-inspct      Husband  Black    Male          7688             0   \n",
       "4                  ?    Own-child  White  Female             0             0   \n",
       "\n",
       "   hours-per-week native-country income  \n",
       "0              40  United-States  <=50K  \n",
       "1              50  United-States  <=50K  \n",
       "2              40  United-States   >50K  \n",
       "3              40  United-States   >50K  \n",
       "4              30  United-States  <=50K  "
      ]
     },
     "execution_count": 30,
     "metadata": {},
     "output_type": "execute_result"
    }
   ],
   "source": [
    "df_2.head()"
   ]
  },
  {
   "cell_type": "code",
   "execution_count": 32,
   "metadata": {},
   "outputs": [
    {
     "data": {
      "text/plain": [
       "Private             33906\n",
       "Self-emp-not-inc     3862\n",
       "Local-gov            3136\n",
       "?                    2799\n",
       "State-gov            1981\n",
       "Self-emp-inc         1695\n",
       "Federal-gov          1432\n",
       "Without-pay            21\n",
       "Never-worked           10\n",
       "Name: workclass, dtype: int64"
      ]
     },
     "execution_count": 32,
     "metadata": {},
     "output_type": "execute_result"
    }
   ],
   "source": [
    "df_2.workclass.value_counts()"
   ]
  },
  {
   "cell_type": "code",
   "execution_count": null,
   "metadata": {},
   "outputs": [],
   "source": []
  },
  {
   "cell_type": "code",
   "execution_count": 2,
   "metadata": {},
   "outputs": [],
   "source": [
    "df = pd.read_csv('Apoyo Lectura/cep45.csv')"
   ]
  },
  {
   "cell_type": "code",
   "execution_count": 4,
   "metadata": {},
   "outputs": [],
   "source": [
    "# filtamos las columnas\n",
    "trust_df = df.filter(regex=\"p17_*\")\n",
    "trust_df = trust_df.rename(columns={'p17_a': 'I.Catolica', 'p17_b': 'I.Evangelica', 'p17_c': 'FFAA', 'p17_d': 'Justicia',\n",
    "'p17_e': 'Prensa', 'p17_f': 'Television', 'p17_g':'Sindicatos', 'p17_h':'Carabineros', 'p17_i': 'Gobierno', 'p17_j': 'PartidosPol', 'p17_k': 'Congreso', 'p17_l':'Empresas', 'p17_m':'Universidades', 'p17_n':'Radio'})"
   ]
  },
  {
   "cell_type": "code",
   "execution_count": 11,
   "metadata": {},
   "outputs": [
    {
     "data": {
      "text/plain": [
       "3    584\n",
       "2    510\n",
       "1    214\n",
       "4    167\n",
       "9     16\n",
       "8     12\n",
       "Name: Carabineros, dtype: int64"
      ]
     },
     "execution_count": 11,
     "metadata": {},
     "output_type": "execute_result"
    }
   ],
   "source": [
    "trust_df['Carabineros'].value_counts()"
   ]
  },
  {
   "cell_type": "code",
   "execution_count": 5,
   "metadata": {},
   "outputs": [
    {
     "name": "stdout",
     "output_type": "stream",
     "text": [
      "I.Catolica 0.03\n",
      "I.Evangelica 0.07\n",
      "FFAA 0.04\n",
      "Justicia 0.04\n",
      "Prensa 0.03\n",
      "Television 0.02\n",
      "Sindicatos 0.09\n",
      "Carabineros 0.02\n",
      "Gobierno 0.03\n",
      "PartidosPol 0.03\n",
      "Congreso 0.05\n",
      "Empresas 0.04\n",
      "Universidades 0.07\n",
      "Radio 0.03\n"
     ]
    }
   ],
   "source": [
    "def fetch_missing(df, missing_vals): \n",
    "    for colname, serie in df.iteritems():\n",
    "        print(colname, serie.isin(missing_vals).value_counts('%')[1].round(2)) \n",
    "\n",
    "fetch_missing(trust_df, missing_vals=[8, 9])"
   ]
  },
  {
   "cell_type": "code",
   "execution_count": 6,
   "metadata": {},
   "outputs": [
    {
     "data": {
      "text/plain": [
       "<Figure size 288x288 with 0 Axes>"
      ]
     },
     "metadata": {},
     "output_type": "display_data"
    },
    {
     "data": {
      "image/png": "[encoded data removed]",
      "text/plain": [
       "<Figure size 1800x720 with 2 Axes>"
      ]
     },
     "metadata": {},
     "output_type": "display_data"
    }
   ],
   "source": [
    "plt.figure(figsize=(4,4)) \n",
    "msngo.matrix(trust_df.replace([8, 9], [np.nan, np.nan]));"
   ]
  },
  {
   "cell_type": "code",
   "execution_count": 7,
   "metadata": {},
   "outputs": [
    {
     "data": {
      "text/plain": [
       "[<matplotlib.lines.Line2D at 0x118ee1dc0>]"
      ]
     },
     "execution_count": 7,
     "metadata": {},
     "output_type": "execute_result"
    },
    {
     "data": {
      "image/png": "[encoded data removed]",
      "text/plain": [
       "<Figure size 576x396 with 1 Axes>"
      ]
     },
     "metadata": {},
     "output_type": "display_data"
    }
   ],
   "source": [
    "# Generamos dos arrays vacíos para guardar el nombre de la variable y la media\n",
    "variable = []\n",
    "mean = []\n",
    "# para cada columna de la base, extraemos su nombre y sus valores\n",
    "for colname, serie in trust_df.iteritems(): \n",
    "    # guardamos el nombre en variable \n",
    "    variable.append(colname)\n",
    "    # calculamos y procesamos la \n",
    "    mean.append(serie.mean())\n",
    "\n",
    "df_2= pd.DataFrame({'var':variable, 'mean': mean}).sort_values(by=['mean']) \n",
    "plt.plot(df_2['mean'], df_2['var'],'o')"
   ]
  },
  {
   "cell_type": "code",
   "execution_count": 37,
   "metadata": {},
   "outputs": [
    {
     "data": {
      "text/html": [
       "<div>\n",
       "<style scoped>\n",
       "    .dataframe tbody tr th:only-of-type {\n",
       "        vertical-align: middle;\n",
       "    }\n",
       "\n",
       "    .dataframe tbody tr th {\n",
       "        vertical-align: top;\n",
       "    }\n",
       "\n",
       "    .dataframe thead th {\n",
       "        text-align: right;\n",
       "    }\n",
       "</style>\n",
       "<table border=\"1\" class=\"dataframe\">\n",
       "  <thead>\n",
       "    <tr style=\"text-align: right;\">\n",
       "      <th></th>\n",
       "      <th>I.Catolica</th>\n",
       "      <th>I.Evangelica</th>\n",
       "      <th>FFAA</th>\n",
       "      <th>Justicia</th>\n",
       "      <th>Prensa</th>\n",
       "      <th>Television</th>\n",
       "      <th>Sindicatos</th>\n",
       "      <th>Carabineros</th>\n",
       "      <th>Gobierno</th>\n",
       "      <th>PartidosPol</th>\n",
       "      <th>Congreso</th>\n",
       "      <th>Empresas</th>\n",
       "      <th>Universidades</th>\n",
       "      <th>Radio</th>\n",
       "    </tr>\n",
       "  </thead>\n",
       "  <tbody>\n",
       "    <tr>\n",
       "      <th>0</th>\n",
       "      <td>2</td>\n",
       "      <td>4</td>\n",
       "      <td>3</td>\n",
       "      <td>2</td>\n",
       "      <td>3</td>\n",
       "      <td>3</td>\n",
       "      <td>3</td>\n",
       "      <td>4</td>\n",
       "      <td>3</td>\n",
       "      <td>3</td>\n",
       "      <td>2</td>\n",
       "      <td>3</td>\n",
       "      <td>2</td>\n",
       "      <td>2</td>\n",
       "    </tr>\n",
       "    <tr>\n",
       "      <th>1</th>\n",
       "      <td>2</td>\n",
       "      <td>3</td>\n",
       "      <td>3</td>\n",
       "      <td>3</td>\n",
       "      <td>3</td>\n",
       "      <td>3</td>\n",
       "      <td>2</td>\n",
       "      <td>2</td>\n",
       "      <td>3</td>\n",
       "      <td>4</td>\n",
       "      <td>3</td>\n",
       "      <td>3</td>\n",
       "      <td>3</td>\n",
       "      <td>3</td>\n",
       "    </tr>\n",
       "    <tr>\n",
       "      <th>2</th>\n",
       "      <td>4</td>\n",
       "      <td>4</td>\n",
       "      <td>4</td>\n",
       "      <td>4</td>\n",
       "      <td>3</td>\n",
       "      <td>3</td>\n",
       "      <td>4</td>\n",
       "      <td>4</td>\n",
       "      <td>4</td>\n",
       "      <td>4</td>\n",
       "      <td>4</td>\n",
       "      <td>3</td>\n",
       "      <td>4</td>\n",
       "      <td>2</td>\n",
       "    </tr>\n",
       "    <tr>\n",
       "      <th>3</th>\n",
       "      <td>1</td>\n",
       "      <td>3</td>\n",
       "      <td>2</td>\n",
       "      <td>2</td>\n",
       "      <td>3</td>\n",
       "      <td>2</td>\n",
       "      <td>3</td>\n",
       "      <td>3</td>\n",
       "      <td>3</td>\n",
       "      <td>4</td>\n",
       "      <td>3</td>\n",
       "      <td>3</td>\n",
       "      <td>3</td>\n",
       "      <td>3</td>\n",
       "    </tr>\n",
       "    <tr>\n",
       "      <th>4</th>\n",
       "      <td>3</td>\n",
       "      <td>3</td>\n",
       "      <td>2</td>\n",
       "      <td>1</td>\n",
       "      <td>2</td>\n",
       "      <td>2</td>\n",
       "      <td>1</td>\n",
       "      <td>1</td>\n",
       "      <td>2</td>\n",
       "      <td>3</td>\n",
       "      <td>2</td>\n",
       "      <td>2</td>\n",
       "      <td>2</td>\n",
       "      <td>2</td>\n",
       "    </tr>\n",
       "  </tbody>\n",
       "</table>\n",
       "</div>"
      ],
      "text/plain": [
       "   I.Catolica  I.Evangelica  FFAA  Justicia  Prensa  Television  Sindicatos  \\\n",
       "0           2             4     3         2       3           3           3   \n",
       "1           2             3     3         3       3           3           2   \n",
       "2           4             4     4         4       3           3           4   \n",
       "3           1             3     2         2       3           2           3   \n",
       "4           3             3     2         1       2           2           1   \n",
       "\n",
       "   Carabineros  Gobierno  PartidosPol  Congreso  Empresas  Universidades  \\\n",
       "0            4         3            3         2         3              2   \n",
       "1            2         3            4         3         3              3   \n",
       "2            4         4            4         4         3              4   \n",
       "3            3         3            4         3         3              3   \n",
       "4            1         2            3         2         2              2   \n",
       "\n",
       "   Radio  \n",
       "0      2  \n",
       "1      3  \n",
       "2      2  \n",
       "3      3  \n",
       "4      2  "
      ]
     },
     "execution_count": 37,
     "metadata": {},
     "output_type": "execute_result"
    }
   ],
   "source": [
    "trust_df.head()"
   ]
  },
  {
   "cell_type": "code",
   "execution_count": 32,
   "metadata": {},
   "outputs": [],
   "source": [
    "corr = trust_df.corr"
   ]
  },
  {
   "cell_type": "markdown",
   "metadata": {},
   "source": [
    "# BARLTLET"
   ]
  },
  {
   "cell_type": "code",
   "execution_count": 14,
   "metadata": {},
   "outputs": [],
   "source": [
    "import factor_analyzer as fact"
   ]
  },
  {
   "cell_type": "code",
   "execution_count": 18,
   "metadata": {},
   "outputs": [],
   "source": [
    "from factor_analyzer import FactorAnalyzer"
   ]
  },
  {
   "cell_type": "code",
   "execution_count": 15,
   "metadata": {},
   "outputs": [
    {
     "data": {
      "text/plain": [
       "(6644.835705911947, 0.0)"
      ]
     },
     "execution_count": 15,
     "metadata": {},
     "output_type": "execute_result"
    }
   ],
   "source": [
    "fact.calculate_bartlett_sphericity(trust_df)"
   ]
  },
  {
   "cell_type": "code",
   "execution_count": 35,
   "metadata": {},
   "outputs": [
    {
     "data": {
      "text/plain": [
       "(array([0.93853431, 0.92717654, 0.93176781, 0.95285454, 0.91971575,\n",
       "        0.88552639, 0.93671982, 0.91120486, 0.93981619, 0.91291311,\n",
       "        0.91928052, 0.94234885, 0.95178434, 0.93221226]),\n",
       " 0.9274657194111268)"
      ]
     },
     "execution_count": 35,
     "metadata": {},
     "output_type": "execute_result"
    }
   ],
   "source": [
    "fact.calculate_kmo(trust_df)"
   ]
  },
  {
   "cell_type": "code",
   "execution_count": 39,
   "metadata": {},
   "outputs": [
    {
     "data": {
      "text/plain": [
       "array([5.49842419, 1.14587292, 0.89926341, 0.85550809, 0.72165128,\n",
       "       0.69572011, 0.63389523, 0.62396403, 0.60609083, 0.57058745,\n",
       "       0.49919319, 0.46208615, 0.40448333, 0.38325979])"
      ]
     },
     "execution_count": 39,
     "metadata": {},
     "output_type": "execute_result"
    }
   ],
   "source": [
    "eigen_values"
   ]
  },
  {
   "cell_type": "code",
   "execution_count": 59,
   "metadata": {},
   "outputs": [],
   "source": [
    "fa = FactorAnalyzer(n_factors=2, rotation='varimax')\n",
    "fa.fit(trust_df)\n",
    "eigen_values = fa.get_eigenvalues()[0]"
   ]
  },
  {
   "cell_type": "code",
   "execution_count": 51,
   "metadata": {},
   "outputs": [
    {
     "data": {
      "image/png": "[encoded data removed]",
      "text/plain": [
       "<Figure size 1080x720 with 1 Axes>"
      ]
     },
     "metadata": {},
     "output_type": "display_data"
    }
   ],
   "source": [
    "plt.figure(figsize=(15,10))\n",
    "plt.scatter(range(1,trust_df.shape[1]+1),eigen_values)\n",
    "plt.plot(range(1,trust_df.shape[1]+1), eigen_values,  'o-', color='tomato')\n",
    "plt.title('Scree Plot')\n",
    "plt.xlabel('Factors')\n",
    "plt.ylabel('Eigenvalue')\n",
    "plt.axhline(1)\n",
    "plt.title(\"Scree plot\")\n",
    "plt.show()"
   ]
  },
  {
   "cell_type": "code",
   "execution_count": 60,
   "metadata": {},
   "outputs": [
    {
     "data": {
      "text/plain": [
       "array([[1.        , 0.17031673, 0.34226757, 0.31605761, 0.28231047,\n",
       "        0.3618601 , 0.15944213, 0.3720428 , 0.33311136, 0.29798804,\n",
       "        0.2490222 , 0.25008475, 0.27177414, 0.31269491],\n",
       "       [0.17031673, 1.        , 0.25611677, 0.22979405, 0.1762293 ,\n",
       "        0.26844091, 0.21349602, 0.24639961, 0.24799839, 0.21308939,\n",
       "        0.17233372, 0.20438921, 0.16132746, 0.23509238],\n",
       "       [0.34226757, 0.25611677, 1.        , 0.43255826, 0.38176266,\n",
       "        0.33339098, 0.28453847, 0.44722157, 0.40361629, 0.38491327,\n",
       "        0.41101863, 0.43830816, 0.35239137, 0.31709397],\n",
       "       [0.31605761, 0.22979405, 0.43255826, 1.        , 0.34878138,\n",
       "        0.35475274, 0.33937495, 0.34228945, 0.41835088, 0.44475321,\n",
       "        0.42019082, 0.37309233, 0.34783384, 0.29500259],\n",
       "       [0.28231047, 0.1762293 , 0.38176266, 0.34878138, 1.        ,\n",
       "        0.5355341 , 0.31415699, 0.33196697, 0.42050272, 0.43161284,\n",
       "        0.39564083, 0.39869551, 0.34685127, 0.39895369],\n",
       "       [0.3618601 , 0.26844091, 0.33339098, 0.35475274, 0.5355341 ,\n",
       "        1.        , 0.22360007, 0.41639235, 0.40034593, 0.37200382,\n",
       "        0.31640046, 0.32229692, 0.31021834, 0.48624428],\n",
       "       [0.15944213, 0.21349602, 0.28453847, 0.33937495, 0.31415699,\n",
       "        0.22360007, 1.        , 0.20417811, 0.33425137, 0.39382333,\n",
       "        0.39249754, 0.33054804, 0.32094738, 0.25219872],\n",
       "       [0.3720428 , 0.24639961, 0.44722157, 0.34228945, 0.33196697,\n",
       "        0.41639235, 0.20417811, 1.        , 0.43447161, 0.28117666,\n",
       "        0.31628206, 0.32969502, 0.27035383, 0.35756726],\n",
       "       [0.33311136, 0.24799839, 0.40361629, 0.41835088, 0.42050272,\n",
       "        0.40034593, 0.33425137, 0.43447161, 1.        , 0.52295805,\n",
       "        0.46872466, 0.39813612, 0.38645249, 0.39432641],\n",
       "       [0.29798804, 0.21308939, 0.38491327, 0.44475321, 0.43161284,\n",
       "        0.37200382, 0.39382333, 0.28117666, 0.52295805, 1.        ,\n",
       "        0.56246338, 0.45691564, 0.34047048, 0.31860676],\n",
       "       [0.2490222 , 0.17233372, 0.41101863, 0.42019082, 0.39564083,\n",
       "        0.31640046, 0.39249754, 0.31628206, 0.46872466, 0.56246338,\n",
       "        1.        , 0.50059004, 0.39430089, 0.29564355],\n",
       "       [0.25008475, 0.20438921, 0.43830816, 0.37309233, 0.39869551,\n",
       "        0.32229692, 0.33054804, 0.32969502, 0.39813612, 0.45691564,\n",
       "        0.50059004, 1.        , 0.36176593, 0.33338975],\n",
       "       [0.27177414, 0.16132746, 0.35239137, 0.34783384, 0.34685127,\n",
       "        0.31021834, 0.32094738, 0.27035383, 0.38645249, 0.34047048,\n",
       "        0.39430089, 0.36176593, 1.        , 0.33009024],\n",
       "       [0.31269491, 0.23509238, 0.31709397, 0.29500259, 0.39895369,\n",
       "        0.48624428, 0.25219872, 0.35756726, 0.39432641, 0.31860676,\n",
       "        0.29564355, 0.33338975, 0.33009024, 1.        ]])"
      ]
     },
     "execution_count": 60,
     "metadata": {},
     "output_type": "execute_result"
    }
   ],
   "source": [
    "corr = fa.corr_\n",
    "corr"
   ]
  },
  {
   "cell_type": "code",
   "execution_count": null,
   "metadata": {},
   "outputs": [],
   "source": []
  },
  {
   "cell_type": "code",
   "execution_count": 61,
   "metadata": {},
   "outputs": [
    {
     "data": {
      "text/plain": [
       "array([[0.2115378 , 0.48207631],\n",
       "       [0.18909242, 0.31556017],\n",
       "       [0.44635957, 0.4410592 ],\n",
       "       [0.49501859, 0.36986145],\n",
       "       [0.39299558, 0.50611705],\n",
       "       [0.20838918, 0.7000665 ],\n",
       "       [0.50838434, 0.18316639],\n",
       "       [0.24972885, 0.5685152 ],\n",
       "       [0.51311237, 0.45708089],\n",
       "       [0.66688535, 0.28831161],\n",
       "       [0.72624282, 0.21479004],\n",
       "       [0.56733533, 0.31276563],\n",
       "       [0.44188951, 0.33202866],\n",
       "       [0.24208804, 0.57256937]])"
      ]
     },
     "execution_count": 61,
     "metadata": {},
     "output_type": "execute_result"
    }
   ],
   "source": [
    "factor_loadings = fa.loadings_\n",
    "factor_loadings"
   ]
  },
  {
   "cell_type": "code",
   "execution_count": 62,
   "metadata": {},
   "outputs": [],
   "source": [
    "loadings = pd.DataFrame(fa.loadings_, columns=['Factor 1', 'Factor 2'], index=trust_df.columns)"
   ]
  },
  {
   "cell_type": "code",
   "execution_count": 63,
   "metadata": {},
   "outputs": [
    {
     "data": {
      "text/html": [
       "<div>\n",
       "<style scoped>\n",
       "    .dataframe tbody tr th:only-of-type {\n",
       "        vertical-align: middle;\n",
       "    }\n",
       "\n",
       "    .dataframe tbody tr th {\n",
       "        vertical-align: top;\n",
       "    }\n",
       "\n",
       "    .dataframe thead th {\n",
       "        text-align: right;\n",
       "    }\n",
       "</style>\n",
       "<table border=\"1\" class=\"dataframe\">\n",
       "  <thead>\n",
       "    <tr style=\"text-align: right;\">\n",
       "      <th></th>\n",
       "      <th>Factor 1</th>\n",
       "      <th>Factor 2</th>\n",
       "    </tr>\n",
       "  </thead>\n",
       "  <tbody>\n",
       "    <tr>\n",
       "      <th>I.Catolica</th>\n",
       "      <td>0.211538</td>\n",
       "      <td>0.482076</td>\n",
       "    </tr>\n",
       "    <tr>\n",
       "      <th>I.Evangelica</th>\n",
       "      <td>0.189092</td>\n",
       "      <td>0.315560</td>\n",
       "    </tr>\n",
       "    <tr>\n",
       "      <th>FFAA</th>\n",
       "      <td>0.446360</td>\n",
       "      <td>0.441059</td>\n",
       "    </tr>\n",
       "    <tr>\n",
       "      <th>Justicia</th>\n",
       "      <td>0.495019</td>\n",
       "      <td>0.369861</td>\n",
       "    </tr>\n",
       "    <tr>\n",
       "      <th>Prensa</th>\n",
       "      <td>0.392996</td>\n",
       "      <td>0.506117</td>\n",
       "    </tr>\n",
       "    <tr>\n",
       "      <th>Television</th>\n",
       "      <td>0.208389</td>\n",
       "      <td>0.700067</td>\n",
       "    </tr>\n",
       "    <tr>\n",
       "      <th>Sindicatos</th>\n",
       "      <td>0.508384</td>\n",
       "      <td>0.183166</td>\n",
       "    </tr>\n",
       "    <tr>\n",
       "      <th>Carabineros</th>\n",
       "      <td>0.249729</td>\n",
       "      <td>0.568515</td>\n",
       "    </tr>\n",
       "    <tr>\n",
       "      <th>Gobierno</th>\n",
       "      <td>0.513112</td>\n",
       "      <td>0.457081</td>\n",
       "    </tr>\n",
       "    <tr>\n",
       "      <th>PartidosPol</th>\n",
       "      <td>0.666885</td>\n",
       "      <td>0.288312</td>\n",
       "    </tr>\n",
       "    <tr>\n",
       "      <th>Congreso</th>\n",
       "      <td>0.726243</td>\n",
       "      <td>0.214790</td>\n",
       "    </tr>\n",
       "    <tr>\n",
       "      <th>Empresas</th>\n",
       "      <td>0.567335</td>\n",
       "      <td>0.312766</td>\n",
       "    </tr>\n",
       "    <tr>\n",
       "      <th>Universidades</th>\n",
       "      <td>0.441890</td>\n",
       "      <td>0.332029</td>\n",
       "    </tr>\n",
       "    <tr>\n",
       "      <th>Radio</th>\n",
       "      <td>0.242088</td>\n",
       "      <td>0.572569</td>\n",
       "    </tr>\n",
       "  </tbody>\n",
       "</table>\n",
       "</div>"
      ],
      "text/plain": [
       "               Factor 1  Factor 2\n",
       "I.Catolica     0.211538  0.482076\n",
       "I.Evangelica   0.189092  0.315560\n",
       "FFAA           0.446360  0.441059\n",
       "Justicia       0.495019  0.369861\n",
       "Prensa         0.392996  0.506117\n",
       "Television     0.208389  0.700067\n",
       "Sindicatos     0.508384  0.183166\n",
       "Carabineros    0.249729  0.568515\n",
       "Gobierno       0.513112  0.457081\n",
       "PartidosPol    0.666885  0.288312\n",
       "Congreso       0.726243  0.214790\n",
       "Empresas       0.567335  0.312766\n",
       "Universidades  0.441890  0.332029\n",
       "Radio          0.242088  0.572569"
      ]
     },
     "execution_count": 63,
     "metadata": {},
     "output_type": "execute_result"
    }
   ],
   "source": [
    "loadings"
   ]
  },
  {
   "cell_type": "code",
   "execution_count": 64,
   "metadata": {},
   "outputs": [
    {
     "data": {
      "text/html": [
       "<div>\n",
       "<style scoped>\n",
       "    .dataframe tbody tr th:only-of-type {\n",
       "        vertical-align: middle;\n",
       "    }\n",
       "\n",
       "    .dataframe tbody tr th {\n",
       "        vertical-align: top;\n",
       "    }\n",
       "\n",
       "    .dataframe thead th {\n",
       "        text-align: right;\n",
       "    }\n",
       "</style>\n",
       "<table border=\"1\" class=\"dataframe\">\n",
       "  <thead>\n",
       "    <tr style=\"text-align: right;\">\n",
       "      <th></th>\n",
       "      <th>Factor 1</th>\n",
       "      <th>Factor 2</th>\n",
       "    </tr>\n",
       "  </thead>\n",
       "  <tbody>\n",
       "    <tr>\n",
       "      <th>I.Catolica</th>\n",
       "      <td></td>\n",
       "      <td>0.48</td>\n",
       "    </tr>\n",
       "    <tr>\n",
       "      <th>I.Evangelica</th>\n",
       "      <td></td>\n",
       "      <td></td>\n",
       "    </tr>\n",
       "    <tr>\n",
       "      <th>FFAA</th>\n",
       "      <td>0.45</td>\n",
       "      <td>0.44</td>\n",
       "    </tr>\n",
       "    <tr>\n",
       "      <th>Justicia</th>\n",
       "      <td>0.5</td>\n",
       "      <td></td>\n",
       "    </tr>\n",
       "    <tr>\n",
       "      <th>Prensa</th>\n",
       "      <td></td>\n",
       "      <td>0.51</td>\n",
       "    </tr>\n",
       "    <tr>\n",
       "      <th>Television</th>\n",
       "      <td></td>\n",
       "      <td>0.7</td>\n",
       "    </tr>\n",
       "    <tr>\n",
       "      <th>Sindicatos</th>\n",
       "      <td>0.51</td>\n",
       "      <td></td>\n",
       "    </tr>\n",
       "    <tr>\n",
       "      <th>Carabineros</th>\n",
       "      <td></td>\n",
       "      <td>0.57</td>\n",
       "    </tr>\n",
       "    <tr>\n",
       "      <th>Gobierno</th>\n",
       "      <td>0.51</td>\n",
       "      <td>0.46</td>\n",
       "    </tr>\n",
       "    <tr>\n",
       "      <th>PartidosPol</th>\n",
       "      <td>0.67</td>\n",
       "      <td></td>\n",
       "    </tr>\n",
       "    <tr>\n",
       "      <th>Congreso</th>\n",
       "      <td>0.73</td>\n",
       "      <td></td>\n",
       "    </tr>\n",
       "    <tr>\n",
       "      <th>Empresas</th>\n",
       "      <td>0.57</td>\n",
       "      <td></td>\n",
       "    </tr>\n",
       "    <tr>\n",
       "      <th>Universidades</th>\n",
       "      <td>0.44</td>\n",
       "      <td></td>\n",
       "    </tr>\n",
       "    <tr>\n",
       "      <th>Radio</th>\n",
       "      <td></td>\n",
       "      <td>0.57</td>\n",
       "    </tr>\n",
       "  </tbody>\n",
       "</table>\n",
       "</div>"
      ],
      "text/plain": [
       "              Factor 1 Factor 2\n",
       "I.Catolica                 0.48\n",
       "I.Evangelica                   \n",
       "FFAA              0.45     0.44\n",
       "Justicia           0.5         \n",
       "Prensa                     0.51\n",
       "Television                  0.7\n",
       "Sindicatos        0.51         \n",
       "Carabineros                0.57\n",
       "Gobierno          0.51     0.46\n",
       "PartidosPol       0.67         \n",
       "Congreso          0.73         \n",
       "Empresas          0.57         \n",
       "Universidades     0.44         \n",
       "Radio                      0.57"
      ]
     },
     "execution_count": 64,
     "metadata": {},
     "output_type": "execute_result"
    }
   ],
   "source": [
    "personality_loadings = loadings.applymap(lambda x: np.where(x < .4, ' ', round(x,2))) \n",
    "personality_loadings"
   ]
  },
  {
   "cell_type": "code",
   "execution_count": 32,
   "metadata": {},
   "outputs": [
    {
     "data": {
      "text/plain": [
       "<matplotlib.lines.Line2D at 0x1a180e1b70>"
      ]
     },
     "execution_count": 32,
     "metadata": {},
     "output_type": "execute_result"
    },
    {
     "data": {
      "image/png": "[encoded data removed]",
      "text/plain": [
       "<Figure size 1080x720 with 1 Axes>"
      ]
     },
     "metadata": {
      "needs_background": "light"
     },
     "output_type": "display_data"
    }
   ],
   "source": [
    "# guardemos la varianza explicada por cada dimensión\n",
    "factor_var = fa.get_factor_variance()\n",
    "# cruzamos ambos factores\n",
    "plt.figure(figsize=(15,10))\n",
    "plt.plot(loadings['Factor 1'], loadings['Factor 2'],'o',color='white') \n",
    "plt.xlim((-.2,1)) # definimos límites\n",
    "plt.ylim((-.4, 1))\n",
    "# Para cada elemento en los factores\n",
    "for i, txt in enumerate(loadings.index):\n",
    "    # anotemos el nombre de la variable \n",
    "    plt.annotate(txt, (loadings['Factor 1'][i],loadings['Factor 2'][i]))\n",
    "# Grafiquemos la media de ambos factores\n",
    "plt.axvline(loadings['Factor 1'].mean())\n",
    "plt.axhline(loadings['Factor 2'].mean())\n",
    "# Reportemos la varianza de cada dimensión\n",
    "#plt.xlabel('Factor 1: {}'.format(round(factor_var['Factor 1'][1], 2))) 3\n",
    "#plt.ylabel('Factor 2: {}'.format(round(factor_var['Factor 2'][1], 2)))"
   ]
  },
  {
   "cell_type": "code",
   "execution_count": 149,
   "metadata": {},
   "outputs": [
    {
     "data": {
      "text/html": [
       "<div>\n",
       "<style scoped>\n",
       "    .dataframe tbody tr th:only-of-type {\n",
       "        vertical-align: middle;\n",
       "    }\n",
       "\n",
       "    .dataframe tbody tr th {\n",
       "        vertical-align: top;\n",
       "    }\n",
       "\n",
       "    .dataframe thead th {\n",
       "        text-align: right;\n",
       "    }\n",
       "</style>\n",
       "<table border=\"1\" class=\"dataframe\">\n",
       "  <thead>\n",
       "    <tr style=\"text-align: right;\">\n",
       "      <th></th>\n",
       "      <th>Factor 1</th>\n",
       "      <th>Factor 2</th>\n",
       "    </tr>\n",
       "  </thead>\n",
       "  <tbody>\n",
       "    <tr>\n",
       "      <th>I.Catolica</th>\n",
       "      <td></td>\n",
       "      <td>0.48</td>\n",
       "    </tr>\n",
       "    <tr>\n",
       "      <th>I.Evangelica</th>\n",
       "      <td></td>\n",
       "      <td></td>\n",
       "    </tr>\n",
       "    <tr>\n",
       "      <th>FFAA</th>\n",
       "      <td>0.45</td>\n",
       "      <td>0.44</td>\n",
       "    </tr>\n",
       "    <tr>\n",
       "      <th>Justicia</th>\n",
       "      <td>0.5</td>\n",
       "      <td></td>\n",
       "    </tr>\n",
       "    <tr>\n",
       "      <th>Prensa</th>\n",
       "      <td></td>\n",
       "      <td>0.51</td>\n",
       "    </tr>\n",
       "    <tr>\n",
       "      <th>Television</th>\n",
       "      <td></td>\n",
       "      <td>0.7</td>\n",
       "    </tr>\n",
       "    <tr>\n",
       "      <th>Sindicatos</th>\n",
       "      <td>0.51</td>\n",
       "      <td></td>\n",
       "    </tr>\n",
       "    <tr>\n",
       "      <th>Carabineros</th>\n",
       "      <td></td>\n",
       "      <td>0.57</td>\n",
       "    </tr>\n",
       "    <tr>\n",
       "      <th>Gobierno</th>\n",
       "      <td>0.51</td>\n",
       "      <td>0.46</td>\n",
       "    </tr>\n",
       "    <tr>\n",
       "      <th>PartidosPol</th>\n",
       "      <td>0.67</td>\n",
       "      <td></td>\n",
       "    </tr>\n",
       "    <tr>\n",
       "      <th>Congreso</th>\n",
       "      <td>0.73</td>\n",
       "      <td></td>\n",
       "    </tr>\n",
       "    <tr>\n",
       "      <th>Empresas</th>\n",
       "      <td>0.57</td>\n",
       "      <td></td>\n",
       "    </tr>\n",
       "    <tr>\n",
       "      <th>Universidades</th>\n",
       "      <td>0.44</td>\n",
       "      <td></td>\n",
       "    </tr>\n",
       "    <tr>\n",
       "      <th>Radio</th>\n",
       "      <td></td>\n",
       "      <td>0.57</td>\n",
       "    </tr>\n",
       "  </tbody>\n",
       "</table>\n",
       "</div>"
      ],
      "text/plain": [
       "              Factor 1 Factor 2\n",
       "I.Catolica                 0.48\n",
       "I.Evangelica                   \n",
       "FFAA              0.45     0.44\n",
       "Justicia           0.5         \n",
       "Prensa                     0.51\n",
       "Television                  0.7\n",
       "Sindicatos        0.51         \n",
       "Carabineros                0.57\n",
       "Gobierno          0.51     0.46\n",
       "PartidosPol       0.67         \n",
       "Congreso          0.73         \n",
       "Empresas          0.57         \n",
       "Universidades     0.44         \n",
       "Radio                      0.57"
      ]
     },
     "execution_count": 149,
     "metadata": {},
     "output_type": "execute_result"
    }
   ],
   "source": []
  },
  {
   "cell_type": "code",
   "execution_count": 26,
   "metadata": {},
   "outputs": [],
   "source": [
    "corr = pd.DataFrame(fa.corr_)"
   ]
  },
  {
   "cell_type": "code",
   "execution_count": 27,
   "metadata": {},
   "outputs": [],
   "source": [
    "corr = pd.DataFrame(fa.transform(trust_df), columns=['Factor 1', 'Factor 2'])"
   ]
  },
  {
   "cell_type": "code",
   "execution_count": 28,
   "metadata": {},
   "outputs": [
    {
     "data": {
      "text/plain": [
       "<matplotlib.legend.Legend at 0x118f05550>"
      ]
     },
     "execution_count": 28,
     "metadata": {},
     "output_type": "execute_result"
    },
    {
     "data": {
      "image/png": "[encoded data removed]",
      "text/plain": [
       "<Figure size 576x396 with 1 Axes>"
      ]
     },
     "metadata": {},
     "output_type": "display_data"
    }
   ],
   "source": [
    "sns.distplot(corr.loc[:, 'Factor 1'], label=\"Institucionalistas\") \n",
    "sns.distplot(corr.loc[:, 'Factor 2'], label=\"Cotidianos\") \n",
    "plt.legend()"
   ]
  },
  {
   "cell_type": "code",
   "execution_count": 36,
   "metadata": {},
   "outputs": [
    {
     "data": {
      "text/plain": [
       "(array([2.8546665 , 2.64039588]),\n",
       " array([0.20390475, 0.18859971]),\n",
       " array([0.20390475, 0.39250446]))"
      ]
     },
     "execution_count": 36,
     "metadata": {},
     "output_type": "execute_result"
    }
   ],
   "source": [
    "factor_var = fa.get_factor_variance() \n",
    "factor_var"
   ]
  }
 ],
 "metadata": {
  "kernelspec": {
   "display_name": "Python 3 (ipykernel)",
   "language": "python",
   "name": "python3"
  },
  "language_info": {
   "codemirror_mode": {
    "name": "ipython",
    "version": 3
   },
   "file_extension": ".py",
   "mimetype": "text/x-python",
   "name": "python",
   "nbconvert_exporter": "python",
   "pygments_lexer": "ipython3",
   "version": "3.9.7"
  }
 },
 "nbformat": 4,
 "nbformat_minor": 4
}
