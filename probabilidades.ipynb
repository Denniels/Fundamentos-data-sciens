{
 "cells": [
  {
   "cell_type": "code",
   "execution_count": 4,
   "metadata": {},
   "outputs": [],
   "source": [
    "import pandas as pd\n",
    "import numpy as np\n",
    "import lec2_graphs as gfx\n",
    "import matplotlib.pyplot as plt\n",
    "import scipy.stats as stats"
   ]
  },
  {
   "cell_type": "code",
   "execution_count": 3,
   "metadata": {},
   "outputs": [],
   "source": [
    "plt.style.use('seaborn-whitegrid') # Gráficos estilo seaborn\n",
    "plt.rcParams[\"figure.figsize\"] = (4, 6) # Tamaño gráficos\n",
    "plt.rcParams[\"figure.dpi\"] = 100 # resolución gráficos"
   ]
  },
  {
   "cell_type": "code",
   "execution_count": 6,
   "metadata": {},
   "outputs": [],
   "source": [
    "df = pd.read_csv('datasets/got_battles.csv')"
   ]
  },
  {
   "cell_type": "code",
   "execution_count": 7,
   "metadata": {},
   "outputs": [
    {
     "data": {
      "text/plain": [
       "Index(['me', 'year', 'battle_number', 'attacker_king', 'defender_king',\n",
       "       'attacker_1', 'attacker_2', 'attacker_3', 'attacker_4', 'defender_1',\n",
       "       'defender_2', 'defender_3', 'defender_4', 'attacker_outcome',\n",
       "       'battle_type', 'major_death', 'major_capture', 'attacker_size',\n",
       "       'defender_size', 'attacker_commander', 'defender_commander', 'summer',\n",
       "       'location', 'region', 'note'],\n",
       "      dtype='object')"
      ]
     },
     "execution_count": 7,
     "metadata": {},
     "output_type": "execute_result"
    }
   ],
   "source": [
    "df.columns"
   ]
  },
  {
   "cell_type": "code",
   "execution_count": 8,
   "metadata": {},
   "outputs": [
    {
     "data": {
      "text/plain": [
       "(38, 25)"
      ]
     },
     "execution_count": 8,
     "metadata": {},
     "output_type": "execute_result"
    }
   ],
   "source": [
    "df.shape"
   ]
  },
  {
   "cell_type": "code",
   "execution_count": 9,
   "metadata": {},
   "outputs": [
    {
     "data": {
      "text/plain": [
       "Joffrey/Tommen Baratheon    14\n",
       "Robb Stark                  10\n",
       "Balon/Euron Greyjoy          7\n",
       "Stannis Baratheon            5\n",
       "Name: attacker_king, dtype: int64"
      ]
     },
     "execution_count": 9,
     "metadata": {},
     "output_type": "execute_result"
    }
   ],
   "source": [
    "df['attacker_king'].value_counts()"
   ]
  },
  {
   "cell_type": "code",
   "execution_count": 10,
   "metadata": {},
   "outputs": [
    {
     "data": {
      "text/plain": [
       "Joffrey/Tommen Baratheon    0.368421\n",
       "Robb Stark                  0.263158\n",
       "Balon/Euron Greyjoy         0.184211\n",
       "Stannis Baratheon           0.131579\n",
       "Name: attacker_king, dtype: float64"
      ]
     },
     "execution_count": 10,
     "metadata": {},
     "output_type": "execute_result"
    }
   ],
   "source": [
    "df['attacker_king'].value_counts() / len(df)"
   ]
  },
  {
   "cell_type": "code",
   "execution_count": 11,
   "metadata": {},
   "outputs": [
    {
     "data": {
      "text/plain": [
       "0.0    0.631579\n",
       "1.0    0.342105\n",
       "Name: major_death, dtype: float64"
      ]
     },
     "execution_count": 11,
     "metadata": {},
     "output_type": "execute_result"
    }
   ],
   "source": [
    "df['major_death'].value_counts() / len(df)"
   ]
  },
  {
   "cell_type": "code",
   "execution_count": 12,
   "metadata": {},
   "outputs": [
    {
     "name": "stdout",
     "output_type": "stream",
     "text": [
      "6\n"
     ]
    }
   ],
   "source": [
    "counter = 0\n",
    "for rowname, rowserie in df.iterrows():\n",
    "    if rowserie['major_death'] == 1.0 and rowserie['major_capture'] == 1.0:\n",
    "        counter += 1\n",
    "print(counter)"
   ]
  },
  {
   "cell_type": "code",
   "execution_count": 14,
   "metadata": {},
   "outputs": [
    {
     "data": {
      "text/plain": [
       "False    32\n",
       "True      6\n",
       "dtype: int64"
      ]
     },
     "execution_count": 14,
     "metadata": {},
     "output_type": "execute_result"
    }
   ],
   "source": [
    "condicion = (df['major_death'] == 1) & (df['major_capture'] == 1.0)\n",
    "condicion.value_counts()"
   ]
  },
  {
   "cell_type": "code",
   "execution_count": 15,
   "metadata": {},
   "outputs": [
    {
     "name": "stdout",
     "output_type": "stream",
     "text": [
      "18\n"
     ]
    }
   ],
   "source": [
    "counter = 0\n",
    "for rowname, rowserie in df.iterrows():\n",
    "    if rowserie['major_death'] == 1.0 or rowserie['major_capture'] == 1.0:\n",
    "        counter += 1\n",
    "print(counter)\n"
   ]
  },
  {
   "cell_type": "code",
   "execution_count": 16,
   "metadata": {},
   "outputs": [
    {
     "data": {
      "text/plain": [
       "False    20\n",
       "True     18\n",
       "dtype: int64"
      ]
     },
     "execution_count": 16,
     "metadata": {},
     "output_type": "execute_result"
    }
   ],
   "source": [
    "condicion = (df['major_death'] == 1) | (df['major_capture'] == 1.0)\n",
    "condicion.value_counts()"
   ]
  },
  {
   "cell_type": "code",
   "execution_count": 18,
   "metadata": {},
   "outputs": [
    {
     "name": "stdout",
     "output_type": "stream",
     "text": [
      "5\n"
     ]
    }
   ],
   "source": [
    "# iniciemos un contador\n",
    "muerte_baratheon = 0\n",
    "# por cada fila en nuestra tabla\n",
    "for i, r in df.iterrows():\n",
    "# si la batalla la inicio un Baratheon y hubo una muerte importante\n",
    "    if (r['attacker_king'] == 'Joffrey/Tommen Baratheon' and r['major_death'] == 1):\n",
    "# agregar uno a nuestro contador\n",
    "        muerte_baratheon += 1\n",
    "print(muerte_baratheon)"
   ]
  },
  {
   "cell_type": "code",
   "execution_count": 19,
   "metadata": {},
   "outputs": [
    {
     "name": "stdout",
     "output_type": "stream",
     "text": [
      "Cantidad de muertes importantes en batallas Baratheon:  5\n",
      "Pr(Muerte | Baratheon):  0.13157894736842105\n"
     ]
    }
   ],
   "source": [
    "print(\"Cantidad de muertes importantes en batallas Baratheon: \", muerte_baratheon)\n",
    "print(\"Pr(Muerte | Baratheon): \", muerte_baratheon / len(df))\n"
   ]
  },
  {
   "cell_type": "code",
   "execution_count": 20,
   "metadata": {},
   "outputs": [
    {
     "data": {
      "image/png": "[encoded data removed]",
      "text/plain": [
       "<Figure size 432x288 with 1 Axes>"
      ]
     },
     "metadata": {},
     "output_type": "display_data"
    }
   ],
   "source": [
    "gfx.graph_venn()"
   ]
  },
  {
   "cell_type": "code",
   "execution_count": 21,
   "metadata": {},
   "outputs": [
    {
     "name": "stdout",
     "output_type": "stream",
     "text": [
      "Cantidad de muertes importantes en batallas Baratheon:  5\n",
      "Pr(Muerte | Baratheon):  0.13157894736842105\n"
     ]
    }
   ],
   "source": [
    "print(\"Cantidad de muertes importantes en batallas Baratheon: \", muerte_baratheon)\n",
    "print(\"Pr(Muerte | Baratheon): \", muerte_baratheon / len(df))"
   ]
  },
  {
   "cell_type": "code",
   "execution_count": 22,
   "metadata": {},
   "outputs": [
    {
     "name": "stdout",
     "output_type": "stream",
     "text": [
      "Pr(Muerte|Baratheon): 0.35714285714285715\n"
     ]
    }
   ],
   "source": [
    "batallas_baratheon = df['attacker_king'].value_counts().get('Joffrey/Tommen Baratheon')\n",
    "print(\"Pr(Muerte|Baratheon):\", muerte_baratheon / batallas_baratheon)\n"
   ]
  }
 ],
 "metadata": {
  "kernelspec": {
   "display_name": "Python 3 (ipykernel)",
   "language": "python",
   "name": "python3"
  },
  "language_info": {
   "codemirror_mode": {
    "name": "ipython",
    "version": 3
   },
   "file_extension": ".py",
   "mimetype": "text/x-python",
   "name": "python",
   "nbconvert_exporter": "python",
   "pygments_lexer": "ipython3",
   "version": "3.10.8"
  },
  "vscode": {
   "interpreter": {
    "hash": "5fe23d4cdea1a1fdeea398f38169f58ea6e36b10f84ee4017a8f0fee693ee786"
   }
  }
 },
 "nbformat": 4,
 "nbformat_minor": 4
}
